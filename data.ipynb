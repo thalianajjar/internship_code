{
 "cells": [
  {
   "cell_type": "markdown",
   "metadata": {},
   "source": [
    "## Imports"
   ]
  },
  {
   "cell_type": "code",
   "execution_count": 1,
   "metadata": {},
   "outputs": [],
   "source": [
    "import pandas as pd\n",
    "import json\n",
    "from datetime import *"
   ]
  },
  {
   "cell_type": "markdown",
   "metadata": {},
   "source": [
    "## Loading the data"
   ]
  },
  {
   "cell_type": "code",
   "execution_count": 2,
   "metadata": {},
   "outputs": [
    {
     "name": "stdout",
     "output_type": "stream",
     "text": [
      "sleep_df (176, 56)\n"
     ]
    }
   ],
   "source": [
    "# Loading sleep data from Oura json file available on https://cloud.ouraring.com/profile \n",
    "with open('/Users/user/Desktop/Msc AI RU/Internship/Code/oura_json/oura_sleep_2022-12-06T10-07-33.json') as f:\n",
    "    data1 = json.load(f)\n",
    "\n",
    "sleep_df = pd.json_normalize(data1['sleep'], max_level=2)\n",
    "print('sleep_df', sleep_df.shape)"
   ]
  },
  {
   "cell_type": "code",
   "execution_count": 3,
   "metadata": {},
   "outputs": [
    {
     "name": "stdout",
     "output_type": "stream",
     "text": [
      "wakeup_df (151, 9)\n",
      "bedtime_df (149, 10)\n"
     ]
    }
   ],
   "source": [
    "# Loading raw wake up data from Google Form csv\n",
    "wakeup_df = pd.read_csv ('questionnaire_data/raw/Wakeup_3_v1_raw.csv')\n",
    "print('wakeup_df', wakeup_df.shape)\n",
    "\n",
    "# Loading raw bedtime data from Google Form csv\n",
    "bedtime_df = pd.read_csv ('questionnaire_data/raw/Bedtime_3_v1_raw.csv')\n",
    "bedtime_df.columns = ['Timestamp_bedtime' if x=='Timestamp' else x for x in bedtime_df.columns]\n",
    "print('bedtime_df', bedtime_df.shape)"
   ]
  },
  {
   "cell_type": "markdown",
   "metadata": {},
   "source": [
    "## Combining the three dataframes"
   ]
  },
  {
   "cell_type": "code",
   "execution_count": 4,
   "metadata": {},
   "outputs": [
    {
     "name": "stdout",
     "output_type": "stream",
     "text": [
      "latest date 2022-06-20 \n",
      "earliest date 2022-11-18\n"
     ]
    }
   ],
   "source": [
    "# Finding start and end date of all dataframes\n",
    "sleep_start_date = sleep_df.iloc[0]['day']\n",
    "sleep_end_date = sleep_df.iloc[-1]['day']\n",
    "\n",
    "wakeup_start_date = wakeup_df.iloc[0]['Timestamp']\n",
    "wakeup_end_date = wakeup_df.iloc[-1]['Timestamp']\n",
    "\n",
    "bedtime_start_date = bedtime_df.iloc[0]['Timestamp_bedtime']\n",
    "bedtime_end_date = bedtime_df.iloc[-1]['Timestamp_bedtime']\n",
    "\n",
    "# Only consider the date of the questionnaire data and ignores the exact time\n",
    "def remove_hour(string_date):\n",
    "    split_string = string_date.split(\" \")\n",
    "    return split_string[0]\n",
    "\n",
    "# Change how the date of the oura data is stored\n",
    "def convert_sleep_date(sleep_date):\n",
    "    y, m, d = [int(x) for x in sleep_date.split('-')]\n",
    "    return date(y, m, d)\n",
    "\n",
    "# Change how the date of the questionnaire data is stored\n",
    "def convert_questionnaire_date(quest_date):\n",
    "    m, d, y = [int(x) for x in remove_hour(quest_date).split('/')]\n",
    "    return date(y, m, d)\n",
    "\n",
    "# Compare two dates and only return the earliest or the latest, depending on what is required\n",
    "def compare_two_dates(date1, date2, earliest):\n",
    "    if date1 == date2:\n",
    "        earliest_date = latest_date = date1\n",
    "    elif date1 > date2:\n",
    "        earliest_date = date2\n",
    "        latest_date = date1  \n",
    "    else:\n",
    "        earliest_date = date1\n",
    "        latest_date = date2\n",
    "    if earliest:\n",
    "        return earliest_date\n",
    "    else:\n",
    "        return latest_date\n",
    "\n",
    "# Compare three dates and only return the earliest or the latest, depending on what is required\n",
    "def compare_three_dates(sleep_date, wakeup_date, bedtime_date, earliest):\n",
    "    date1 = convert_sleep_date(sleep_date)\n",
    "    date2 = convert_questionnaire_date(wakeup_date)\n",
    "    date3 = convert_questionnaire_date(bedtime_date)\n",
    "    \n",
    "    if earliest:\n",
    "        earliest_date = compare_two_dates(date1, date2, earliest)\n",
    "        if earliest_date > date3:\n",
    "            earliest_date = date3\n",
    "        return earliest_date\n",
    "    else:\n",
    "        latest_date = compare_two_dates(date1, date2, earliest)\n",
    "        if latest_date < date3:\n",
    "            latest_date = date3\n",
    "        return latest_date\n",
    "\n",
    "# Determine the time range for which all three data sets simultaneously have data\n",
    "latest_start = compare_three_dates(sleep_start_date, wakeup_start_date, bedtime_start_date, earliest = False) + timedelta(days=1)\n",
    "earliest_end = compare_three_dates(sleep_end_date, wakeup_end_date, bedtime_end_date, earliest = True) + timedelta(days=-1)\n",
    "print('latest date', latest_start, \"\\nearliest date\", earliest_end)\n"
   ]
  },
  {
   "cell_type": "code",
   "execution_count": 5,
   "metadata": {},
   "outputs": [],
   "source": [
    "# Determine the days with missing data\n",
    "def find_missing_days(df, start_date, end_date, column_name, oura):\n",
    "    if oura == False:\n",
    "        for i in df[column_name]:\n",
    "            df[column_name] = df[column_name].replace([i], convert_questionnaire_date(i))\n",
    "\n",
    "    # Set the date values as index\n",
    "    df = df.set_index(column_name)\n",
    "\n",
    "    # Convert string format of date to a DateTime object\n",
    "    df.index = pd.to_datetime(df.index)\n",
    "\n",
    "    # Dates which are not in the sequence are returned\n",
    "    return pd.date_range(start_date, end_date).difference(df.index)"
   ]
  },
  {
   "cell_type": "code",
   "execution_count": 6,
   "metadata": {},
   "outputs": [],
   "source": [
    "# Create a dataframe that goes from latest_start to earliest_end with no jumps in the dates, except that days without data are empty rows.\n",
    "def complete_df(df, latest_start, earliest_end, column_name, oura=False, bedtime_data=False):\n",
    "    # Bedtime data of day n needs to be matched with wakeup and sleep data of day n+1\n",
    "    if bedtime_data == True:\n",
    "        latest_start = latest_start + timedelta(days=-1)\n",
    "        earliest_end = earliest_end + timedelta(days=-1)\n",
    "\n",
    "    missing_days = find_missing_days(df, latest_start, earliest_end, column_name, oura)\n",
    "    no_jumps_df = pd.DataFrame()\n",
    "    counter = 0 \n",
    "    for index, row in df.iterrows():\n",
    "        if oura == True:\n",
    "            sleep_date = convert_sleep_date(row[column_name])\n",
    "        else:\n",
    "            sleep_date = row[column_name]\n",
    "\n",
    "        # Only add the data starting the latest_start\n",
    "        if counter == 0 and sleep_date < latest_start:\n",
    "            continue\n",
    "        \n",
    "        # Prevents to add data twice for a single day\n",
    "        if sleep_date > latest_start and sleep_date == latest_date:\n",
    "            continue\n",
    "        latest_date = sleep_date\n",
    "\n",
    "        # If data is missing from the considered date, add an empty row\n",
    "        while counter < (len(missing_days)) and sleep_date > missing_days[counter]:\n",
    "            no_jumps_df = no_jumps_df.append([None])\n",
    "            counter += 1\n",
    "\n",
    "        no_jumps_df = no_jumps_df.append(pd.DataFrame(row).transpose())\n",
    "        \n",
    "        # End when the earliest_end is reached\n",
    "        if (sleep_date == earliest_end):\n",
    "            break\n",
    "               \n",
    "    return no_jumps_df"
   ]
  },
  {
   "cell_type": "code",
   "execution_count": 7,
   "metadata": {},
   "outputs": [
    {
     "name": "stdout",
     "output_type": "stream",
     "text": [
      "complete_sleep_df (152, 57) \n",
      "complete_wakeup_df (152, 10) \n",
      "complete_bedtime_df (152, 11)\n"
     ]
    }
   ],
   "source": [
    "# Create three datasets that cover the same time period\n",
    "complete_sleep_df = complete_df(sleep_df, latest_start, earliest_end, 'day', oura=True)\n",
    "complete_wakeup_df = complete_df(wakeup_df, latest_start, earliest_end, 'Timestamp')\n",
    "complete_bedtime_df = complete_df(bedtime_df, latest_start, earliest_end, 'Timestamp_bedtime', bedtime_data=True)\n",
    "\n",
    "print('complete_sleep_df', complete_sleep_df.shape, '\\ncomplete_wakeup_df', complete_wakeup_df.shape, '\\ncomplete_bedtime_df', complete_bedtime_df.shape)"
   ]
  },
  {
   "cell_type": "code",
   "execution_count": 9,
   "metadata": {},
   "outputs": [
    {
     "name": "stdout",
     "output_type": "stream",
     "text": [
      "2022-06-21\n"
     ]
    }
   ],
   "source": [
    "# Concatenate the 3 data sets. Merge the different columns on to the same rows \n",
    "df = pd.concat([complete_sleep_df.reset_index(), complete_wakeup_df.reset_index(), complete_bedtime_df.reset_index()], axis=1)\n",
    "df"
   ]
  }
 ],
 "metadata": {
  "kernelspec": {
   "display_name": "Python 3.7.10 ('tensorflow_env')",
   "language": "python",
   "name": "python3"
  },
  "language_info": {
   "codemirror_mode": {
    "name": "ipython",
    "version": 3
   },
   "file_extension": ".py",
   "mimetype": "text/x-python",
   "name": "python",
   "nbconvert_exporter": "python",
   "pygments_lexer": "ipython3",
   "version": "3.7.10"
  },
  "orig_nbformat": 4,
  "vscode": {
   "interpreter": {
    "hash": "f440ca07c10c374a105f3d67f9c2c345d20e5b276c036b89a1e623f864f80620"
   }
  }
 },
 "nbformat": 4,
 "nbformat_minor": 2
}
