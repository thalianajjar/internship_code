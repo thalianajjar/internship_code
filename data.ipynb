{
 "cells": [
  {
   "cell_type": "markdown",
   "metadata": {},
   "source": [
    "## Imports"
   ]
  },
  {
   "cell_type": "code",
   "execution_count": 1,
   "metadata": {},
   "outputs": [],
   "source": [
    "import pandas as pd\n",
    "import numpy as np\n",
    "import json\n",
    "from datetime import *"
   ]
  },
  {
   "cell_type": "markdown",
   "metadata": {},
   "source": [
    "## Loading the data"
   ]
  },
  {
   "cell_type": "code",
   "execution_count": 2,
   "metadata": {},
   "outputs": [
    {
     "name": "stdout",
     "output_type": "stream",
     "text": [
      "sleep_df (176, 56)\n"
     ]
    }
   ],
   "source": [
    "# Loading sleep data from Oura json file available on https://cloud.ouraring.com/profile \n",
    "with open('/Users/user/Desktop/Msc AI RU/Internship/Code/oura_json/oura_sleep_2022-12-06T10-07-33.json') as f:\n",
    "    data1 = json.load(f)\n",
    "\n",
    "# Flatten the nested json file\n",
    "sleep_df = pd.json_normalize(data1['sleep'], max_level=2)\n",
    "print('sleep_df', sleep_df.shape)"
   ]
  },
  {
   "cell_type": "code",
   "execution_count": 3,
   "metadata": {},
   "outputs": [
    {
     "name": "stdout",
     "output_type": "stream",
     "text": [
      "wakeup_df (151, 9)\n",
      "bedtime_df (149, 10)\n"
     ]
    }
   ],
   "source": [
    "# Loading raw wake up data from Google Form csv file\n",
    "wakeup_df = pd.read_csv ('questionnaire_data/raw/Wakeup_3_v1_raw.csv')\n",
    "print('wakeup_df', wakeup_df.shape)\n",
    "\n",
    "# Loading raw bedtime data from Google Form csv file \n",
    "bedtime_df = pd.read_csv ('questionnaire_data/raw/Bedtime_3_v1_raw.csv')\n",
    "# Rename the 'Timestamp' column of the bedtime dataframe in order to differentiate it from the one in the wakeup dataframe\n",
    "bedtime_df.columns = ['Timestamp_bedtime' if x=='Timestamp' else x for x in bedtime_df.columns]\n",
    "print('bedtime_df', bedtime_df.shape)"
   ]
  },
  {
   "cell_type": "markdown",
   "metadata": {},
   "source": [
    "## Initial pre-processing of datasets separately"
   ]
  },
  {
   "cell_type": "code",
   "execution_count": 4,
   "metadata": {},
   "outputs": [
    {
     "name": "stdout",
     "output_type": "stream",
     "text": [
      "bedtime_end                                                             2022-06-10T06:55:22+02:00\n",
      "bedtime_start                                                           2022-06-09T22:46:22+02:00\n",
      "day                                                                                    2022-06-10\n",
      "period                                                                                          0\n",
      "segment_state                                                                              active\n",
      "time_in_bed                                                                                 29340\n",
      "type                                                                                   long_sleep\n",
      "sleep_phase_5_min                               4244222111111111112211111112233333222211112112...\n",
      "restless                                                                                      6.0\n",
      "timezone                                                                                      120\n",
      "bedtime_start_delta                                                                         -4418\n",
      "bedtime_end_delta                                                                           24922\n",
      "midpoint_at_delta                                                                         10102.0\n",
      "contributors.total_sleep                                                                     74.0\n",
      "contributors.deep_sleep                                                                      98.0\n",
      "contributors.rem_sleep                                                                       84.0\n",
      "contributors.efficiency                                                                      95.0\n",
      "contributors.latency                                                                         86.0\n",
      "contributors.restfulness                                                                     75.0\n",
      "contributors.timing                                                                         100.0\n",
      "heart_rate.interval                                                                           300\n",
      "heart_rate.items                                [56.0, 58.0, 0.0, 0.0, 53.0, 51.0, 50.0, 50.0,...\n",
      "heart_rate.timestamp                                                    2022-06-09T22:46:22+02:00\n",
      "hrv.interval                                                                                  300\n",
      "hrv.items                                       [74.0, 84.0, 0.0, 0.0, 88.0, 123.0, 122.0, 114...\n",
      "hrv.timestamp                                                           2022-06-09T22:46:22+02:00\n",
      "average_breath                                                                               16.5\n",
      "average_breath_variation                                                                    2.875\n",
      "average_heart_rate                                                                          55.03\n",
      "average_hrv                                                                                  87.0\n",
      "awake_time                                                                                 2970.0\n",
      "deep_sleep_duration                                                                        7890.0\n",
      "efficiency                                                                                   90.0\n",
      "got_ups                                                                                       0.0\n",
      "latency                                                                                    1200.0\n",
      "light_sleep_duration                                                                      12120.0\n",
      "lowest_heart_rate                                                                            50.0\n",
      "lowest_heart_rate_time_offset                                                              2130.0\n",
      "movement_30_sec                                 3221111121221121121111123112111221212221221121...\n",
      "rem_sleep_duration                                                                         6360.0\n",
      "restless_periods                                                                             36.0\n",
      "score                                                                                        83.0\n",
      "sleep_midpoint                                                                            14520.0\n",
      "total_sleep_duration                                                                      26370.0\n",
      "wake_ups                                                                                      5.0\n",
      "readiness.contributors.activity_balance                                                       NaN\n",
      "readiness.contributors.body_temperature                                                     100.0\n",
      "readiness.contributors.hrv_balance                                                            NaN\n",
      "readiness.contributors.previous_day_activity                                                  NaN\n",
      "readiness.contributors.previous_night                                                        82.0\n",
      "readiness.contributors.recovery_index                                                       100.0\n",
      "readiness.contributors.resting_heart_rate                                                   100.0\n",
      "readiness.contributors.sleep_balance                                                          NaN\n",
      "readiness.score                                                                              93.0\n",
      "readiness.temperature_deviation                                                               0.0\n",
      "readiness.temperature_trend_deviation                                                         NaN\n",
      "Name: 1, dtype: object\n"
     ]
    }
   ],
   "source": [
    "# Used for visual inspection of the Oura ring dataset in order to determine the units of each variable\n",
    "print(sleep_df.iloc[1,:])"
   ]
  },
  {
   "cell_type": "code",
   "execution_count": 5,
   "metadata": {},
   "outputs": [],
   "source": [
    "# Convert the ISO 8601 notation of some variables in the oura ring data to seconds\n",
    "def convert_iso_seconds(df, column_name, new_column_name):\n",
    "    df[new_column_name] = np.nan\n",
    "    for index, row in df.iterrows():\n",
    "        utc_date = datetime.strptime(sleep_df.iloc[index][column_name], '%Y-%m-%dT%H:%M:%S%z')\n",
    "        df.at[index, column_name] = utc_date\n",
    "        df.at[index, new_column_name] = (utc_date - datetime(utc_date.year, utc_date.month, utc_date.day, tzinfo=utc_date.tzinfo)).total_seconds()\n",
    "    return df\n",
    "\n",
    "sleep_df = convert_iso_seconds(sleep_df, 'bedtime_end', 'bedtime_end_seconds')\n",
    "sleep_df = convert_iso_seconds(sleep_df, 'bedtime_start', 'bedtime_start_seconds')"
   ]
  },
  {
   "cell_type": "code",
   "execution_count": 6,
   "metadata": {},
   "outputs": [],
   "source": [
    "# Change how the date of the oura data is stored\n",
    "def convert_sleep_date(df):\n",
    "    for index, row in df.iterrows():\n",
    "        sleep_date = df.iloc[index]['oura_day']\n",
    "        y, m, d = [int(x) for x in sleep_date.split('-')]\n",
    "        df.at[index, 'day'] = date(y, m, d) \n",
    "    return sleep_df\n",
    "    \n",
    "sleep_df.columns = ['oura_day' if x=='day' else x for x in sleep_df.columns]\n",
    "sleep_df['day'] = np.nan\n",
    "sleep_df = convert_sleep_date(sleep_df)"
   ]
  },
  {
   "cell_type": "code",
   "execution_count": 7,
   "metadata": {},
   "outputs": [
    {
     "name": "stdout",
     "output_type": "stream",
     "text": [
      "['Timestamp_bedtime', 'If you had coffee today, at what time did you take your last cup of coffee?', 'If you had alcohol today, at what time did you have your last drink?', 'If you did a workout today, at what time did you do your last workout?', 'If you did a stress-relieving activity today (meditation, yoga, etc), at what time did you do your last one?', 'Did you take medication that might affect your sleep?', 'How much did you eat in the last 3 hours before going to bed?', 'How would you characterize the activities you did in the last 3 hours before going to bed?', 'How much stress and/or anxiety do you feel now?', 'Is there any particular reason why you think you might or might not sleep well tonight?']\n",
      "['Timestamp', 'Did you wake up refreshed after your night of sleep?', 'Do you recall being awake for more than 10 minutes during the night?', \"If you answered 'Yes' to the previous question, what did you do during this time?\", 'Did anything in particular prevent you from sleeping earlier last night?', 'Did anything in particular prevent you from sleeping better?', 'How did you wake up?', 'How many minutes before bedtime did you stop exposing yourself to blue light? (bright phone, TV, etc)', 'Is there anything important about or related to your night of sleep that was not covered in any of the questions in this questionnaire? If yes, what?']\n"
     ]
    }
   ],
   "source": [
    "print(bedtime_df.columns.to_list())\n",
    "print(wakeup_df.columns.to_list())"
   ]
  },
  {
   "cell_type": "code",
   "execution_count": 8,
   "metadata": {},
   "outputs": [],
   "source": [
    "# Rename the column names of the bedtime questionnaire to make it easier to pre-process\n",
    "bedtime_df.columns = ['coffee_time' if x=='If you had coffee today, at what time did you take your last cup of coffee?' else x for x in bedtime_df.columns]\n",
    "bedtime_df.columns = ['alcohol_time' if x=='If you had alcohol today, at what time did you have your last drink?' else x for x in bedtime_df.columns]\n",
    "bedtime_df.columns = ['workout_time' if x=='If you did a workout today, at what time did you do your last workout?' else x for x in bedtime_df.columns]\n",
    "bedtime_df.columns = ['stress_relief_time' if x=='If you did a stress-relieving activity today (meditation, yoga, etc), at what time did you do your last one?' else x for x in bedtime_df.columns]\n",
    "bedtime_df.columns = ['medication' if x=='Did you take medication that might affect your sleep?' else x for x in bedtime_df.columns]\n",
    "bedtime_df.columns = ['eat_bedtime' if x=='How much did you eat in the last 3 hours before going to bed?' else x for x in bedtime_df.columns]\n",
    "bedtime_df.columns = ['activities_bedtime' if x=='How would you characterize the activities you did in the last 3 hours before going to bed?' else x for x in bedtime_df.columns]\n",
    "bedtime_df.columns = ['stress_levels' if x=='How much stress and/or anxiety do you feel now?' else x for x in bedtime_df.columns]\n",
    "bedtime_df.columns = ['special_circumstances' if x=='Is there any particular reason why you think you might or might not sleep well tonight?' else x for x in bedtime_df.columns]\n",
    "\n",
    "#Rename the column names of the wakeup questionnaire to make it easier to pre-process\n",
    "wakeup_df.columns = ['subjective_sleep_score' if x=='Did you wake up refreshed after your night of sleep?' else x for x in wakeup_df.columns]\n",
    "wakeup_df.columns = ['recall_awake' if x=='Do you recall being awake for more than 10 minutes during the night?' else x for x in wakeup_df.columns]\n",
    "wakeup_df.columns = ['awake_activities' if x==\"If you answered 'Yes' to the previous question, what did you do during this time?\" else x for x in wakeup_df.columns]\n",
    "wakeup_df.columns = ['prevent_early_sleep' if x=='Did anything in particular prevent you from sleeping earlier last night?' else x for x in wakeup_df.columns]\n",
    "wakeup_df.columns = ['prevent_better_sleep' if x=='Did anything in particular prevent you from sleeping better?' else x for x in wakeup_df.columns]\n",
    "wakeup_df.columns = ['method_woken_up' if x=='How did you wake up?' else x for x in wakeup_df.columns]\n",
    "wakeup_df.columns = ['blue_light' if x=='How many minutes before bedtime did you stop exposing yourself to blue light? (bright phone, TV, etc)' else x for x in wakeup_df.columns]\n",
    "wakeup_df.columns = ['special_circumstances_wakeup' if x=='Is there anything important about or related to your night of sleep that was not covered in any of the questions in this questionnaire? If yes, what?' else x for x in wakeup_df.columns]\n"
   ]
  },
  {
   "cell_type": "code",
   "execution_count": 9,
   "metadata": {},
   "outputs": [
    {
     "name": "stdout",
     "output_type": "stream",
     "text": [
      "['Timestamp_bedtime', 'coffee_time', 'alcohol_time', 'workout_time', 'stress_relief_time', 'medication', 'eat_bedtime', 'activities_bedtime', 'stress_levels', 'special_circumstances']\n",
      "['Timestamp', 'subjective_sleep_score', 'recall_awake', 'awake_activities', 'prevent_early_sleep', 'prevent_better_sleep', 'method_woken_up', 'blue_light', 'special_circumstances_wakeup']\n"
     ]
    }
   ],
   "source": [
    "print(bedtime_df.columns.to_list())\n",
    "print(wakeup_df.columns.to_list())"
   ]
  },
  {
   "cell_type": "code",
   "execution_count": 10,
   "metadata": {},
   "outputs": [],
   "source": [
    "# Map the 'Yes/No' questions in the questionnaire to '1/0'\n",
    "def yes_no_questions(df, column_name):\n",
    "    for index, row in df.iterrows():\n",
    "        if df.iloc[index][column_name] == 'Yes':\n",
    "            df.at[index, column_name] = 1\n",
    "        else:\n",
    "            df.at[index, column_name] = 0\n",
    "    return df\n",
    "\n",
    "bedtime_df = yes_no_questions(bedtime_df, 'medication')\n",
    "wakeup_df = yes_no_questions(wakeup_df, 'recall_awake')\n",
    "wakeup_df = yes_no_questions(wakeup_df, 'prevent_early_sleep')"
   ]
  },
  {
   "cell_type": "code",
   "execution_count": 11,
   "metadata": {},
   "outputs": [],
   "source": [
    "# Map the special circumstances questions in to 1 if there is a special circumstance, and 0 otherwise\n",
    "def special_circumstances(df, column_name):\n",
    "    for index, row in df.iterrows():\n",
    "        if pd.isna(df.iloc[index][column_name]):\n",
    "            df.at[index, column_name] = 0\n",
    "        else:\n",
    "            df.at[index, column_name] = 1\n",
    "    return df\n",
    "\n",
    "bedtime_df = special_circumstances(bedtime_df, 'special_circumstances')\n",
    "wakeup_df = special_circumstances(wakeup_df, 'special_circumstances_wakeup')"
   ]
  },
  {
   "cell_type": "code",
   "execution_count": 12,
   "metadata": {},
   "outputs": [
    {
     "name": "stdout",
     "output_type": "stream",
     "text": [
      "8:30:00 AM\n",
      "['8:30:00', 'AM']\n",
      "['8', '30', '00']\n"
     ]
    }
   ],
   "source": [
    "print(bedtime_df.iloc[2]['workout_time'])\n",
    "split_string = bedtime_df.iloc[2]['workout_time'].split(\" \")\n",
    "print(split_string)\n",
    "split_string = split_string[0].split(\":\")\n",
    "print(split_string)"
   ]
  },
  {
   "cell_type": "code",
   "execution_count": 13,
   "metadata": {},
   "outputs": [],
   "source": [
    "# Only consider the date of the questionnaire datasets and ignore the exact time\n",
    "def remove_time(string_date):\n",
    "    split_string = string_date.split(\" \")\n",
    "    return split_string[0]\n",
    "\n",
    "# Change how the date of the questionnaire data is stored\n",
    "def convert_questionnaire_date(quest_date):\n",
    "    m, d, y = [int(x) for x in remove_time(quest_date).split('/')]\n",
    "    return date(y, m, d)"
   ]
  },
  {
   "cell_type": "code",
   "execution_count": 14,
   "metadata": {},
   "outputs": [],
   "source": [
    "# Add a 'day' column in the questionnaire dataframes to compare with oura data\n",
    "def add_day_col(df, column_name):\n",
    "    df['day'] = np.nan\n",
    "    for index, row in df.iterrows():\n",
    "        df.at[index, 'day'] = convert_questionnaire_date(df.iloc[index][column_name])\n",
    "    return df\n",
    "\n",
    "wakeup_df = add_day_col(wakeup_df, 'Timestamp')\n",
    "bedtime_df = add_day_col(bedtime_df, 'Timestamp_bedtime')"
   ]
  },
  {
   "cell_type": "code",
   "execution_count": 15,
   "metadata": {},
   "outputs": [],
   "source": [
    "# Bedtime data entered on day n should be matched to the wakeup and sleep data of day n+1 if the questionnaire data is entered before midnight\n",
    "for index, row in bedtime_df.iterrows():\n",
    "    utc_date_questionnaire = datetime.strptime(bedtime_df.iloc[index]['Timestamp_bedtime'], '%m/%d/%Y %H:%M:%S')\n",
    "    # 16:00 is arbitrarily chosen as a delimiter that is late enough that the person should have woken up andearly enough that people did not go to sleep yet\n",
    "    # With this implementation, we assume that people follow a sleep schedule such as they sleep at night and wake up during the day. \n",
    "    four_pm = datetime(utc_date_questionnaire.year,  utc_date_questionnaire.month,  utc_date_questionnaire.day, hour=16, minute=0)\n",
    "    \n",
    "    # If the questionnaire was filled after midnight but before bedtime, the date change is taken care of here\n",
    "    if (utc_date_questionnaire > four_pm):\n",
    "        # The questionnaire was filled after midnight before sleeeping or when the person woke up\n",
    "        bedtime_df.at[index, 'day'] = bedtime_df.iloc[index]['day'] + timedelta(days=1)"
   ]
  },
  {
   "cell_type": "markdown",
   "metadata": {},
   "source": [
    "## Combining the three dataframes"
   ]
  },
  {
   "cell_type": "code",
   "execution_count": 17,
   "metadata": {},
   "outputs": [
    {
     "name": "stdout",
     "output_type": "stream",
     "text": [
      "latest start date 2022-06-19 \n",
      "earliest end date 2022-11-19\n"
     ]
    }
   ],
   "source": [
    "# Find the start and end dates of a dataframe\n",
    "def find_start_end_dates(df):\n",
    "    start_date = df.iloc[0]['day']\n",
    "    end_date = df.iloc[-1]['day']\n",
    "    return start_date, end_date \n",
    "\n",
    "sleep_start_date, sleep_end_date = find_start_end_dates(sleep_df)\n",
    "wakeup_start_date, wakeup_end_date = find_start_end_dates(wakeup_df)\n",
    "bedtime_start_date, bedtime_end_date = find_start_end_dates(bedtime_df)\n",
    "\n",
    "# Compare two dates and only return the earliest or the latest, depending on what is required\n",
    "def compare_two_dates(date1, date2, earliest):\n",
    "    if date1 == date2:\n",
    "        earliest_date = latest_date = date1\n",
    "    elif date1 > date2:\n",
    "        earliest_date = date2\n",
    "        latest_date = date1  \n",
    "    else:\n",
    "        earliest_date = date1\n",
    "        latest_date = date2\n",
    "    if earliest:\n",
    "        return earliest_date\n",
    "    else:\n",
    "        return latest_date\n",
    "\n",
    "# Compare three dates and only return the earliest or the latest, depending on what is required\n",
    "def compare_three_dates(sleep_date, wakeup_date, bedtime_date, earliest):\n",
    "    if earliest:\n",
    "        earliest_date = compare_two_dates(sleep_date, wakeup_date, earliest)\n",
    "        if earliest_date > bedtime_date:\n",
    "            earliest_date = bedtime_date\n",
    "        return earliest_date\n",
    "    else:\n",
    "        latest_date = compare_two_dates(sleep_date, wakeup_date, earliest)\n",
    "        if latest_date < bedtime_date:\n",
    "            latest_date = bedtime_date\n",
    "        return latest_date\n",
    "\n",
    "# Determine the time range for which all three data sets simultaneously have data\n",
    "latest_start = compare_three_dates(sleep_start_date, wakeup_start_date, bedtime_start_date, earliest = False)\n",
    "earliest_end = compare_three_dates(sleep_end_date, wakeup_end_date, bedtime_end_date, earliest = True)\n",
    "\n",
    "print('latest start date', latest_start, \"\\nearliest end date\", earliest_end)\n"
   ]
  },
  {
   "cell_type": "code",
   "execution_count": 18,
   "metadata": {},
   "outputs": [
    {
     "name": "stdout",
     "output_type": "stream",
     "text": [
      "truncated_sleep_df (149, 59) \n",
      "truncated_wakeup_df (150, 10) \n",
      "truncated_bedtime_df (149, 11)\n"
     ]
    }
   ],
   "source": [
    "# Cut the data sets so that they only cover the period [latest_start, earliest_end]\n",
    "def cut_df(df, start, end):\n",
    "    truncated_df = pd.DataFrame()\n",
    "    for index, row in df.iterrows():\n",
    "        sleep_date = row['day']\n",
    "        # Only add the data starting the latest_start\n",
    "        if sleep_date < start:\n",
    "            continue\n",
    "        \n",
    "        # End now if the earliest_end is missing from the dataset\n",
    "        if (sleep_date > end):\n",
    "            break\n",
    "\n",
    "        truncated_df = truncated_df.append(pd.DataFrame(row).transpose(), ignore_index=True)\n",
    "\n",
    "        # End if the earliest_end is reached\n",
    "        if (sleep_date == end):\n",
    "            break\n",
    "        \n",
    "    return truncated_df \n",
    "\n",
    "truncated_sleep_df = cut_df(sleep_df, latest_start, earliest_end)\n",
    "truncated_wakeup_df = cut_df(wakeup_df, latest_start, earliest_end)\n",
    "truncated_bedtime_df = cut_df(bedtime_df, latest_start, earliest_end)\n",
    "\n",
    "print('truncated_sleep_df', truncated_sleep_df.shape, '\\ntruncated_wakeup_df', truncated_wakeup_df.shape, '\\ntruncated_bedtime_df', truncated_bedtime_df.shape)"
   ]
  },
  {
   "cell_type": "code",
   "execution_count": 19,
   "metadata": {},
   "outputs": [],
   "source": [
    "# Determine the days with missing data\n",
    "def find_missing_days(df, start_date, end_date, column_name):\n",
    "    # Set the date values as index\n",
    "    df = df.set_index(column_name)\n",
    "\n",
    "    # Convert string format of date to a DateTime object\n",
    "    df.index = pd.to_datetime(df.index)\n",
    "\n",
    "    # Dates which are not in the sequence are returned\n",
    "    return pd.date_range(start_date, end_date).difference(df.index)"
   ]
  },
  {
   "cell_type": "code",
   "execution_count": 20,
   "metadata": {},
   "outputs": [],
   "source": [
    "# Create a dataframe that goes from latest_start to earliest_end with no jumps in the dates, except that days without data are empty rows.\n",
    "def complete_df(df, latest_start, earliest_end):\n",
    "    missing_days = find_missing_days(df, latest_start, earliest_end, 'day')\n",
    "    no_jumps_df = pd.DataFrame()\n",
    "    counter = 0 \n",
    "    for index, row in df.iterrows():\n",
    "        sleep_date = row['day']\n",
    "        \n",
    "        # Prevents to add data twice for a single day\n",
    "        if sleep_date > latest_start and sleep_date == latest_date:\n",
    "            continue\n",
    "        latest_date = sleep_date\n",
    "\n",
    "        # If data is missing from the considered date, add an empty row\n",
    "        while counter < (len(missing_days)) and sleep_date > missing_days[counter]:\n",
    "            no_jumps_df = no_jumps_df.append([None], ignore_index=True)\n",
    "            counter += 1\n",
    "\n",
    "        no_jumps_df = no_jumps_df.append(pd.DataFrame(row).transpose(), ignore_index=True)\n",
    "               \n",
    "    return no_jumps_df"
   ]
  },
  {
   "cell_type": "code",
   "execution_count": 21,
   "metadata": {},
   "outputs": [],
   "source": [
    "# Fill the missing days of the sleep df with empty rows\n",
    "complete_sleep_df = complete_df(truncated_sleep_df, latest_start, earliest_end)"
   ]
  },
  {
   "cell_type": "code",
   "execution_count": 22,
   "metadata": {},
   "outputs": [],
   "source": [
    "# Create a list of all the dates between latest_start and earliest_end\n",
    "all_dates = [latest_start+timedelta(days=x) for x in range((earliest_end-(latest_start + timedelta(days=-1))).days)]\n",
    "complete_sleep_df['actual_day'] = all_dates"
   ]
  },
  {
   "cell_type": "code",
   "execution_count": 23,
   "metadata": {},
   "outputs": [],
   "source": [
    "# Convert the way in which time is stored in the questionnaire to a continuous scale\n",
    "def temporal_conversion(df, column_name):\n",
    "    for index, row in df.iterrows():\n",
    "        if not pd.isna(df.iloc[index][column_name]):\n",
    "            split_string = df.iloc[index][column_name].split(\" \")\n",
    "            h_m_s = split_string[0].split(\":\")\n",
    "            h_m_s = list(np.float_(h_m_s))\n",
    "            oura_index = complete_sleep_df[complete_sleep_df['actual_day'] == df.iloc[index]['day']].index.values\n",
    "            \n",
    "            if (split_string[-1] == 'PM') and not(h_m_s[0] == 12):\n",
    "                h_m_s[0] += 12\n",
    "            # elif (len(oura_index) > 0):  \n",
    "            #     oura_index = oura_index[-1]\n",
    "            #     utc_date_bedtime = complete_sleep_df.iloc[oura_index]['bedtime_start']\n",
    "            #     utc_date_quest = datetime.strptime(df.iloc[index]['Timestamp_bedtime'], '%m/%d/%Y %H:%M:%S')\n",
    "            #     utc_activity_time = datetime(utc_date_quest.year,  utc_date_quest.month,  utc_date_quest.day, hour=int(h_m_s[0]), minute=int(h_m_s[1])) \n",
    "            #     utc_activity_time = utc_activity_time.replace(tzinfo=utc_date_bedtime.tzinfo)  \n",
    "            #     if utc_date_bedtime.hour < 12 and utc_date_bedtime > utc_activity_time:\n",
    "            #         print('activity at', utc_activity_time)\n",
    "            #         print('bedtime', utc_date_bedtime)\n",
    "            #         h_m_s[0] += 24\n",
    "            #         print(\"activity after midnight but before bedtime\")\n",
    "            df.at[index, column_name] = h_m_s[0] + h_m_s[1]/60\n",
    "    return df\n",
    "\n",
    "bedtime_df = temporal_conversion(bedtime_df, 'coffee_time')\n",
    "bedtime_df = temporal_conversion(bedtime_df, 'alcohol_time')\n",
    "bedtime_df = temporal_conversion(bedtime_df, 'workout_time')\n",
    "bedtime_df = temporal_conversion(bedtime_df, 'stress_relief_time')"
   ]
  },
  {
   "cell_type": "code",
   "execution_count": 24,
   "metadata": {},
   "outputs": [
    {
     "ename": "AttributeError",
     "evalue": "'float' object has no attribute 'tzinfo'",
     "output_type": "error",
     "traceback": [
      "\u001b[0;31m---------------------------------------------------------------------------\u001b[0m",
      "\u001b[0;31mAttributeError\u001b[0m                            Traceback (most recent call last)",
      "\u001b[0;32m/var/folders/21/tt0m0s_j69b0hg8lm6wp4_s40000gn/T/ipykernel_61914/4141936625.py\u001b[0m in \u001b[0;36m<module>\u001b[0;34m\u001b[0m\n\u001b[1;32m     38\u001b[0m     \u001b[0;32mreturn\u001b[0m \u001b[0mdf\u001b[0m\u001b[0;34m\u001b[0m\u001b[0;34m\u001b[0m\u001b[0m\n\u001b[1;32m     39\u001b[0m \u001b[0;34m\u001b[0m\u001b[0m\n\u001b[0;32m---> 40\u001b[0;31m \u001b[0mtruncated_bedtime_df\u001b[0m \u001b[0;34m=\u001b[0m \u001b[0mconvert_dates_bedtime\u001b[0m\u001b[0;34m(\u001b[0m\u001b[0mtruncated_bedtime_df\u001b[0m\u001b[0;34m)\u001b[0m\u001b[0;34m\u001b[0m\u001b[0;34m\u001b[0m\u001b[0m\n\u001b[0m",
      "\u001b[0;32m/var/folders/21/tt0m0s_j69b0hg8lm6wp4_s40000gn/T/ipykernel_61914/4141936625.py\u001b[0m in \u001b[0;36mconvert_dates_bedtime\u001b[0;34m(df)\u001b[0m\n\u001b[1;32m     15\u001b[0m \u001b[0;34m\u001b[0m\u001b[0m\n\u001b[1;32m     16\u001b[0m         \u001b[0mutc_date_wakeup\u001b[0m \u001b[0;34m=\u001b[0m \u001b[0mcomplete_sleep_df\u001b[0m\u001b[0;34m.\u001b[0m\u001b[0miloc\u001b[0m\u001b[0;34m[\u001b[0m\u001b[0moura_index\u001b[0m\u001b[0;34m]\u001b[0m\u001b[0;34m[\u001b[0m\u001b[0;34m'bedtime_end'\u001b[0m\u001b[0;34m]\u001b[0m\u001b[0;34m\u001b[0m\u001b[0;34m\u001b[0m\u001b[0m\n\u001b[0;32m---> 17\u001b[0;31m         \u001b[0mutc_date_questionnaire\u001b[0m \u001b[0;34m=\u001b[0m \u001b[0mutc_date_questionnaire\u001b[0m\u001b[0;34m.\u001b[0m\u001b[0mreplace\u001b[0m\u001b[0;34m(\u001b[0m\u001b[0mtzinfo\u001b[0m\u001b[0;34m=\u001b[0m\u001b[0mutc_date_wakeup\u001b[0m\u001b[0;34m.\u001b[0m\u001b[0mtzinfo\u001b[0m\u001b[0;34m)\u001b[0m\u001b[0;34m\u001b[0m\u001b[0;34m\u001b[0m\u001b[0m\n\u001b[0m\u001b[1;32m     18\u001b[0m \u001b[0;34m\u001b[0m\u001b[0m\n\u001b[1;32m     19\u001b[0m         \u001b[0;31m# If we have reached the end of the oura dataset and there are no data for day n+1\u001b[0m\u001b[0;34m\u001b[0m\u001b[0;34m\u001b[0m\u001b[0;34m\u001b[0m\u001b[0m\n",
      "\u001b[0;31mAttributeError\u001b[0m: 'float' object has no attribute 'tzinfo'"
     ]
    }
   ],
   "source": [
    "# Match the bedtime questionnaire data to the correct date. This function thus modifies the column 'day'\n",
    "def convert_dates_bedtime(df):\n",
    "    last_date = None\n",
    "    # Iterate over all the bedtime questionnaire instances \n",
    "    for index, row in df.iterrows():\n",
    "        utc_date_questionnaire = datetime.strptime(df.iloc[index]['Timestamp_bedtime'], '%m/%d/%Y %H:%M:%S')\n",
    "        \n",
    "        # Retrieve the index, in the oura dataframe, of the day for which the questionnaire was filled \n",
    "        oura_index = complete_sleep_df[complete_sleep_df['actual_day'] == df.iloc[index]['day']].index.values\n",
    "\n",
    "        if len(oura_index) == 0:\n",
    "            # The oura ring has no data recorded for this day. The row will be deleted later in the pre-processing. We can continue with the next questionnaire instance.\n",
    "            continue\n",
    "        oura_index = oura_index[-1]\n",
    "\n",
    "        utc_date_wakeup = complete_sleep_df.iloc[oura_index]['bedtime_end']\n",
    "        utc_date_questionnaire = utc_date_questionnaire.replace(tzinfo=utc_date_wakeup.tzinfo) \n",
    "\n",
    "        # If we have reached the end of the oura dataset and there are no data for day n+1\n",
    "        if (len(complete_sleep_df) - 1) == oura_index:\n",
    "            utc_date_bedtime_nextday = None\n",
    "        else:\n",
    "            utc_date_bedtime_nextday = complete_sleep_df.iloc[oura_index+1]['bedtime_start']\n",
    "\n",
    "        # Add the timezone when the oura ring has data for the night n+1. It is needed for the comparison of dates\n",
    "        if (not pd.isna(utc_date_bedtime_nextday)):\n",
    "            utc_date_bedtime_nextday = utc_date_bedtime_nextday.replace(tzinfo=utc_date_wakeup.tzinfo)\n",
    "\n",
    "        if (not pd.isna(utc_date_bedtime_nextday)) and (utc_date_questionnaire - utc_date_wakeup) < (utc_date_bedtime_nextday - utc_date_questionnaire):\n",
    "            # The questionnaire for day n is filled on day n+1, but closer to their wake-up time than to the bedtime of day n+1\n",
    "            df.at[index, 'day'] = complete_sleep_df.iloc[oura_index]['day']\n",
    "        \n",
    "        # If the questionnaire for day n was filled closer to bedtime of day n+1 than to wake up time of day n\n",
    "        if (last_date == df.iloc[index]['day']):\n",
    "            df.at[index-1, 'day'] = last_date + timedelta(days=-1)\n",
    "        last_date = df.iloc[index]['day']\n",
    "        \n",
    "    return df\n",
    "\n",
    "truncated_bedtime_df = convert_dates_bedtime(truncated_bedtime_df)"
   ]
  },
  {
   "cell_type": "code",
   "execution_count": null,
   "metadata": {},
   "outputs": [],
   "source": [
    "# Match the wakeup questionnaire data to the correct date. This function thus modifies the column 'day'\n",
    "def convert_dates_wakeup(df):\n",
    "    last_date = None\n",
    "    # Iterate over all the wakeup questionnaire instances  \n",
    "    for index, row in df.iterrows():\n",
    "        # If two wakeup questionnaires were filled on the same day \n",
    "        if (last_date == df.iloc[index]['day']):\n",
    "            # Check if there is a wakeup questionnaire instance for the previous day\n",
    "            data_prev_day = df[df['day'] == last_date + timedelta(days=-1)]['day'].index.values\n",
    "            if len(data_prev_day) == 0:\n",
    "                # If not, then the wakeup questionnaire of day n was probably filled on day n+1\n",
    "                df.at[index-1, 'day'] = last_date + timedelta(days=-1)\n",
    "        last_date = df.iloc[index]['day']\n",
    "        \n",
    "    return df\n",
    "\n",
    "truncated_wakeup_df = convert_dates_wakeup(truncated_wakeup_df)"
   ]
  },
  {
   "cell_type": "code",
   "execution_count": null,
   "metadata": {},
   "outputs": [],
   "source": [
    "# Create three datasets that cover the same time period with no date gap in their dataframes\n",
    "complete_wakeup_df = complete_df(truncated_wakeup_df, latest_start, earliest_end)\n",
    "complete_bedtime_df = complete_df(truncated_bedtime_df, latest_start, earliest_end)\n",
    "\n",
    "print('complete_sleep_df', complete_sleep_df.shape, '\\ncomplete_wakeup_df', complete_wakeup_df.shape, '\\ncomplete_bedtime_df', complete_bedtime_df.shape)"
   ]
  },
  {
   "cell_type": "code",
   "execution_count": null,
   "metadata": {},
   "outputs": [],
   "source": [
    "# Rename the day columns not to mix them up \n",
    "complete_sleep_df.columns = ['day_oura' if x=='day' else x for x in complete_sleep_df.columns]\n",
    "sleep_df.columns = ['day' if x=='oura_day' else x for x in sleep_df.columns]\n",
    "complete_wakeup_df.columns = ['day_wakeup' if x=='day' else x for x in complete_wakeup_df.columns]\n",
    "complete_bedtime_df.columns = ['day_bedtime' if x=='day' else x for x in complete_bedtime_df.columns]\n",
    "\n",
    "# Concatenate the 3 dataframes. Merge the different columns on to the same rows \n",
    "df = pd.concat([complete_sleep_df.reset_index(), complete_wakeup_df.reset_index(), complete_bedtime_df.reset_index()], axis=1)"
   ]
  },
  {
   "cell_type": "markdown",
   "metadata": {},
   "source": [
    "## Pre-process the dataset "
   ]
  },
  {
   "cell_type": "code",
   "execution_count": null,
   "metadata": {},
   "outputs": [],
   "source": [
    "# Identify all the rows with missing data\n",
    "missing_dates = []\n",
    "for index, row in df.iterrows():\n",
    "    if pd.isna(df.iloc[index]['day_oura']) or pd.isna(df.iloc[index]['day_wakeup']) or pd.isna(df.iloc[index]['day_bedtime']):\n",
    "        missing_dates.append(df.iloc[index]['actual_day'])\n",
    "\n",
    "# Drop the rows with missing data from dataframe\n",
    "for i in range(len(missing_dates)):\n",
    "    df = df.drop(df[df['actual_day'] == missing_dates[i]].index.values[0])\n",
    "\n",
    "df = df.reset_index()\n",
    "df"
   ]
  },
  {
   "cell_type": "code",
   "execution_count": null,
   "metadata": {},
   "outputs": [],
   "source": [
    "# Visual analysis of the column names to see which ones can be dropped\n",
    "print(df.columns.tolist())"
   ]
  },
  {
   "cell_type": "code",
   "execution_count": null,
   "metadata": {},
   "outputs": [],
   "source": [
    "# Drop irrelevant columns. These were determined by looking at the above list of columns. \n",
    "df = df.drop(labels=['level_0', 'index', 0], axis=1)\n",
    "df"
   ]
  }
 ],
 "metadata": {
  "kernelspec": {
   "display_name": "Python 3.7.10 ('tensorflow_env')",
   "language": "python",
   "name": "python3"
  },
  "language_info": {
   "codemirror_mode": {
    "name": "ipython",
    "version": 3
   },
   "file_extension": ".py",
   "mimetype": "text/x-python",
   "name": "python",
   "nbconvert_exporter": "python",
   "pygments_lexer": "ipython3",
   "version": "3.7.10"
  },
  "orig_nbformat": 4,
  "vscode": {
   "interpreter": {
    "hash": "f440ca07c10c374a105f3d67f9c2c345d20e5b276c036b89a1e623f864f80620"
   }
  }
 },
 "nbformat": 4,
 "nbformat_minor": 2
}
