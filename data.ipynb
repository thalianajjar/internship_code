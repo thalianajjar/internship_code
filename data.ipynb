{
 "cells": [
  {
   "cell_type": "markdown",
   "metadata": {},
   "source": [
    "## Imports"
   ]
  },
  {
   "cell_type": "code",
   "execution_count": 31,
   "metadata": {},
   "outputs": [],
   "source": [
    "import pandas as pd\n",
    "import json"
   ]
  },
  {
   "cell_type": "markdown",
   "metadata": {},
   "source": [
    "## Loading the data"
   ]
  },
  {
   "cell_type": "code",
   "execution_count": null,
   "metadata": {},
   "outputs": [],
   "source": [
    "# Function taken from https://stackoverflow.com/questions/52795561/flattening-nested-json-in-pandas-data-frame.\n",
    "def flatten_json(nested_json, exclude=['']):\n",
    "    \"\"\"Flatten json object with nested keys into a single level.\n",
    "        Args:\n",
    "            nested_json: A nested json object.\n",
    "            exclude: Keys to exclude from output.\n",
    "        Returns:\n",
    "            The flattened json object if successful, None otherwise.\n",
    "    \"\"\"\n",
    "    out = {}\n",
    "\n",
    "    def flatten(x, name='', exclude=exclude):\n",
    "        if type(x) is dict:\n",
    "            for a in x:\n",
    "                if a not in exclude: flatten(x[a], name + a + '_')\n",
    "        elif type(x) is list:\n",
    "            i = 0\n",
    "            for a in x:\n",
    "                flatten(a, name + str(i) + '_')\n",
    "                i += 1\n",
    "        else:\n",
    "            out[name[:-1]] = x\n",
    "\n",
    "    flatten(nested_json)\n",
    "    return out"
   ]
  },
  {
   "cell_type": "code",
   "execution_count": 44,
   "metadata": {},
   "outputs": [],
   "source": [
    "# Loading sleep data from Oura json file available on https://cloud.ouraring.com/profile \n",
    "with open('/Users/user/Desktop/Msc AI RU/Internship/Code/oura_json/oura_sleep_2022-12-06T10-07-33.json') as f:\n",
    "    data1 = json.load(f)\n",
    "\n",
    "flattened_sleep = flatten_json(data1['sleep'])\n",
    "flattened_json = json.dumps(flattened_sleep)\n",
    "\n",
    "with open('oura_json/flattened_sleep.json', 'w') as outfile:\n",
    "    outfile.write(flattened_json)\n",
    "\n",
    "flattened_df = pd.read_json(\"oura_json/flattened_sleep.json\", orient ='index')\n",
    "\n",
    "# Loading readiness data from Oura json file available on https://cloud.ouraring.com/profile \n",
    "with open('/Users/user/Desktop/Msc AI RU/Internship/Code/oura_json/oura_daily-readiness_2022-12-06T10-07-44.json') as f:\n",
    "    data2 = json.load(f)\n",
    "\n",
    "readiness_data = data2['daily_readiness']\n",
    "readiness_json = json.dumps(readiness_data)\n",
    "\n",
    "with open('oura_json/readiness_data.json', 'w') as outfile:\n",
    "    outfile.write(readiness_json)\n",
    "\n",
    "readiness_df = pd.read_json(\"oura_json/readiness_data.json\")"
   ]
  },
  {
   "cell_type": "code",
   "execution_count": null,
   "metadata": {},
   "outputs": [],
   "source": [
    "# df = pd.read_json(flattened_sleep, orient ='index')\n",
    "# sleep_data = data1['sleep']\n",
    "# readiness_json = json.dumps(sleep_data)\n",
    "# df = pd.DataFrame(sleep_data)\n",
    "# normalized_df = json_normalize(data1['sleep'])\n",
    "# print(df)\n",
    "# with open('oura_json/sleep_data.json', 'w') as outfile:\n",
    "#     outfile.write(sleep_json)\n",
    "# sleep_df = pd.read_json('oura_json/sleep_data.json')"
   ]
  },
  {
   "cell_type": "code",
   "execution_count": 93,
   "metadata": {},
   "outputs": [
    {
     "name": "stdout",
     "output_type": "stream",
     "text": [
      "bedtime_end\n",
      "bedtime_start\n",
      "day\n",
      "period\n",
      "segment_state\n",
      "time_in_bed\n",
      "type\n",
      "sleep_phase_5_min\n",
      "restless\n",
      "timezone\n",
      "bedtime_start_delta\n",
      "bedtime_end_delta\n",
      "midpoint_at_delta\n",
      "contributors.total_sleep\n",
      "contributors.deep_sleep\n",
      "contributors.rem_sleep\n",
      "contributors.efficiency\n",
      "contributors.latency\n",
      "contributors.restfulness\n",
      "contributors.timing\n",
      "heart_rate.interval\n",
      "heart_rate.items\n",
      "heart_rate.timestamp\n",
      "hrv.interval\n",
      "hrv.items\n",
      "hrv.timestamp\n",
      "average_breath\n",
      "average_breath_variation\n",
      "average_heart_rate\n",
      "average_hrv\n",
      "awake_time\n",
      "deep_sleep_duration\n",
      "efficiency\n",
      "got_ups\n",
      "latency\n",
      "light_sleep_duration\n",
      "lowest_heart_rate\n",
      "lowest_heart_rate_time_offset\n",
      "movement_30_sec\n",
      "rem_sleep_duration\n",
      "restless_periods\n",
      "score\n",
      "sleep_midpoint\n",
      "total_sleep_duration\n",
      "wake_ups\n",
      "readiness.contributors.activity_balance\n",
      "readiness.contributors.body_temperature\n",
      "readiness.contributors.hrv_balance\n",
      "readiness.contributors.previous_day_activity\n",
      "readiness.contributors.previous_night\n",
      "readiness.contributors.recovery_index\n",
      "readiness.contributors.resting_heart_rate\n",
      "readiness.contributors.sleep_balance\n",
      "readiness.score\n",
      "readiness.temperature_deviation\n",
      "readiness.temperature_trend_deviation\n"
     ]
    }
   ],
   "source": [
    "with open('/Users/user/Desktop/Msc AI RU/Internship/Code/oura_json/oura_sleep_2022-12-06T10-07-33.json') as f:\n",
    "    data1 = json.load(f)\n",
    "\n",
    "df = pd.json_normalize(data1['sleep'], max_level=2)"
   ]
  },
  {
   "cell_type": "code",
   "execution_count": 72,
   "metadata": {},
   "outputs": [
    {
     "name": "stdout",
     "output_type": "stream",
     "text": [
      "                            0       1\n",
      "0              average_breath  16.625\n",
      "1    average_breath_variation   2.875\n",
      "2          average_heart_rate   55.66\n",
      "3                 average_hrv      70\n",
      "4                  awake_time    2490\n",
      "..                        ...     ...\n",
      "231                  restless       7\n",
      "232                  timezone     120\n",
      "233       bedtime_start_delta    -663\n",
      "234         bedtime_end_delta   26517\n",
      "235         midpoint_at_delta   12447\n",
      "\n",
      "[236 rows x 2 columns]\n",
      "Empty DataFrame\n",
      "Columns: []\n",
      "Index: []\n"
     ]
    }
   ],
   "source": [
    "# Opening the file\n",
    "file = open('/Users/user/Desktop/Msc AI RU/Internship/Code/oura_json/oura_sleep_2022-12-06T10-07-33.json')\n",
    "\n",
    "# Loading the file into a workable dataframe\n",
    "data1 = json.load(file)\n",
    "df = pd.DataFrame()\n",
    "\n",
    "counter = 0 \n",
    "for i in data1['sleep']:\n",
    "    flattened_df = pd.DataFrame()\n",
    "    # if counter == 0:\n",
    "    #     print(i)\n",
    "    counter+=1\n",
    "    flattened_row = flatten_json(i)\n",
    "    flattened_df = pd.DataFrame(flattened_row.items())\n",
    "\n",
    "    # flattened_list = list(flattened_row)\n",
    "    # flattened_json = json.dumps(flattened_row)\n",
    "    # print(type(flattened_row))\n",
    "    # print(type(flattened_json))\n",
    "    if counter == 5:\n",
    "        print(flattened_df)\n",
    "    #     print(flattened_json)\n",
    "    df.append(flattened_df)\n",
    "\n",
    "print(df)\n"
   ]
  },
  {
   "cell_type": "code",
   "execution_count": null,
   "metadata": {},
   "outputs": [],
   "source": [
    "wakeup_df = pd.read_csv ('questionnaire_data/raw/Wakeup_3_v1_raw.csv')\n",
    "\n",
    "bedtime_df = pd.read_csv ('questionnaire_data/raw/Bedtime_3_v1_raw.csv')"
   ]
  }
 ],
 "metadata": {
  "kernelspec": {
   "display_name": "Python 3.7.10 ('tensorflow_env')",
   "language": "python",
   "name": "python3"
  },
  "language_info": {
   "codemirror_mode": {
    "name": "ipython",
    "version": 3
   },
   "file_extension": ".py",
   "mimetype": "text/x-python",
   "name": "python",
   "nbconvert_exporter": "python",
   "pygments_lexer": "ipython3",
   "version": "3.7.10"
  },
  "orig_nbformat": 4,
  "vscode": {
   "interpreter": {
    "hash": "f440ca07c10c374a105f3d67f9c2c345d20e5b276c036b89a1e623f864f80620"
   }
  }
 },
 "nbformat": 4,
 "nbformat_minor": 2
}
