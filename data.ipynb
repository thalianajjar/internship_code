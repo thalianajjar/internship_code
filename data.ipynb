{
 "cells": [
  {
   "cell_type": "markdown",
   "metadata": {},
   "source": [
    "## Imports"
   ]
  },
  {
   "cell_type": "code",
   "execution_count": 99,
   "metadata": {},
   "outputs": [],
   "source": [
    "import pandas as pd\n",
    "import json"
   ]
  },
  {
   "cell_type": "markdown",
   "metadata": {},
   "source": [
    "## Loading the data"
   ]
  },
  {
   "cell_type": "code",
   "execution_count": 100,
   "metadata": {},
   "outputs": [],
   "source": [
    "# Loading sleep data from Oura json file available on https://cloud.ouraring.com/profile \n",
    "with open('/Users/user/Desktop/Msc AI RU/Internship/Code/oura_json/oura_sleep_2022-12-06T10-07-33.json') as f:\n",
    "    data1 = json.load(f)\n",
    "\n",
    "sleep_df = pd.json_normalize(data1['sleep'], max_level=2)\n",
    "\n",
    "# Loading readiness data from Oura json file available on https://cloud.ouraring.com/profile \n",
    "with open('/Users/user/Desktop/Msc AI RU/Internship/Code/oura_json/oura_daily-readiness_2022-12-06T10-07-44.json') as f:\n",
    "    data2 = json.load(f)\n",
    "\n",
    "readiness_df = pd.json_normalize(data2['daily_readiness'], max_level=2)"
   ]
  },
  {
   "cell_type": "code",
   "execution_count": 101,
   "metadata": {},
   "outputs": [],
   "source": [
    "wakeup_df = pd.read_csv ('questionnaire_data/raw/Wakeup_3_v1_raw.csv')\n",
    "\n",
    "bedtime_df = pd.read_csv ('questionnaire_data/raw/Bedtime_3_v1_raw.csv')"
   ]
  }
 ],
 "metadata": {
  "kernelspec": {
   "display_name": "Python 3.7.10 ('tensorflow_env')",
   "language": "python",
   "name": "python3"
  },
  "language_info": {
   "codemirror_mode": {
    "name": "ipython",
    "version": 3
   },
   "file_extension": ".py",
   "mimetype": "text/x-python",
   "name": "python",
   "nbconvert_exporter": "python",
   "pygments_lexer": "ipython3",
   "version": "3.7.10"
  },
  "orig_nbformat": 4,
  "vscode": {
   "interpreter": {
    "hash": "f440ca07c10c374a105f3d67f9c2c345d20e5b276c036b89a1e623f864f80620"
   }
  }
 },
 "nbformat": 4,
 "nbformat_minor": 2
}
