{
 "cells": [
  {
   "cell_type": "markdown",
   "metadata": {},
   "source": [
    "## Imports"
   ]
  },
  {
   "cell_type": "code",
   "execution_count": 1,
   "metadata": {},
   "outputs": [],
   "source": [
    "import pandas as pd\n",
    "import numpy as np\n",
    "from sklearn.model_selection import train_test_split\n",
    "from lazypredict.Supervised import LazyRegressor\n",
    "from sklearn.preprocessing import LabelEncoder\n",
    "from sklearn.utils import all_estimators\n",
    "from sklearn.base import RegressorMixin"
   ]
  },
  {
   "attachments": {},
   "cell_type": "markdown",
   "metadata": {},
   "source": [
    "### Define the files to be loaded"
   ]
  },
  {
   "cell_type": "code",
   "execution_count": 2,
   "metadata": {},
   "outputs": [],
   "source": [
    "# Participant number whose data should be loaded\n",
    "participant_number = 3\n",
    "\n",
    "# The version of the questionnaires to load\n",
    "quest_version = 1"
   ]
  },
  {
   "cell_type": "markdown",
   "metadata": {},
   "source": [
    "## Loading the pre-processed data"
   ]
  },
  {
   "cell_type": "code",
   "execution_count": 3,
   "metadata": {},
   "outputs": [
    {
     "name": "stdout",
     "output_type": "stream",
     "text": [
      "Index(['index', 'average_breath', 'average_breath_variation',\n",
      "       'average_heart_rate', 'average_hrv', 'awake_time', 'bedtime_end_delta',\n",
      "       'bedtime_end_seconds', 'bedtime_start_delta', 'bedtime_start_seconds',\n",
      "       'contributors.deep_sleep', 'contributors.efficiency',\n",
      "       'contributors.latency', 'contributors.rem_sleep',\n",
      "       'contributors.restfulness', 'contributors.timing',\n",
      "       'contributors.total_sleep', 'deep_sleep_duration', 'efficiency',\n",
      "       'got_ups', 'latency', 'light_sleep_duration', 'lowest_heart_rate',\n",
      "       'lowest_heart_rate_time_offset', 'period',\n",
      "       'readiness.contributors.activity_balance',\n",
      "       'readiness.contributors.body_temperature',\n",
      "       'readiness.contributors.hrv_balance',\n",
      "       'readiness.contributors.previous_day_activity',\n",
      "       'readiness.contributors.previous_night',\n",
      "       'readiness.contributors.recovery_index',\n",
      "       'readiness.contributors.resting_heart_rate',\n",
      "       'readiness.contributors.sleep_balance', 'readiness.score',\n",
      "       'readiness.temperature_deviation',\n",
      "       'readiness.temperature_trend_deviation', 'rem_sleep_duration',\n",
      "       'restless', 'restless_periods', 'score', 'segment_state',\n",
      "       'sleep_midpoint', 'time_in_bed', 'timezone', 'total_sleep_duration',\n",
      "       'type', 'wake_ups', 'bed_time', 'A late a long nap', 'Comfort',\n",
      "       'I stayed in bed trying to sleep', 'I used a smart device (phone',\n",
      "       'I went to drink water', 'I went to the toilet', 'Naturally', 'Noise',\n",
      "       'Nothing', 'Someone or something else woke me up', 'Temperature',\n",
      "       'With an alarm', 'blue_light', 'prevent_early_sleep', 'recall_awake',\n",
      "       'special_circumstances_wakeup', 'subjective_sleep_score',\n",
      "       'Mentally active', 'Physically active', 'Relaxed', 'Socially active',\n",
      "       'Stressful', 'alcohol_time', 'coffee_time', 'eat_bedtime', 'medication',\n",
      "       'special_circumstances', 'stress_levels', 'stress_relief_time',\n",
      "       'workout_time'],\n",
      "      dtype='object')\n"
     ]
    }
   ],
   "source": [
    "df = pd.read_csv('data/preprocessed_data_' + str(participant_number) + '_v' + str(quest_version) + '.csv')\n",
    "df = df.drop(labels=['actual_day'], axis=1)\n",
    "print(df.columns)"
   ]
  },
  {
   "attachments": {},
   "cell_type": "markdown",
   "metadata": {},
   "source": [
    "## Prepare regressor list for lazypredict"
   ]
  },
  {
   "cell_type": "code",
   "execution_count": 4,
   "metadata": {},
   "outputs": [],
   "source": [
    "removed_regressors = [\n",
    "    \"TheilSenRegressor\",\n",
    "    \"ARDRegression\", \n",
    "    \"CCA\", \n",
    "    \"IsotonicRegression\", \n",
    "    \"StackingRegressor\",\n",
    "    \"MultiOutputRegressor\", \n",
    "    \"MultiTaskElasticNet\", \n",
    "    \"MultiTaskElasticNetCV\", \n",
    "    \"MultiTaskLasso\", \n",
    "    \"MultiTaskLassoCV\", \n",
    "    \"PLSCanonical\", \n",
    "    \"PLSRegression\", \n",
    "    \"RadiusNeighborsRegressor\", \n",
    "    \"RegressorChain\", \n",
    "    \"VotingRegressor\", \n",
    "]"
   ]
  },
  {
   "cell_type": "code",
   "execution_count": 5,
   "metadata": {},
   "outputs": [],
   "source": [
    "REGRESSORS = [\n",
    "    est\n",
    "    for est in all_estimators()\n",
    "    if (issubclass(est[1], RegressorMixin) and (est[0] not in removed_regressors))\n",
    "]"
   ]
  },
  {
   "cell_type": "code",
   "execution_count": 6,
   "metadata": {},
   "outputs": [
    {
     "name": "stdout",
     "output_type": "stream",
     "text": [
      "[('AdaBoostRegressor', <class 'sklearn.ensemble._weight_boosting.AdaBoostRegressor'>), ('BaggingRegressor', <class 'sklearn.ensemble._bagging.BaggingRegressor'>), ('BayesianRidge', <class 'sklearn.linear_model._bayes.BayesianRidge'>), ('DecisionTreeRegressor', <class 'sklearn.tree._classes.DecisionTreeRegressor'>), ('DummyRegressor', <class 'sklearn.dummy.DummyRegressor'>), ('ElasticNet', <class 'sklearn.linear_model._coordinate_descent.ElasticNet'>), ('ElasticNetCV', <class 'sklearn.linear_model._coordinate_descent.ElasticNetCV'>), ('ExtraTreeRegressor', <class 'sklearn.tree._classes.ExtraTreeRegressor'>), ('ExtraTreesRegressor', <class 'sklearn.ensemble._forest.ExtraTreesRegressor'>), ('GammaRegressor', <class 'sklearn.linear_model._glm.glm.GammaRegressor'>), ('GaussianProcessRegressor', <class 'sklearn.gaussian_process._gpr.GaussianProcessRegressor'>), ('GradientBoostingRegressor', <class 'sklearn.ensemble._gb.GradientBoostingRegressor'>), ('HistGradientBoostingRegressor', <class 'sklearn.ensemble._hist_gradient_boosting.gradient_boosting.HistGradientBoostingRegressor'>), ('HuberRegressor', <class 'sklearn.linear_model._huber.HuberRegressor'>), ('KNeighborsRegressor', <class 'sklearn.neighbors._regression.KNeighborsRegressor'>), ('KernelRidge', <class 'sklearn.kernel_ridge.KernelRidge'>), ('Lars', <class 'sklearn.linear_model._least_angle.Lars'>), ('LarsCV', <class 'sklearn.linear_model._least_angle.LarsCV'>), ('Lasso', <class 'sklearn.linear_model._coordinate_descent.Lasso'>), ('LassoCV', <class 'sklearn.linear_model._coordinate_descent.LassoCV'>), ('LassoLars', <class 'sklearn.linear_model._least_angle.LassoLars'>), ('LassoLarsCV', <class 'sklearn.linear_model._least_angle.LassoLarsCV'>), ('LassoLarsIC', <class 'sklearn.linear_model._least_angle.LassoLarsIC'>), ('LinearRegression', <class 'sklearn.linear_model._base.LinearRegression'>), ('LinearSVR', <class 'sklearn.svm._classes.LinearSVR'>), ('MLPRegressor', <class 'sklearn.neural_network._multilayer_perceptron.MLPRegressor'>), ('NuSVR', <class 'sklearn.svm._classes.NuSVR'>), ('OrthogonalMatchingPursuit', <class 'sklearn.linear_model._omp.OrthogonalMatchingPursuit'>), ('OrthogonalMatchingPursuitCV', <class 'sklearn.linear_model._omp.OrthogonalMatchingPursuitCV'>), ('PassiveAggressiveRegressor', <class 'sklearn.linear_model._passive_aggressive.PassiveAggressiveRegressor'>), ('PoissonRegressor', <class 'sklearn.linear_model._glm.glm.PoissonRegressor'>), ('QuantileRegressor', <class 'sklearn.linear_model._quantile.QuantileRegressor'>), ('RANSACRegressor', <class 'sklearn.linear_model._ransac.RANSACRegressor'>), ('RandomForestRegressor', <class 'sklearn.ensemble._forest.RandomForestRegressor'>), ('Ridge', <class 'sklearn.linear_model._ridge.Ridge'>), ('RidgeCV', <class 'sklearn.linear_model._ridge.RidgeCV'>), ('SGDRegressor', <class 'sklearn.linear_model._stochastic_gradient.SGDRegressor'>), ('SVR', <class 'sklearn.svm._classes.SVR'>), ('TransformedTargetRegressor', <class 'sklearn.compose._target.TransformedTargetRegressor'>), ('TweedieRegressor', <class 'sklearn.linear_model._glm.glm.TweedieRegressor'>)]\n"
     ]
    }
   ],
   "source": [
    "print(REGRESSORS)"
   ]
  },
  {
   "cell_type": "code",
   "execution_count": 7,
   "metadata": {},
   "outputs": [],
   "source": [
    "regressors = ['AdaBoostRegressor', 'BaggingRegressor', 'BayesianRidge', 'DecisionTreeRegressor', 'DummyRegressor', 'ElasticNet', 'ElasticNetCV', \n",
    "    'ExtraTreeRegressor', 'ExtraTreesRegressor', 'GammaRegressor', 'GaussianProcessRegressor', 'GradientBoostingRegressor', 'HistGradientBoostingRegressor', \n",
    "    'HuberRegressor', 'KNeighborsRegressor', 'KernelRidge', 'Lars', 'LarsCV', 'Lasso', 'LassoCV', 'LassoLars', 'LassoLarsCV', 'LassoLarsIC',\n",
    "    'LinearRegression', 'LinearSVR', 'MLPRegressor', 'NuSVR', 'OrthogonalMatchingPursuit', 'OrthogonalMatchingPursuitCV', 'PassiveAggressiveRegressor',\n",
    "    'PoissonRegressor', 'QuantileRegressor', 'RANSACRegressor', 'RandomForestRegressor', 'Ridge', 'RidgeCV', 'SGDRegressor', 'SVR', \n",
    "    'TransformedTargetRegressor', 'TweedieRegressor']"
   ]
  },
  {
   "attachments": {},
   "cell_type": "markdown",
   "metadata": {},
   "source": [
    "## Run LazyRegressor on dataset"
   ]
  },
  {
   "cell_type": "code",
   "execution_count": 9,
   "metadata": {},
   "outputs": [],
   "source": [
    "# Separate the indenpendent variables from the dependent variables\n",
    "y_oura = df['score']\n",
    "y_sub = df['subjective_sleep_score']\n",
    "X = df.drop(labels=['score', 'subjective_sleep_score'], axis=1)\n",
    "\n",
    "# X = X.astype(np.float32)\n",
    "offset = int(X.shape[0] * 0.9)\n",
    "X_train_oura, y_train_oura = X[:offset], y_oura[:offset]\n",
    "X_test_oura, y_test_oura = X[offset:], y_oura[offset:]\n",
    "# X_train_oura, X_test_oura, y_train_oura, y_test_oura = train_test_split(X, y_oura, test_size = 0.2, random_state = 64)"
   ]
  },
  {
   "cell_type": "code",
   "execution_count": 10,
   "metadata": {},
   "outputs": [],
   "source": [
    "X_train_sub, y_train_sub = X[:offset], y_sub[:offset]\n",
    "X_test_sub, y_test_sub = X[offset:], y_sub[offset:]"
   ]
  },
  {
   "cell_type": "code",
   "execution_count": 11,
   "metadata": {},
   "outputs": [
    {
     "name": "stdout",
     "output_type": "stream",
     "text": [
      "'tuple' object has no attribute '__name__'\n",
      "Invalid Regressor(s)\n"
     ]
    },
    {
     "name": "stderr",
     "output_type": "stream",
     "text": [
      "100%|██████████| 40/40 [00:01<00:00, 21.65it/s]\n"
     ]
    }
   ],
   "source": [
    "# Apply the LazyRegressor on the data\n",
    "le = LabelEncoder()\n",
    "Y_train_oura = le.fit_transform(y_train_oura)\n",
    "\n",
    "reg = LazyRegressor(verbose=0, ignore_warnings=False, custom_metric=None, regressors = REGRESSORS)\n",
    "models_oura, predictions_oura = reg.fit(X_train_oura, X_test_oura, y_train_oura, y_test_oura)"
   ]
  },
  {
   "cell_type": "code",
   "execution_count": 12,
   "metadata": {},
   "outputs": [
    {
     "name": "stdout",
     "output_type": "stream",
     "text": [
      "                               Adjusted R-Squared  R-Squared  RMSE  Time Taken\n",
      "Model                                                                         \n",
      "Lars                                       285.73   -1378.84 30.96        0.02\n",
      "GaussianProcessRegressor                    19.85     -90.34  7.97        0.01\n",
      "MLPRegressor                                 2.09      -4.29  1.92        0.13\n",
      "QuantileRegressor                            1.21      -0.01  0.84        0.09\n",
      "LassoLars                                    1.21      -0.01  0.84        0.01\n",
      "DummyRegressor                               1.21      -0.01  0.84        0.01\n",
      "Lasso                                        1.21      -0.01  0.84        0.01\n",
      "ElasticNet                                   1.09       0.55  0.56        0.02\n",
      "KNeighborsRegressor                          1.06       0.69  0.46        0.01\n",
      "ExtraTreeRegressor                           1.02       0.88  0.28        0.01\n",
      "SVR                                          1.02       0.91  0.26        0.01\n",
      "NuSVR                                        1.01       0.93  0.21        0.01\n",
      "LarsCV                                       1.01       0.94  0.21        0.05\n",
      "DecisionTreeRegressor                        1.01       0.95  0.18        0.02\n",
      "HistGradientBoostingRegressor                1.01       0.96  0.17        0.34\n",
      "TweedieRegressor                             1.01       0.96  0.16        0.01\n",
      "GammaRegressor                               1.01       0.97  0.15        0.01\n",
      "OrthogonalMatchingPursuitCV                  1.01       0.97  0.15        0.01\n",
      "BaggingRegressor                             1.01       0.97  0.13        0.03\n",
      "PoissonRegressor                             1.01       0.98  0.13        0.01\n",
      "AdaBoostRegressor                            1.00       0.98  0.12        0.07\n",
      "OrthogonalMatchingPursuit                    1.00       0.98  0.11        0.01\n",
      "RandomForestRegressor                        1.00       0.98  0.11        0.17\n",
      "SGDRegressor                                 1.00       0.98  0.10        0.01\n",
      "ExtraTreesRegressor                          1.00       0.99  0.10        0.13\n",
      "KernelRidge                                  1.00       0.99  0.10        0.01\n",
      "GradientBoostingRegressor                    1.00       0.99  0.09        0.09\n",
      "PassiveAggressiveRegressor                   1.00       0.99  0.09        0.01\n",
      "Ridge                                        1.00       0.99  0.08        0.01\n",
      "HuberRegressor                               1.00       0.99  0.07        0.03\n",
      "BayesianRidge                                1.00       0.99  0.06        0.03\n",
      "RidgeCV                                      1.00       1.00  0.05        0.01\n",
      "LassoLarsCV                                  1.00       1.00  0.05        0.08\n",
      "RANSACRegressor                              1.00       1.00  0.05        0.01\n",
      "LinearRegression                             1.00       1.00  0.05        0.01\n",
      "TransformedTargetRegressor                   1.00       1.00  0.05        0.01\n",
      "ElasticNetCV                                 1.00       1.00  0.04        0.12\n",
      "LinearSVR                                    1.00       1.00  0.04        0.03\n",
      "LassoCV                                      1.00       1.00  0.04        0.13\n",
      "LassoLarsIC                                  1.00       1.00  0.04        0.02\n"
     ]
    }
   ],
   "source": [
    "print(models_oura)"
   ]
  },
  {
   "cell_type": "code",
   "execution_count": 13,
   "metadata": {},
   "outputs": [
    {
     "name": "stdout",
     "output_type": "stream",
     "text": [
      "'tuple' object has no attribute '__name__'\n",
      "Invalid Regressor(s)\n"
     ]
    },
    {
     "name": "stderr",
     "output_type": "stream",
     "text": [
      "100%|██████████| 40/40 [00:02<00:00, 14.29it/s]\n"
     ]
    }
   ],
   "source": [
    "models_sub, predictions_sub = reg.fit(X_train_sub, X_test_sub, y_train_sub, y_test_sub)"
   ]
  },
  {
   "cell_type": "code",
   "execution_count": 14,
   "metadata": {},
   "outputs": [
    {
     "name": "stdout",
     "output_type": "stream",
     "text": [
      "                               Adjusted R-Squared  R-Squared  RMSE  Time Taken\n",
      "Model                                                                         \n",
      "Lars                                      1625.48   -7871.50 64.94        0.02\n",
      "GaussianProcessRegressor                    22.87    -105.00  7.54        0.01\n",
      "ExtraTreeRegressor                           2.40      -5.80  1.91        0.01\n",
      "MLPRegressor                                 2.21      -4.84  1.77        0.13\n",
      "RANSACRegressor                              1.69      -2.37  1.34        0.11\n",
      "PassiveAggressiveRegressor                   1.56      -1.73  1.21        0.01\n",
      "LinearSVR                                    1.34      -0.67  0.95        0.02\n",
      "TransformedTargetRegressor                   1.34      -0.66  0.94        0.01\n",
      "LinearRegression                             1.34      -0.66  0.94        0.01\n",
      "HuberRegressor                               1.34      -0.63  0.94        0.02\n",
      "QuantileRegressor                            1.30      -0.47  0.89        0.08\n",
      "Ridge                                        1.29      -0.40  0.87        0.01\n",
      "KernelRidge                                  1.28      -0.36  0.85        0.01\n",
      "KNeighborsRegressor                          1.25      -0.23  0.81        0.01\n",
      "DecisionTreeRegressor                        1.25      -0.20  0.80        0.01\n",
      "HistGradientBoostingRegressor                1.23      -0.13  0.78        0.20\n",
      "GradientBoostingRegressor                    1.23      -0.11  0.77        0.09\n",
      "Lasso                                        1.22      -0.08  0.76        0.01\n",
      "LassoLars                                    1.22      -0.08  0.76        0.01\n",
      "LarsCV                                       1.22      -0.08  0.76        0.05\n",
      "DummyRegressor                               1.22      -0.08  0.76        0.01\n",
      "ElasticNet                                   1.22      -0.07  0.76        0.01\n",
      "RidgeCV                                      1.19       0.06  0.71        0.01\n",
      "SGDRegressor                                 1.19       0.06  0.71        0.01\n",
      "PoissonRegressor                             1.19       0.08  0.70        0.01\n",
      "BaggingRegressor                             1.19       0.09  0.70        0.03\n",
      "SVR                                          1.19       0.09  0.70        0.01\n",
      "AdaBoostRegressor                            1.18       0.11  0.69        0.07\n",
      "ExtraTreesRegressor                          1.18       0.13  0.68        0.11\n",
      "NuSVR                                        1.18       0.14  0.68        0.01\n",
      "RandomForestRegressor                        1.17       0.19  0.66        0.16\n",
      "GammaRegressor                               1.16       0.24  0.64        0.01\n",
      "BayesianRidge                                1.16       0.24  0.64        0.01\n",
      "TweedieRegressor                             1.15       0.26  0.63        0.01\n",
      "ElasticNetCV                                 1.15       0.28  0.62        0.63\n",
      "LassoCV                                      1.14       0.30  0.61        0.71\n",
      "LassoLarsIC                                  1.14       0.31  0.61        0.03\n",
      "LassoLarsCV                                  1.14       0.32  0.60        0.06\n",
      "OrthogonalMatchingPursuitCV                  1.13       0.36  0.58        0.01\n",
      "OrthogonalMatchingPursuit                    1.12       0.42  0.56        0.01\n"
     ]
    }
   ],
   "source": [
    "print(models_sub)"
   ]
  },
  {
   "cell_type": "code",
   "execution_count": null,
   "metadata": {},
   "outputs": [],
   "source": []
  }
 ],
 "metadata": {
  "kernelspec": {
   "display_name": "Python 3.7.10 ('tensorflow_env')",
   "language": "python",
   "name": "python3"
  },
  "language_info": {
   "codemirror_mode": {
    "name": "ipython",
    "version": 3
   },
   "file_extension": ".py",
   "mimetype": "text/x-python",
   "name": "python",
   "nbconvert_exporter": "python",
   "pygments_lexer": "ipython3",
   "version": "3.7.10"
  },
  "orig_nbformat": 4,
  "vscode": {
   "interpreter": {
    "hash": "f440ca07c10c374a105f3d67f9c2c345d20e5b276c036b89a1e623f864f80620"
   }
  }
 },
 "nbformat": 4,
 "nbformat_minor": 2
}
