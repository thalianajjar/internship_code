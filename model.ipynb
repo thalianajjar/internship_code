{
 "cells": [
  {
   "cell_type": "markdown",
   "metadata": {},
   "source": [
    "## Imports"
   ]
  },
  {
   "cell_type": "code",
   "execution_count": 1,
   "metadata": {},
   "outputs": [],
   "source": [
    "import pandas as pd\n",
    "from lazypredict.Supervised import LazyClassifier\n",
    "from sklearn.model_selection import train_test_split "
   ]
  },
  {
   "cell_type": "markdown",
   "metadata": {},
   "source": [
    "## Loading the pre-processed data"
   ]
  },
  {
   "cell_type": "code",
   "execution_count": 2,
   "metadata": {},
   "outputs": [],
   "source": [
    "df = pd.read_csv('data/preprocessed_data.csv')"
   ]
  },
  {
   "cell_type": "code",
   "execution_count": 3,
   "metadata": {},
   "outputs": [],
   "source": [
    "y1 = df['score']\n",
    "y2 = df['subjective_sleep_score']\n",
    "X = df.drop(labels=['score', 'subjective_sleep_score'], axis=1)"
   ]
  },
  {
   "cell_type": "code",
   "execution_count": 4,
   "metadata": {},
   "outputs": [],
   "source": [
    "X_train1, X_test1, Y_train1, Y_test1 = train_test_split(X, y1, test_size=0.3, random_state=46)\n",
    "X_train2, X_test2, Y_train2, Y_test2 = train_test_split(X, y2, test_size=0.3, random_state=46)"
   ]
  },
  {
   "cell_type": "code",
   "execution_count": 5,
   "metadata": {},
   "outputs": [
    {
     "name": "stderr",
     "output_type": "stream",
     "text": [
      " 34%|███▍      | 10/29 [00:00<00:00, 45.15it/s]"
     ]
    },
    {
     "name": "stdout",
     "output_type": "stream",
     "text": [
      "AdaBoostClassifier model failed to execute\n",
      "Input contains NaN, infinity or a value too large for dtype('float64').\n",
      "BaggingClassifier model failed to execute\n",
      "Input contains NaN, infinity or a value too large for dtype('float64').\n",
      "BernoulliNB model failed to execute\n",
      "Input contains NaN, infinity or a value too large for dtype('float64').\n",
      "CalibratedClassifierCV model failed to execute\n",
      "Input contains NaN, infinity or a value too large for dtype('float64').\n",
      "CategoricalNB model failed to execute\n",
      "Input contains NaN, infinity or a value too large for dtype('float64').\n",
      "DecisionTreeClassifier model failed to execute\n",
      "Input contains NaN, infinity or a value too large for dtype('float64').\n",
      "DummyClassifier model failed to execute\n",
      "Found unknown categories ['2022-09-21', '2022-10-05', '2022-09-02', '2022-09-30', '2022-10-18', '2022-08-02', '2022-09-12', '2022-08-14', '2022-08-26', '2022-09-25', '2022-07-02', '2022-10-15', '2022-09-26', '2022-07-10', '2022-07-08', '2022-09-27', '2022-07-31', '2022-10-30', '2022-10-06', '2022-07-04', '2022-08-08', '2022-10-22', '2022-08-12', '2022-07-19', '2022-11-15', '2022-09-24', '2022-08-05', '2022-07-12', '2022-07-06', '2022-07-11', '2022-06-30', '2022-09-06', '2022-07-22', '2022-10-02', '2022-07-26', '2022-07-16', '2022-09-17', '2022-08-07', '2022-07-28', '2022-08-04', '2022-10-26', '2022-11-03', '2022-06-28'] in column 0 during transform\n",
      "ExtraTreeClassifier model failed to execute\n",
      "Input contains NaN, infinity or a value too large for dtype('float64').\n",
      "ExtraTreesClassifier model failed to execute\n",
      "Input contains NaN, infinity or a value too large for dtype('float64').\n",
      "GaussianNB model failed to execute\n",
      "Input contains NaN, infinity or a value too large for dtype('float64').\n"
     ]
    },
    {
     "name": "stderr",
     "output_type": "stream",
     "text": [
      " 79%|███████▉  | 23/29 [00:00<00:00, 55.72it/s]"
     ]
    },
    {
     "name": "stdout",
     "output_type": "stream",
     "text": [
      "KNeighborsClassifier model failed to execute\n",
      "Input contains NaN, infinity or a value too large for dtype('float64').\n",
      "LabelPropagation model failed to execute\n",
      "Input contains NaN, infinity or a value too large for dtype('float64').\n",
      "LabelSpreading model failed to execute\n",
      "Input contains NaN, infinity or a value too large for dtype('float64').\n",
      "LinearDiscriminantAnalysis model failed to execute\n",
      "Input contains NaN, infinity or a value too large for dtype('float64').\n",
      "LinearSVC model failed to execute\n",
      "Input contains NaN, infinity or a value too large for dtype('float64').\n",
      "LogisticRegression model failed to execute\n",
      "Input contains NaN, infinity or a value too large for dtype('float64').\n",
      "NearestCentroid model failed to execute\n",
      "Input contains NaN, infinity or a value too large for dtype('float64').\n",
      "NuSVC model failed to execute\n",
      "Input contains NaN, infinity or a value too large for dtype('float64').\n",
      "PassiveAggressiveClassifier model failed to execute\n",
      "Input contains NaN, infinity or a value too large for dtype('float64').\n",
      "Perceptron model failed to execute\n",
      "Input contains NaN, infinity or a value too large for dtype('float64').\n",
      "QuadraticDiscriminantAnalysis model failed to execute\n",
      "Input contains NaN, infinity or a value too large for dtype('float64').\n",
      "RandomForestClassifier model failed to execute\n",
      "Input contains NaN, infinity or a value too large for dtype('float64').\n",
      "RidgeClassifier model failed to execute\n",
      "Input contains NaN, infinity or a value too large for dtype('float64').\n"
     ]
    },
    {
     "name": "stderr",
     "output_type": "stream",
     "text": [
      "100%|██████████| 29/29 [00:00<00:00, 54.77it/s]"
     ]
    },
    {
     "name": "stdout",
     "output_type": "stream",
     "text": [
      "RidgeClassifierCV model failed to execute\n",
      "Input contains NaN, infinity or a value too large for dtype('float64').\n",
      "SGDClassifier model failed to execute\n",
      "Input contains NaN, infinity or a value too large for dtype('float64').\n",
      "SVC model failed to execute\n",
      "Input contains NaN, infinity or a value too large for dtype('float64').\n",
      "StackingClassifier model failed to execute\n",
      "__init__() missing 1 required positional argument: 'estimators'\n",
      "XGBClassifier model failed to execute\n",
      "Invalid classes inferred from unique values of `y`.  Expected: [ 0  1  2  3  4  5  6  7  8  9 10 11 12 13 14 15 16 17 18 19 20 21 22 23\n",
      " 24 25 26 27 28 29 30 31 32 33 34 35 36 37], got [45. 52. 59. 60. 61. 62. 63. 64. 65. 66. 67. 68. 70. 71. 72. 74. 75. 76.\n",
      " 78. 79. 80. 81. 82. 83. 84. 85. 86. 87. 88. 89. 91. 93. 94. nan nan nan\n",
      " nan nan]\n",
      "LGBMClassifier model failed to execute\n",
      "Input contains NaN, infinity or a value too large for dtype('float64').\n"
     ]
    },
    {
     "name": "stderr",
     "output_type": "stream",
     "text": [
      "\n"
     ]
    }
   ],
   "source": [
    "clf = LazyClassifier(verbose=0, ignore_warnings=False, custom_metric=None)\n",
    "models, predictions = clf.fit(X_train1, X_test1, Y_train1, Y_test1)"
   ]
  },
  {
   "cell_type": "code",
   "execution_count": 6,
   "metadata": {},
   "outputs": [
    {
     "name": "stdout",
     "output_type": "stream",
     "text": [
      "'tuple' object has no attribute '__name__'\n",
      "Invalid Classifier(s)\n"
     ]
    },
    {
     "name": "stderr",
     "output_type": "stream",
     "text": [
      "  7%|▋         | 2/29 [00:00<00:01, 17.88it/s]"
     ]
    },
    {
     "name": "stdout",
     "output_type": "stream",
     "text": [
      "AdaBoostClassifier model failed to execute\n",
      "Found unknown categories ['2022-09-21', '2022-10-05', '2022-09-02', '2022-09-30', '2022-10-18', '2022-08-02', '2022-09-12', '2022-08-14', '2022-08-26', '2022-09-25', '2022-07-02', '2022-10-15', '2022-09-26', '2022-07-10', '2022-07-08', '2022-09-27', '2022-07-31', '2022-10-30', '2022-10-06', '2022-07-04', '2022-08-08', '2022-10-22', '2022-08-12', '2022-07-19', '2022-11-15', '2022-09-24', '2022-08-05', '2022-07-12', '2022-07-06', '2022-07-11', '2022-06-30', '2022-09-06', '2022-07-22', '2022-10-02', '2022-07-26', '2022-07-16', '2022-09-17', '2022-08-07', '2022-07-28', '2022-08-04', '2022-10-26', '2022-11-03', '2022-06-28'] in column 0 during transform\n",
      "BaggingClassifier model failed to execute\n",
      "Found unknown categories ['2022-09-21', '2022-10-05', '2022-09-02', '2022-09-30', '2022-10-18', '2022-08-02', '2022-09-12', '2022-08-14', '2022-08-26', '2022-09-25', '2022-07-02', '2022-10-15', '2022-09-26', '2022-07-10', '2022-07-08', '2022-09-27', '2022-07-31', '2022-10-30', '2022-10-06', '2022-07-04', '2022-08-08', '2022-10-22', '2022-08-12', '2022-07-19', '2022-11-15', '2022-09-24', '2022-08-05', '2022-07-12', '2022-07-06', '2022-07-11', '2022-06-30', '2022-09-06', '2022-07-22', '2022-10-02', '2022-07-26', '2022-07-16', '2022-09-17', '2022-08-07', '2022-07-28', '2022-08-04', '2022-10-26', '2022-11-03', '2022-06-28'] in column 0 during transform\n",
      "BernoulliNB model failed to execute\n",
      "Found unknown categories ['2022-09-21', '2022-10-05', '2022-09-02', '2022-09-30', '2022-10-18', '2022-08-02', '2022-09-12', '2022-08-14', '2022-08-26', '2022-09-25', '2022-07-02', '2022-10-15', '2022-09-26', '2022-07-10', '2022-07-08', '2022-09-27', '2022-07-31', '2022-10-30', '2022-10-06', '2022-07-04', '2022-08-08', '2022-10-22', '2022-08-12', '2022-07-19', '2022-11-15', '2022-09-24', '2022-08-05', '2022-07-12', '2022-07-06', '2022-07-11', '2022-06-30', '2022-09-06', '2022-07-22', '2022-10-02', '2022-07-26', '2022-07-16', '2022-09-17', '2022-08-07', '2022-07-28', '2022-08-04', '2022-10-26', '2022-11-03', '2022-06-28'] in column 0 during transform\n"
     ]
    },
    {
     "name": "stderr",
     "output_type": "stream",
     "text": [
      " 31%|███       | 9/29 [00:00<00:01, 19.64it/s]"
     ]
    },
    {
     "name": "stdout",
     "output_type": "stream",
     "text": [
      "CalibratedClassifierCV model failed to execute\n",
      "Found unknown categories ['2022-09-21', '2022-10-05', '2022-09-02', '2022-09-30', '2022-10-18', '2022-08-02', '2022-09-12', '2022-08-14', '2022-08-26', '2022-09-25', '2022-07-02', '2022-10-15', '2022-09-26', '2022-07-10', '2022-07-08', '2022-09-27', '2022-07-31', '2022-10-30', '2022-10-06', '2022-07-04', '2022-08-08', '2022-10-22', '2022-08-12', '2022-07-19', '2022-11-15', '2022-09-24', '2022-08-05', '2022-07-12', '2022-07-06', '2022-07-11', '2022-06-30', '2022-09-06', '2022-07-22', '2022-10-02', '2022-07-26', '2022-07-16', '2022-09-17', '2022-08-07', '2022-07-28', '2022-08-04', '2022-10-26', '2022-11-03', '2022-06-28'] in column 0 during transform\n",
      "CategoricalNB model failed to execute\n",
      "Negative values in data passed to CategoricalNB (input X)\n",
      "DecisionTreeClassifier model failed to execute\n",
      "Found unknown categories ['2022-09-21', '2022-10-05', '2022-09-02', '2022-09-30', '2022-10-18', '2022-08-02', '2022-09-12', '2022-08-14', '2022-08-26', '2022-09-25', '2022-07-02', '2022-10-15', '2022-09-26', '2022-07-10', '2022-07-08', '2022-09-27', '2022-07-31', '2022-10-30', '2022-10-06', '2022-07-04', '2022-08-08', '2022-10-22', '2022-08-12', '2022-07-19', '2022-11-15', '2022-09-24', '2022-08-05', '2022-07-12', '2022-07-06', '2022-07-11', '2022-06-30', '2022-09-06', '2022-07-22', '2022-10-02', '2022-07-26', '2022-07-16', '2022-09-17', '2022-08-07', '2022-07-28', '2022-08-04', '2022-10-26', '2022-11-03', '2022-06-28'] in column 0 during transform\n",
      "DummyClassifier model failed to execute\n",
      "Found unknown categories ['2022-09-21', '2022-10-05', '2022-09-02', '2022-09-30', '2022-10-18', '2022-08-02', '2022-09-12', '2022-08-14', '2022-08-26', '2022-09-25', '2022-07-02', '2022-10-15', '2022-09-26', '2022-07-10', '2022-07-08', '2022-09-27', '2022-07-31', '2022-10-30', '2022-10-06', '2022-07-04', '2022-08-08', '2022-10-22', '2022-08-12', '2022-07-19', '2022-11-15', '2022-09-24', '2022-08-05', '2022-07-12', '2022-07-06', '2022-07-11', '2022-06-30', '2022-09-06', '2022-07-22', '2022-10-02', '2022-07-26', '2022-07-16', '2022-09-17', '2022-08-07', '2022-07-28', '2022-08-04', '2022-10-26', '2022-11-03', '2022-06-28'] in column 0 during transform\n",
      "ExtraTreeClassifier model failed to execute\n",
      "Found unknown categories ['2022-09-21', '2022-10-05', '2022-09-02', '2022-09-30', '2022-10-18', '2022-08-02', '2022-09-12', '2022-08-14', '2022-08-26', '2022-09-25', '2022-07-02', '2022-10-15', '2022-09-26', '2022-07-10', '2022-07-08', '2022-09-27', '2022-07-31', '2022-10-30', '2022-10-06', '2022-07-04', '2022-08-08', '2022-10-22', '2022-08-12', '2022-07-19', '2022-11-15', '2022-09-24', '2022-08-05', '2022-07-12', '2022-07-06', '2022-07-11', '2022-06-30', '2022-09-06', '2022-07-22', '2022-10-02', '2022-07-26', '2022-07-16', '2022-09-17', '2022-08-07', '2022-07-28', '2022-08-04', '2022-10-26', '2022-11-03', '2022-06-28'] in column 0 during transform\n",
      "ExtraTreesClassifier model failed to execute\n",
      "Found unknown categories ['2022-09-21', '2022-10-05', '2022-09-02', '2022-09-30', '2022-10-18', '2022-08-02', '2022-09-12', '2022-08-14', '2022-08-26', '2022-09-25', '2022-07-02', '2022-10-15', '2022-09-26', '2022-07-10', '2022-07-08', '2022-09-27', '2022-07-31', '2022-10-30', '2022-10-06', '2022-07-04', '2022-08-08', '2022-10-22', '2022-08-12', '2022-07-19', '2022-11-15', '2022-09-24', '2022-08-05', '2022-07-12', '2022-07-06', '2022-07-11', '2022-06-30', '2022-09-06', '2022-07-22', '2022-10-02', '2022-07-26', '2022-07-16', '2022-09-17', '2022-08-07', '2022-07-28', '2022-08-04', '2022-10-26', '2022-11-03', '2022-06-28'] in column 0 during transform\n",
      "GaussianNB model failed to execute\n",
      "Found unknown categories ['2022-09-21', '2022-10-05', '2022-09-02', '2022-09-30', '2022-10-18', '2022-08-02', '2022-09-12', '2022-08-14', '2022-08-26', '2022-09-25', '2022-07-02', '2022-10-15', '2022-09-26', '2022-07-10', '2022-07-08', '2022-09-27', '2022-07-31', '2022-10-30', '2022-10-06', '2022-07-04', '2022-08-08', '2022-10-22', '2022-08-12', '2022-07-19', '2022-11-15', '2022-09-24', '2022-08-05', '2022-07-12', '2022-07-06', '2022-07-11', '2022-06-30', '2022-09-06', '2022-07-22', '2022-10-02', '2022-07-26', '2022-07-16', '2022-09-17', '2022-08-07', '2022-07-28', '2022-08-04', '2022-10-26', '2022-11-03', '2022-06-28'] in column 0 during transform\n",
      "KNeighborsClassifier model failed to execute\n",
      "Found unknown categories ['2022-09-21', '2022-10-05', '2022-09-02', '2022-09-30', '2022-10-18', '2022-08-02', '2022-09-12', '2022-08-14', '2022-08-26', '2022-09-25', '2022-07-02', '2022-10-15', '2022-09-26', '2022-07-10', '2022-07-08', '2022-09-27', '2022-07-31', '2022-10-30', '2022-10-06', '2022-07-04', '2022-08-08', '2022-10-22', '2022-08-12', '2022-07-19', '2022-11-15', '2022-09-24', '2022-08-05', '2022-07-12', '2022-07-06', '2022-07-11', '2022-06-30', '2022-09-06', '2022-07-22', '2022-10-02', '2022-07-26', '2022-07-16', '2022-09-17', '2022-08-07', '2022-07-28', '2022-08-04', '2022-10-26', '2022-11-03', '2022-06-28'] in column 0 during transform\n"
     ]
    },
    {
     "name": "stderr",
     "output_type": "stream",
     "text": [
      " 48%|████▊     | 14/29 [00:00<00:00, 27.08it/s]"
     ]
    },
    {
     "name": "stdout",
     "output_type": "stream",
     "text": [
      "LabelPropagation model failed to execute\n",
      "Found unknown categories ['2022-09-21', '2022-10-05', '2022-09-02', '2022-09-30', '2022-10-18', '2022-08-02', '2022-09-12', '2022-08-14', '2022-08-26', '2022-09-25', '2022-07-02', '2022-10-15', '2022-09-26', '2022-07-10', '2022-07-08', '2022-09-27', '2022-07-31', '2022-10-30', '2022-10-06', '2022-07-04', '2022-08-08', '2022-10-22', '2022-08-12', '2022-07-19', '2022-11-15', '2022-09-24', '2022-08-05', '2022-07-12', '2022-07-06', '2022-07-11', '2022-06-30', '2022-09-06', '2022-07-22', '2022-10-02', '2022-07-26', '2022-07-16', '2022-09-17', '2022-08-07', '2022-07-28', '2022-08-04', '2022-10-26', '2022-11-03', '2022-06-28'] in column 0 during transform\n",
      "LabelSpreading model failed to execute\n",
      "Found unknown categories ['2022-09-21', '2022-10-05', '2022-09-02', '2022-09-30', '2022-10-18', '2022-08-02', '2022-09-12', '2022-08-14', '2022-08-26', '2022-09-25', '2022-07-02', '2022-10-15', '2022-09-26', '2022-07-10', '2022-07-08', '2022-09-27', '2022-07-31', '2022-10-30', '2022-10-06', '2022-07-04', '2022-08-08', '2022-10-22', '2022-08-12', '2022-07-19', '2022-11-15', '2022-09-24', '2022-08-05', '2022-07-12', '2022-07-06', '2022-07-11', '2022-06-30', '2022-09-06', '2022-07-22', '2022-10-02', '2022-07-26', '2022-07-16', '2022-09-17', '2022-08-07', '2022-07-28', '2022-08-04', '2022-10-26', '2022-11-03', '2022-06-28'] in column 0 during transform\n",
      "LinearDiscriminantAnalysis model failed to execute\n",
      "Found unknown categories ['2022-09-21', '2022-10-05', '2022-09-02', '2022-09-30', '2022-10-18', '2022-08-02', '2022-09-12', '2022-08-14', '2022-08-26', '2022-09-25', '2022-07-02', '2022-10-15', '2022-09-26', '2022-07-10', '2022-07-08', '2022-09-27', '2022-07-31', '2022-10-30', '2022-10-06', '2022-07-04', '2022-08-08', '2022-10-22', '2022-08-12', '2022-07-19', '2022-11-15', '2022-09-24', '2022-08-05', '2022-07-12', '2022-07-06', '2022-07-11', '2022-06-30', '2022-09-06', '2022-07-22', '2022-10-02', '2022-07-26', '2022-07-16', '2022-09-17', '2022-08-07', '2022-07-28', '2022-08-04', '2022-10-26', '2022-11-03', '2022-06-28'] in column 0 during transform\n",
      "LinearSVC model failed to execute\n",
      "Found unknown categories ['2022-09-21', '2022-10-05', '2022-09-02', '2022-09-30', '2022-10-18', '2022-08-02', '2022-09-12', '2022-08-14', '2022-08-26', '2022-09-25', '2022-07-02', '2022-10-15', '2022-09-26', '2022-07-10', '2022-07-08', '2022-09-27', '2022-07-31', '2022-10-30', '2022-10-06', '2022-07-04', '2022-08-08', '2022-10-22', '2022-08-12', '2022-07-19', '2022-11-15', '2022-09-24', '2022-08-05', '2022-07-12', '2022-07-06', '2022-07-11', '2022-06-30', '2022-09-06', '2022-07-22', '2022-10-02', '2022-07-26', '2022-07-16', '2022-09-17', '2022-08-07', '2022-07-28', '2022-08-04', '2022-10-26', '2022-11-03', '2022-06-28'] in column 0 during transform\n"
     ]
    },
    {
     "name": "stderr",
     "output_type": "stream",
     "text": [
      " 62%|██████▏   | 18/29 [00:00<00:00, 24.20it/s]"
     ]
    },
    {
     "name": "stdout",
     "output_type": "stream",
     "text": [
      "LogisticRegression model failed to execute\n",
      "Found unknown categories ['2022-09-21', '2022-10-05', '2022-09-02', '2022-09-30', '2022-10-18', '2022-08-02', '2022-09-12', '2022-08-14', '2022-08-26', '2022-09-25', '2022-07-02', '2022-10-15', '2022-09-26', '2022-07-10', '2022-07-08', '2022-09-27', '2022-07-31', '2022-10-30', '2022-10-06', '2022-07-04', '2022-08-08', '2022-10-22', '2022-08-12', '2022-07-19', '2022-11-15', '2022-09-24', '2022-08-05', '2022-07-12', '2022-07-06', '2022-07-11', '2022-06-30', '2022-09-06', '2022-07-22', '2022-10-02', '2022-07-26', '2022-07-16', '2022-09-17', '2022-08-07', '2022-07-28', '2022-08-04', '2022-10-26', '2022-11-03', '2022-06-28'] in column 0 during transform\n",
      "NearestCentroid model failed to execute\n",
      "Found unknown categories ['2022-09-21', '2022-10-05', '2022-09-02', '2022-09-30', '2022-10-18', '2022-08-02', '2022-09-12', '2022-08-14', '2022-08-26', '2022-09-25', '2022-07-02', '2022-10-15', '2022-09-26', '2022-07-10', '2022-07-08', '2022-09-27', '2022-07-31', '2022-10-30', '2022-10-06', '2022-07-04', '2022-08-08', '2022-10-22', '2022-08-12', '2022-07-19', '2022-11-15', '2022-09-24', '2022-08-05', '2022-07-12', '2022-07-06', '2022-07-11', '2022-06-30', '2022-09-06', '2022-07-22', '2022-10-02', '2022-07-26', '2022-07-16', '2022-09-17', '2022-08-07', '2022-07-28', '2022-08-04', '2022-10-26', '2022-11-03', '2022-06-28'] in column 0 during transform\n",
      "NuSVC model failed to execute\n",
      "specified nu is infeasible\n",
      "PassiveAggressiveClassifier model failed to execute\n",
      "Found unknown categories ['2022-09-21', '2022-10-05', '2022-09-02', '2022-09-30', '2022-10-18', '2022-08-02', '2022-09-12', '2022-08-14', '2022-08-26', '2022-09-25', '2022-07-02', '2022-10-15', '2022-09-26', '2022-07-10', '2022-07-08', '2022-09-27', '2022-07-31', '2022-10-30', '2022-10-06', '2022-07-04', '2022-08-08', '2022-10-22', '2022-08-12', '2022-07-19', '2022-11-15', '2022-09-24', '2022-08-05', '2022-07-12', '2022-07-06', '2022-07-11', '2022-06-30', '2022-09-06', '2022-07-22', '2022-10-02', '2022-07-26', '2022-07-16', '2022-09-17', '2022-08-07', '2022-07-28', '2022-08-04', '2022-10-26', '2022-11-03', '2022-06-28'] in column 0 during transform\n",
      "Perceptron model failed to execute\n",
      "Found unknown categories ['2022-09-21', '2022-10-05', '2022-09-02', '2022-09-30', '2022-10-18', '2022-08-02', '2022-09-12', '2022-08-14', '2022-08-26', '2022-09-25', '2022-07-02', '2022-10-15', '2022-09-26', '2022-07-10', '2022-07-08', '2022-09-27', '2022-07-31', '2022-10-30', '2022-10-06', '2022-07-04', '2022-08-08', '2022-10-22', '2022-08-12', '2022-07-19', '2022-11-15', '2022-09-24', '2022-08-05', '2022-07-12', '2022-07-06', '2022-07-11', '2022-06-30', '2022-09-06', '2022-07-22', '2022-10-02', '2022-07-26', '2022-07-16', '2022-09-17', '2022-08-07', '2022-07-28', '2022-08-04', '2022-10-26', '2022-11-03', '2022-06-28'] in column 0 during transform\n",
      "QuadraticDiscriminantAnalysis model failed to execute\n",
      "y has only 1 sample in class 4, covariance is ill defined.\n"
     ]
    },
    {
     "name": "stderr",
     "output_type": "stream",
     "text": [
      " 90%|████████▉ | 26/29 [00:01<00:00, 25.24it/s]"
     ]
    },
    {
     "ename": "",
     "evalue": "",
     "output_type": "error",
     "traceback": [
      "\u001b[1;31mCanceled future for execute_request message before replies were done"
     ]
    },
    {
     "ename": "",
     "evalue": "",
     "output_type": "error",
     "traceback": [
      "\u001b[1;31mThe Kernel crashed while executing code in the the current cell or a previous cell. Please review the code in the cell(s) to identify a possible cause of the failure. Click <a href='https://aka.ms/vscodeJupyterKernelCrash'>here</a> for more info. View Jupyter <a href='command:jupyter.viewOutput'>log</a> for further details."
     ]
    }
   ],
   "source": [
    "# models2, predictions2 = clf.fit(X_train2, X_test2, Y_train2, Y_test2)"
   ]
  },
  {
   "cell_type": "code",
   "execution_count": null,
   "metadata": {},
   "outputs": [],
   "source": [
    "print(models)"
   ]
  }
 ],
 "metadata": {
  "kernelspec": {
   "display_name": "Python 3.7.10 ('tensorflow_env')",
   "language": "python",
   "name": "python3"
  },
  "language_info": {
   "codemirror_mode": {
    "name": "ipython",
    "version": 3
   },
   "file_extension": ".py",
   "mimetype": "text/x-python",
   "name": "python",
   "nbconvert_exporter": "python",
   "pygments_lexer": "ipython3",
   "version": "3.7.10"
  },
  "orig_nbformat": 4,
  "vscode": {
   "interpreter": {
    "hash": "f440ca07c10c374a105f3d67f9c2c345d20e5b276c036b89a1e623f864f80620"
   }
  }
 },
 "nbformat": 4,
 "nbformat_minor": 2
}
