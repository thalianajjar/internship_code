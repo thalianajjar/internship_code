{
 "cells": [
  {
   "cell_type": "markdown",
   "metadata": {},
   "source": [
    "## Imports"
   ]
  },
  {
   "cell_type": "code",
   "execution_count": 1,
   "metadata": {},
   "outputs": [],
   "source": [
    "import pandas as pd\n",
    "from lazypredict.Supervised import LazyClassifier\n",
    "from sklearn.model_selection import train_test_split \n",
    "from sklearn.preprocessing import LabelEncoder"
   ]
  },
  {
   "cell_type": "markdown",
   "metadata": {},
   "source": [
    "## Loading the pre-processed data"
   ]
  },
  {
   "cell_type": "code",
   "execution_count": 2,
   "metadata": {},
   "outputs": [],
   "source": [
    "df = pd.read_csv('data/preprocessed_data.csv')"
   ]
  },
  {
   "cell_type": "code",
   "execution_count": 3,
   "metadata": {},
   "outputs": [],
   "source": [
    "y1 = df['score']\n",
    "y2 = df['subjective_sleep_score']\n",
    "X = df.drop(labels=['score', 'subjective_sleep_score'], axis=1)"
   ]
  },
  {
   "cell_type": "code",
   "execution_count": 4,
   "metadata": {},
   "outputs": [],
   "source": [
    "X_train1, X_test1, Y_train1, Y_test1 = train_test_split(X, y1, test_size=0.3, random_state=46)\n",
    "X_train2, X_test2, Y_train2, Y_test2 = train_test_split(X, y2, test_size=0.3, random_state=46)"
   ]
  },
  {
   "cell_type": "code",
   "execution_count": 5,
   "metadata": {},
   "outputs": [
    {
     "name": "stderr",
     "output_type": "stream",
     "text": [
      "  7%|▋         | 2/29 [00:00<00:01, 18.37it/s]"
     ]
    },
    {
     "name": "stdout",
     "output_type": "stream",
     "text": [
      "ROC AUC couldn't be calculated for AdaBoostClassifier\n",
      "multi_class must be in ('ovo', 'ovr')\n",
      "ROC AUC couldn't be calculated for BaggingClassifier\n",
      "multi_class must be in ('ovo', 'ovr')\n",
      "ROC AUC couldn't be calculated for BernoulliNB\n",
      "multi_class must be in ('ovo', 'ovr')\n"
     ]
    },
    {
     "name": "stderr",
     "output_type": "stream",
     "text": [
      " 31%|███       | 9/29 [00:00<00:01, 19.25it/s]"
     ]
    },
    {
     "name": "stdout",
     "output_type": "stream",
     "text": [
      "ROC AUC couldn't be calculated for CalibratedClassifierCV\n",
      "multi_class must be in ('ovo', 'ovr')\n",
      "CategoricalNB model failed to execute\n",
      "Negative values in data passed to CategoricalNB (input X)\n",
      "ROC AUC couldn't be calculated for DecisionTreeClassifier\n",
      "multi_class must be in ('ovo', 'ovr')\n",
      "ROC AUC couldn't be calculated for DummyClassifier\n",
      "multi_class must be in ('ovo', 'ovr')\n",
      "ROC AUC couldn't be calculated for ExtraTreeClassifier\n",
      "multi_class must be in ('ovo', 'ovr')\n",
      "ROC AUC couldn't be calculated for ExtraTreesClassifier\n",
      "multi_class must be in ('ovo', 'ovr')\n",
      "ROC AUC couldn't be calculated for GaussianNB\n",
      "multi_class must be in ('ovo', 'ovr')\n",
      "ROC AUC couldn't be calculated for KNeighborsClassifier\n",
      "multi_class must be in ('ovo', 'ovr')\n"
     ]
    },
    {
     "name": "stderr",
     "output_type": "stream",
     "text": [
      " 52%|█████▏    | 15/29 [00:00<00:00, 27.51it/s]"
     ]
    },
    {
     "name": "stdout",
     "output_type": "stream",
     "text": [
      "ROC AUC couldn't be calculated for LabelPropagation\n",
      "multi_class must be in ('ovo', 'ovr')\n",
      "ROC AUC couldn't be calculated for LabelSpreading\n",
      "multi_class must be in ('ovo', 'ovr')\n",
      "ROC AUC couldn't be calculated for LinearDiscriminantAnalysis\n",
      "multi_class must be in ('ovo', 'ovr')\n",
      "ROC AUC couldn't be calculated for LinearSVC\n",
      "multi_class must be in ('ovo', 'ovr')\n",
      "ROC AUC couldn't be calculated for LogisticRegression\n",
      "multi_class must be in ('ovo', 'ovr')\n",
      "ROC AUC couldn't be calculated for NearestCentroid\n",
      "multi_class must be in ('ovo', 'ovr')\n",
      "NuSVC model failed to execute\n",
      "specified nu is infeasible\n"
     ]
    },
    {
     "name": "stderr",
     "output_type": "stream",
     "text": [
      " 79%|███████▉  | 23/29 [00:00<00:00, 27.02it/s]"
     ]
    },
    {
     "name": "stdout",
     "output_type": "stream",
     "text": [
      "ROC AUC couldn't be calculated for PassiveAggressiveClassifier\n",
      "multi_class must be in ('ovo', 'ovr')\n",
      "ROC AUC couldn't be calculated for Perceptron\n",
      "multi_class must be in ('ovo', 'ovr')\n",
      "QuadraticDiscriminantAnalysis model failed to execute\n",
      "y has only 1 sample in class 0, covariance is ill defined.\n",
      "ROC AUC couldn't be calculated for RandomForestClassifier\n",
      "multi_class must be in ('ovo', 'ovr')\n",
      "ROC AUC couldn't be calculated for RidgeClassifier\n",
      "multi_class must be in ('ovo', 'ovr')\n",
      "ROC AUC couldn't be calculated for RidgeClassifierCV\n",
      "multi_class must be in ('ovo', 'ovr')\n",
      "ROC AUC couldn't be calculated for SGDClassifier\n",
      "multi_class must be in ('ovo', 'ovr')\n",
      "ROC AUC couldn't be calculated for SVC\n",
      "multi_class must be in ('ovo', 'ovr')\n",
      "StackingClassifier model failed to execute\n",
      "__init__() missing 1 required positional argument: 'estimators'\n"
     ]
    },
    {
     "name": "stderr",
     "output_type": "stream",
     "text": [
      " 97%|█████████▋| 28/29 [00:01<00:00, 12.43it/s]"
     ]
    },
    {
     "ename": "",
     "evalue": "",
     "output_type": "error",
     "traceback": [
      "\u001b[1;31mCanceled future for execute_request message before replies were done"
     ]
    },
    {
     "ename": "",
     "evalue": "",
     "output_type": "error",
     "traceback": [
      "\u001b[1;31mThe Kernel crashed while executing code in the the current cell or a previous cell. Please review the code in the cell(s) to identify a possible cause of the failure. Click <a href='https://aka.ms/vscodeJupyterKernelCrash'>here</a> for more info. View Jupyter <a href='command:jupyter.viewOutput'>log</a> for further details."
     ]
    }
   ],
   "source": [
    "le = LabelEncoder()\n",
    "Y_train1 = le.fit_transform(Y_train1)\n",
    "clf = LazyClassifier(verbose=0, ignore_warnings=False, custom_metric=None)\n",
    "models, predictions = clf.fit(X_train1, X_test1, Y_train1, Y_test1)"
   ]
  },
  {
   "cell_type": "code",
   "execution_count": null,
   "metadata": {},
   "outputs": [],
   "source": [
    "# models2, predictions2 = clf.fit(X_train2, X_test2, Y_train2, Y_test2)"
   ]
  },
  {
   "cell_type": "code",
   "execution_count": null,
   "metadata": {},
   "outputs": [],
   "source": [
    "print(models)"
   ]
  }
 ],
 "metadata": {
  "kernelspec": {
   "display_name": "Python 3.7.10 ('tensorflow_env')",
   "language": "python",
   "name": "python3"
  },
  "language_info": {
   "codemirror_mode": {
    "name": "ipython",
    "version": 3
   },
   "file_extension": ".py",
   "mimetype": "text/x-python",
   "name": "python",
   "nbconvert_exporter": "python",
   "pygments_lexer": "ipython3",
   "version": "3.7.10"
  },
  "orig_nbformat": 4,
  "vscode": {
   "interpreter": {
    "hash": "f440ca07c10c374a105f3d67f9c2c345d20e5b276c036b89a1e623f864f80620"
   }
  }
 },
 "nbformat": 4,
 "nbformat_minor": 2
}
