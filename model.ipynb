{
 "cells": [
  {
   "cell_type": "markdown",
   "metadata": {},
   "source": [
    "## Imports"
   ]
  },
  {
   "cell_type": "code",
   "execution_count": 1,
   "metadata": {},
   "outputs": [],
   "source": [
    "import pandas as pd\n",
    "import numpy as np\n",
    "from sklearn.model_selection import train_test_split\n",
    "from lazypredict.Supervised import LazyRegressor\n",
    "from sklearn.preprocessing import LabelEncoder\n",
    "from sklearn.utils import all_estimators\n",
    "from sklearn.base import RegressorMixin"
   ]
  },
  {
   "attachments": {},
   "cell_type": "markdown",
   "metadata": {},
   "source": [
    "## Define the files to be loaded"
   ]
  },
  {
   "cell_type": "code",
   "execution_count": 2,
   "metadata": {},
   "outputs": [],
   "source": [
    "# Participant number whose data should be loaded\n",
    "participant_number = 3\n",
    "\n",
    "# The version of the questionnaires to load\n",
    "quest_version = 1"
   ]
  },
  {
   "cell_type": "markdown",
   "metadata": {},
   "source": [
    "## Loading the pre-processed data"
   ]
  },
  {
   "cell_type": "code",
   "execution_count": 3,
   "metadata": {},
   "outputs": [],
   "source": [
    "df = pd.read_csv('data/preprocessed_data_' + str(participant_number) + '_v' + str(quest_version) + '.csv')\n",
    "df = df.drop(labels=['actual_day'], axis=1)"
   ]
  },
  {
   "attachments": {},
   "cell_type": "markdown",
   "metadata": {},
   "source": [
    "## Prepare regressor list for lazypredict"
   ]
  },
  {
   "cell_type": "code",
   "execution_count": 4,
   "metadata": {},
   "outputs": [],
   "source": [
    "removed_regressors = [\n",
    "    \"TheilSenRegressor\",\n",
    "    \"ARDRegression\", \n",
    "    \"CCA\", \n",
    "    \"IsotonicRegression\", \n",
    "    \"StackingRegressor\",\n",
    "    \"MultiOutputRegressor\", \n",
    "    \"MultiTaskElasticNet\", \n",
    "    \"MultiTaskElasticNetCV\", \n",
    "    \"MultiTaskLasso\", \n",
    "    \"MultiTaskLassoCV\", \n",
    "    \"PLSCanonical\", \n",
    "    \"PLSRegression\", \n",
    "    \"RadiusNeighborsRegressor\", \n",
    "    \"RegressorChain\", \n",
    "    \"VotingRegressor\", \n",
    "]"
   ]
  },
  {
   "cell_type": "code",
   "execution_count": 5,
   "metadata": {},
   "outputs": [],
   "source": [
    "REGRESSORS = [\n",
    "    est\n",
    "    for est in all_estimators()\n",
    "    if (issubclass(est[1], RegressorMixin) and (est[0] not in removed_regressors))\n",
    "]"
   ]
  },
  {
   "attachments": {},
   "cell_type": "markdown",
   "metadata": {},
   "source": [
    "## Run LazyRegressor on dataset"
   ]
  },
  {
   "attachments": {},
   "cell_type": "markdown",
   "metadata": {},
   "source": [
    "### LazyRegressor for the factors influencing the sleep scores"
   ]
  },
  {
   "cell_type": "code",
   "execution_count": 6,
   "metadata": {},
   "outputs": [],
   "source": [
    "# Separate the indenpendent variables from the dependent variables\n",
    "y_oura = df['score']\n",
    "y_sub = df['subjective_sleep_score']\n",
    "X = df.drop(labels=['score', 'subjective_sleep_score'], axis=1)\n",
    "\n",
    "# Create the test and train sets for the oura sleep score prediction\n",
    "X_train_oura, X_test_oura, y_train_oura, y_test_oura = train_test_split(X, y_oura, test_size = 0.2, random_state = 26)"
   ]
  },
  {
   "cell_type": "code",
   "execution_count": 7,
   "metadata": {},
   "outputs": [],
   "source": [
    "# Create the test and train sets for the subjective sleep score prediction\n",
    "X_train_sub, X_test_sub, y_train_sub, y_test_sub = train_test_split(X, y_sub, test_size = 0.2, random_state = 64)"
   ]
  },
  {
   "cell_type": "code",
   "execution_count": 8,
   "metadata": {},
   "outputs": [],
   "source": [
    "# Apply the LazyRegressor on the data\n",
    "reg = LazyRegressor(verbose=0, ignore_warnings=False, custom_metric=None, regressors = REGRESSORS)"
   ]
  },
  {
   "attachments": {},
   "cell_type": "markdown",
   "metadata": {},
   "source": [
    "#### Oura sleep scores"
   ]
  },
  {
   "cell_type": "code",
   "execution_count": 9,
   "metadata": {},
   "outputs": [
    {
     "name": "stdout",
     "output_type": "stream",
     "text": [
      "'tuple' object has no attribute '__name__'\n",
      "Invalid Regressor(s)\n"
     ]
    },
    {
     "name": "stderr",
     "output_type": "stream",
     "text": [
      "100%|██████████| 40/40 [00:02<00:00, 17.44it/s]"
     ]
    },
    {
     "name": "stdout",
     "output_type": "stream",
     "text": [
      "                                    Adjusted R-Squared  \\\n",
      "Model                                                    \n",
      "RANSACRegressor               266509548175091171328.00   \n",
      "TransformedTargetRegressor    266509548175091171328.00   \n",
      "LinearRegression              266509548175091171328.00   \n",
      "Lars                                          12489.17   \n",
      "GaussianProcessRegressor                         32.46   \n",
      "MLPRegressor                                      2.60   \n",
      "QuantileRegressor                                 1.58   \n",
      "LassoLars                                         1.55   \n",
      "DummyRegressor                                    1.55   \n",
      "Lasso                                             1.55   \n",
      "ElasticNet                                        1.28   \n",
      "KNeighborsRegressor                               1.18   \n",
      "LarsCV                                            1.18   \n",
      "ExtraTreeRegressor                                1.12   \n",
      "SVR                                               1.09   \n",
      "NuSVR                                             1.09   \n",
      "DecisionTreeRegressor                             1.07   \n",
      "BaggingRegressor                                  1.06   \n",
      "RandomForestRegressor                             1.04   \n",
      "AdaBoostRegressor                                 1.04   \n",
      "HistGradientBoostingRegressor                     1.04   \n",
      "GradientBoostingRegressor                         1.04   \n",
      "ExtraTreesRegressor                               1.03   \n",
      "TweedieRegressor                                  1.02   \n",
      "GammaRegressor                                    1.02   \n",
      "OrthogonalMatchingPursuit                         1.02   \n",
      "OrthogonalMatchingPursuitCV                       1.02   \n",
      "PoissonRegressor                                  1.01   \n",
      "PassiveAggressiveRegressor                        1.01   \n",
      "SGDRegressor                                      1.01   \n",
      "KernelRidge                                       1.00   \n",
      "Ridge                                             1.00   \n",
      "HuberRegressor                                    1.00   \n",
      "BayesianRidge                                     1.00   \n",
      "RidgeCV                                           1.00   \n",
      "LassoLarsIC                                       1.00   \n",
      "LinearSVR                                         1.00   \n",
      "ElasticNetCV                                      1.00   \n",
      "LassoLarsCV                                       1.00   \n",
      "LassoCV                                           1.00   \n",
      "\n",
      "                                              R-Squared           RMSE  \\\n",
      "Model                                                                    \n",
      "RANSACRegressor               -512518361875175309312.00 22456776692.06   \n",
      "TransformedTargetRegressor    -512518361875175309312.00 22456776692.06   \n",
      "LinearRegression              -512518361875175309312.00 22456776692.06   \n",
      "Lars                                          -24014.70         153.72   \n",
      "GaussianProcessRegressor                         -59.50           7.72   \n",
      "MLPRegressor                                      -2.09           1.74   \n",
      "QuantileRegressor                                 -0.12           1.05   \n",
      "LassoLars                                         -0.06           1.02   \n",
      "DummyRegressor                                    -0.06           1.02   \n",
      "Lasso                                             -0.06           1.02   \n",
      "ElasticNet                                         0.45           0.73   \n",
      "KNeighborsRegressor                                0.65           0.59   \n",
      "LarsCV                                             0.66           0.58   \n",
      "ExtraTreeRegressor                                 0.77           0.47   \n",
      "SVR                                                0.82           0.42   \n",
      "NuSVR                                              0.83           0.41   \n",
      "DecisionTreeRegressor                              0.87           0.36   \n",
      "BaggingRegressor                                   0.88           0.34   \n",
      "RandomForestRegressor                              0.92           0.29   \n",
      "AdaBoostRegressor                                  0.92           0.29   \n",
      "HistGradientBoostingRegressor                      0.93           0.26   \n",
      "GradientBoostingRegressor                          0.93           0.26   \n",
      "ExtraTreesRegressor                                0.95           0.23   \n",
      "TweedieRegressor                                   0.95           0.22   \n",
      "GammaRegressor                                     0.96           0.21   \n",
      "OrthogonalMatchingPursuit                          0.96           0.20   \n",
      "OrthogonalMatchingPursuitCV                        0.96           0.20   \n",
      "PoissonRegressor                                   0.98           0.13   \n",
      "PassiveAggressiveRegressor                         0.99           0.11   \n",
      "SGDRegressor                                       0.99           0.11   \n",
      "KernelRidge                                        0.99           0.08   \n",
      "Ridge                                              0.99           0.07   \n",
      "HuberRegressor                                     1.00           0.06   \n",
      "BayesianRidge                                      1.00           0.06   \n",
      "RidgeCV                                            1.00           0.05   \n",
      "LassoLarsIC                                        1.00           0.05   \n",
      "LinearSVR                                          1.00           0.05   \n",
      "ElasticNetCV                                       1.00           0.04   \n",
      "LassoLarsCV                                        1.00           0.04   \n",
      "LassoCV                                            1.00           0.04   \n",
      "\n",
      "                               Time Taken  \n",
      "Model                                      \n",
      "RANSACRegressor                      0.02  \n",
      "TransformedTargetRegressor           0.01  \n",
      "LinearRegression                     0.02  \n",
      "Lars                                 0.02  \n",
      "GaussianProcessRegressor             0.03  \n",
      "MLPRegressor                         0.27  \n",
      "QuantileRegressor                    0.11  \n",
      "LassoLars                            0.02  \n",
      "DummyRegressor                       0.01  \n",
      "Lasso                                0.02  \n",
      "ElasticNet                           0.01  \n",
      "KNeighborsRegressor                  0.02  \n",
      "LarsCV                               0.05  \n",
      "ExtraTreeRegressor                   0.02  \n",
      "SVR                                  0.02  \n",
      "NuSVR                                0.02  \n",
      "DecisionTreeRegressor                0.01  \n",
      "BaggingRegressor                     0.03  \n",
      "RandomForestRegressor                0.20  \n",
      "AdaBoostRegressor                    0.10  \n",
      "HistGradientBoostingRegressor        0.31  \n",
      "GradientBoostingRegressor            0.09  \n",
      "ExtraTreesRegressor                  0.12  \n",
      "TweedieRegressor                     0.01  \n",
      "GammaRegressor                       0.02  \n",
      "OrthogonalMatchingPursuit            0.02  \n",
      "OrthogonalMatchingPursuitCV          0.02  \n",
      "PoissonRegressor                     0.02  \n",
      "PassiveAggressiveRegressor           0.02  \n",
      "SGDRegressor                         0.01  \n",
      "KernelRidge                          0.02  \n",
      "Ridge                                0.02  \n",
      "HuberRegressor                       0.03  \n",
      "BayesianRidge                        0.03  \n",
      "RidgeCV                              0.02  \n",
      "LassoLarsIC                          0.09  \n",
      "LinearSVR                            0.06  \n",
      "ElasticNetCV                         0.13  \n",
      "LassoLarsCV                          0.09  \n",
      "LassoCV                              0.15  \n"
     ]
    },
    {
     "name": "stderr",
     "output_type": "stream",
     "text": [
      "\n"
     ]
    }
   ],
   "source": [
    "models_oura, predictions_oura = reg.fit(X_train_oura, X_test_oura, y_train_oura, y_test_oura)\n",
    "\n",
    "print(models_oura)"
   ]
  },
  {
   "attachments": {},
   "cell_type": "markdown",
   "metadata": {},
   "source": [
    "#### Subjective sleep scores"
   ]
  },
  {
   "cell_type": "code",
   "execution_count": 10,
   "metadata": {},
   "outputs": [
    {
     "name": "stdout",
     "output_type": "stream",
     "text": [
      "'tuple' object has no attribute '__name__'\n",
      "Invalid Regressor(s)\n"
     ]
    },
    {
     "name": "stderr",
     "output_type": "stream",
     "text": [
      "100%|██████████| 40/40 [00:03<00:00, 12.93it/s]"
     ]
    },
    {
     "name": "stdout",
     "output_type": "stream",
     "text": [
      "                               Adjusted R-Squared  R-Squared   RMSE  \\\n",
      "Model                                                                 \n",
      "Lars                                    141965.54 -273007.74 457.13   \n",
      "GaussianProcessRegressor                    35.84     -66.00   7.16   \n",
      "RANSACRegressor                              3.37      -3.57   1.87   \n",
      "MLPRegressor                                 2.53      -1.93   1.50   \n",
      "PassiveAggressiveRegressor                   2.15      -1.21   1.30   \n",
      "LinearRegression                             1.89      -0.70   1.14   \n",
      "TransformedTargetRegressor                   1.89      -0.70   1.14   \n",
      "ExtraTreeRegressor                           1.83      -0.60   1.11   \n",
      "LinearSVR                                    1.82      -0.57   1.10   \n",
      "HuberRegressor                               1.74      -0.42   1.04   \n",
      "DecisionTreeRegressor                        1.73      -0.40   1.04   \n",
      "Ridge                                        1.70      -0.35   1.02   \n",
      "KernelRidge                                  1.70      -0.34   1.01   \n",
      "Lasso                                        1.57      -0.09   0.91   \n",
      "LassoLars                                    1.57      -0.09   0.91   \n",
      "ElasticNet                                   1.57      -0.09   0.91   \n",
      "DummyRegressor                               1.57      -0.09   0.91   \n",
      "SGDRegressor                                 1.53      -0.02   0.89   \n",
      "QuantileRegressor                            1.53      -0.02   0.88   \n",
      "LarsCV                                       1.52      -0.01   0.88   \n",
      "RidgeCV                                      1.51       0.02   0.86   \n",
      "KNeighborsRegressor                          1.51       0.03   0.86   \n",
      "PoissonRegressor                             1.46       0.12   0.82   \n",
      "HistGradientBoostingRegressor                1.45       0.14   0.81   \n",
      "AdaBoostRegressor                            1.38       0.26   0.75   \n",
      "OrthogonalMatchingPursuit                    1.37       0.30   0.73   \n",
      "BayesianRidge                                1.35       0.33   0.72   \n",
      "SVR                                          1.35       0.33   0.72   \n",
      "OrthogonalMatchingPursuitCV                  1.34       0.35   0.71   \n",
      "NuSVR                                        1.33       0.37   0.69   \n",
      "GradientBoostingRegressor                    1.31       0.40   0.68   \n",
      "ExtraTreesRegressor                          1.31       0.40   0.68   \n",
      "TweedieRegressor                             1.31       0.41   0.67   \n",
      "BaggingRegressor                             1.30       0.42   0.66   \n",
      "GammaRegressor                               1.30       0.43   0.66   \n",
      "RandomForestRegressor                        1.29       0.44   0.66   \n",
      "LassoCV                                      1.26       0.49   0.62   \n",
      "ElasticNetCV                                 1.26       0.49   0.62   \n",
      "LassoLarsIC                                  1.25       0.51   0.61   \n",
      "LassoLarsCV                                  1.25       0.52   0.61   \n",
      "\n",
      "                               Time Taken  \n",
      "Model                                      \n",
      "Lars                                 0.02  \n",
      "GaussianProcessRegressor             0.02  \n",
      "RANSACRegressor                      0.13  \n",
      "MLPRegressor                         0.14  \n",
      "PassiveAggressiveRegressor           0.01  \n",
      "LinearRegression                     0.01  \n",
      "TransformedTargetRegressor           0.01  \n",
      "ExtraTreeRegressor                   0.01  \n",
      "LinearSVR                            0.02  \n",
      "HuberRegressor                       0.03  \n",
      "DecisionTreeRegressor                0.02  \n",
      "Ridge                                0.01  \n",
      "KernelRidge                          0.01  \n",
      "Lasso                                0.01  \n",
      "LassoLars                            0.01  \n",
      "ElasticNet                           0.01  \n",
      "DummyRegressor                       0.01  \n",
      "SGDRegressor                         0.01  \n",
      "QuantileRegressor                    0.06  \n",
      "LarsCV                               0.05  \n",
      "RidgeCV                              0.01  \n",
      "KNeighborsRegressor                  0.01  \n",
      "PoissonRegressor                     0.01  \n",
      "HistGradientBoostingRegressor        0.32  \n",
      "AdaBoostRegressor                    0.08  \n",
      "OrthogonalMatchingPursuit            0.01  \n",
      "BayesianRidge                        0.02  \n",
      "SVR                                  0.01  \n",
      "OrthogonalMatchingPursuitCV          0.01  \n",
      "NuSVR                                0.01  \n",
      "GradientBoostingRegressor            0.08  \n",
      "ExtraTreesRegressor                  0.20  \n",
      "TweedieRegressor                     0.01  \n",
      "BaggingRegressor                     0.04  \n",
      "GammaRegressor                       0.02  \n",
      "RandomForestRegressor                0.16  \n",
      "LassoCV                              0.70  \n",
      "ElasticNetCV                         0.65  \n",
      "LassoLarsIC                          0.03  \n",
      "LassoLarsCV                          0.07  \n"
     ]
    },
    {
     "name": "stderr",
     "output_type": "stream",
     "text": [
      "\n"
     ]
    }
   ],
   "source": [
    "models_sub, predictions_sub = reg.fit(X_train_sub, X_test_sub, y_train_sub, y_test_sub)\n",
    "\n",
    "print(models_sub)"
   ]
  },
  {
   "attachments": {},
   "cell_type": "markdown",
   "metadata": {},
   "source": [
    "### LazyRegressor for the factors influencing the average HRV"
   ]
  },
  {
   "cell_type": "code",
   "execution_count": 11,
   "metadata": {},
   "outputs": [],
   "source": [
    "# Separate the indenpendent variables from the dependent variables\n",
    "y_hrv = df['average_hrv']\n",
    "X_hrv = df.drop(labels=['average_hrv'], axis=1)\n",
    "\n",
    "# Create the test and train sets for the average hrv prediction\n",
    "X_train_hrv, X_test_hrv, y_train_hrv, y_test_hrv = train_test_split(X_hrv, y_hrv, test_size = 0.2, random_state = 5)"
   ]
  },
  {
   "cell_type": "code",
   "execution_count": 12,
   "metadata": {},
   "outputs": [
    {
     "name": "stdout",
     "output_type": "stream",
     "text": [
      "'tuple' object has no attribute '__name__'\n",
      "Invalid Regressor(s)\n"
     ]
    },
    {
     "name": "stderr",
     "output_type": "stream",
     "text": [
      "100%|██████████| 40/40 [00:01<00:00, 21.92it/s]"
     ]
    },
    {
     "name": "stdout",
     "output_type": "stream",
     "text": [
      "                                      Adjusted R-Squared  \\\n",
      "Model                                                      \n",
      "LinearRegression              31062329562467961667584.00   \n",
      "TransformedTargetRegressor    31062329562467961667584.00   \n",
      "Lars                                              518.12   \n",
      "GaussianProcessRegressor                            9.28   \n",
      "MLPRegressor                                        2.74   \n",
      "QuantileRegressor                                   1.55   \n",
      "DummyRegressor                                      1.53   \n",
      "LassoLars                                           1.48   \n",
      "NuSVR                                               1.47   \n",
      "SVR                                                 1.45   \n",
      "ExtraTreeRegressor                                  1.27   \n",
      "KNeighborsRegressor                                 1.25   \n",
      "DecisionTreeRegressor                               1.22   \n",
      "HuberRegressor                                      1.21   \n",
      "PassiveAggressiveRegressor                          1.19   \n",
      "RANSACRegressor                                     1.19   \n",
      "KernelRidge                                         1.15   \n",
      "Ridge                                               1.15   \n",
      "ExtraTreesRegressor                                 1.15   \n",
      "AdaBoostRegressor                                   1.14   \n",
      "HistGradientBoostingRegressor                       1.14   \n",
      "RandomForestRegressor                               1.14   \n",
      "BaggingRegressor                                    1.13   \n",
      "TweedieRegressor                                    1.13   \n",
      "SGDRegressor                                        1.13   \n",
      "GradientBoostingRegressor                           1.13   \n",
      "ElasticNet                                          1.13   \n",
      "GammaRegressor                                      1.13   \n",
      "LinearSVR                                           1.12   \n",
      "OrthogonalMatchingPursuit                           1.11   \n",
      "PoissonRegressor                                    1.11   \n",
      "Lasso                                               1.11   \n",
      "RidgeCV                                             1.11   \n",
      "LassoLarsIC                                         1.10   \n",
      "LarsCV                                              1.10   \n",
      "LassoLarsCV                                         1.10   \n",
      "BayesianRidge                                       1.10   \n",
      "ElasticNetCV                                        1.10   \n",
      "LassoCV                                             1.10   \n",
      "OrthogonalMatchingPursuitCV                         1.10   \n",
      "\n",
      "                                                R-Squared             RMSE  \\\n",
      "Model                                                                        \n",
      "LinearRegression              -60929954141764084301824.00 4256879102670.67   \n",
      "TransformedTargetRegressor    -60929954141764084301824.00 4256879102670.67   \n",
      "Lars                                             -1013.35           549.25   \n",
      "GaussianProcessRegressor                           -15.24            69.50   \n",
      "MLPRegressor                                        -2.42            31.88   \n",
      "QuantileRegressor                                   -0.07            17.87   \n",
      "DummyRegressor                                      -0.04            17.60   \n",
      "LassoLars                                            0.06            16.70   \n",
      "NuSVR                                                0.09            16.50   \n",
      "SVR                                                  0.12            16.20   \n",
      "ExtraTreeRegressor                                   0.47            12.56   \n",
      "KNeighborsRegressor                                  0.51            12.08   \n",
      "DecisionTreeRegressor                                0.58            11.22   \n",
      "HuberRegressor                                       0.59            10.99   \n",
      "PassiveAggressiveRegressor                           0.63            10.53   \n",
      "RANSACRegressor                                      0.64            10.40   \n",
      "KernelRidge                                          0.70             9.49   \n",
      "Ridge                                                0.70             9.47   \n",
      "ExtraTreesRegressor                                  0.71             9.31   \n",
      "AdaBoostRegressor                                    0.72             9.18   \n",
      "HistGradientBoostingRegressor                        0.72             9.08   \n",
      "RandomForestRegressor                                0.73             9.01   \n",
      "BaggingRegressor                                     0.74             8.82   \n",
      "TweedieRegressor                                     0.74             8.79   \n",
      "SGDRegressor                                         0.74             8.75   \n",
      "GradientBoostingRegressor                            0.75             8.70   \n",
      "ElasticNet                                           0.75             8.69   \n",
      "GammaRegressor                                       0.75             8.65   \n",
      "LinearSVR                                            0.77             8.31   \n",
      "OrthogonalMatchingPursuit                            0.79             7.95   \n",
      "PoissonRegressor                                     0.79             7.94   \n",
      "Lasso                                                0.79             7.86   \n",
      "RidgeCV                                              0.79             7.84   \n",
      "LassoLarsIC                                          0.80             7.79   \n",
      "LarsCV                                               0.80             7.74   \n",
      "LassoLarsCV                                          0.80             7.74   \n",
      "BayesianRidge                                        0.80             7.70   \n",
      "ElasticNetCV                                         0.80             7.69   \n",
      "LassoCV                                              0.80             7.67   \n",
      "OrthogonalMatchingPursuitCV                          0.81             7.52   \n",
      "\n",
      "                               Time Taken  \n",
      "Model                                      \n",
      "LinearRegression                     0.01  \n",
      "TransformedTargetRegressor           0.01  \n",
      "Lars                                 0.02  \n",
      "GaussianProcessRegressor             0.01  \n",
      "MLPRegressor                         0.12  \n",
      "QuantileRegressor                    0.06  \n",
      "DummyRegressor                       0.01  \n",
      "LassoLars                            0.01  \n",
      "NuSVR                                0.01  \n",
      "SVR                                  0.01  \n",
      "ExtraTreeRegressor                   0.01  \n",
      "KNeighborsRegressor                  0.01  \n",
      "DecisionTreeRegressor                0.01  \n",
      "HuberRegressor                       0.03  \n",
      "PassiveAggressiveRegressor           0.01  \n",
      "RANSACRegressor                      0.09  \n",
      "KernelRidge                          0.01  \n",
      "Ridge                                0.01  \n",
      "ExtraTreesRegressor                  0.14  \n",
      "AdaBoostRegressor                    0.07  \n",
      "HistGradientBoostingRegressor        0.17  \n",
      "RandomForestRegressor                0.17  \n",
      "BaggingRegressor                     0.03  \n",
      "TweedieRegressor                     0.01  \n",
      "SGDRegressor                         0.01  \n",
      "GradientBoostingRegressor            0.08  \n",
      "ElasticNet                           0.01  \n",
      "GammaRegressor                       0.01  \n",
      "LinearSVR                            0.01  \n",
      "OrthogonalMatchingPursuit            0.01  \n",
      "PoissonRegressor                     0.02  \n",
      "Lasso                                0.01  \n",
      "RidgeCV                              0.01  \n",
      "LassoLarsIC                          0.02  \n",
      "LarsCV                               0.05  \n",
      "LassoLarsCV                          0.07  \n",
      "BayesianRidge                        0.01  \n",
      "ElasticNetCV                         0.12  \n",
      "LassoCV                              0.28  \n",
      "OrthogonalMatchingPursuitCV          0.01  \n"
     ]
    },
    {
     "name": "stderr",
     "output_type": "stream",
     "text": [
      "\n"
     ]
    }
   ],
   "source": [
    "models_hrv, predictions_hrv = reg.fit(X_train_hrv, X_test_hrv, y_train_hrv, y_test_hrv)\n",
    "\n",
    "print(models_hrv)"
   ]
  }
 ],
 "metadata": {
  "kernelspec": {
   "display_name": "Python 3.7.10 ('tensorflow_env')",
   "language": "python",
   "name": "python3"
  },
  "language_info": {
   "codemirror_mode": {
    "name": "ipython",
    "version": 3
   },
   "file_extension": ".py",
   "mimetype": "text/x-python",
   "name": "python",
   "nbconvert_exporter": "python",
   "pygments_lexer": "ipython3",
   "version": "3.7.10"
  },
  "orig_nbformat": 4,
  "vscode": {
   "interpreter": {
    "hash": "f440ca07c10c374a105f3d67f9c2c345d20e5b276c036b89a1e623f864f80620"
   }
  }
 },
 "nbformat": 4,
 "nbformat_minor": 2
}
