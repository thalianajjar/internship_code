{
 "cells": [
  {
   "cell_type": "markdown",
   "metadata": {},
   "source": [
    "## Imports"
   ]
  },
  {
   "cell_type": "code",
   "execution_count": 1,
   "metadata": {},
   "outputs": [],
   "source": [
    "import pandas as pd\n",
    "import numpy as np\n",
    "from sklearn.model_selection import train_test_split\n",
    "from lazypredict.Supervised import LazyRegressor\n",
    "from sklearn.preprocessing import LabelEncoder\n",
    "from sklearn.utils import all_estimators\n",
    "from sklearn.base import RegressorMixin"
   ]
  },
  {
   "attachments": {},
   "cell_type": "markdown",
   "metadata": {},
   "source": [
    "## Define the files to be loaded"
   ]
  },
  {
   "cell_type": "code",
   "execution_count": 2,
   "metadata": {},
   "outputs": [],
   "source": [
    "# Participant number whose data should be loaded\n",
    "participant_number = 1\n",
    "\n",
    "# The version of the questionnaires to load\n",
    "quest_version = 2"
   ]
  },
  {
   "cell_type": "markdown",
   "metadata": {},
   "source": [
    "## Loading the pre-processed data"
   ]
  },
  {
   "cell_type": "code",
   "execution_count": 3,
   "metadata": {},
   "outputs": [],
   "source": [
    "df = pd.read_csv('data/preprocessed/preprocessed_data_' + str(participant_number) + '_v' + str(quest_version) + '.csv')\n",
    "df = df.drop(labels=['actual_day', 'actual_day.1'], axis=1)\n",
    "\n",
    "df_oura = pd.read_csv('data/preprocessed/preprocessed_sleep_' + str(participant_number) + '_v' + str(quest_version) + '.csv')\n",
    "df_oura = df_oura.drop(labels=['actual_day'], axis=1)\n",
    "\n",
    "df_quest = pd.read_csv('data/preprocessed/preprocessed_questionnaires_' + str(participant_number) + '_v' + str(quest_version) + '.csv')\n",
    "df_quest = df_quest.drop(labels=['actual_day'], axis=1)"
   ]
  },
  {
   "cell_type": "code",
   "execution_count": 4,
   "metadata": {},
   "outputs": [],
   "source": [
    "# Remove these to try and fix the issues raised by LazyRegressor for them \n",
    "# example: \n",
    "# AdaBoostRegressor model failed to execute\n",
    "# Found unknown categories ['[0.0, 51.0, 53.0, 53.0, 54.0, 53.0, ...\n",
    "df = df.drop(labels=['hrv.items', 'heart_rate.items', 'sleep_phase_5_min', 'movement_30_sec'], axis=1)\n",
    "df_oura = df_oura.drop(labels=['hrv.items', 'heart_rate.items', 'sleep_phase_5_min', 'movement_30_sec'], axis=1)"
   ]
  },
  {
   "cell_type": "code",
   "execution_count": 5,
   "metadata": {},
   "outputs": [
    {
     "name": "stdout",
     "output_type": "stream",
     "text": [
      "['average_breath', 'average_breath_variation', 'average_heart_rate', 'average_hrv', 'awake_time', 'deep_sleep_duration', 'efficiency', 'got_ups', 'latency', 'light_sleep_duration', 'lowest_heart_rate', 'lowest_heart_rate_time_offset', 'period', 'rem_sleep_duration', 'restless_periods', 'score', 'segment_state', 'sleep_midpoint', 'time_in_bed', 'total_sleep_duration', 'type', 'wake_ups', 'restless', 'timezone', 'bedtime_start_delta', 'bedtime_end_delta', 'contributors.total_sleep', 'contributors.deep_sleep', 'contributors.rem_sleep', 'contributors.efficiency', 'contributors.latency', 'contributors.restfulness', 'contributors.timing', 'readiness.contributors.activity_balance', 'readiness.contributors.body_temperature', 'readiness.contributors.hrv_balance', 'readiness.contributors.previous_day_activity', 'readiness.contributors.previous_night', 'readiness.contributors.recovery_index', 'readiness.contributors.resting_heart_rate', 'readiness.contributors.sleep_balance', 'readiness.score', 'readiness.temperature_deviation', 'readiness.temperature_trend_deviation', 'bedtime_end_seconds', 'bedtime_start_seconds', 'prev_oura_score', 'bed_time', 'Cold', 'I read a book', 'I stayed in bed trying to sleep', 'I used a smart device (phone', 'I went to the toilet', 'Kids', 'Naturally', 'Noise', 'Nothing', 'Partner', 'Temperature', 'With an alarm', 'blue_light', 'prevent_early_sleep', 'recall_awake', 'special_circumstances_wakeup', 'subjective_sleep_score', 'prev_subjective_score', 'Lecture till 1930', 'Mentally active', 'Physically active', 'Relaxed', 'Sauna', 'Soccer world championship ', 'Socially active', 'Stressful', 'Theater', 'alcohol_amount', 'alcohol_time', 'coffee_amount', 'coffee_time', 'eat_bedtime', 'intervention', 'medication', 'medication_dosage', 'medication_time', 'special_circumstances', 'stress_levels', 'stress_relief_time', 'workout_intensity', 'workout_time']\n"
     ]
    }
   ],
   "source": [
    "print(df.columns.tolist())"
   ]
  },
  {
   "attachments": {},
   "cell_type": "markdown",
   "metadata": {},
   "source": [
    "## Prepare regressor list for lazypredict"
   ]
  },
  {
   "cell_type": "code",
   "execution_count": 6,
   "metadata": {},
   "outputs": [],
   "source": [
    "removed_regressors = [\n",
    "    \"TheilSenRegressor\",\n",
    "    \"ARDRegression\", \n",
    "    \"CCA\", \n",
    "    \"IsotonicRegression\", \n",
    "    \"StackingRegressor\",\n",
    "    \"MultiOutputRegressor\", \n",
    "    \"MultiTaskElasticNet\", \n",
    "    \"MultiTaskElasticNetCV\", \n",
    "    \"MultiTaskLasso\", \n",
    "    \"MultiTaskLassoCV\", \n",
    "    \"PLSCanonical\", \n",
    "    \"PLSRegression\", \n",
    "    \"RadiusNeighborsRegressor\", \n",
    "    \"RegressorChain\", \n",
    "    \"VotingRegressor\", \n",
    "]"
   ]
  },
  {
   "cell_type": "code",
   "execution_count": 7,
   "metadata": {},
   "outputs": [],
   "source": [
    "REGRESSORS = [\n",
    "    est\n",
    "    for est in all_estimators()\n",
    "    if (issubclass(est[1], RegressorMixin) and (est[0] not in removed_regressors))\n",
    "]"
   ]
  },
  {
   "attachments": {},
   "cell_type": "markdown",
   "metadata": {},
   "source": [
    "## Run LazyRegressor on datasets"
   ]
  },
  {
   "cell_type": "code",
   "execution_count": 8,
   "metadata": {},
   "outputs": [],
   "source": [
    "def lazy_regressor(X, y, test_size, random_state, regressor):\n",
    "    # Create the test and train sets for the given prediction\n",
    "    X_train, X_test, y_train, y_test = train_test_split(X, y, test_size = test_size, random_state = random_state)\n",
    "    \n",
    "    models, predictions = regressor.fit(X_train, X_test, y_train, y_test)\n",
    "    return models"
   ]
  },
  {
   "cell_type": "code",
   "execution_count": 9,
   "metadata": {},
   "outputs": [],
   "source": [
    "# Apply the LazyRegressor on the data\n",
    "reg = LazyRegressor(verbose=0, ignore_warnings=False, custom_metric=None, regressors = REGRESSORS)"
   ]
  },
  {
   "attachments": {},
   "cell_type": "markdown",
   "metadata": {},
   "source": [
    "### LazyRegressor for the factors influencing the sleep scores given all the variables"
   ]
  },
  {
   "cell_type": "code",
   "execution_count": 10,
   "metadata": {},
   "outputs": [],
   "source": [
    "# Separate the indenpendent variables from the dependent variables\n",
    "y_oura = df['score']\n",
    "y_sub = df['subjective_sleep_score']\n",
    "X = df.drop(labels=['score', 'subjective_sleep_score'], axis=1)"
   ]
  },
  {
   "attachments": {},
   "cell_type": "markdown",
   "metadata": {},
   "source": [
    "#### Oura sleep scores"
   ]
  },
  {
   "cell_type": "code",
   "execution_count": 11,
   "metadata": {},
   "outputs": [
    {
     "name": "stdout",
     "output_type": "stream",
     "text": [
      "'tuple' object has no attribute '__name__'\n",
      "Invalid Regressor(s)\n"
     ]
    },
    {
     "name": "stderr",
     "output_type": "stream",
     "text": [
      " 65%|██████▌   | 26/40 [00:00<00:00, 26.60it/s]"
     ]
    },
    {
     "name": "stdout",
     "output_type": "stream",
     "text": [
      "LassoLarsIC model failed to execute\n",
      "You are using LassoLarsIC in the case where the number of samples is smaller than the number of features. In this setting, getting a good estimate for the variance of the noise is not possible. Provide an estimate of the noise variance in the constructor.\n"
     ]
    },
    {
     "name": "stderr",
     "output_type": "stream",
     "text": [
      "100%|██████████| 40/40 [00:01<00:00, 32.19it/s]"
     ]
    },
    {
     "name": "stdout",
     "output_type": "stream",
     "text": [
      "RANSACRegressor model failed to execute\n",
      "`min_samples` may not be larger than number of samples: n_samples = 44.\n",
      "                                                              Adjusted R-Squared  \\\n",
      "Model                                                                              \n",
      "Lars                          21230400555833760238810433898294115034118947340...   \n",
      "GaussianProcessRegressor                                                   78.68   \n",
      "MLPRegressor                                                                5.60   \n",
      "KernelRidge                                                                 1.32   \n",
      "LinearSVR                                                                   1.25   \n",
      "HuberRegressor                                                              1.19   \n",
      "QuantileRegressor                                                           1.17   \n",
      "SGDRegressor                                                                1.16   \n",
      "PassiveAggressiveRegressor                                                  1.15   \n",
      "ElasticNet                                                                  1.15   \n",
      "DummyRegressor                                                              1.15   \n",
      "Lasso                                                                       1.15   \n",
      "LassoLars                                                                   1.15   \n",
      "ExtraTreeRegressor                                                          1.13   \n",
      "SVR                                                                         1.06   \n",
      "HistGradientBoostingRegressor                                               1.06   \n",
      "KNeighborsRegressor                                                         1.06   \n",
      "NuSVR                                                                       1.06   \n",
      "GammaRegressor                                                              1.02   \n",
      "TweedieRegressor                                                            1.02   \n",
      "BaggingRegressor                                                            1.02   \n",
      "DecisionTreeRegressor                                                       1.02   \n",
      "AdaBoostRegressor                                                           1.02   \n",
      "RandomForestRegressor                                                       1.02   \n",
      "PoissonRegressor                                                            1.01   \n",
      "Ridge                                                                       1.01   \n",
      "RidgeCV                                                                     1.01   \n",
      "BayesianRidge                                                               1.01   \n",
      "LinearRegression                                                            1.01   \n",
      "TransformedTargetRegressor                                                  1.01   \n",
      "GradientBoostingRegressor                                                   1.01   \n",
      "ExtraTreesRegressor                                                         1.00   \n",
      "OrthogonalMatchingPursuit                                                   1.00   \n",
      "ElasticNetCV                                                                1.00   \n",
      "LarsCV                                                                      1.00   \n",
      "OrthogonalMatchingPursuitCV                                                 1.00   \n",
      "LassoLarsCV                                                                 1.00   \n",
      "LassoCV                                                                     1.00   \n",
      "\n",
      "                                                                       R-Squared  \\\n",
      "Model                                                                              \n",
      "Lars                          -1634740842799199624061301575993302728380348377...   \n",
      "GaussianProcessRegressor                                                 -597.14   \n",
      "MLPRegressor                                                              -34.41   \n",
      "KernelRidge                                                                -1.46   \n",
      "LinearSVR                                                                  -0.95   \n",
      "HuberRegressor                                                             -0.44   \n",
      "QuantileRegressor                                                          -0.32   \n",
      "SGDRegressor                                                               -0.21   \n",
      "PassiveAggressiveRegressor                                                 -0.17   \n",
      "ElasticNet                                                                 -0.16   \n",
      "DummyRegressor                                                             -0.16   \n",
      "Lasso                                                                      -0.16   \n",
      "LassoLars                                                                  -0.16   \n",
      "ExtraTreeRegressor                                                         -0.01   \n",
      "SVR                                                                         0.51   \n",
      "HistGradientBoostingRegressor                                               0.52   \n",
      "KNeighborsRegressor                                                         0.52   \n",
      "NuSVR                                                                       0.55   \n",
      "GammaRegressor                                                              0.82   \n",
      "TweedieRegressor                                                            0.82   \n",
      "BaggingRegressor                                                            0.83   \n",
      "DecisionTreeRegressor                                                       0.85   \n",
      "AdaBoostRegressor                                                           0.86   \n",
      "RandomForestRegressor                                                       0.86   \n",
      "PoissonRegressor                                                            0.92   \n",
      "Ridge                                                                       0.95   \n",
      "RidgeCV                                                                     0.96   \n",
      "BayesianRidge                                                               0.96   \n",
      "LinearRegression                                                            0.96   \n",
      "TransformedTargetRegressor                                                  0.96   \n",
      "GradientBoostingRegressor                                                   0.96   \n",
      "ExtraTreesRegressor                                                         0.97   \n",
      "OrthogonalMatchingPursuit                                                   0.99   \n",
      "ElasticNetCV                                                                0.99   \n",
      "LarsCV                                                                      0.99   \n",
      "OrthogonalMatchingPursuitCV                                                 0.99   \n",
      "LassoLarsCV                                                                 1.00   \n",
      "LassoCV                                                                     1.00   \n",
      "\n",
      "                                                      RMSE  Time Taken  \n",
      "Model                                                                   \n",
      "Lars                          4704231874050796764004352.00        0.02  \n",
      "GaussianProcessRegressor                              9.00        0.02  \n",
      "MLPRegressor                                          2.19        0.12  \n",
      "KernelRidge                                           0.58        0.01  \n",
      "LinearSVR                                             0.51        0.01  \n",
      "HuberRegressor                                        0.44        0.03  \n",
      "QuantileRegressor                                     0.42        0.03  \n",
      "SGDRegressor                                          0.40        0.01  \n",
      "PassiveAggressiveRegressor                            0.40        0.01  \n",
      "ElasticNet                                            0.40        0.01  \n",
      "DummyRegressor                                        0.40        0.01  \n",
      "Lasso                                                 0.40        0.01  \n",
      "LassoLars                                             0.40        0.01  \n",
      "ExtraTreeRegressor                                    0.37        0.01  \n",
      "SVR                                                   0.26        0.01  \n",
      "HistGradientBoostingRegressor                         0.26        0.17  \n",
      "KNeighborsRegressor                                   0.25        0.01  \n",
      "NuSVR                                                 0.25        0.01  \n",
      "GammaRegressor                                        0.16        0.01  \n",
      "TweedieRegressor                                      0.15        0.01  \n",
      "BaggingRegressor                                      0.15        0.02  \n",
      "DecisionTreeRegressor                                 0.14        0.01  \n",
      "AdaBoostRegressor                                     0.14        0.07  \n",
      "RandomForestRegressor                                 0.14        0.10  \n",
      "PoissonRegressor                                      0.11        0.01  \n",
      "Ridge                                                 0.09        0.01  \n",
      "RidgeCV                                               0.08        0.02  \n",
      "BayesianRidge                                         0.08        0.03  \n",
      "LinearRegression                                      0.08        0.02  \n",
      "TransformedTargetRegressor                            0.08        0.01  \n",
      "GradientBoostingRegressor                             0.08        0.05  \n",
      "ExtraTreesRegressor                                   0.07        0.08  \n",
      "OrthogonalMatchingPursuit                             0.03        0.01  \n",
      "ElasticNetCV                                          0.03        0.05  \n",
      "LarsCV                                                0.03        0.06  \n",
      "OrthogonalMatchingPursuitCV                           0.03        0.01  \n",
      "LassoLarsCV                                           0.03        0.04  \n",
      "LassoCV                                               0.03        0.04  \n"
     ]
    },
    {
     "name": "stderr",
     "output_type": "stream",
     "text": [
      "\n"
     ]
    }
   ],
   "source": [
    "models_oura = lazy_regressor(X, y_oura, test_size = 0.2, random_state = 2, regressor = reg)\n",
    "\n",
    "print(models_oura)"
   ]
  },
  {
   "attachments": {},
   "cell_type": "markdown",
   "metadata": {},
   "source": [
    "#### Subjective sleep scores"
   ]
  },
  {
   "cell_type": "code",
   "execution_count": 12,
   "metadata": {},
   "outputs": [
    {
     "name": "stdout",
     "output_type": "stream",
     "text": [
      "'tuple' object has no attribute '__name__'\n",
      "Invalid Regressor(s)\n"
     ]
    },
    {
     "name": "stderr",
     "output_type": "stream",
     "text": [
      " 65%|██████▌   | 26/40 [00:01<00:00, 20.92it/s]"
     ]
    },
    {
     "name": "stdout",
     "output_type": "stream",
     "text": [
      "LassoLarsIC model failed to execute\n",
      "You are using LassoLarsIC in the case where the number of samples is smaller than the number of features. In this setting, getting a good estimate for the variance of the noise is not possible. Provide an estimate of the noise variance in the constructor.\n",
      "RANSACRegressor model failed to execute\n",
      "`min_samples` may not be larger than number of samples: n_samples = 44.\n"
     ]
    },
    {
     "name": "stderr",
     "output_type": "stream",
     "text": [
      "100%|██████████| 40/40 [00:01<00:00, 26.17it/s]"
     ]
    },
    {
     "name": "stdout",
     "output_type": "stream",
     "text": [
      "                                         Adjusted R-Squared  \\\n",
      "Model                                                         \n",
      "Lars                          12309498013805496391172096.00   \n",
      "GaussianProcessRegressor                              25.85   \n",
      "LinearSVR                                              4.71   \n",
      "HuberRegressor                                         4.49   \n",
      "TransformedTargetRegressor                             4.42   \n",
      "LinearRegression                                       4.42   \n",
      "KernelRidge                                            4.07   \n",
      "MLPRegressor                                           3.87   \n",
      "PassiveAggressiveRegressor                             3.81   \n",
      "Ridge                                                  3.50   \n",
      "SGDRegressor                                           2.37   \n",
      "PoissonRegressor                                       2.06   \n",
      "ExtraTreeRegressor                                     1.92   \n",
      "RidgeCV                                                1.88   \n",
      "GammaRegressor                                         1.38   \n",
      "HistGradientBoostingRegressor                          1.38   \n",
      "TweedieRegressor                                       1.36   \n",
      "DecisionTreeRegressor                                  1.31   \n",
      "AdaBoostRegressor                                      1.30   \n",
      "KNeighborsRegressor                                    1.28   \n",
      "GradientBoostingRegressor                              1.27   \n",
      "ExtraTreesRegressor                                    1.22   \n",
      "SVR                                                    1.22   \n",
      "RandomForestRegressor                                  1.22   \n",
      "BaggingRegressor                                       1.21   \n",
      "LassoLars                                              1.21   \n",
      "LarsCV                                                 1.21   \n",
      "Lasso                                                  1.21   \n",
      "ElasticNetCV                                           1.21   \n",
      "ElasticNet                                             1.21   \n",
      "DummyRegressor                                         1.21   \n",
      "LassoLarsCV                                            1.21   \n",
      "LassoCV                                                1.21   \n",
      "NuSVR                                                  1.21   \n",
      "BayesianRidge                                          1.20   \n",
      "OrthogonalMatchingPursuit                              1.18   \n",
      "QuantileRegressor                                      1.17   \n",
      "OrthogonalMatchingPursuitCV                            1.16   \n",
      "\n",
      "                                                   R-Squared             RMSE  \\\n",
      "Model                                                                           \n",
      "Lars                          -94783134706302326721740800.00 4683298770103.55   \n",
      "GaussianProcessRegressor                             -190.32             6.65   \n",
      "LinearSVR                                             -27.59             2.57   \n",
      "HuberRegressor                                        -25.89             2.49   \n",
      "TransformedTargetRegressor                            -25.34             2.47   \n",
      "LinearRegression                                      -25.34             2.47   \n",
      "KernelRidge                                           -22.64             2.34   \n",
      "MLPRegressor                                          -21.08             2.26   \n",
      "PassiveAggressiveRegressor                            -20.65             2.24   \n",
      "Ridge                                                 -18.25             2.11   \n",
      "SGDRegressor                                           -9.52             1.56   \n",
      "PoissonRegressor                                       -7.13             1.37   \n",
      "ExtraTreeRegressor                                     -6.07             1.28   \n",
      "RidgeCV                                                -5.78             1.25   \n",
      "GammaRegressor                                         -1.94             0.83   \n",
      "HistGradientBoostingRegressor                          -1.91             0.82   \n",
      "TweedieRegressor                                       -1.76             0.80   \n",
      "DecisionTreeRegressor                                  -1.36             0.74   \n",
      "AdaBoostRegressor                                      -1.32             0.73   \n",
      "KNeighborsRegressor                                    -1.15             0.71   \n",
      "GradientBoostingRegressor                              -1.08             0.69   \n",
      "ExtraTreesRegressor                                    -0.72             0.63   \n",
      "SVR                                                    -0.72             0.63   \n",
      "RandomForestRegressor                                  -0.71             0.63   \n",
      "BaggingRegressor                                       -0.65             0.62   \n",
      "LassoLars                                              -0.65             0.62   \n",
      "LarsCV                                                 -0.65             0.62   \n",
      "Lasso                                                  -0.65             0.62   \n",
      "ElasticNetCV                                           -0.65             0.62   \n",
      "ElasticNet                                             -0.65             0.62   \n",
      "DummyRegressor                                         -0.65             0.62   \n",
      "LassoLarsCV                                            -0.65             0.62   \n",
      "LassoCV                                                -0.65             0.62   \n",
      "NuSVR                                                  -0.59             0.61   \n",
      "BayesianRidge                                          -0.54             0.60   \n",
      "OrthogonalMatchingPursuit                              -0.36             0.56   \n",
      "QuantileRegressor                                      -0.31             0.55   \n",
      "OrthogonalMatchingPursuitCV                            -0.24             0.54   \n",
      "\n",
      "                               Time Taken  \n",
      "Model                                      \n",
      "Lars                                 0.02  \n",
      "GaussianProcessRegressor             0.01  \n",
      "LinearSVR                            0.01  \n",
      "HuberRegressor                       0.03  \n",
      "TransformedTargetRegressor           0.02  \n",
      "LinearRegression                     0.01  \n",
      "KernelRidge                          0.01  \n",
      "MLPRegressor                         0.09  \n",
      "PassiveAggressiveRegressor           0.01  \n",
      "Ridge                                0.02  \n",
      "SGDRegressor                         0.01  \n",
      "PoissonRegressor                     0.01  \n",
      "ExtraTreeRegressor                   0.01  \n",
      "RidgeCV                              0.01  \n",
      "GammaRegressor                       0.01  \n",
      "HistGradientBoostingRegressor        0.16  \n",
      "TweedieRegressor                     0.02  \n",
      "DecisionTreeRegressor                0.01  \n",
      "AdaBoostRegressor                    0.08  \n",
      "KNeighborsRegressor                  0.01  \n",
      "GradientBoostingRegressor            0.05  \n",
      "ExtraTreesRegressor                  0.07  \n",
      "SVR                                  0.01  \n",
      "RandomForestRegressor                0.13  \n",
      "BaggingRegressor                     0.02  \n",
      "LassoLars                            0.01  \n",
      "LarsCV                               0.05  \n",
      "Lasso                                0.01  \n",
      "ElasticNetCV                         0.18  \n",
      "ElasticNet                           0.01  \n",
      "DummyRegressor                       0.01  \n",
      "LassoLarsCV                          0.03  \n",
      "LassoCV                              0.27  \n",
      "NuSVR                                0.01  \n",
      "BayesianRidge                        0.02  \n",
      "OrthogonalMatchingPursuit            0.01  \n",
      "QuantileRegressor                    0.03  \n",
      "OrthogonalMatchingPursuitCV          0.01  \n"
     ]
    },
    {
     "name": "stderr",
     "output_type": "stream",
     "text": [
      "\n"
     ]
    }
   ],
   "source": [
    "models_sub = lazy_regressor(X, y_sub, test_size = 0.2, random_state = 6, regressor = reg)\n",
    "\n",
    "print(models_sub)"
   ]
  },
  {
   "attachments": {},
   "cell_type": "markdown",
   "metadata": {},
   "source": [
    "### LazyRegressor for the factors influencing the sleep scores given the questionnaire variables only"
   ]
  },
  {
   "cell_type": "code",
   "execution_count": 13,
   "metadata": {},
   "outputs": [],
   "source": [
    "# Separate the indenpendent variables from the dependent variables\n",
    "X = df_quest.drop(labels=['subjective_sleep_score'], axis=1)"
   ]
  },
  {
   "attachments": {},
   "cell_type": "markdown",
   "metadata": {},
   "source": [
    "#### Oura sleep score"
   ]
  },
  {
   "cell_type": "code",
   "execution_count": 14,
   "metadata": {},
   "outputs": [
    {
     "name": "stdout",
     "output_type": "stream",
     "text": [
      "'tuple' object has no attribute '__name__'\n",
      "Invalid Regressor(s)\n"
     ]
    },
    {
     "name": "stderr",
     "output_type": "stream",
     "text": [
      " 65%|██████▌   | 26/40 [00:01<00:00, 20.24it/s]"
     ]
    },
    {
     "name": "stdout",
     "output_type": "stream",
     "text": [
      "LassoLarsIC model failed to execute\n",
      "You are using LassoLarsIC in the case where the number of samples is smaller than the number of features. In this setting, getting a good estimate for the variance of the noise is not possible. Provide an estimate of the noise variance in the constructor.\n"
     ]
    },
    {
     "name": "stderr",
     "output_type": "stream",
     "text": [
      "100%|██████████| 40/40 [00:01<00:00, 23.25it/s]"
     ]
    },
    {
     "name": "stdout",
     "output_type": "stream",
     "text": [
      "                                        Adjusted R-Squared  \\\n",
      "Model                                                        \n",
      "RANSACRegressor               4323506577069073695244288.00   \n",
      "GaussianProcessRegressor                            192.15   \n",
      "Lars                                                104.33   \n",
      "KernelRidge                                           7.93   \n",
      "MLPRegressor                                          6.05   \n",
      "SGDRegressor                                          2.76   \n",
      "PassiveAggressiveRegressor                            2.72   \n",
      "HuberRegressor                                        2.51   \n",
      "LinearSVR                                             2.21   \n",
      "Ridge                                                 1.97   \n",
      "PoissonRegressor                                      1.94   \n",
      "LinearRegression                                      1.92   \n",
      "TransformedTargetRegressor                            1.92   \n",
      "RidgeCV                                               1.80   \n",
      "DecisionTreeRegressor                                 1.71   \n",
      "GradientBoostingRegressor                             1.66   \n",
      "ExtraTreeRegressor                                    1.55   \n",
      "GammaRegressor                                        1.53   \n",
      "TweedieRegressor                                      1.53   \n",
      "OrthogonalMatchingPursuitCV                           1.49   \n",
      "ExtraTreesRegressor                                   1.48   \n",
      "OrthogonalMatchingPursuit                             1.47   \n",
      "KNeighborsRegressor                                   1.46   \n",
      "BaggingRegressor                                      1.45   \n",
      "QuantileRegressor                                     1.43   \n",
      "RandomForestRegressor                                 1.42   \n",
      "LassoCV                                               1.41   \n",
      "ElasticNetCV                                          1.41   \n",
      "BayesianRidge                                         1.40   \n",
      "LassoLarsCV                                           1.40   \n",
      "LarsCV                                                1.40   \n",
      "NuSVR                                                 1.38   \n",
      "SVR                                                   1.37   \n",
      "LassoLars                                             1.37   \n",
      "Lasso                                                 1.37   \n",
      "ElasticNet                                            1.37   \n",
      "DummyRegressor                                        1.37   \n",
      "AdaBoostRegressor                                     1.36   \n",
      "HistGradientBoostingRegressor                         1.34   \n",
      "\n",
      "                                                   R-Squared             RMSE  \\\n",
      "Model                                                                           \n",
      "RANSACRegressor               -13402870388914128508944384.00 1346986280953.82   \n",
      "GaussianProcessRegressor                             -591.56             8.96   \n",
      "Lars                                                 -319.33             6.59   \n",
      "KernelRidge                                           -20.49             1.71   \n",
      "MLPRegressor                                          -14.64             1.46   \n",
      "SGDRegressor                                           -4.46             0.86   \n",
      "PassiveAggressiveRegressor                             -4.32             0.85   \n",
      "HuberRegressor                                         -3.67             0.80   \n",
      "LinearSVR                                              -2.75             0.71   \n",
      "Ridge                                                  -2.00             0.64   \n",
      "PoissonRegressor                                       -1.92             0.63   \n",
      "LinearRegression                                       -1.84             0.62   \n",
      "TransformedTargetRegressor                             -1.84             0.62   \n",
      "RidgeCV                                                -1.49             0.58   \n",
      "DecisionTreeRegressor                                  -1.20             0.55   \n",
      "GradientBoostingRegressor                              -1.05             0.53   \n",
      "ExtraTreeRegressor                                     -0.69             0.48   \n",
      "GammaRegressor                                         -0.64             0.47   \n",
      "TweedieRegressor                                       -0.64             0.47   \n",
      "OrthogonalMatchingPursuitCV                            -0.52             0.45   \n",
      "ExtraTreesRegressor                                    -0.47             0.45   \n",
      "OrthogonalMatchingPursuit                              -0.46             0.45   \n",
      "KNeighborsRegressor                                    -0.42             0.44   \n",
      "BaggingRegressor                                       -0.40             0.44   \n",
      "QuantileRegressor                                      -0.32             0.42   \n",
      "RandomForestRegressor                                  -0.31             0.42   \n",
      "LassoCV                                                -0.28             0.42   \n",
      "ElasticNetCV                                           -0.28             0.42   \n",
      "BayesianRidge                                          -0.25             0.41   \n",
      "LassoLarsCV                                            -0.25             0.41   \n",
      "LarsCV                                                 -0.25             0.41   \n",
      "NuSVR                                                  -0.19             0.40   \n",
      "SVR                                                    -0.16             0.40   \n",
      "LassoLars                                              -0.16             0.40   \n",
      "Lasso                                                  -0.16             0.40   \n",
      "ElasticNet                                             -0.16             0.40   \n",
      "DummyRegressor                                         -0.16             0.40   \n",
      "AdaBoostRegressor                                      -0.10             0.39   \n",
      "HistGradientBoostingRegressor                          -0.04             0.38   \n",
      "\n",
      "                               Time Taken  \n",
      "Model                                      \n",
      "RANSACRegressor                      0.07  \n",
      "GaussianProcessRegressor             0.01  \n",
      "Lars                                 0.02  \n",
      "KernelRidge                          0.01  \n",
      "MLPRegressor                         0.09  \n",
      "SGDRegressor                         0.01  \n",
      "PassiveAggressiveRegressor           0.01  \n",
      "HuberRegressor                       0.05  \n",
      "LinearSVR                            0.02  \n",
      "Ridge                                0.01  \n",
      "PoissonRegressor                     0.01  \n",
      "LinearRegression                     0.01  \n",
      "TransformedTargetRegressor           0.01  \n",
      "RidgeCV                              0.01  \n",
      "DecisionTreeRegressor                0.01  \n",
      "GradientBoostingRegressor            0.03  \n",
      "ExtraTreeRegressor                   0.01  \n",
      "GammaRegressor                       0.01  \n",
      "TweedieRegressor                     0.01  \n",
      "OrthogonalMatchingPursuitCV          0.01  \n",
      "ExtraTreesRegressor                  0.06  \n",
      "OrthogonalMatchingPursuit            0.01  \n",
      "KNeighborsRegressor                  0.01  \n",
      "BaggingRegressor                     0.04  \n",
      "QuantileRegressor                    0.02  \n",
      "RandomForestRegressor                0.08  \n",
      "LassoCV                              0.28  \n",
      "ElasticNetCV                         0.34  \n",
      "BayesianRidge                        0.01  \n",
      "LassoLarsCV                          0.03  \n",
      "LarsCV                               0.04  \n",
      "NuSVR                                0.01  \n",
      "SVR                                  0.01  \n",
      "LassoLars                            0.01  \n",
      "Lasso                                0.01  \n",
      "ElasticNet                           0.01  \n",
      "DummyRegressor                       0.01  \n",
      "AdaBoostRegressor                    0.10  \n",
      "HistGradientBoostingRegressor        0.21  \n"
     ]
    },
    {
     "name": "stderr",
     "output_type": "stream",
     "text": [
      "\n"
     ]
    }
   ],
   "source": [
    "models_oura = lazy_regressor(X, y_oura, test_size = 0.2, random_state = 2, regressor = reg)\n",
    "\n",
    "print(models_oura)"
   ]
  },
  {
   "attachments": {},
   "cell_type": "markdown",
   "metadata": {},
   "source": [
    "#### Subjective sleep scores"
   ]
  },
  {
   "cell_type": "code",
   "execution_count": 15,
   "metadata": {},
   "outputs": [
    {
     "name": "stdout",
     "output_type": "stream",
     "text": [
      "'tuple' object has no attribute '__name__'\n",
      "Invalid Regressor(s)\n"
     ]
    },
    {
     "name": "stderr",
     "output_type": "stream",
     "text": [
      " 65%|██████▌   | 26/40 [00:01<00:00, 18.03it/s]"
     ]
    },
    {
     "name": "stdout",
     "output_type": "stream",
     "text": [
      "LassoLarsIC model failed to execute\n",
      "You are using LassoLarsIC in the case where the number of samples is smaller than the number of features. In this setting, getting a good estimate for the variance of the noise is not possible. Provide an estimate of the noise variance in the constructor.\n"
     ]
    },
    {
     "name": "stderr",
     "output_type": "stream",
     "text": [
      "100%|██████████| 40/40 [00:01<00:00, 22.31it/s]"
     ]
    },
    {
     "name": "stdout",
     "output_type": "stream",
     "text": [
      "                               Adjusted R-Squared  R-Squared  RMSE  Time Taken\n",
      "Model                                                                         \n",
      "Lars                                       212.88    -655.83 12.33        0.01\n",
      "GaussianProcessRegressor                    61.98    -188.03  6.61        0.01\n",
      "LinearRegression                             7.16     -18.10  2.10        0.01\n",
      "TransformedTargetRegressor                   7.16     -18.10  2.10        0.01\n",
      "KernelRidge                                  6.04     -14.63  1.90        0.01\n",
      "MLPRegressor                                 5.90     -14.20  1.88        0.09\n",
      "LinearSVR                                    5.04     -11.53  1.70        0.01\n",
      "HuberRegressor                               4.67     -10.37  1.62        0.02\n",
      "RANSACRegressor                              4.60     -10.15  1.61        0.07\n",
      "SGDRegressor                                 3.98      -8.25  1.46        0.01\n",
      "PassiveAggressiveRegressor                   2.91      -4.93  1.17        0.01\n",
      "Ridge                                        2.91      -4.91  1.17        0.01\n",
      "ExtraTreeRegressor                           2.90      -4.89  1.17        0.01\n",
      "PoissonRegressor                             2.35      -3.20  0.99        0.01\n",
      "RidgeCV                                      2.24      -2.85  0.94        0.01\n",
      "KNeighborsRegressor                          1.90      -1.78  0.80        0.01\n",
      "GammaRegressor                               1.82      -1.54  0.77        0.01\n",
      "TweedieRegressor                             1.80      -1.48  0.76        0.01\n",
      "OrthogonalMatchingPursuitCV                  1.80      -1.48  0.76        0.01\n",
      "SVR                                          1.72      -1.23  0.72        0.01\n",
      "NuSVR                                        1.69      -1.14  0.70        0.01\n",
      "GradientBoostingRegressor                    1.64      -0.97  0.68        0.03\n",
      "DecisionTreeRegressor                        1.63      -0.96  0.67        0.01\n",
      "AdaBoostRegressor                            1.57      -0.75  0.64        0.05\n",
      "HistGradientBoostingRegressor                1.56      -0.75  0.64        0.18\n",
      "LassoCV                                      1.56      -0.73  0.63        0.39\n",
      "RandomForestRegressor                        1.55      -0.71  0.63        0.08\n",
      "ElasticNetCV                                 1.55      -0.71  0.63        0.43\n",
      "BaggingRegressor                             1.54      -0.67  0.62        0.02\n",
      "BayesianRidge                                1.53      -0.65  0.62        0.01\n",
      "LassoLarsCV                                  1.53      -0.65  0.62        0.02\n",
      "LassoLars                                    1.53      -0.65  0.62        0.01\n",
      "Lasso                                        1.53      -0.65  0.62        0.02\n",
      "LarsCV                                       1.53      -0.65  0.62        0.05\n",
      "ElasticNet                                   1.53      -0.65  0.62        0.01\n",
      "DummyRegressor                               1.53      -0.65  0.62        0.01\n",
      "OrthogonalMatchingPursuit                    1.53      -0.64  0.62        0.01\n",
      "ExtraTreesRegressor                          1.43      -0.33  0.56        0.06\n",
      "QuantileRegressor                            1.41      -0.28  0.54        0.02\n"
     ]
    },
    {
     "name": "stderr",
     "output_type": "stream",
     "text": [
      "\n"
     ]
    }
   ],
   "source": [
    "models_sub = lazy_regressor(X, y_sub, test_size = 0.2, random_state = 6, regressor = reg)\n",
    "\n",
    "print(models_sub)"
   ]
  },
  {
   "attachments": {},
   "cell_type": "markdown",
   "metadata": {},
   "source": [
    "### LazyRegressor for the factors influencing the sleep scores given the Oura variables only"
   ]
  },
  {
   "cell_type": "code",
   "execution_count": 16,
   "metadata": {},
   "outputs": [],
   "source": [
    "# Separate the indenpendent variables from the dependent variables\n",
    "X = df_oura.drop(labels=['score'], axis=1)"
   ]
  },
  {
   "attachments": {},
   "cell_type": "markdown",
   "metadata": {},
   "source": [
    "#### Oura sleep score"
   ]
  },
  {
   "cell_type": "code",
   "execution_count": 17,
   "metadata": {},
   "outputs": [
    {
     "name": "stdout",
     "output_type": "stream",
     "text": [
      "'tuple' object has no attribute '__name__'\n",
      "Invalid Regressor(s)\n"
     ]
    },
    {
     "name": "stderr",
     "output_type": "stream",
     "text": [
      " 68%|██████▊   | 27/40 [00:00<00:00, 32.04it/s]"
     ]
    },
    {
     "name": "stdout",
     "output_type": "stream",
     "text": [
      "LassoLarsIC model failed to execute\n",
      "You are using LassoLarsIC in the case where the number of samples is smaller than the number of features. In this setting, getting a good estimate for the variance of the noise is not possible. Provide an estimate of the noise variance in the constructor.\n"
     ]
    },
    {
     "name": "stderr",
     "output_type": "stream",
     "text": [
      "100%|██████████| 40/40 [00:01<00:00, 36.15it/s]"
     ]
    },
    {
     "name": "stdout",
     "output_type": "stream",
     "text": [
      "RANSACRegressor model failed to execute\n",
      "`min_samples` may not be larger than number of samples: n_samples = 44.\n",
      "                               Adjusted R-Squared  R-Squared   RMSE  \\\n",
      "Model                                                                 \n",
      "Lars                                     33004.25 -125411.35 130.30   \n",
      "GaussianProcessRegressor                   158.40    -597.12   9.00   \n",
      "MLPRegressor                                 4.71     -13.11   1.38   \n",
      "QuantileRegressor                            1.35      -0.32   0.42   \n",
      "DummyRegressor                               1.30      -0.16   0.40   \n",
      "ElasticNet                                   1.30      -0.16   0.40   \n",
      "Lasso                                        1.30      -0.16   0.40   \n",
      "LassoLars                                    1.30      -0.16   0.40   \n",
      "KNeighborsRegressor                          1.16       0.40   0.29   \n",
      "ExtraTreeRegressor                           1.14       0.46   0.27   \n",
      "HistGradientBoostingRegressor                1.13       0.52   0.26   \n",
      "SVR                                          1.10       0.60   0.23   \n",
      "NuSVR                                        1.09       0.65   0.22   \n",
      "DecisionTreeRegressor                        1.08       0.70   0.20   \n",
      "PassiveAggressiveRegressor                   1.06       0.77   0.18   \n",
      "BaggingRegressor                             1.05       0.80   0.16   \n",
      "AdaBoostRegressor                            1.04       0.87   0.13   \n",
      "RandomForestRegressor                        1.03       0.87   0.13   \n",
      "KernelRidge                                  1.02       0.91   0.11   \n",
      "GammaRegressor                               1.02       0.92   0.11   \n",
      "TweedieRegressor                             1.02       0.92   0.10   \n",
      "GradientBoostingRegressor                    1.01       0.95   0.08   \n",
      "ExtraTreesRegressor                          1.01       0.96   0.07   \n",
      "SGDRegressor                                 1.01       0.96   0.07   \n",
      "TransformedTargetRegressor                   1.01       0.98   0.06   \n",
      "LinearRegression                             1.01       0.98   0.06   \n",
      "PoissonRegressor                             1.00       0.99   0.04   \n",
      "OrthogonalMatchingPursuitCV                  1.00       0.99   0.03   \n",
      "OrthogonalMatchingPursuit                    1.00       0.99   0.03   \n",
      "HuberRegressor                               1.00       0.99   0.03   \n",
      "LassoLarsCV                                  1.00       0.99   0.03   \n",
      "LarsCV                                       1.00       0.99   0.03   \n",
      "LassoCV                                      1.00       0.99   0.03   \n",
      "ElasticNetCV                                 1.00       0.99   0.03   \n",
      "LinearSVR                                    1.00       1.00   0.02   \n",
      "BayesianRidge                                1.00       1.00   0.02   \n",
      "RidgeCV                                      1.00       1.00   0.02   \n",
      "Ridge                                        1.00       1.00   0.02   \n",
      "\n",
      "                               Time Taken  \n",
      "Model                                      \n",
      "Lars                                 0.01  \n",
      "GaussianProcessRegressor             0.01  \n",
      "MLPRegressor                         0.11  \n",
      "QuantileRegressor                    0.03  \n",
      "DummyRegressor                       0.01  \n",
      "ElasticNet                           0.01  \n",
      "Lasso                                0.01  \n",
      "LassoLars                            0.01  \n",
      "KNeighborsRegressor                  0.01  \n",
      "ExtraTreeRegressor                   0.01  \n",
      "HistGradientBoostingRegressor        0.15  \n",
      "SVR                                  0.01  \n",
      "NuSVR                                0.01  \n",
      "DecisionTreeRegressor                0.01  \n",
      "PassiveAggressiveRegressor           0.01  \n",
      "BaggingRegressor                     0.02  \n",
      "AdaBoostRegressor                    0.08  \n",
      "RandomForestRegressor                0.10  \n",
      "KernelRidge                          0.01  \n",
      "GammaRegressor                       0.01  \n",
      "TweedieRegressor                     0.01  \n",
      "GradientBoostingRegressor            0.04  \n",
      "ExtraTreesRegressor                  0.07  \n",
      "SGDRegressor                         0.01  \n",
      "TransformedTargetRegressor           0.01  \n",
      "LinearRegression                     0.01  \n",
      "PoissonRegressor                     0.01  \n",
      "OrthogonalMatchingPursuitCV          0.01  \n",
      "OrthogonalMatchingPursuit            0.01  \n",
      "HuberRegressor                       0.03  \n",
      "LassoLarsCV                          0.04  \n",
      "LarsCV                               0.03  \n",
      "LassoCV                              0.04  \n",
      "ElasticNetCV                         0.05  \n",
      "LinearSVR                            0.02  \n",
      "BayesianRidge                        0.01  \n",
      "RidgeCV                              0.01  \n",
      "Ridge                                0.01  \n"
     ]
    },
    {
     "name": "stderr",
     "output_type": "stream",
     "text": [
      "\n"
     ]
    }
   ],
   "source": [
    "models_oura = lazy_regressor(X, y_oura, test_size = 0.2, random_state = 2, regressor = reg)\n",
    "\n",
    "print(models_oura)"
   ]
  },
  {
   "attachments": {},
   "cell_type": "markdown",
   "metadata": {},
   "source": [
    "#### Subjective sleep scores"
   ]
  },
  {
   "cell_type": "code",
   "execution_count": 18,
   "metadata": {},
   "outputs": [
    {
     "name": "stdout",
     "output_type": "stream",
     "text": [
      "'tuple' object has no attribute '__name__'\n",
      "Invalid Regressor(s)\n"
     ]
    },
    {
     "name": "stderr",
     "output_type": "stream",
     "text": [
      " 65%|██████▌   | 26/40 [00:02<00:01, 12.08it/s]"
     ]
    },
    {
     "name": "stdout",
     "output_type": "stream",
     "text": [
      "LassoLarsIC model failed to execute\n",
      "You are using LassoLarsIC in the case where the number of samples is smaller than the number of features. In this setting, getting a good estimate for the variance of the noise is not possible. Provide an estimate of the noise variance in the constructor.\n"
     ]
    },
    {
     "name": "stderr",
     "output_type": "stream",
     "text": [
      "100%|██████████| 40/40 [00:02<00:00, 15.65it/s]"
     ]
    },
    {
     "name": "stdout",
     "output_type": "stream",
     "text": [
      "RANSACRegressor model failed to execute\n",
      "`min_samples` may not be larger than number of samples: n_samples = 44.\n",
      "                               Adjusted R-Squared  R-Squared  RMSE  Time Taken\n",
      "Model                                                                         \n",
      "Lars                                      1029.15   -3905.97 30.07        0.02\n",
      "GaussianProcessRegressor                    51.34    -190.29  6.65        0.01\n",
      "LinearRegression                            11.84     -40.21  3.09        0.01\n",
      "TransformedTargetRegressor                  11.84     -40.21  3.09        0.01\n",
      "HuberRegressor                              10.23     -34.06  2.85        0.03\n",
      "LinearSVR                                    5.05     -14.40  1.89        0.01\n",
      "MLPRegressor                                 4.88     -13.76  1.85        0.10\n",
      "KernelRidge                                  2.99      -6.55  1.32        0.01\n",
      "PassiveAggressiveRegressor                   2.92      -6.28  1.30        0.01\n",
      "Ridge                                        2.90      -6.22  1.29        0.01\n",
      "ExtraTreeRegressor                           1.83      -2.14  0.85        0.01\n",
      "DecisionTreeRegressor                        1.72      -1.75  0.80        0.01\n",
      "PoissonRegressor                             1.70      -1.67  0.79        0.01\n",
      "SGDRegressor                                 1.70      -1.64  0.78        0.01\n",
      "HistGradientBoostingRegressor                1.65      -1.46  0.75        0.19\n",
      "RidgeCV                                      1.62      -1.35  0.74        0.01\n",
      "AdaBoostRegressor                            1.54      -1.04  0.69        0.06\n",
      "GradientBoostingRegressor                    1.48      -0.84  0.65        0.05\n",
      "BaggingRegressor                             1.48      -0.84  0.65        0.02\n",
      "GammaRegressor                               1.47      -0.79  0.64        0.01\n",
      "OrthogonalMatchingPursuit                    1.45      -0.70  0.63        0.01\n",
      "TweedieRegressor                             1.45      -0.69  0.63        0.01\n",
      "ExtraTreesRegressor                          1.43      -0.65  0.62        0.07\n",
      "LassoLarsCV                                  1.43      -0.65  0.62        0.04\n",
      "LassoLars                                    1.43      -0.65  0.62        0.01\n",
      "Lasso                                        1.43      -0.65  0.62        0.01\n",
      "ElasticNetCV                                 1.43      -0.65  0.62        0.74\n",
      "ElasticNet                                   1.43      -0.65  0.62        0.01\n",
      "DummyRegressor                               1.43      -0.65  0.62        0.01\n",
      "LassoCV                                      1.43      -0.65  0.62        0.79\n",
      "LarsCV                                       1.41      -0.54  0.60        0.03\n",
      "BayesianRidge                                1.38      -0.46  0.58        0.01\n",
      "RandomForestRegressor                        1.38      -0.43  0.58        0.10\n",
      "NuSVR                                        1.35      -0.32  0.55        0.01\n",
      "QuantileRegressor                            1.34      -0.30  0.55        0.02\n",
      "SVR                                          1.34      -0.28  0.54        0.01\n",
      "KNeighborsRegressor                          1.33      -0.27  0.54        0.01\n",
      "OrthogonalMatchingPursuitCV                  1.33      -0.24  0.54        0.01\n"
     ]
    },
    {
     "name": "stderr",
     "output_type": "stream",
     "text": [
      "\n"
     ]
    }
   ],
   "source": [
    "models_sub = lazy_regressor(X, y_sub, test_size = 0.2, random_state = 6, regressor = reg)\n",
    "\n",
    "print(models_sub)"
   ]
  },
  {
   "attachments": {},
   "cell_type": "markdown",
   "metadata": {},
   "source": [
    "### LazyRegressor for the factors influencing the average HRV given all the variables"
   ]
  },
  {
   "cell_type": "code",
   "execution_count": 19,
   "metadata": {},
   "outputs": [],
   "source": [
    "# Separate the indenpendent variables from the dependent variables\n",
    "y_hrv = df['average_hrv']\n",
    "X_hrv = df.drop(labels=['average_hrv'], axis=1)"
   ]
  },
  {
   "cell_type": "code",
   "execution_count": 20,
   "metadata": {},
   "outputs": [
    {
     "name": "stdout",
     "output_type": "stream",
     "text": [
      "'tuple' object has no attribute '__name__'\n",
      "Invalid Regressor(s)\n"
     ]
    },
    {
     "name": "stderr",
     "output_type": "stream",
     "text": [
      " 65%|██████▌   | 26/40 [00:01<00:00, 24.52it/s]"
     ]
    },
    {
     "name": "stdout",
     "output_type": "stream",
     "text": [
      "LassoLarsIC model failed to execute\n",
      "You are using LassoLarsIC in the case where the number of samples is smaller than the number of features. In this setting, getting a good estimate for the variance of the noise is not possible. Provide an estimate of the noise variance in the constructor.\n"
     ]
    },
    {
     "name": "stderr",
     "output_type": "stream",
     "text": [
      "100%|██████████| 40/40 [00:01<00:00, 30.11it/s]"
     ]
    },
    {
     "name": "stdout",
     "output_type": "stream",
     "text": [
      "RANSACRegressor model failed to execute\n",
      "`min_samples` may not be larger than number of samples: n_samples = 44.\n",
      "                                                              Adjusted R-Squared  \\\n",
      "Model                                                                              \n",
      "Lars                          50498121913902372371518224500303226187335954109...   \n",
      "GaussianProcessRegressor                                                    6.94   \n",
      "MLPRegressor                                                                1.65   \n",
      "KernelRidge                                                                 1.27   \n",
      "LinearSVR                                                                   1.21   \n",
      "HuberRegressor                                                              1.21   \n",
      "PassiveAggressiveRegressor                                                  1.20   \n",
      "SGDRegressor                                                                1.16   \n",
      "DummyRegressor                                                              1.13   \n",
      "LassoLars                                                                   1.13   \n",
      "QuantileRegressor                                                           1.13   \n",
      "NuSVR                                                                       1.12   \n",
      "ExtraTreeRegressor                                                          1.12   \n",
      "DecisionTreeRegressor                                                       1.12   \n",
      "SVR                                                                         1.11   \n",
      "KNeighborsRegressor                                                         1.09   \n",
      "OrthogonalMatchingPursuitCV                                                 1.07   \n",
      "LinearRegression                                                            1.07   \n",
      "TransformedTargetRegressor                                                  1.07   \n",
      "PoissonRegressor                                                            1.06   \n",
      "Ridge                                                                       1.06   \n",
      "AdaBoostRegressor                                                           1.06   \n",
      "BaggingRegressor                                                            1.06   \n",
      "LarsCV                                                                      1.05   \n",
      "LassoLarsCV                                                                 1.05   \n",
      "HistGradientBoostingRegressor                                               1.05   \n",
      "GradientBoostingRegressor                                                   1.05   \n",
      "ExtraTreesRegressor                                                         1.05   \n",
      "TweedieRegressor                                                            1.05   \n",
      "Lasso                                                                       1.05   \n",
      "GammaRegressor                                                              1.05   \n",
      "RidgeCV                                                                     1.05   \n",
      "BayesianRidge                                                               1.05   \n",
      "RandomForestRegressor                                                       1.05   \n",
      "LassoCV                                                                     1.04   \n",
      "ElasticNet                                                                  1.04   \n",
      "ElasticNetCV                                                                1.04   \n",
      "OrthogonalMatchingPursuit                                                   1.04   \n",
      "\n",
      "                                                                       R-Squared  \\\n",
      "Model                                                                              \n",
      "Lars                          -3938853509284385725543155352900578569361419284...   \n",
      "GaussianProcessRegressor                                                  -45.31   \n",
      "MLPRegressor                                                               -4.07   \n",
      "KernelRidge                                                                -1.13   \n",
      "LinearSVR                                                                  -0.67   \n",
      "HuberRegressor                                                             -0.64   \n",
      "PassiveAggressiveRegressor                                                 -0.53   \n",
      "SGDRegressor                                                               -0.27   \n",
      "DummyRegressor                                                             -0.04   \n",
      "LassoLars                                                                  -0.04   \n",
      "QuantileRegressor                                                          -0.00   \n",
      "NuSVR                                                                       0.05   \n",
      "ExtraTreeRegressor                                                          0.07   \n",
      "DecisionTreeRegressor                                                       0.09   \n",
      "SVR                                                                         0.15   \n",
      "KNeighborsRegressor                                                         0.30   \n",
      "OrthogonalMatchingPursuitCV                                                 0.43   \n",
      "LinearRegression                                                            0.43   \n",
      "TransformedTargetRegressor                                                  0.43   \n",
      "PoissonRegressor                                                            0.52   \n",
      "Ridge                                                                       0.52   \n",
      "AdaBoostRegressor                                                           0.52   \n",
      "BaggingRegressor                                                            0.53   \n",
      "LarsCV                                                                      0.58   \n",
      "LassoLarsCV                                                                 0.58   \n",
      "HistGradientBoostingRegressor                                               0.58   \n",
      "GradientBoostingRegressor                                                   0.58   \n",
      "ExtraTreesRegressor                                                         0.58   \n",
      "TweedieRegressor                                                            0.58   \n",
      "Lasso                                                                       0.59   \n",
      "GammaRegressor                                                              0.59   \n",
      "RidgeCV                                                                     0.59   \n",
      "BayesianRidge                                                               0.60   \n",
      "RandomForestRegressor                                                       0.63   \n",
      "LassoCV                                                                     0.66   \n",
      "ElasticNet                                                                  0.66   \n",
      "ElasticNetCV                                                                0.67   \n",
      "OrthogonalMatchingPursuit                                                   0.72   \n",
      "\n",
      "                                                         RMSE  Time Taken  \n",
      "Model                                                                      \n",
      "Lars                          4043249891973937938915393536.00        0.02  \n",
      "GaussianProcessRegressor                                43.84        0.01  \n",
      "MLPRegressor                                            14.51        0.09  \n",
      "KernelRidge                                              9.41        0.01  \n",
      "LinearSVR                                                8.32        0.01  \n",
      "HuberRegressor                                           8.26        0.03  \n",
      "PassiveAggressiveRegressor                               7.96        0.01  \n",
      "SGDRegressor                                             7.27        0.01  \n",
      "DummyRegressor                                           6.56        0.01  \n",
      "LassoLars                                                6.56        0.01  \n",
      "QuantileRegressor                                        6.45        0.02  \n",
      "NuSVR                                                    6.29        0.01  \n",
      "ExtraTreeRegressor                                       6.20        0.01  \n",
      "DecisionTreeRegressor                                    6.16        0.01  \n",
      "SVR                                                      5.94        0.01  \n",
      "KNeighborsRegressor                                      5.39        0.01  \n",
      "OrthogonalMatchingPursuitCV                              4.85        0.01  \n",
      "LinearRegression                                         4.84        0.01  \n",
      "TransformedTargetRegressor                               4.84        0.01  \n",
      "PoissonRegressor                                         4.48        0.02  \n",
      "Ridge                                                    4.46        0.01  \n",
      "AdaBoostRegressor                                        4.45        0.06  \n",
      "BaggingRegressor                                         4.41        0.02  \n",
      "LarsCV                                                   4.20        0.05  \n",
      "LassoLarsCV                                              4.20        0.03  \n",
      "HistGradientBoostingRegressor                            4.18        0.16  \n",
      "GradientBoostingRegressor                                4.18        0.05  \n",
      "ExtraTreesRegressor                                      4.16        0.09  \n",
      "TweedieRegressor                                         4.15        0.01  \n",
      "Lasso                                                    4.12        0.01  \n",
      "GammaRegressor                                           4.11        0.01  \n",
      "RidgeCV                                                  4.11        0.01  \n",
      "BayesianRidge                                            4.07        0.01  \n",
      "RandomForestRegressor                                    3.93        0.11  \n",
      "LassoCV                                                  3.77        0.19  \n",
      "ElasticNet                                               3.74        0.01  \n",
      "ElasticNetCV                                             3.71        0.10  \n",
      "OrthogonalMatchingPursuit                                3.41        0.01  \n"
     ]
    },
    {
     "name": "stderr",
     "output_type": "stream",
     "text": [
      "\n"
     ]
    }
   ],
   "source": [
    "models_hrv = lazy_regressor(X_hrv, y_hrv, test_size = 0.2, random_state = 5, regressor = reg)\n",
    "\n",
    "print(models_hrv)"
   ]
  },
  {
   "attachments": {},
   "cell_type": "markdown",
   "metadata": {},
   "source": [
    "### LazyRegressor for the factors influencing the average HRV given the questionnaire variables only"
   ]
  },
  {
   "cell_type": "code",
   "execution_count": 21,
   "metadata": {},
   "outputs": [],
   "source": [
    "X_hrv = df_quest"
   ]
  },
  {
   "cell_type": "code",
   "execution_count": 22,
   "metadata": {},
   "outputs": [
    {
     "name": "stdout",
     "output_type": "stream",
     "text": [
      "'tuple' object has no attribute '__name__'\n",
      "Invalid Regressor(s)\n"
     ]
    },
    {
     "name": "stderr",
     "output_type": "stream",
     "text": [
      " 65%|██████▌   | 26/40 [00:01<00:00, 15.53it/s]"
     ]
    },
    {
     "name": "stdout",
     "output_type": "stream",
     "text": [
      "LassoLarsIC model failed to execute\n",
      "You are using LassoLarsIC in the case where the number of samples is smaller than the number of features. In this setting, getting a good estimate for the variance of the noise is not possible. Provide an estimate of the noise variance in the constructor.\n"
     ]
    },
    {
     "name": "stderr",
     "output_type": "stream",
     "text": [
      "100%|██████████| 40/40 [00:01<00:00, 21.85it/s]"
     ]
    },
    {
     "name": "stdout",
     "output_type": "stream",
     "text": [
      "RANSACRegressor model failed to execute\n",
      "`min_samples` may not be larger than number of samples: n_samples = 44.\n",
      "                               Adjusted R-Squared  R-Squared  RMSE  Time Taken\n",
      "Model                                                                         \n",
      "GaussianProcessRegressor                    15.36     -44.95 43.67        0.01\n",
      "MLPRegressor                                 5.60     -13.71 24.71        0.15\n",
      "KernelRidge                                  5.13     -12.22 23.42        0.01\n",
      "Lars                                         4.41      -9.91 21.28        0.02\n",
      "PassiveAggressiveRegressor                   3.20      -6.05 17.11        0.01\n",
      "LinearRegression                             2.90      -5.08 15.89        0.01\n",
      "TransformedTargetRegressor                   2.90      -5.08 15.89        0.01\n",
      "LinearSVR                                    2.50      -3.79 14.10        0.01\n",
      "SGDRegressor                                 2.49      -3.77 14.07        0.01\n",
      "HuberRegressor                               2.28      -3.09 13.03        0.03\n",
      "Ridge                                        1.88      -1.81 10.81        0.01\n",
      "PoissonRegressor                             1.82      -1.63 10.44        0.02\n",
      "ExtraTreeRegressor                           1.52      -0.66  8.30        0.01\n",
      "ExtraTreesRegressor                          1.46      -0.46  7.79        0.08\n",
      "RidgeCV                                      1.45      -0.43  7.70        0.01\n",
      "KNeighborsRegressor                          1.41      -0.32  7.41        0.01\n",
      "OrthogonalMatchingPursuitCV                  1.38      -0.22  7.11        0.01\n",
      "OrthogonalMatchingPursuit                    1.38      -0.21  7.09        0.01\n",
      "DecisionTreeRegressor                        1.36      -0.15  6.90        0.02\n",
      "GammaRegressor                               1.34      -0.07  6.68        0.01\n",
      "NuSVR                                        1.33      -0.06  6.65        0.02\n",
      "TweedieRegressor                             1.33      -0.06  6.64        0.01\n",
      "LassoCV                                      1.33      -0.05  6.62        0.48\n",
      "Lasso                                        1.33      -0.04  6.58        0.01\n",
      "RandomForestRegressor                        1.33      -0.04  6.58        0.09\n",
      "LassoLarsCV                                  1.33      -0.04  6.58        0.03\n",
      "LarsCV                                       1.33      -0.04  6.58        0.04\n",
      "LassoLars                                    1.32      -0.04  6.56        0.01\n",
      "DummyRegressor                               1.32      -0.04  6.56        0.01\n",
      "ElasticNetCV                                 1.32      -0.03  6.55        0.19\n",
      "ElasticNet                                   1.32      -0.03  6.55        0.01\n",
      "BayesianRidge                                1.32      -0.01  6.47        0.02\n",
      "QuantileRegressor                            1.31      -0.00  6.45        0.02\n",
      "HistGradientBoostingRegressor                1.31       0.01  6.42        0.24\n",
      "SVR                                          1.31       0.01  6.42        0.01\n",
      "AdaBoostRegressor                            1.31       0.01  6.40        0.08\n",
      "BaggingRegressor                             1.30       0.05  6.26        0.02\n",
      "GradientBoostingRegressor                    1.28       0.10  6.13        0.03\n"
     ]
    },
    {
     "name": "stderr",
     "output_type": "stream",
     "text": [
      "\n"
     ]
    }
   ],
   "source": [
    "models_hrv = lazy_regressor(X_hrv, y_hrv, test_size = 0.2, random_state = 5, regressor = reg)\n",
    "\n",
    "print(models_hrv)"
   ]
  },
  {
   "attachments": {},
   "cell_type": "markdown",
   "metadata": {},
   "source": [
    "### LazyRegressor for the factors influencing the average HRV given the Oura variables only"
   ]
  },
  {
   "cell_type": "code",
   "execution_count": 23,
   "metadata": {},
   "outputs": [],
   "source": [
    "X_hrv = df_oura.drop(labels=['average_hrv'], axis=1)"
   ]
  },
  {
   "cell_type": "code",
   "execution_count": 24,
   "metadata": {},
   "outputs": [
    {
     "name": "stdout",
     "output_type": "stream",
     "text": [
      "'tuple' object has no attribute '__name__'\n",
      "Invalid Regressor(s)\n"
     ]
    },
    {
     "name": "stderr",
     "output_type": "stream",
     "text": [
      " 65%|██████▌   | 26/40 [00:01<00:00, 14.28it/s]"
     ]
    },
    {
     "name": "stdout",
     "output_type": "stream",
     "text": [
      "LassoLarsIC model failed to execute\n",
      "You are using LassoLarsIC in the case where the number of samples is smaller than the number of features. In this setting, getting a good estimate for the variance of the noise is not possible. Provide an estimate of the noise variance in the constructor.\n"
     ]
    },
    {
     "name": "stderr",
     "output_type": "stream",
     "text": [
      "100%|██████████| 40/40 [00:01<00:00, 20.62it/s]"
     ]
    },
    {
     "name": "stdout",
     "output_type": "stream",
     "text": [
      "RANSACRegressor model failed to execute\n",
      "`min_samples` may not be larger than number of samples: n_samples = 44.\n",
      "                               Adjusted R-Squared  R-Squared   RMSE  \\\n",
      "Model                                                                 \n",
      "Lars                                       270.94   -1024.77 206.33   \n",
      "GaussianProcessRegressor                    13.18     -45.30  43.84   \n",
      "MLPRegressor                                 3.23      -7.47  18.75   \n",
      "DecisionTreeRegressor                        1.28      -0.08   6.70   \n",
      "DummyRegressor                               1.27      -0.04   6.56   \n",
      "LassoLars                                    1.27      -0.04   6.56   \n",
      "LinearRegression                             1.27      -0.01   6.47   \n",
      "TransformedTargetRegressor                   1.27      -0.01   6.47   \n",
      "QuantileRegressor                            1.26      -0.00   6.45   \n",
      "HuberRegressor                               1.25       0.04   6.32   \n",
      "NuSVR                                        1.24       0.08   6.19   \n",
      "SVR                                          1.22       0.18   5.83   \n",
      "ExtraTreeRegressor                           1.15       0.44   4.81   \n",
      "PassiveAggressiveRegressor                   1.14       0.46   4.74   \n",
      "KNeighborsRegressor                          1.14       0.47   4.68   \n",
      "LinearSVR                                    1.13       0.49   4.60   \n",
      "AdaBoostRegressor                            1.13       0.51   4.53   \n",
      "LassoLarsCV                                  1.12       0.53   4.40   \n",
      "GradientBoostingRegressor                    1.11       0.57   4.20   \n",
      "Lasso                                        1.11       0.59   4.14   \n",
      "HistGradientBoostingRegressor                1.11       0.59   4.12   \n",
      "ExtraTreesRegressor                          1.10       0.61   4.04   \n",
      "RandomForestRegressor                        1.10       0.61   4.01   \n",
      "LassoCV                                      1.10       0.61   4.00   \n",
      "PoissonRegressor                             1.10       0.63   3.93   \n",
      "KernelRidge                                  1.09       0.65   3.84   \n",
      "Ridge                                        1.09       0.67   3.69   \n",
      "SGDRegressor                                 1.08       0.68   3.65   \n",
      "BaggingRegressor                             1.08       0.68   3.65   \n",
      "TweedieRegressor                             1.08       0.69   3.59   \n",
      "GammaRegressor                               1.08       0.70   3.53   \n",
      "OrthogonalMatchingPursuit                    1.08       0.70   3.51   \n",
      "ElasticNet                                   1.08       0.71   3.48   \n",
      "OrthogonalMatchingPursuitCV                  1.07       0.72   3.43   \n",
      "BayesianRidge                                1.07       0.73   3.37   \n",
      "RidgeCV                                      1.07       0.74   3.31   \n",
      "ElasticNetCV                                 1.07       0.74   3.27   \n",
      "LarsCV                                       1.07       0.75   3.24   \n",
      "\n",
      "                               Time Taken  \n",
      "Model                                      \n",
      "Lars                                 0.01  \n",
      "GaussianProcessRegressor             0.02  \n",
      "MLPRegressor                         0.09  \n",
      "DecisionTreeRegressor                0.01  \n",
      "DummyRegressor                       0.01  \n",
      "LassoLars                            0.01  \n",
      "LinearRegression                     0.01  \n",
      "TransformedTargetRegressor           0.01  \n",
      "QuantileRegressor                    0.02  \n",
      "HuberRegressor                       0.03  \n",
      "NuSVR                                0.01  \n",
      "SVR                                  0.01  \n",
      "ExtraTreeRegressor                   0.01  \n",
      "PassiveAggressiveRegressor           0.01  \n",
      "KNeighborsRegressor                  0.01  \n",
      "LinearSVR                            0.01  \n",
      "AdaBoostRegressor                    0.05  \n",
      "LassoLarsCV                          0.04  \n",
      "GradientBoostingRegressor            0.05  \n",
      "Lasso                                0.01  \n",
      "HistGradientBoostingRegressor        0.21  \n",
      "ExtraTreesRegressor                  0.08  \n",
      "RandomForestRegressor                0.11  \n",
      "LassoCV                              0.56  \n",
      "PoissonRegressor                     0.02  \n",
      "KernelRidge                          0.01  \n",
      "Ridge                                0.01  \n",
      "SGDRegressor                         0.01  \n",
      "BaggingRegressor                     0.02  \n",
      "TweedieRegressor                     0.01  \n",
      "GammaRegressor                       0.01  \n",
      "OrthogonalMatchingPursuit            0.01  \n",
      "ElasticNet                           0.01  \n",
      "OrthogonalMatchingPursuitCV          0.01  \n",
      "BayesianRidge                        0.01  \n",
      "RidgeCV                              0.01  \n",
      "ElasticNetCV                         0.30  \n",
      "LarsCV                               0.04  \n"
     ]
    },
    {
     "name": "stderr",
     "output_type": "stream",
     "text": [
      "\n"
     ]
    }
   ],
   "source": [
    "models_hrv = lazy_regressor(X_hrv, y_hrv, test_size = 0.2, random_state = 5, regressor = reg)\n",
    "\n",
    "print(models_hrv)"
   ]
  },
  {
   "attachments": {},
   "cell_type": "markdown",
   "metadata": {},
   "source": [
    "### LazyRegressor for the factors influencing the total sleep duration given all variables"
   ]
  },
  {
   "cell_type": "code",
   "execution_count": 25,
   "metadata": {},
   "outputs": [],
   "source": [
    "# Separate the indenpendent variables from the dependent variables\n",
    "# For the total sleep duration, only consider the days for which a person woke up naturally\n",
    "y_total_sleep = df[df['Naturally'] == 1]['total_sleep_duration']\n",
    "X_total_sleep = df[df['Naturally'] == 1]\n",
    "X_total_sleep = X_total_sleep.drop(labels=['total_sleep_duration', 'deep_sleep_duration', 'light_sleep_duration', 'contributors.total_sleep', 'contributors.deep_sleep', 'contributors.rem_sleep', 'rem_sleep_duration', 'time_in_bed', 'bedtime_start_delta', 'bedtime_end_delta', 'bedtime_end_seconds', 'bed_time'], axis=1)"
   ]
  },
  {
   "cell_type": "code",
   "execution_count": 26,
   "metadata": {},
   "outputs": [
    {
     "name": "stdout",
     "output_type": "stream",
     "text": [
      "'tuple' object has no attribute '__name__'\n",
      "Invalid Regressor(s)\n"
     ]
    },
    {
     "name": "stderr",
     "output_type": "stream",
     "text": [
      " 65%|██████▌   | 26/40 [00:00<00:00, 27.48it/s]"
     ]
    },
    {
     "name": "stdout",
     "output_type": "stream",
     "text": [
      "LassoLarsIC model failed to execute\n",
      "You are using LassoLarsIC in the case where the number of samples is smaller than the number of features. In this setting, getting a good estimate for the variance of the noise is not possible. Provide an estimate of the noise variance in the constructor.\n"
     ]
    },
    {
     "name": "stderr",
     "output_type": "stream",
     "text": [
      " 90%|█████████ | 36/40 [00:01<00:00, 31.20it/s]"
     ]
    },
    {
     "name": "stdout",
     "output_type": "stream",
     "text": [
      "RANSACRegressor model failed to execute\n",
      "`min_samples` may not be larger than number of samples: n_samples = 37.\n"
     ]
    },
    {
     "name": "stderr",
     "output_type": "stream",
     "text": [
      "100%|██████████| 40/40 [00:01<00:00, 32.13it/s]"
     ]
    },
    {
     "name": "stdout",
     "output_type": "stream",
     "text": [
      "                                                              Adjusted R-Squared  \\\n",
      "Model                                                                              \n",
      "Lars                          36179072918332640373649557110042654615147642880...   \n",
      "GaussianProcessRegressor                                                   17.59   \n",
      "MLPRegressor                                                               17.55   \n",
      "LinearSVR                                                                  17.44   \n",
      "ExtraTreeRegressor                                                          1.19   \n",
      "DecisionTreeRegressor                                                       1.15   \n",
      "DummyRegressor                                                              1.14   \n",
      "HistGradientBoostingRegressor                                               1.14   \n",
      "QuantileRegressor                                                           1.13   \n",
      "SVR                                                                         1.13   \n",
      "NuSVR                                                                       1.13   \n",
      "Lasso                                                                       1.08   \n",
      "KernelRidge                                                                 1.08   \n",
      "LassoLars                                                                   1.08   \n",
      "KNeighborsRegressor                                                         1.07   \n",
      "HuberRegressor                                                              1.07   \n",
      "SGDRegressor                                                                1.07   \n",
      "PassiveAggressiveRegressor                                                  1.06   \n",
      "AdaBoostRegressor                                                           1.05   \n",
      "BaggingRegressor                                                            1.05   \n",
      "LinearRegression                                                            1.04   \n",
      "TransformedTargetRegressor                                                  1.04   \n",
      "BayesianRidge                                                               1.04   \n",
      "RandomForestRegressor                                                       1.04   \n",
      "ExtraTreesRegressor                                                         1.04   \n",
      "GradientBoostingRegressor                                                   1.04   \n",
      "Ridge                                                                       1.03   \n",
      "RidgeCV                                                                     1.03   \n",
      "LarsCV                                                                      1.03   \n",
      "OrthogonalMatchingPursuit                                                   1.03   \n",
      "ElasticNetCV                                                                1.03   \n",
      "PoissonRegressor                                                            1.02   \n",
      "OrthogonalMatchingPursuitCV                                                 1.02   \n",
      "LassoLarsCV                                                                 1.02   \n",
      "LassoCV                                                                     1.02   \n",
      "GammaRegressor                                                              1.02   \n",
      "TweedieRegressor                                                            1.01   \n",
      "ElasticNet                                                                  1.01   \n",
      "\n",
      "                                                                       R-Squared  \\\n",
      "Model                                                                              \n",
      "Lars                          -2733529953829577326762169924718788368114936446...   \n",
      "GaussianProcessRegressor                                                 -124.38   \n",
      "MLPRegressor                                                             -124.01   \n",
      "LinearSVR                                                                -123.22   \n",
      "ExtraTreeRegressor                                                         -0.45   \n",
      "DecisionTreeRegressor                                                      -0.16   \n",
      "DummyRegressor                                                             -0.03   \n",
      "HistGradientBoostingRegressor                                              -0.03   \n",
      "QuantileRegressor                                                          -0.00   \n",
      "SVR                                                                        -0.00   \n",
      "NuSVR                                                                      -0.00   \n",
      "Lasso                                                                       0.37   \n",
      "KernelRidge                                                                 0.39   \n",
      "LassoLars                                                                   0.43   \n",
      "KNeighborsRegressor                                                         0.48   \n",
      "HuberRegressor                                                              0.49   \n",
      "SGDRegressor                                                                0.51   \n",
      "PassiveAggressiveRegressor                                                  0.52   \n",
      "AdaBoostRegressor                                                           0.59   \n",
      "BaggingRegressor                                                            0.60   \n",
      "LinearRegression                                                            0.67   \n",
      "TransformedTargetRegressor                                                  0.67   \n",
      "BayesianRidge                                                               0.67   \n",
      "RandomForestRegressor                                                       0.69   \n",
      "ExtraTreesRegressor                                                         0.71   \n",
      "GradientBoostingRegressor                                                   0.73   \n",
      "Ridge                                                                       0.75   \n",
      "RidgeCV                                                                     0.75   \n",
      "LarsCV                                                                      0.78   \n",
      "OrthogonalMatchingPursuit                                                   0.80   \n",
      "ElasticNetCV                                                                0.80   \n",
      "PoissonRegressor                                                            0.82   \n",
      "OrthogonalMatchingPursuitCV                                                 0.84   \n",
      "LassoLarsCV                                                                 0.84   \n",
      "LassoCV                                                                     0.84   \n",
      "GammaRegressor                                                              0.87   \n",
      "TweedieRegressor                                                            0.89   \n",
      "ElasticNet                                                                  0.93   \n",
      "\n",
      "                                                         RMSE  Time Taken  \n",
      "Model                                                                      \n",
      "Lars                          4380736967915182162914050048.00        0.02  \n",
      "GaussianProcessRegressor                             29668.55        0.01  \n",
      "MLPRegressor                                         29625.23        0.09  \n",
      "LinearSVR                                            29530.69        0.01  \n",
      "ExtraTreeRegressor                                    3186.81        0.01  \n",
      "DecisionTreeRegressor                                 2852.70        0.01  \n",
      "DummyRegressor                                        2684.12        0.01  \n",
      "HistGradientBoostingRegressor                         2684.12        0.11  \n",
      "QuantileRegressor                                     2653.87        0.04  \n",
      "SVR                                                   2653.63        0.01  \n",
      "NuSVR                                                 2651.50        0.01  \n",
      "Lasso                                                 2110.20        0.02  \n",
      "KernelRidge                                           2070.52        0.01  \n",
      "LassoLars                                             2004.96        0.02  \n",
      "KNeighborsRegressor                                   1904.48        0.01  \n",
      "HuberRegressor                                        1895.47        0.03  \n",
      "SGDRegressor                                          1862.52        0.02  \n",
      "PassiveAggressiveRegressor                            1830.69        0.02  \n",
      "AdaBoostRegressor                                     1699.41        0.06  \n",
      "BaggingRegressor                                      1671.89        0.02  \n",
      "LinearRegression                                      1524.54        0.01  \n",
      "TransformedTargetRegressor                            1524.54        0.01  \n",
      "BayesianRidge                                         1524.54        0.02  \n",
      "RandomForestRegressor                                 1480.75        0.11  \n",
      "ExtraTreesRegressor                                   1419.05        0.08  \n",
      "GradientBoostingRegressor                             1387.25        0.04  \n",
      "Ridge                                                 1337.00        0.01  \n",
      "RidgeCV                                               1337.00        0.01  \n",
      "LarsCV                                                1232.19        0.04  \n",
      "OrthogonalMatchingPursuit                             1188.98        0.01  \n",
      "ElasticNetCV                                          1186.08        0.04  \n",
      "PoissonRegressor                                      1119.59        0.02  \n",
      "OrthogonalMatchingPursuitCV                           1075.70        0.02  \n",
      "LassoLarsCV                                           1052.32        0.04  \n",
      "LassoCV                                               1047.02        0.16  \n",
      "GammaRegressor                                         951.42        0.01  \n",
      "TweedieRegressor                                       864.03        0.02  \n",
      "ElasticNet                                             720.09        0.01  \n"
     ]
    },
    {
     "name": "stderr",
     "output_type": "stream",
     "text": [
      "\n"
     ]
    }
   ],
   "source": [
    "models_sleep_duration = lazy_regressor(X_total_sleep, y_total_sleep, test_size = 0.2, random_state = 89, regressor = reg)\n",
    "\n",
    "print(models_sleep_duration)"
   ]
  },
  {
   "attachments": {},
   "cell_type": "markdown",
   "metadata": {},
   "source": [
    "### LazyRegressor for the factors influencing the total sleep duration given the questionnaire variables only"
   ]
  },
  {
   "cell_type": "code",
   "execution_count": 27,
   "metadata": {},
   "outputs": [],
   "source": [
    "X_total_sleep = df_quest[df_quest['Naturally'] == 1]"
   ]
  },
  {
   "cell_type": "code",
   "execution_count": 28,
   "metadata": {},
   "outputs": [
    {
     "name": "stdout",
     "output_type": "stream",
     "text": [
      "'tuple' object has no attribute '__name__'\n",
      "Invalid Regressor(s)\n"
     ]
    },
    {
     "name": "stderr",
     "output_type": "stream",
     "text": [
      " 65%|██████▌   | 26/40 [00:01<00:00, 21.38it/s]"
     ]
    },
    {
     "name": "stdout",
     "output_type": "stream",
     "text": [
      "LassoLarsIC model failed to execute\n",
      "You are using LassoLarsIC in the case where the number of samples is smaller than the number of features. In this setting, getting a good estimate for the variance of the noise is not possible. Provide an estimate of the noise variance in the constructor.\n"
     ]
    },
    {
     "name": "stderr",
     "output_type": "stream",
     "text": [
      "100%|██████████| 40/40 [00:01<00:00, 29.44it/s]"
     ]
    },
    {
     "name": "stdout",
     "output_type": "stream",
     "text": [
      "RANSACRegressor model failed to execute\n",
      "`min_samples` may not be larger than number of samples: n_samples = 37.\n",
      "                               Adjusted R-Squared  R-Squared      RMSE  \\\n",
      "Model                                                                    \n",
      "Lars                                     35301.88 -129435.55 953265.17   \n",
      "MLPRegressor                                35.14    -124.18  29645.58   \n",
      "LinearSVR                                   35.05    -123.84  29604.39   \n",
      "GaussianProcessRegressor                    34.93    -123.42  29555.20   \n",
      "PoissonRegressor                            12.26     -40.29  17025.57   \n",
      "TransformedTargetRegressor                   6.75     -20.07  12162.50   \n",
      "LinearRegression                             6.75     -20.07  12162.50   \n",
      "LassoLars                                    6.39     -18.76  11777.43   \n",
      "Lasso                                        5.89     -16.91  11214.81   \n",
      "KernelRidge                                  4.53     -11.93   9526.90   \n",
      "SGDRegressor                                 2.90      -5.96   6987.99   \n",
      "HuberRegressor                               2.01      -2.70   5097.32   \n",
      "Ridge                                        1.93      -2.42   4903.31   \n",
      "PassiveAggressiveRegressor                   1.85      -2.13   4686.54   \n",
      "KNeighborsRegressor                          1.48      -0.76   3518.37   \n",
      "GradientBoostingRegressor                    1.44      -0.60   3348.13   \n",
      "ExtraTreeRegressor                           1.43      -0.57   3320.08   \n",
      "DecisionTreeRegressor                        1.40      -0.48   3222.23   \n",
      "RidgeCV                                      1.39      -0.42   3152.32   \n",
      "AdaBoostRegressor                            1.39      -0.41   3151.32   \n",
      "ExtraTreesRegressor                          1.39      -0.41   3149.57   \n",
      "OrthogonalMatchingPursuitCV                  1.35      -0.28   2994.10   \n",
      "BaggingRegressor                             1.33      -0.22   2929.74   \n",
      "RandomForestRegressor                        1.33      -0.22   2925.73   \n",
      "OrthogonalMatchingPursuit                    1.32      -0.19   2891.02   \n",
      "ElasticNet                                   1.32      -0.19   2890.88   \n",
      "LarsCV                                       1.29      -0.07   2740.36   \n",
      "LassoLarsCV                                  1.29      -0.07   2739.37   \n",
      "TweedieRegressor                             1.28      -0.04   2705.27   \n",
      "GammaRegressor                               1.28      -0.03   2692.58   \n",
      "HistGradientBoostingRegressor                1.28      -0.03   2684.12   \n",
      "DummyRegressor                               1.28      -0.03   2684.12   \n",
      "BayesianRidge                                1.28      -0.03   2684.12   \n",
      "QuantileRegressor                            1.27      -0.00   2653.87   \n",
      "SVR                                          1.27      -0.00   2653.65   \n",
      "NuSVR                                        1.27      -0.00   2651.68   \n",
      "ElasticNetCV                                 1.26       0.03   2610.69   \n",
      "LassoCV                                      1.26       0.05   2576.72   \n",
      "\n",
      "                               Time Taken  \n",
      "Model                                      \n",
      "Lars                                 0.01  \n",
      "MLPRegressor                         0.10  \n",
      "LinearSVR                            0.01  \n",
      "GaussianProcessRegressor             0.01  \n",
      "PoissonRegressor                     0.02  \n",
      "TransformedTargetRegressor           0.01  \n",
      "LinearRegression                     0.01  \n",
      "LassoLars                            0.02  \n",
      "Lasso                                0.02  \n",
      "KernelRidge                          0.01  \n",
      "SGDRegressor                         0.02  \n",
      "HuberRegressor                       0.02  \n",
      "Ridge                                0.01  \n",
      "PassiveAggressiveRegressor           0.01  \n",
      "KNeighborsRegressor                  0.01  \n",
      "GradientBoostingRegressor            0.03  \n",
      "ExtraTreeRegressor                   0.01  \n",
      "DecisionTreeRegressor                0.01  \n",
      "RidgeCV                              0.01  \n",
      "AdaBoostRegressor                    0.06  \n",
      "ExtraTreesRegressor                  0.07  \n",
      "OrthogonalMatchingPursuitCV          0.01  \n",
      "BaggingRegressor                     0.02  \n",
      "RandomForestRegressor                0.09  \n",
      "OrthogonalMatchingPursuit            0.01  \n",
      "ElasticNet                           0.01  \n",
      "LarsCV                               0.03  \n",
      "LassoLarsCV                          0.03  \n",
      "TweedieRegressor                     0.01  \n",
      "GammaRegressor                       0.01  \n",
      "HistGradientBoostingRegressor        0.09  \n",
      "DummyRegressor                       0.01  \n",
      "BayesianRidge                        0.01  \n",
      "QuantileRegressor                    0.02  \n",
      "SVR                                  0.01  \n",
      "NuSVR                                0.01  \n",
      "ElasticNetCV                         0.03  \n",
      "LassoCV                              0.46  \n"
     ]
    },
    {
     "name": "stderr",
     "output_type": "stream",
     "text": [
      "\n"
     ]
    }
   ],
   "source": [
    "models_sleep_duration = lazy_regressor(X_total_sleep, y_total_sleep, test_size = 0.2, random_state = 89, regressor = reg)\n",
    "\n",
    "print(models_sleep_duration)"
   ]
  },
  {
   "attachments": {},
   "cell_type": "markdown",
   "metadata": {},
   "source": [
    "### LazyRegressor for the factors influencing the total sleep duration given the Oura variables only"
   ]
  },
  {
   "cell_type": "code",
   "execution_count": 29,
   "metadata": {},
   "outputs": [],
   "source": [
    "X_total_sleep = df[df['Naturally'] == 1]\n",
    "X_total_sleep = X_total_sleep.iloc[:, 0:49]\n",
    "X_total_sleep = X_total_sleep.drop(labels=['total_sleep_duration', 'deep_sleep_duration', 'light_sleep_duration', 'contributors.total_sleep', 'contributors.deep_sleep', 'contributors.rem_sleep', 'rem_sleep_duration', 'time_in_bed', 'bedtime_start_delta', 'bedtime_end_delta', 'bedtime_end_seconds', 'bed_time'], axis=1)"
   ]
  },
  {
   "cell_type": "code",
   "execution_count": 30,
   "metadata": {},
   "outputs": [
    {
     "name": "stdout",
     "output_type": "stream",
     "text": [
      "'tuple' object has no attribute '__name__'\n",
      "Invalid Regressor(s)\n"
     ]
    },
    {
     "name": "stderr",
     "output_type": "stream",
     "text": [
      " 70%|███████   | 28/40 [00:01<00:00, 25.48it/s]"
     ]
    },
    {
     "name": "stdout",
     "output_type": "stream",
     "text": [
      "LassoLarsIC model failed to execute\n",
      "You are using LassoLarsIC in the case where the number of samples is smaller than the number of features. In this setting, getting a good estimate for the variance of the noise is not possible. Provide an estimate of the noise variance in the constructor.\n"
     ]
    },
    {
     "name": "stderr",
     "output_type": "stream",
     "text": [
      "100%|██████████| 40/40 [00:01<00:00, 31.56it/s]"
     ]
    },
    {
     "name": "stdout",
     "output_type": "stream",
     "text": [
      "RANSACRegressor model failed to execute\n",
      "`min_samples` may not be larger than number of samples: n_samples = 37.\n",
      "                               Adjusted R-Squared  R-Squared      RMSE  \\\n",
      "Model                                                                    \n",
      "Lars                                      8748.67  -27213.98 437108.50   \n",
      "GaussianProcessRegressor                    41.29    -124.36  29666.34   \n",
      "MLPRegressor                                41.21    -124.09  29634.32   \n",
      "LinearSVR                                   41.00    -123.45  29558.00   \n",
      "TransformedTargetRegressor                   1.88      -1.75   4391.27   \n",
      "LinearRegression                             1.88      -1.75   4391.27   \n",
      "Lasso                                        1.48      -0.49   3238.54   \n",
      "DecisionTreeRegressor                        1.37      -0.14   2827.20   \n",
      "PoissonRegressor                             1.36      -0.11   2791.49   \n",
      "HistGradientBoostingRegressor                1.33      -0.03   2684.12   \n",
      "DummyRegressor                               1.33      -0.03   2684.12   \n",
      "QuantileRegressor                            1.32      -0.00   2653.87   \n",
      "SVR                                          1.32      -0.00   2653.61   \n",
      "NuSVR                                        1.32      -0.00   2651.39   \n",
      "LarsCV                                       1.26       0.20   2362.61   \n",
      "HuberRegressor                               1.22       0.32   2182.87   \n",
      "ExtraTreeRegressor                           1.17       0.48   1901.58   \n",
      "KNeighborsRegressor                          1.15       0.53   1811.45   \n",
      "KernelRidge                                  1.15       0.53   1808.46   \n",
      "LassoLars                                    1.15       0.53   1808.21   \n",
      "AdaBoostRegressor                            1.14       0.56   1759.03   \n",
      "SGDRegressor                                 1.14       0.58   1725.65   \n",
      "BaggingRegressor                             1.11       0.66   1539.09   \n",
      "Ridge                                        1.10       0.68   1506.41   \n",
      "RandomForestRegressor                        1.09       0.71   1423.99   \n",
      "GradientBoostingRegressor                    1.09       0.72   1408.17   \n",
      "ExtraTreesRegressor                          1.09       0.72   1398.70   \n",
      "ElasticNetCV                                 1.06       0.80   1174.85   \n",
      "PassiveAggressiveRegressor                   1.05       0.83   1089.27   \n",
      "OrthogonalMatchingPursuitCV                  1.05       0.84   1075.70   \n",
      "LassoCV                                      1.05       0.84   1063.39   \n",
      "OrthogonalMatchingPursuit                    1.05       0.84   1046.20   \n",
      "LassoLarsCV                                  1.05       0.85   1037.77   \n",
      "BayesianRidge                                1.04       0.88    907.44   \n",
      "GammaRegressor                               1.03       0.90    851.32   \n",
      "TweedieRegressor                             1.03       0.92    768.64   \n",
      "RidgeCV                                      1.02       0.94    654.03   \n",
      "ElasticNet                                   1.01       0.96    561.20   \n",
      "\n",
      "                               Time Taken  \n",
      "Model                                      \n",
      "Lars                                 0.01  \n",
      "GaussianProcessRegressor             0.01  \n",
      "MLPRegressor                         0.08  \n",
      "LinearSVR                            0.01  \n",
      "TransformedTargetRegressor           0.01  \n",
      "LinearRegression                     0.01  \n",
      "Lasso                                0.01  \n",
      "DecisionTreeRegressor                0.01  \n",
      "PoissonRegressor                     0.02  \n",
      "HistGradientBoostingRegressor        0.12  \n",
      "DummyRegressor                       0.01  \n",
      "QuantileRegressor                    0.03  \n",
      "SVR                                  0.01  \n",
      "NuSVR                                0.01  \n",
      "LarsCV                               0.03  \n",
      "HuberRegressor                       0.03  \n",
      "ExtraTreeRegressor                   0.01  \n",
      "KNeighborsRegressor                  0.01  \n",
      "KernelRidge                          0.01  \n",
      "LassoLars                            0.01  \n",
      "AdaBoostRegressor                    0.06  \n",
      "SGDRegressor                         0.01  \n",
      "BaggingRegressor                     0.02  \n",
      "Ridge                                0.01  \n",
      "RandomForestRegressor                0.10  \n",
      "GradientBoostingRegressor            0.03  \n",
      "ExtraTreesRegressor                  0.07  \n",
      "ElasticNetCV                         0.03  \n",
      "PassiveAggressiveRegressor           0.01  \n",
      "OrthogonalMatchingPursuitCV          0.02  \n",
      "LassoCV                              0.30  \n",
      "OrthogonalMatchingPursuit            0.01  \n",
      "LassoLarsCV                          0.04  \n",
      "BayesianRidge                        0.01  \n",
      "GammaRegressor                       0.01  \n",
      "TweedieRegressor                     0.01  \n",
      "RidgeCV                              0.01  \n",
      "ElasticNet                           0.01  \n"
     ]
    },
    {
     "name": "stderr",
     "output_type": "stream",
     "text": [
      "\n"
     ]
    }
   ],
   "source": [
    "models_sleep_duration = lazy_regressor(X_total_sleep, y_total_sleep, test_size = 0.2, random_state = 89, regressor = reg)\n",
    "\n",
    "print(models_sleep_duration)"
   ]
  },
  {
   "attachments": {},
   "cell_type": "markdown",
   "metadata": {},
   "source": [
    "### LazyRegressor for the factors influencing the total awake time during the night given all variables"
   ]
  },
  {
   "cell_type": "code",
   "execution_count": 31,
   "metadata": {},
   "outputs": [],
   "source": [
    "# Separate the indenpendent variables from the dependent variables\n",
    "# For the total awake time, Oura also considers some time before falling asleep and some time after waking up. \n",
    "# Subtract what we can from that, which is the time before falling asleep\n",
    "y_awake_time = df['awake_time'] - df['latency']\n",
    "X_awake_time = df.drop(labels=['awake_time', 'time_in_bed', 'latency', 'total_sleep_duration'], axis=1)"
   ]
  },
  {
   "cell_type": "code",
   "execution_count": 32,
   "metadata": {},
   "outputs": [
    {
     "name": "stdout",
     "output_type": "stream",
     "text": [
      "'tuple' object has no attribute '__name__'\n",
      "Invalid Regressor(s)\n"
     ]
    },
    {
     "name": "stderr",
     "output_type": "stream",
     "text": [
      " 65%|██████▌   | 26/40 [00:01<00:00, 21.26it/s]"
     ]
    },
    {
     "name": "stdout",
     "output_type": "stream",
     "text": [
      "LassoLarsIC model failed to execute\n",
      "You are using LassoLarsIC in the case where the number of samples is smaller than the number of features. In this setting, getting a good estimate for the variance of the noise is not possible. Provide an estimate of the noise variance in the constructor.\n"
     ]
    },
    {
     "name": "stderr",
     "output_type": "stream",
     "text": [
      "100%|██████████| 40/40 [00:01<00:00, 29.13it/s]"
     ]
    },
    {
     "name": "stdout",
     "output_type": "stream",
     "text": [
      "RANSACRegressor model failed to execute\n",
      "`min_samples` may not be larger than number of samples: n_samples = 44.\n",
      "                                                              Adjusted R-Squared  \\\n",
      "Model                                                                              \n",
      "Lars                          17319134925288230532342993281005408603266436667...   \n",
      "PoissonRegressor                                                            4.00   \n",
      "GaussianProcessRegressor                                                    2.61   \n",
      "MLPRegressor                                                                2.57   \n",
      "LinearSVR                                                                   2.50   \n",
      "NuSVR                                                                       1.22   \n",
      "DummyRegressor                                                              1.18   \n",
      "QuantileRegressor                                                           1.15   \n",
      "SVR                                                                         1.15   \n",
      "DecisionTreeRegressor                                                       1.10   \n",
      "ExtraTreeRegressor                                                          1.07   \n",
      "KNeighborsRegressor                                                         1.05   \n",
      "GammaRegressor                                                              1.05   \n",
      "HuberRegressor                                                              1.04   \n",
      "SGDRegressor                                                                1.04   \n",
      "HistGradientBoostingRegressor                                               1.04   \n",
      "KernelRidge                                                                 1.04   \n",
      "PassiveAggressiveRegressor                                                  1.03   \n",
      "ElasticNetCV                                                                1.03   \n",
      "GradientBoostingRegressor                                                   1.03   \n",
      "Lasso                                                                       1.03   \n",
      "BayesianRidge                                                               1.03   \n",
      "LinearRegression                                                            1.03   \n",
      "TransformedTargetRegressor                                                  1.03   \n",
      "RidgeCV                                                                     1.03   \n",
      "Ridge                                                                       1.03   \n",
      "AdaBoostRegressor                                                           1.03   \n",
      "TweedieRegressor                                                            1.03   \n",
      "BaggingRegressor                                                            1.03   \n",
      "RandomForestRegressor                                                       1.03   \n",
      "ElasticNet                                                                  1.03   \n",
      "LarsCV                                                                      1.03   \n",
      "ExtraTreesRegressor                                                         1.02   \n",
      "LassoCV                                                                     1.02   \n",
      "LassoLarsCV                                                                 1.02   \n",
      "OrthogonalMatchingPursuit                                                   1.02   \n",
      "LassoLars                                                                   1.01   \n",
      "OrthogonalMatchingPursuitCV                                                 1.01   \n",
      "\n",
      "                                                                       R-Squared  \\\n",
      "Model                                                                              \n",
      "Lars                          -1298935119396617383387067949702302958793916676...   \n",
      "PoissonRegressor                                                          -21.53   \n",
      "GaussianProcessRegressor                                                  -11.08   \n",
      "MLPRegressor                                                              -10.78   \n",
      "LinearSVR                                                                 -10.25   \n",
      "NuSVR                                                                      -0.69   \n",
      "DummyRegressor                                                             -0.33   \n",
      "QuantileRegressor                                                          -0.16   \n",
      "SVR                                                                        -0.16   \n",
      "DecisionTreeRegressor                                                       0.26   \n",
      "ExtraTreeRegressor                                                          0.51   \n",
      "KNeighborsRegressor                                                         0.63   \n",
      "GammaRegressor                                                              0.63   \n",
      "HuberRegressor                                                              0.70   \n",
      "SGDRegressor                                                                0.71   \n",
      "HistGradientBoostingRegressor                                               0.71   \n",
      "KernelRidge                                                                 0.71   \n",
      "PassiveAggressiveRegressor                                                  0.74   \n",
      "ElasticNetCV                                                                0.75   \n",
      "GradientBoostingRegressor                                                   0.76   \n",
      "Lasso                                                                       0.77   \n",
      "BayesianRidge                                                               0.78   \n",
      "LinearRegression                                                            0.78   \n",
      "TransformedTargetRegressor                                                  0.78   \n",
      "RidgeCV                                                                     0.78   \n",
      "Ridge                                                                       0.78   \n",
      "AdaBoostRegressor                                                           0.79   \n",
      "TweedieRegressor                                                            0.80   \n",
      "BaggingRegressor                                                            0.80   \n",
      "RandomForestRegressor                                                       0.80   \n",
      "ElasticNet                                                                  0.81   \n",
      "LarsCV                                                                      0.81   \n",
      "ExtraTreesRegressor                                                         0.83   \n",
      "LassoCV                                                                     0.85   \n",
      "LassoLarsCV                                                                 0.86   \n",
      "OrthogonalMatchingPursuit                                                   0.88   \n",
      "LassoLars                                                                   0.90   \n",
      "OrthogonalMatchingPursuitCV                                                 0.91   \n",
      "\n",
      "                                                          RMSE  Time Taken  \n",
      "Model                                                                       \n",
      "Lars                          50378365081532395919358558208.00        0.02  \n",
      "PoissonRegressor                                       6635.50        0.02  \n",
      "GaussianProcessRegressor                               4858.16        0.01  \n",
      "MLPRegressor                                           4797.79        0.14  \n",
      "LinearSVR                                              4687.50        0.01  \n",
      "NuSVR                                                  1814.52        0.01  \n",
      "DummyRegressor                                         1609.77        0.01  \n",
      "QuantileRegressor                                      1505.67        0.03  \n",
      "SVR                                                    1504.04        0.01  \n",
      "DecisionTreeRegressor                                  1206.19        0.01  \n",
      "ExtraTreeRegressor                                      977.32        0.01  \n",
      "KNeighborsRegressor                                     855.97        0.01  \n",
      "GammaRegressor                                          844.68        0.01  \n",
      "HuberRegressor                                          770.68        0.03  \n",
      "SGDRegressor                                            757.72        0.02  \n",
      "HistGradientBoostingRegressor                           755.54        0.15  \n",
      "KernelRidge                                             751.12        0.01  \n",
      "PassiveAggressiveRegressor                              708.61        0.01  \n",
      "ElasticNetCV                                            695.69        0.04  \n",
      "GradientBoostingRegressor                               678.92        0.04  \n",
      "Lasso                                                   677.03        0.02  \n",
      "BayesianRidge                                           651.33        0.01  \n",
      "LinearRegression                                        651.33        0.02  \n",
      "TransformedTargetRegressor                              651.33        0.01  \n",
      "RidgeCV                                                 651.30        0.01  \n",
      "Ridge                                                   648.39        0.01  \n",
      "AdaBoostRegressor                                       646.15        0.05  \n",
      "TweedieRegressor                                        632.76        0.01  \n",
      "BaggingRegressor                                        622.65        0.02  \n",
      "RandomForestRegressor                                   617.59        0.11  \n",
      "ElasticNet                                              611.72        0.01  \n",
      "LarsCV                                                  607.81        0.05  \n",
      "ExtraTreesRegressor                                     584.45        0.09  \n",
      "LassoCV                                                 539.04        0.21  \n",
      "LassoLarsCV                                             523.30        0.03  \n",
      "OrthogonalMatchingPursuit                               477.76        0.01  \n",
      "LassoLars                                               443.85        0.01  \n",
      "OrthogonalMatchingPursuitCV                             408.44        0.02  \n"
     ]
    },
    {
     "name": "stderr",
     "output_type": "stream",
     "text": [
      "\n"
     ]
    }
   ],
   "source": [
    "models_awake_time = lazy_regressor(X_awake_time, y_awake_time, test_size = 0.2, random_state = 56, regressor = reg)\n",
    "\n",
    "print(models_awake_time)"
   ]
  },
  {
   "attachments": {},
   "cell_type": "markdown",
   "metadata": {},
   "source": [
    "### LazyRegressor for the factors influencing the total awake time during the night given the questionnaire variables only"
   ]
  },
  {
   "cell_type": "code",
   "execution_count": 33,
   "metadata": {},
   "outputs": [],
   "source": [
    "X_awake_time = df_quest"
   ]
  },
  {
   "cell_type": "code",
   "execution_count": 34,
   "metadata": {},
   "outputs": [
    {
     "name": "stdout",
     "output_type": "stream",
     "text": [
      "'tuple' object has no attribute '__name__'\n",
      "Invalid Regressor(s)\n"
     ]
    },
    {
     "name": "stderr",
     "output_type": "stream",
     "text": [
      " 65%|██████▌   | 26/40 [00:00<00:00, 25.86it/s]"
     ]
    },
    {
     "name": "stdout",
     "output_type": "stream",
     "text": [
      "LassoLarsIC model failed to execute\n",
      "You are using LassoLarsIC in the case where the number of samples is smaller than the number of features. In this setting, getting a good estimate for the variance of the noise is not possible. Provide an estimate of the noise variance in the constructor.\n"
     ]
    },
    {
     "name": "stderr",
     "output_type": "stream",
     "text": [
      "100%|██████████| 40/40 [00:01<00:00, 32.72it/s]"
     ]
    },
    {
     "name": "stdout",
     "output_type": "stream",
     "text": [
      "RANSACRegressor model failed to execute\n",
      "`min_samples` may not be larger than number of samples: n_samples = 44.\n",
      "                               Adjusted R-Squared  R-Squared     RMSE  \\\n",
      "Model                                                                   \n",
      "Lars                                       731.52   -2336.67 67583.65   \n",
      "MLPRegressor                                 4.72     -10.91  4824.81   \n",
      "GaussianProcessRegressor                     4.72     -10.91  4823.79   \n",
      "LinearSVR                                    4.66     -10.70  4780.93   \n",
      "PoissonRegressor                             2.31      -3.19  2859.67   \n",
      "TransformedTargetRegressor                   1.82      -1.63  2264.93   \n",
      "LinearRegression                             1.82      -1.63  2264.93   \n",
      "Lasso                                        1.72      -1.30  2120.61   \n",
      "NuSVR                                        1.53      -0.68  1814.36   \n",
      "SGDRegressor                                 1.43      -0.36  1631.23   \n",
      "DummyRegressor                               1.41      -0.33  1609.77   \n",
      "Ridge                                        1.41      -0.31  1602.07   \n",
      "KNeighborsRegressor                          1.38      -0.22  1541.32   \n",
      "KernelRidge                                  1.38      -0.20  1533.30   \n",
      "QuantileRegressor                            1.36      -0.16  1507.00   \n",
      "LassoLars                                    1.36      -0.16  1505.52   \n",
      "SVR                                          1.36      -0.16  1503.69   \n",
      "ExtraTreeRegressor                           1.36      -0.16  1503.51   \n",
      "RidgeCV                                      1.30       0.03  1373.95   \n",
      "HistGradientBoostingRegressor                1.29       0.06  1352.13   \n",
      "ElasticNet                                   1.28       0.11  1316.59   \n",
      "GammaRegressor                               1.28       0.12  1312.23   \n",
      "BayesianRidge                                1.27       0.14  1298.74   \n",
      "TweedieRegressor                             1.26       0.16  1282.69   \n",
      "GradientBoostingRegressor                    1.26       0.16  1278.79   \n",
      "ElasticNetCV                                 1.26       0.16  1278.15   \n",
      "HuberRegressor                               1.26       0.16  1277.70   \n",
      "DecisionTreeRegressor                        1.24       0.22  1234.58   \n",
      "LassoLarsCV                                  1.24       0.25  1212.99   \n",
      "BaggingRegressor                             1.23       0.26  1198.80   \n",
      "LassoCV                                      1.23       0.27  1195.06   \n",
      "LarsCV                                       1.22       0.29  1177.79   \n",
      "PassiveAggressiveRegressor                   1.22       0.30  1171.42   \n",
      "RandomForestRegressor                        1.20       0.34  1131.47   \n",
      "ExtraTreesRegressor                          1.20       0.35  1124.88   \n",
      "OrthogonalMatchingPursuit                    1.18       0.42  1064.63   \n",
      "AdaBoostRegressor                            1.18       0.44  1047.68   \n",
      "OrthogonalMatchingPursuitCV                  1.14       0.54   946.35   \n",
      "\n",
      "                               Time Taken  \n",
      "Model                                      \n",
      "Lars                                 0.01  \n",
      "MLPRegressor                         0.09  \n",
      "GaussianProcessRegressor             0.01  \n",
      "LinearSVR                            0.01  \n",
      "PoissonRegressor                     0.02  \n",
      "TransformedTargetRegressor           0.01  \n",
      "LinearRegression                     0.01  \n",
      "Lasso                                0.01  \n",
      "NuSVR                                0.01  \n",
      "SGDRegressor                         0.02  \n",
      "DummyRegressor                       0.01  \n",
      "Ridge                                0.01  \n",
      "KNeighborsRegressor                  0.01  \n",
      "KernelRidge                          0.01  \n",
      "QuantileRegressor                    0.03  \n",
      "LassoLars                            0.01  \n",
      "SVR                                  0.01  \n",
      "ExtraTreeRegressor                   0.01  \n",
      "RidgeCV                              0.01  \n",
      "HistGradientBoostingRegressor        0.16  \n",
      "ElasticNet                           0.01  \n",
      "GammaRegressor                       0.01  \n",
      "BayesianRidge                        0.01  \n",
      "TweedieRegressor                     0.01  \n",
      "GradientBoostingRegressor            0.03  \n",
      "ElasticNetCV                         0.03  \n",
      "HuberRegressor                       0.03  \n",
      "DecisionTreeRegressor                0.01  \n",
      "LassoLarsCV                          0.03  \n",
      "BaggingRegressor                     0.02  \n",
      "LassoCV                              0.25  \n",
      "LarsCV                               0.03  \n",
      "PassiveAggressiveRegressor           0.01  \n",
      "RandomForestRegressor                0.09  \n",
      "ExtraTreesRegressor                  0.07  \n",
      "OrthogonalMatchingPursuit            0.01  \n",
      "AdaBoostRegressor                    0.05  \n",
      "OrthogonalMatchingPursuitCV          0.01  \n"
     ]
    },
    {
     "name": "stderr",
     "output_type": "stream",
     "text": [
      "\n"
     ]
    }
   ],
   "source": [
    "models_awake_time = lazy_regressor(X_awake_time, y_awake_time, test_size = 0.2, random_state = 56, regressor = reg)\n",
    "\n",
    "print(models_awake_time)"
   ]
  },
  {
   "attachments": {},
   "cell_type": "markdown",
   "metadata": {},
   "source": [
    "### LazyRegressor for the factors influencing the total awake time during the night given the Oura variables only"
   ]
  },
  {
   "cell_type": "code",
   "execution_count": 35,
   "metadata": {},
   "outputs": [],
   "source": [
    "X_awake_time = df_oura.drop(labels=['awake_time', 'time_in_bed', 'latency', 'total_sleep_duration'], axis=1)"
   ]
  },
  {
   "cell_type": "code",
   "execution_count": 36,
   "metadata": {},
   "outputs": [
    {
     "name": "stdout",
     "output_type": "stream",
     "text": [
      "'tuple' object has no attribute '__name__'\n",
      "Invalid Regressor(s)\n"
     ]
    },
    {
     "name": "stderr",
     "output_type": "stream",
     "text": [
      " 65%|██████▌   | 26/40 [00:00<00:00, 29.28it/s]"
     ]
    },
    {
     "name": "stdout",
     "output_type": "stream",
     "text": [
      "LassoLarsIC model failed to execute\n",
      "You are using LassoLarsIC in the case where the number of samples is smaller than the number of features. In this setting, getting a good estimate for the variance of the noise is not possible. Provide an estimate of the noise variance in the constructor.\n",
      "RANSACRegressor model failed to execute\n",
      "`min_samples` may not be larger than number of samples: n_samples = 44.\n"
     ]
    },
    {
     "name": "stderr",
     "output_type": "stream",
     "text": [
      "100%|██████████| 40/40 [00:01<00:00, 34.64it/s]"
     ]
    },
    {
     "name": "stdout",
     "output_type": "stream",
     "text": [
      "                               Adjusted R-Squared  R-Squared     RMSE  \\\n",
      "Model                                                                   \n",
      "Lars                                       688.15   -2404.03 68550.51   \n",
      "GaussianProcessRegressor                     4.45     -11.08  4858.07   \n",
      "MLPRegressor                                 4.38     -10.81  4804.68   \n",
      "LinearSVR                                    4.26     -10.42  4723.71   \n",
      "PoissonRegressor                             2.30      -3.54  2978.64   \n",
      "NuSVR                                        1.48      -0.68  1814.43   \n",
      "DummyRegressor                               1.38      -0.33  1609.77   \n",
      "QuantileRegressor                            1.33      -0.17  1509.35   \n",
      "SVR                                          1.33      -0.16  1503.87   \n",
      "TransformedTargetRegressor                   1.23       0.19  1261.14   \n",
      "LinearRegression                             1.23       0.19  1261.14   \n",
      "ExtraTreeRegressor                           1.17       0.39  1088.94   \n",
      "HuberRegressor                               1.17       0.41  1072.52   \n",
      "KNeighborsRegressor                          1.15       0.48  1009.27   \n",
      "Lasso                                        1.14       0.53   962.72   \n",
      "DecisionTreeRegressor                        1.13       0.53   955.30   \n",
      "GammaRegressor                               1.09       0.68   786.71   \n",
      "HistGradientBoostingRegressor                1.08       0.71   754.72   \n",
      "SGDRegressor                                 1.07       0.77   675.63   \n",
      "ExtraTreesRegressor                          1.06       0.78   662.49   \n",
      "KernelRidge                                  1.06       0.78   655.97   \n",
      "AdaBoostRegressor                            1.06       0.78   650.58   \n",
      "LassoLars                                    1.06       0.79   642.01   \n",
      "ElasticNetCV                                 1.06       0.79   639.24   \n",
      "Ridge                                        1.06       0.80   620.73   \n",
      "RandomForestRegressor                        1.05       0.81   607.29   \n",
      "GradientBoostingRegressor                    1.05       0.81   604.59   \n",
      "LarsCV                                       1.05       0.83   570.95   \n",
      "PassiveAggressiveRegressor                   1.05       0.84   563.11   \n",
      "TweedieRegressor                             1.05       0.84   556.98   \n",
      "BayesianRidge                                1.04       0.85   543.52   \n",
      "ElasticNet                                   1.04       0.85   536.59   \n",
      "RidgeCV                                      1.04       0.85   535.93   \n",
      "BaggingRegressor                             1.04       0.85   533.19   \n",
      "LassoLarsCV                                  1.03       0.88   476.64   \n",
      "LassoCV                                      1.03       0.89   470.87   \n",
      "OrthogonalMatchingPursuitCV                  1.02       0.92   402.40   \n",
      "OrthogonalMatchingPursuit                    1.02       0.92   402.40   \n",
      "\n",
      "                               Time Taken  \n",
      "Model                                      \n",
      "Lars                                 0.02  \n",
      "GaussianProcessRegressor             0.01  \n",
      "MLPRegressor                         0.08  \n",
      "LinearSVR                            0.01  \n",
      "PoissonRegressor                     0.02  \n",
      "NuSVR                                0.01  \n",
      "DummyRegressor                       0.01  \n",
      "QuantileRegressor                    0.03  \n",
      "SVR                                  0.01  \n",
      "TransformedTargetRegressor           0.01  \n",
      "LinearRegression                     0.01  \n",
      "ExtraTreeRegressor                   0.01  \n",
      "HuberRegressor                       0.03  \n",
      "KNeighborsRegressor                  0.01  \n",
      "Lasso                                0.01  \n",
      "DecisionTreeRegressor                0.01  \n",
      "GammaRegressor                       0.01  \n",
      "HistGradientBoostingRegressor        0.16  \n",
      "SGDRegressor                         0.02  \n",
      "ExtraTreesRegressor                  0.08  \n",
      "KernelRidge                          0.01  \n",
      "AdaBoostRegressor                    0.05  \n",
      "LassoLars                            0.02  \n",
      "ElasticNetCV                         0.03  \n",
      "Ridge                                0.01  \n",
      "RandomForestRegressor                0.10  \n",
      "GradientBoostingRegressor            0.04  \n",
      "LarsCV                               0.03  \n",
      "PassiveAggressiveRegressor           0.01  \n",
      "TweedieRegressor                     0.01  \n",
      "BayesianRidge                        0.01  \n",
      "ElasticNet                           0.01  \n",
      "RidgeCV                              0.01  \n",
      "BaggingRegressor                     0.02  \n",
      "LassoLarsCV                          0.03  \n",
      "LassoCV                              0.13  \n",
      "OrthogonalMatchingPursuitCV          0.01  \n",
      "OrthogonalMatchingPursuit            0.01  \n"
     ]
    },
    {
     "name": "stderr",
     "output_type": "stream",
     "text": [
      "\n"
     ]
    }
   ],
   "source": [
    "models_awake_time = lazy_regressor(X_awake_time, y_awake_time, test_size = 0.2, random_state = 56, regressor = reg)\n",
    "\n",
    "print(models_awake_time)"
   ]
  }
 ],
 "metadata": {
  "kernelspec": {
   "display_name": "Python 3.7.10 ('tensorflow_env')",
   "language": "python",
   "name": "python3"
  },
  "language_info": {
   "codemirror_mode": {
    "name": "ipython",
    "version": 3
   },
   "file_extension": ".py",
   "mimetype": "text/x-python",
   "name": "python",
   "nbconvert_exporter": "python",
   "pygments_lexer": "ipython3",
   "version": "3.7.10"
  },
  "orig_nbformat": 4,
  "vscode": {
   "interpreter": {
    "hash": "f440ca07c10c374a105f3d67f9c2c345d20e5b276c036b89a1e623f864f80620"
   }
  }
 },
 "nbformat": 4,
 "nbformat_minor": 2
}
