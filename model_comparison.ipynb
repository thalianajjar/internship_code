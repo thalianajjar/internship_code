{
 "cells": [
  {
   "cell_type": "markdown",
   "metadata": {},
   "source": [
    "## Imports"
   ]
  },
  {
   "cell_type": "code",
   "execution_count": 1,
   "metadata": {},
   "outputs": [],
   "source": [
    "import pandas as pd\n",
    "import numpy as np\n",
    "from sklearn.model_selection import train_test_split\n",
    "from lazypredict.Supervised import LazyRegressor\n",
    "from sklearn.preprocessing import LabelEncoder\n",
    "from sklearn.utils import all_estimators\n",
    "from sklearn.base import RegressorMixin"
   ]
  },
  {
   "attachments": {},
   "cell_type": "markdown",
   "metadata": {},
   "source": [
    "## Define the files to be loaded"
   ]
  },
  {
   "cell_type": "code",
   "execution_count": 2,
   "metadata": {},
   "outputs": [],
   "source": [
    "# Participant number whose data should be loaded\n",
    "participant_number = 3\n",
    "\n",
    "# The version of the questionnaires to load\n",
    "quest_version = 1"
   ]
  },
  {
   "cell_type": "markdown",
   "metadata": {},
   "source": [
    "## Loading the pre-processed data"
   ]
  },
  {
   "cell_type": "code",
   "execution_count": 3,
   "metadata": {},
   "outputs": [],
   "source": [
    "df = pd.read_csv('data/preprocessed_data_' + str(participant_number) + '_v' + str(quest_version) + '.csv')\n",
    "df = df.drop(labels=['actual_day'], axis=1)"
   ]
  },
  {
   "attachments": {},
   "cell_type": "markdown",
   "metadata": {},
   "source": [
    "## Prepare regressor list for lazypredict"
   ]
  },
  {
   "cell_type": "code",
   "execution_count": 4,
   "metadata": {},
   "outputs": [],
   "source": [
    "removed_regressors = [\n",
    "    \"TheilSenRegressor\",\n",
    "    \"ARDRegression\", \n",
    "    \"CCA\", \n",
    "    \"IsotonicRegression\", \n",
    "    \"StackingRegressor\",\n",
    "    \"MultiOutputRegressor\", \n",
    "    \"MultiTaskElasticNet\", \n",
    "    \"MultiTaskElasticNetCV\", \n",
    "    \"MultiTaskLasso\", \n",
    "    \"MultiTaskLassoCV\", \n",
    "    \"PLSCanonical\", \n",
    "    \"PLSRegression\", \n",
    "    \"RadiusNeighborsRegressor\", \n",
    "    \"RegressorChain\", \n",
    "    \"VotingRegressor\", \n",
    "]"
   ]
  },
  {
   "cell_type": "code",
   "execution_count": 5,
   "metadata": {},
   "outputs": [],
   "source": [
    "REGRESSORS = [\n",
    "    est\n",
    "    for est in all_estimators()\n",
    "    if (issubclass(est[1], RegressorMixin) and (est[0] not in removed_regressors))\n",
    "]"
   ]
  },
  {
   "attachments": {},
   "cell_type": "markdown",
   "metadata": {},
   "source": [
    "## Run LazyRegressor on dataset"
   ]
  },
  {
   "attachments": {},
   "cell_type": "markdown",
   "metadata": {},
   "source": [
    "### LazyRegressor for the factors influencing the sleep scores"
   ]
  },
  {
   "cell_type": "code",
   "execution_count": 26,
   "metadata": {},
   "outputs": [],
   "source": [
    "# Separate the indenpendent variables from the dependent variables\n",
    "y_oura = df['score']\n",
    "y_sub = df['subjective_sleep_score']\n",
    "X = df.drop(labels=['score', 'subjective_sleep_score'], axis=1)\n",
    "\n",
    "# Create the test and train sets for the oura sleep score prediction\n",
    "X_train_oura, X_test_oura, y_train_oura, y_test_oura = train_test_split(X, y_oura, test_size = 0.2, random_state = 2)"
   ]
  },
  {
   "cell_type": "code",
   "execution_count": 8,
   "metadata": {},
   "outputs": [],
   "source": [
    "# Apply the LazyRegressor on the data\n",
    "reg = LazyRegressor(verbose=0, ignore_warnings=False, custom_metric=None, regressors = REGRESSORS)"
   ]
  },
  {
   "attachments": {},
   "cell_type": "markdown",
   "metadata": {},
   "source": [
    "#### Oura sleep scores"
   ]
  },
  {
   "cell_type": "code",
   "execution_count": 27,
   "metadata": {},
   "outputs": [
    {
     "name": "stdout",
     "output_type": "stream",
     "text": [
      "'tuple' object has no attribute '__name__'\n",
      "Invalid Regressor(s)\n"
     ]
    },
    {
     "name": "stderr",
     "output_type": "stream",
     "text": [
      "100%|██████████| 40/40 [00:01<00:00, 20.53it/s]"
     ]
    },
    {
     "name": "stdout",
     "output_type": "stream",
     "text": [
      "                               Adjusted R-Squared  R-Squared  RMSE  Time Taken\n",
      "Model                                                                         \n",
      "GaussianProcessRegressor                    38.76     -71.61  7.87        0.02\n",
      "MLPRegressor                                 1.91      -0.74  1.22        0.14\n",
      "QuantileRegressor                            1.54      -0.04  0.94        0.13\n",
      "LassoLars                                    1.52      -0.00  0.92        0.01\n",
      "DummyRegressor                               1.52      -0.00  0.92        0.02\n",
      "Lasso                                        1.52      -0.00  0.92        0.02\n",
      "ElasticNet                                   1.32       0.38  0.73        0.02\n",
      "Lars                                         1.32       0.39  0.72        0.02\n",
      "LarsCV                                       1.27       0.47  0.67        0.05\n",
      "BaggingRegressor                             1.27       0.48  0.67        0.03\n",
      "DecisionTreeRegressor                        1.27       0.48  0.67        0.02\n",
      "RandomForestRegressor                        1.26       0.50  0.66        0.17\n",
      "AdaBoostRegressor                            1.26       0.50  0.65        0.09\n",
      "GradientBoostingRegressor                    1.23       0.56  0.61        0.09\n",
      "OrthogonalMatchingPursuitCV                  1.23       0.57  0.61        0.01\n",
      "SVR                                          1.17       0.68  0.52        0.01\n",
      "NuSVR                                        1.17       0.68  0.52        0.01\n",
      "KNeighborsRegressor                          1.15       0.71  0.50        0.01\n",
      "HistGradientBoostingRegressor                1.14       0.73  0.48        0.26\n",
      "ExtraTreeRegressor                           1.13       0.75  0.46        0.01\n",
      "ExtraTreesRegressor                          1.13       0.75  0.46        0.12\n",
      "OrthogonalMatchingPursuit                    1.10       0.80  0.41        0.01\n",
      "GammaRegressor                               1.03       0.94  0.23        0.01\n",
      "TweedieRegressor                             1.02       0.96  0.19        0.01\n",
      "PoissonRegressor                             1.02       0.96  0.18        0.01\n",
      "PassiveAggressiveRegressor                   1.02       0.97  0.16        0.01\n",
      "SGDRegressor                                 1.01       0.98  0.14        0.01\n",
      "HuberRegressor                               1.01       0.98  0.14        0.03\n",
      "KernelRidge                                  1.01       0.98  0.12        0.01\n",
      "Ridge                                        1.01       0.98  0.12        0.01\n",
      "BayesianRidge                                1.01       0.99  0.11        0.02\n",
      "LassoLarsIC                                  1.00       0.99  0.09        0.02\n",
      "ElasticNetCV                                 1.00       0.99  0.08        0.14\n",
      "RidgeCV                                      1.00       0.99  0.08        0.02\n",
      "LassoLarsCV                                  1.00       1.00  0.06        0.08\n",
      "LassoCV                                      1.00       1.00  0.05        0.20\n",
      "LinearSVR                                    1.00       1.00  0.05        0.03\n",
      "LinearRegression                             1.00       1.00  0.04        0.01\n",
      "RANSACRegressor                              1.00       1.00  0.04        0.03\n",
      "TransformedTargetRegressor                   1.00       1.00  0.04        0.01\n"
     ]
    },
    {
     "name": "stderr",
     "output_type": "stream",
     "text": [
      "\n"
     ]
    }
   ],
   "source": [
    "models_oura, predictions_oura = reg.fit(X_train_oura, X_test_oura, y_train_oura, y_test_oura)\n",
    "\n",
    "print(models_oura)"
   ]
  },
  {
   "attachments": {},
   "cell_type": "markdown",
   "metadata": {},
   "source": [
    "#### Subjective sleep scores"
   ]
  },
  {
   "cell_type": "code",
   "execution_count": 21,
   "metadata": {},
   "outputs": [],
   "source": [
    "# Create the test and train sets for the subjective sleep score prediction\n",
    "X_train_sub, X_test_sub, y_train_sub, y_test_sub = train_test_split(X, y_sub, test_size = 0.2, random_state = 6)"
   ]
  },
  {
   "cell_type": "code",
   "execution_count": 22,
   "metadata": {},
   "outputs": [
    {
     "name": "stdout",
     "output_type": "stream",
     "text": [
      "'tuple' object has no attribute '__name__'\n",
      "Invalid Regressor(s)\n"
     ]
    },
    {
     "name": "stderr",
     "output_type": "stream",
     "text": [
      "100%|██████████| 40/40 [00:02<00:00, 14.11it/s]"
     ]
    },
    {
     "name": "stdout",
     "output_type": "stream",
     "text": [
      "                                    Adjusted R-Squared  \\\n",
      "Model                                                    \n",
      "LinearRegression              122137680211875053568.00   \n",
      "TransformedTargetRegressor    122137680211875053568.00   \n",
      "Lars                                            792.89   \n",
      "GaussianProcessRegressor                         32.84   \n",
      "RANSACRegressor                                   2.43   \n",
      "MLPRegressor                                      2.40   \n",
      "ExtraTreeRegressor                                1.83   \n",
      "HuberRegressor                                    1.67   \n",
      "PassiveAggressiveRegressor                        1.66   \n",
      "DecisionTreeRegressor                             1.62   \n",
      "Lasso                                             1.56   \n",
      "LassoLars                                         1.56   \n",
      "DummyRegressor                                    1.56   \n",
      "ElasticNet                                        1.55   \n",
      "LinearSVR                                         1.53   \n",
      "QuantileRegressor                                 1.53   \n",
      "KernelRidge                                       1.51   \n",
      "Ridge                                             1.51   \n",
      "KNeighborsRegressor                               1.40   \n",
      "SVR                                               1.38   \n",
      "NuSVR                                             1.37   \n",
      "HistGradientBoostingRegressor                     1.34   \n",
      "GradientBoostingRegressor                         1.32   \n",
      "ExtraTreesRegressor                               1.30   \n",
      "SGDRegressor                                      1.30   \n",
      "OrthogonalMatchingPursuitCV                       1.30   \n",
      "RidgeCV                                           1.30   \n",
      "PoissonRegressor                                  1.29   \n",
      "LassoLarsCV                                       1.29   \n",
      "LassoCV                                           1.28   \n",
      "BaggingRegressor                                  1.28   \n",
      "ElasticNetCV                                      1.27   \n",
      "RandomForestRegressor                             1.27   \n",
      "OrthogonalMatchingPursuit                         1.27   \n",
      "AdaBoostRegressor                                 1.26   \n",
      "LassoLarsIC                                       1.25   \n",
      "LarsCV                                            1.24   \n",
      "GammaRegressor                                    1.23   \n",
      "TweedieRegressor                                  1.22   \n",
      "BayesianRidge                                     1.22   \n",
      "\n",
      "                                              R-Squared           RMSE  \\\n",
      "Model                                                                    \n",
      "LinearRegression              -234880154253605863424.00 14042198523.50   \n",
      "TransformedTargetRegressor    -234880154253605863424.00 14042198523.50   \n",
      "Lars                                           -1521.87          35.76   \n",
      "GaussianProcessRegressor                         -60.23           7.17   \n",
      "RANSACRegressor                                   -1.75           1.52   \n",
      "MLPRegressor                                      -1.69           1.50   \n",
      "ExtraTreeRegressor                                -0.59           1.15   \n",
      "HuberRegressor                                    -0.29           1.04   \n",
      "PassiveAggressiveRegressor                        -0.27           1.03   \n",
      "DecisionTreeRegressor                             -0.19           1.00   \n",
      "Lasso                                             -0.08           0.95   \n",
      "LassoLars                                         -0.08           0.95   \n",
      "DummyRegressor                                    -0.08           0.95   \n",
      "ElasticNet                                        -0.07           0.95   \n",
      "LinearSVR                                         -0.02           0.93   \n",
      "QuantileRegressor                                 -0.01           0.92   \n",
      "KernelRidge                                        0.02           0.91   \n",
      "Ridge                                              0.03           0.90   \n",
      "KNeighborsRegressor                                0.22           0.81   \n",
      "SVR                                                0.27           0.78   \n",
      "NuSVR                                              0.28           0.78   \n",
      "HistGradientBoostingRegressor                      0.34           0.74   \n",
      "GradientBoostingRegressor                          0.39           0.71   \n",
      "ExtraTreesRegressor                                0.42           0.70   \n",
      "SGDRegressor                                       0.42           0.70   \n",
      "OrthogonalMatchingPursuitCV                        0.42           0.70   \n",
      "RidgeCV                                            0.43           0.69   \n",
      "PoissonRegressor                                   0.43           0.69   \n",
      "LassoLarsCV                                        0.45           0.68   \n",
      "LassoCV                                            0.46           0.67   \n",
      "BaggingRegressor                                   0.46           0.67   \n",
      "ElasticNetCV                                       0.48           0.66   \n",
      "RandomForestRegressor                              0.49           0.66   \n",
      "OrthogonalMatchingPursuit                          0.49           0.65   \n",
      "AdaBoostRegressor                                  0.49           0.65   \n",
      "LassoLarsIC                                        0.52           0.64   \n",
      "LarsCV                                             0.53           0.63   \n",
      "GammaRegressor                                     0.55           0.61   \n",
      "TweedieRegressor                                   0.57           0.60   \n",
      "BayesianRidge                                      0.57           0.60   \n",
      "\n",
      "                               Time Taken  \n",
      "Model                                      \n",
      "LinearRegression                     0.01  \n",
      "TransformedTargetRegressor           0.02  \n",
      "Lars                                 0.02  \n",
      "GaussianProcessRegressor             0.01  \n",
      "RANSACRegressor                      0.11  \n",
      "MLPRegressor                         0.14  \n",
      "ExtraTreeRegressor                   0.02  \n",
      "HuberRegressor                       0.02  \n",
      "PassiveAggressiveRegressor           0.01  \n",
      "DecisionTreeRegressor                0.04  \n",
      "Lasso                                0.01  \n",
      "LassoLars                            0.01  \n",
      "DummyRegressor                       0.03  \n",
      "ElasticNet                           0.01  \n",
      "LinearSVR                            0.02  \n",
      "QuantileRegressor                    0.06  \n",
      "KernelRidge                          0.01  \n",
      "Ridge                                0.01  \n",
      "KNeighborsRegressor                  0.01  \n",
      "SVR                                  0.01  \n",
      "NuSVR                                0.01  \n",
      "HistGradientBoostingRegressor        0.22  \n",
      "GradientBoostingRegressor            0.08  \n",
      "ExtraTreesRegressor                  0.11  \n",
      "SGDRegressor                         0.01  \n",
      "OrthogonalMatchingPursuitCV          0.01  \n",
      "RidgeCV                              0.02  \n",
      "PoissonRegressor                     0.01  \n",
      "LassoLarsCV                          0.06  \n",
      "LassoCV                              0.65  \n",
      "BaggingRegressor                     0.06  \n",
      "ElasticNetCV                         0.58  \n",
      "RandomForestRegressor                0.15  \n",
      "OrthogonalMatchingPursuit            0.01  \n",
      "AdaBoostRegressor                    0.11  \n",
      "LassoLarsIC                          0.02  \n",
      "LarsCV                               0.05  \n",
      "GammaRegressor                       0.01  \n",
      "TweedieRegressor                     0.01  \n",
      "BayesianRidge                        0.04  \n"
     ]
    },
    {
     "name": "stderr",
     "output_type": "stream",
     "text": [
      "\n"
     ]
    }
   ],
   "source": [
    "models_sub, predictions_sub = reg.fit(X_train_sub, X_test_sub, y_train_sub, y_test_sub)\n",
    "\n",
    "print(models_sub)"
   ]
  },
  {
   "attachments": {},
   "cell_type": "markdown",
   "metadata": {},
   "source": [
    "### LazyRegressor for the factors influencing the average HRV"
   ]
  },
  {
   "cell_type": "code",
   "execution_count": 11,
   "metadata": {},
   "outputs": [],
   "source": [
    "# Separate the indenpendent variables from the dependent variables\n",
    "y_hrv = df['average_hrv']\n",
    "X_hrv = df.drop(labels=['average_hrv'], axis=1)\n",
    "\n",
    "# Create the test and train sets for the average hrv prediction\n",
    "X_train_hrv, X_test_hrv, y_train_hrv, y_test_hrv = train_test_split(X_hrv, y_hrv, test_size = 0.2, random_state = 5)"
   ]
  },
  {
   "cell_type": "code",
   "execution_count": 12,
   "metadata": {},
   "outputs": [
    {
     "name": "stdout",
     "output_type": "stream",
     "text": [
      "'tuple' object has no attribute '__name__'\n",
      "Invalid Regressor(s)\n"
     ]
    },
    {
     "name": "stderr",
     "output_type": "stream",
     "text": [
      "100%|██████████| 40/40 [00:01<00:00, 20.88it/s]"
     ]
    },
    {
     "name": "stdout",
     "output_type": "stream",
     "text": [
      "                                      Adjusted R-Squared  \\\n",
      "Model                                                      \n",
      "LinearRegression              31062329562467961667584.00   \n",
      "TransformedTargetRegressor    31062329562467961667584.00   \n",
      "Lars                                              518.12   \n",
      "GaussianProcessRegressor                            9.28   \n",
      "MLPRegressor                                        2.74   \n",
      "QuantileRegressor                                   1.55   \n",
      "DummyRegressor                                      1.53   \n",
      "LassoLars                                           1.48   \n",
      "NuSVR                                               1.47   \n",
      "SVR                                                 1.45   \n",
      "ExtraTreeRegressor                                  1.27   \n",
      "KNeighborsRegressor                                 1.25   \n",
      "DecisionTreeRegressor                               1.22   \n",
      "HuberRegressor                                      1.21   \n",
      "PassiveAggressiveRegressor                          1.19   \n",
      "RANSACRegressor                                     1.19   \n",
      "KernelRidge                                         1.15   \n",
      "Ridge                                               1.15   \n",
      "ExtraTreesRegressor                                 1.15   \n",
      "AdaBoostRegressor                                   1.14   \n",
      "HistGradientBoostingRegressor                       1.14   \n",
      "RandomForestRegressor                               1.14   \n",
      "BaggingRegressor                                    1.13   \n",
      "TweedieRegressor                                    1.13   \n",
      "SGDRegressor                                        1.13   \n",
      "GradientBoostingRegressor                           1.13   \n",
      "ElasticNet                                          1.13   \n",
      "GammaRegressor                                      1.13   \n",
      "LinearSVR                                           1.12   \n",
      "OrthogonalMatchingPursuit                           1.11   \n",
      "PoissonRegressor                                    1.11   \n",
      "Lasso                                               1.11   \n",
      "RidgeCV                                             1.11   \n",
      "LassoLarsIC                                         1.10   \n",
      "LarsCV                                              1.10   \n",
      "LassoLarsCV                                         1.10   \n",
      "BayesianRidge                                       1.10   \n",
      "ElasticNetCV                                        1.10   \n",
      "LassoCV                                             1.10   \n",
      "OrthogonalMatchingPursuitCV                         1.10   \n",
      "\n",
      "                                                R-Squared             RMSE  \\\n",
      "Model                                                                        \n",
      "LinearRegression              -60929954141764084301824.00 4256879102670.67   \n",
      "TransformedTargetRegressor    -60929954141764084301824.00 4256879102670.67   \n",
      "Lars                                             -1013.35           549.25   \n",
      "GaussianProcessRegressor                           -15.24            69.50   \n",
      "MLPRegressor                                        -2.42            31.88   \n",
      "QuantileRegressor                                   -0.07            17.87   \n",
      "DummyRegressor                                      -0.04            17.60   \n",
      "LassoLars                                            0.06            16.70   \n",
      "NuSVR                                                0.09            16.50   \n",
      "SVR                                                  0.12            16.20   \n",
      "ExtraTreeRegressor                                   0.47            12.56   \n",
      "KNeighborsRegressor                                  0.51            12.08   \n",
      "DecisionTreeRegressor                                0.58            11.22   \n",
      "HuberRegressor                                       0.59            10.99   \n",
      "PassiveAggressiveRegressor                           0.63            10.53   \n",
      "RANSACRegressor                                      0.64            10.40   \n",
      "KernelRidge                                          0.70             9.49   \n",
      "Ridge                                                0.70             9.47   \n",
      "ExtraTreesRegressor                                  0.71             9.31   \n",
      "AdaBoostRegressor                                    0.72             9.18   \n",
      "HistGradientBoostingRegressor                        0.72             9.08   \n",
      "RandomForestRegressor                                0.73             9.01   \n",
      "BaggingRegressor                                     0.74             8.82   \n",
      "TweedieRegressor                                     0.74             8.79   \n",
      "SGDRegressor                                         0.74             8.75   \n",
      "GradientBoostingRegressor                            0.75             8.70   \n",
      "ElasticNet                                           0.75             8.69   \n",
      "GammaRegressor                                       0.75             8.65   \n",
      "LinearSVR                                            0.77             8.31   \n",
      "OrthogonalMatchingPursuit                            0.79             7.95   \n",
      "PoissonRegressor                                     0.79             7.94   \n",
      "Lasso                                                0.79             7.86   \n",
      "RidgeCV                                              0.79             7.84   \n",
      "LassoLarsIC                                          0.80             7.79   \n",
      "LarsCV                                               0.80             7.74   \n",
      "LassoLarsCV                                          0.80             7.74   \n",
      "BayesianRidge                                        0.80             7.70   \n",
      "ElasticNetCV                                         0.80             7.69   \n",
      "LassoCV                                              0.80             7.67   \n",
      "OrthogonalMatchingPursuitCV                          0.81             7.52   \n",
      "\n",
      "                               Time Taken  \n",
      "Model                                      \n",
      "LinearRegression                     0.01  \n",
      "TransformedTargetRegressor           0.01  \n",
      "Lars                                 0.02  \n",
      "GaussianProcessRegressor             0.01  \n",
      "MLPRegressor                         0.14  \n",
      "QuantileRegressor                    0.08  \n",
      "DummyRegressor                       0.01  \n",
      "LassoLars                            0.01  \n",
      "NuSVR                                0.01  \n",
      "SVR                                  0.01  \n",
      "ExtraTreeRegressor                   0.01  \n",
      "KNeighborsRegressor                  0.01  \n",
      "DecisionTreeRegressor                0.01  \n",
      "HuberRegressor                       0.03  \n",
      "PassiveAggressiveRegressor           0.01  \n",
      "RANSACRegressor                      0.12  \n",
      "KernelRidge                          0.01  \n",
      "Ridge                                0.01  \n",
      "ExtraTreesRegressor                  0.13  \n",
      "AdaBoostRegressor                    0.07  \n",
      "HistGradientBoostingRegressor        0.20  \n",
      "RandomForestRegressor                0.17  \n",
      "BaggingRegressor                     0.03  \n",
      "TweedieRegressor                     0.01  \n",
      "SGDRegressor                         0.01  \n",
      "GradientBoostingRegressor            0.08  \n",
      "ElasticNet                           0.01  \n",
      "GammaRegressor                       0.01  \n",
      "LinearSVR                            0.01  \n",
      "OrthogonalMatchingPursuit            0.01  \n",
      "PoissonRegressor                     0.02  \n",
      "Lasso                                0.01  \n",
      "RidgeCV                              0.01  \n",
      "LassoLarsIC                          0.02  \n",
      "LarsCV                               0.05  \n",
      "LassoLarsCV                          0.07  \n",
      "BayesianRidge                        0.01  \n",
      "ElasticNetCV                         0.13  \n",
      "LassoCV                              0.28  \n",
      "OrthogonalMatchingPursuitCV          0.01  \n"
     ]
    },
    {
     "name": "stderr",
     "output_type": "stream",
     "text": [
      "\n"
     ]
    }
   ],
   "source": [
    "models_hrv, predictions_hrv = reg.fit(X_train_hrv, X_test_hrv, y_train_hrv, y_test_hrv)\n",
    "\n",
    "print(models_hrv)"
   ]
  },
  {
   "attachments": {},
   "cell_type": "markdown",
   "metadata": {},
   "source": [
    "### LazyRegressor for the factors influencing the total sleep duration"
   ]
  },
  {
   "cell_type": "code",
   "execution_count": 13,
   "metadata": {},
   "outputs": [],
   "source": [
    "# Separate the indenpendent variables from the dependent variables\n",
    "# For the total sleep duration, only consider the days for which a person woke up naturally\n",
    "y_total_sleep = df[df['Naturally'] == 1]['total_sleep_duration']\n",
    "X_total_sleep = df[df['Naturally'] == 1]\n",
    "X_total_sleep = X_total_sleep.drop(labels=['total_sleep_duration'], axis=1)\n",
    "\n",
    "# Create the test and train sets for the average hrv prediction\n",
    "X_train_total_sleep, X_test_total_sleep, y_train_total_sleep, y_test_total_sleep = train_test_split(X_total_sleep, y_total_sleep, test_size = 0.2, random_state = 89)"
   ]
  },
  {
   "cell_type": "code",
   "execution_count": 14,
   "metadata": {},
   "outputs": [
    {
     "name": "stdout",
     "output_type": "stream",
     "text": [
      "'tuple' object has no attribute '__name__'\n",
      "Invalid Regressor(s)\n"
     ]
    },
    {
     "name": "stderr",
     "output_type": "stream",
     "text": [
      " 65%|██████▌   | 26/40 [00:00<00:00, 37.87it/s]"
     ]
    },
    {
     "name": "stdout",
     "output_type": "stream",
     "text": [
      "LassoLarsIC model failed to execute\n",
      "You are using LassoLarsIC in the case where the number of samples is smaller than the number of features. In this setting, getting a good estimate for the variance of the noise is not possible. Provide an estimate of the noise variance in the constructor.\n",
      "RANSACRegressor model failed to execute\n",
      "`min_samples` may not be larger than number of samples: n_samples = 16.\n"
     ]
    },
    {
     "name": "stderr",
     "output_type": "stream",
     "text": [
      "100%|██████████| 40/40 [00:00<00:00, 42.79it/s]"
     ]
    },
    {
     "name": "stdout",
     "output_type": "stream",
     "text": [
      "                                                              Adjusted R-Squared  \\\n",
      "Model                                                                              \n",
      "Lars                          52521160215245839804316156957602960106071052945...   \n",
      "GaussianProcessRegressor                                                    1.90   \n",
      "LinearSVR                                                                   1.89   \n",
      "MLPRegressor                                                                1.89   \n",
      "QuantileRegressor                                                           1.05   \n",
      "SVR                                                                         1.05   \n",
      "NuSVR                                                                       1.05   \n",
      "DummyRegressor                                                              1.05   \n",
      "HistGradientBoostingRegressor                                               1.05   \n",
      "DecisionTreeRegressor                                                       1.01   \n",
      "ExtraTreeRegressor                                                          1.01   \n",
      "KNeighborsRegressor                                                         1.01   \n",
      "BaggingRegressor                                                            1.01   \n",
      "RandomForestRegressor                                                       1.00   \n",
      "PoissonRegressor                                                            1.00   \n",
      "Lasso                                                                       1.00   \n",
      "ElasticNetCV                                                                1.00   \n",
      "GammaRegressor                                                              1.00   \n",
      "ExtraTreesRegressor                                                         1.00   \n",
      "KernelRidge                                                                 1.00   \n",
      "BayesianRidge                                                               1.00   \n",
      "HuberRegressor                                                              1.00   \n",
      "PassiveAggressiveRegressor                                                  1.00   \n",
      "SGDRegressor                                                                1.00   \n",
      "RidgeCV                                                                     1.00   \n",
      "TransformedTargetRegressor                                                  1.00   \n",
      "LinearRegression                                                            1.00   \n",
      "Ridge                                                                       1.00   \n",
      "AdaBoostRegressor                                                           1.00   \n",
      "ElasticNet                                                                  1.00   \n",
      "GradientBoostingRegressor                                                   1.00   \n",
      "TweedieRegressor                                                            1.00   \n",
      "LassoCV                                                                     1.00   \n",
      "OrthogonalMatchingPursuit                                                   1.00   \n",
      "LarsCV                                                                      1.00   \n",
      "LassoLarsCV                                                                 1.00   \n",
      "LassoLars                                                                   1.00   \n",
      "OrthogonalMatchingPursuitCV                                                 1.00   \n",
      "\n",
      "                                                                       R-Squared  \\\n",
      "Model                                                                              \n",
      "Lars                          -1295521951976063927989793587121833872671245840...   \n",
      "GaussianProcessRegressor                                                  -21.10   \n",
      "LinearSVR                                                                 -21.01   \n",
      "MLPRegressor                                                              -20.93   \n",
      "QuantileRegressor                                                          -0.21   \n",
      "SVR                                                                        -0.21   \n",
      "NuSVR                                                                      -0.20   \n",
      "DummyRegressor                                                             -0.19   \n",
      "HistGradientBoostingRegressor                                              -0.19   \n",
      "DecisionTreeRegressor                                                       0.66   \n",
      "ExtraTreeRegressor                                                          0.76   \n",
      "KNeighborsRegressor                                                         0.77   \n",
      "BaggingRegressor                                                            0.84   \n",
      "RandomForestRegressor                                                       0.93   \n",
      "PoissonRegressor                                                            0.94   \n",
      "Lasso                                                                       0.95   \n",
      "ElasticNetCV                                                                0.96   \n",
      "GammaRegressor                                                              0.96   \n",
      "ExtraTreesRegressor                                                         0.97   \n",
      "KernelRidge                                                                 0.97   \n",
      "BayesianRidge                                                               0.98   \n",
      "HuberRegressor                                                              0.98   \n",
      "PassiveAggressiveRegressor                                                  0.98   \n",
      "SGDRegressor                                                                0.98   \n",
      "RidgeCV                                                                     0.98   \n",
      "TransformedTargetRegressor                                                  0.98   \n",
      "LinearRegression                                                            0.98   \n",
      "Ridge                                                                       0.98   \n",
      "AdaBoostRegressor                                                           0.98   \n",
      "ElasticNet                                                                  0.98   \n",
      "GradientBoostingRegressor                                                   0.99   \n",
      "TweedieRegressor                                                            0.99   \n",
      "LassoCV                                                                     1.00   \n",
      "OrthogonalMatchingPursuit                                                   1.00   \n",
      "LarsCV                                                                      1.00   \n",
      "LassoLarsCV                                                                 1.00   \n",
      "LassoLars                                                                   1.00   \n",
      "OrthogonalMatchingPursuitCV                                                 1.00   \n",
      "\n",
      "                                                            RMSE  Time Taken  \n",
      "Model                                                                         \n",
      "Lars                          6133278020607331713182720851968.00        0.02  \n",
      "GaussianProcessRegressor                                25329.80        0.01  \n",
      "LinearSVR                                               25282.90        0.01  \n",
      "MLPRegressor                                            25232.64        0.08  \n",
      "QuantileRegressor                                        5935.49        0.02  \n",
      "SVR                                                      5935.10        0.01  \n",
      "NuSVR                                                    5904.21        0.01  \n",
      "DummyRegressor                                           5885.18        0.01  \n",
      "HistGradientBoostingRegressor                            5885.18        0.04  \n",
      "DecisionTreeRegressor                                    3129.15        0.01  \n",
      "ExtraTreeRegressor                                       2633.64        0.01  \n",
      "KNeighborsRegressor                                      2606.63        0.01  \n",
      "BaggingRegressor                                         2171.08        0.02  \n",
      "RandomForestRegressor                                    1373.82        0.09  \n",
      "PoissonRegressor                                         1324.51        0.02  \n",
      "Lasso                                                    1232.72        0.01  \n",
      "ElasticNetCV                                             1124.01        0.04  \n",
      "GammaRegressor                                           1094.32        0.01  \n",
      "ExtraTreesRegressor                                       890.58        0.07  \n",
      "KernelRidge                                               880.83        0.01  \n",
      "BayesianRidge                                             789.22        0.01  \n",
      "HuberRegressor                                            789.22        0.03  \n",
      "PassiveAggressiveRegressor                                789.14        0.01  \n",
      "SGDRegressor                                              788.42        0.01  \n",
      "RidgeCV                                                   784.35        0.02  \n",
      "TransformedTargetRegressor                                765.10        0.01  \n",
      "LinearRegression                                          765.10        0.01  \n",
      "Ridge                                                     749.40        0.01  \n",
      "AdaBoostRegressor                                         701.63        0.05  \n",
      "ElasticNet                                                660.46        0.01  \n",
      "GradientBoostingRegressor                                 649.47        0.03  \n",
      "TweedieRegressor                                          646.16        0.01  \n",
      "LassoCV                                                   353.79        0.07  \n",
      "OrthogonalMatchingPursuit                                 241.88        0.01  \n",
      "LarsCV                                                    223.13        0.04  \n",
      "LassoLarsCV                                               195.74        0.02  \n",
      "LassoLars                                                 192.73        0.01  \n",
      "OrthogonalMatchingPursuitCV                               176.09        0.01  \n"
     ]
    },
    {
     "name": "stderr",
     "output_type": "stream",
     "text": [
      "\n"
     ]
    }
   ],
   "source": [
    "models_total_sleep, predictions_total_sleep = reg.fit(X_train_total_sleep, X_test_total_sleep, y_train_total_sleep, y_test_total_sleep)\n",
    "\n",
    "print(models_total_sleep)"
   ]
  },
  {
   "attachments": {},
   "cell_type": "markdown",
   "metadata": {},
   "source": [
    "### LazyRegressor for the factors influencing the total awake time during the night"
   ]
  }
 ],
 "metadata": {
  "kernelspec": {
   "display_name": "Python 3.7.10 ('tensorflow_env')",
   "language": "python",
   "name": "python3"
  },
  "language_info": {
   "codemirror_mode": {
    "name": "ipython",
    "version": 3
   },
   "file_extension": ".py",
   "mimetype": "text/x-python",
   "name": "python",
   "nbconvert_exporter": "python",
   "pygments_lexer": "ipython3",
   "version": "3.7.10"
  },
  "orig_nbformat": 4,
  "vscode": {
   "interpreter": {
    "hash": "f440ca07c10c374a105f3d67f9c2c345d20e5b276c036b89a1e623f864f80620"
   }
  }
 },
 "nbformat": 4,
 "nbformat_minor": 2
}
