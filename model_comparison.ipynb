{
 "cells": [
  {
   "cell_type": "markdown",
   "metadata": {},
   "source": [
    "## Imports"
   ]
  },
  {
   "cell_type": "code",
   "execution_count": 1,
   "metadata": {},
   "outputs": [],
   "source": [
    "import pandas as pd\n",
    "import numpy as np\n",
    "from sklearn.model_selection import train_test_split\n",
    "from lazypredict.Supervised import LazyRegressor\n",
    "from sklearn.preprocessing import LabelEncoder\n",
    "from sklearn.utils import all_estimators\n",
    "from sklearn.base import RegressorMixin"
   ]
  },
  {
   "attachments": {},
   "cell_type": "markdown",
   "metadata": {},
   "source": [
    "## Define the files to be loaded"
   ]
  },
  {
   "cell_type": "code",
   "execution_count": 2,
   "metadata": {},
   "outputs": [],
   "source": [
    "# Participant number whose data should be loaded\n",
    "participant_number = 3\n",
    "\n",
    "# The version of the questionnaires to load\n",
    "quest_version = 1"
   ]
  },
  {
   "cell_type": "markdown",
   "metadata": {},
   "source": [
    "## Loading the pre-processed data"
   ]
  },
  {
   "cell_type": "code",
   "execution_count": 3,
   "metadata": {},
   "outputs": [],
   "source": [
    "df = pd.read_csv('data/preprocessed/preprocessed_data_' + str(participant_number) + '_v' + str(quest_version) + '.csv')\n",
    "df = df.drop(labels=['actual_day', 'actual_day.1'], axis=1)\n",
    "\n",
    "df_oura = pd.read_csv('data/preprocessed/preprocessed_sleep_' + str(participant_number) + '_v' + str(quest_version) + '.csv')\n",
    "df_oura = df_oura.drop(labels=['actual_day'], axis=1)\n",
    "\n",
    "df_quest = pd.read_csv('data/preprocessed/preprocessed_questionnaires_' + str(participant_number) + '_v' + str(quest_version) + '.csv')\n",
    "df_quest = df_quest.drop(labels=['actual_day'], axis=1)"
   ]
  },
  {
   "cell_type": "code",
   "execution_count": 4,
   "metadata": {},
   "outputs": [],
   "source": [
    "# Remove these to try and fix the issues raised by LazyRegressor for them \n",
    "# example: \n",
    "# AdaBoostRegressor model failed to execute\n",
    "# Found unknown categories ['[0.0, 51.0, 53.0, 53.0, 54.0, 53.0, ...\n",
    "df = df.drop(labels=['hrv.items', 'heart_rate.items', 'sleep_phase_5_min', 'movement_30_sec'], axis=1)\n",
    "df_oura = df_oura.drop(labels=['hrv.items', 'heart_rate.items', 'sleep_phase_5_min', 'movement_30_sec'], axis=1)"
   ]
  },
  {
   "cell_type": "code",
   "execution_count": 5,
   "metadata": {},
   "outputs": [
    {
     "name": "stdout",
     "output_type": "stream",
     "text": [
      "['0', 'average_breath', 'average_breath_variation', 'average_heart_rate', 'average_hrv', 'awake_time', 'bedtime_end_delta', 'bedtime_end_seconds', 'bedtime_start_delta', 'bedtime_start_seconds', 'contributors.deep_sleep', 'contributors.efficiency', 'contributors.latency', 'contributors.rem_sleep', 'contributors.restfulness', 'contributors.timing', 'contributors.total_sleep', 'deep_sleep_duration', 'efficiency', 'got_ups', 'latency', 'light_sleep_duration', 'lowest_heart_rate', 'lowest_heart_rate_time_offset', 'period', 'readiness.contributors.activity_balance', 'readiness.contributors.body_temperature', 'readiness.contributors.hrv_balance', 'readiness.contributors.previous_day_activity', 'readiness.contributors.previous_night', 'readiness.contributors.recovery_index', 'readiness.contributors.resting_heart_rate', 'readiness.contributors.sleep_balance', 'readiness.score', 'readiness.temperature_deviation', 'readiness.temperature_trend_deviation', 'rem_sleep_duration', 'restless', 'restless_periods', 'score', 'segment_state', 'sleep_midpoint', 'time_in_bed', 'timezone', 'total_sleep_duration', 'type', 'wake_ups', 'prev_oura_score', 'bed_time', 'A late a long nap', 'Comfort', 'I stayed in bed trying to sleep', 'I used a smart device (phone', 'I went to drink water', 'I went to the toilet', 'Naturally', 'Noise', 'Nothing', 'Someone or something else woke me up', 'Temperature', 'With an alarm', 'blue_light', 'prevent_early_sleep', 'recall_awake', 'special_circumstances_wakeup', 'subjective_sleep_score', 'prev_subjective_score', 'Mentally active', 'Physically active', 'Relaxed', 'Socially active', 'Stressful', 'alcohol_time', 'coffee_time', 'eat_bedtime', 'medication', 'special_circumstances', 'stress_levels', 'stress_relief_time', 'workout_time']\n"
     ]
    }
   ],
   "source": [
    "print(df.columns.tolist())"
   ]
  },
  {
   "attachments": {},
   "cell_type": "markdown",
   "metadata": {},
   "source": [
    "## Prepare regressor list for lazypredict"
   ]
  },
  {
   "cell_type": "code",
   "execution_count": 6,
   "metadata": {},
   "outputs": [],
   "source": [
    "removed_regressors = [\n",
    "    \"TheilSenRegressor\",\n",
    "    \"ARDRegression\", \n",
    "    \"CCA\", \n",
    "    \"IsotonicRegression\", \n",
    "    \"StackingRegressor\",\n",
    "    \"MultiOutputRegressor\", \n",
    "    \"MultiTaskElasticNet\", \n",
    "    \"MultiTaskElasticNetCV\", \n",
    "    \"MultiTaskLasso\", \n",
    "    \"MultiTaskLassoCV\", \n",
    "    \"PLSCanonical\", \n",
    "    \"PLSRegression\", \n",
    "    \"RadiusNeighborsRegressor\", \n",
    "    \"RegressorChain\", \n",
    "    \"VotingRegressor\", \n",
    "]"
   ]
  },
  {
   "cell_type": "code",
   "execution_count": 7,
   "metadata": {},
   "outputs": [],
   "source": [
    "REGRESSORS = [\n",
    "    est\n",
    "    for est in all_estimators()\n",
    "    if (issubclass(est[1], RegressorMixin) and (est[0] not in removed_regressors))\n",
    "]"
   ]
  },
  {
   "attachments": {},
   "cell_type": "markdown",
   "metadata": {},
   "source": [
    "## Run LazyRegressor on datasets"
   ]
  },
  {
   "cell_type": "code",
   "execution_count": 8,
   "metadata": {},
   "outputs": [],
   "source": [
    "def lazy_regressor(X, y, test_size, random_state, regressor):\n",
    "    # Create the test and train sets for the given prediction\n",
    "    X_train, X_test, y_train, y_test = train_test_split(X, y, test_size = test_size, random_state = random_state)\n",
    "    \n",
    "    models_hrv, predictions_hrv = regressor.fit(X_train, X_test, y_train, y_test)\n",
    "    return models_hrv"
   ]
  },
  {
   "cell_type": "code",
   "execution_count": 9,
   "metadata": {},
   "outputs": [],
   "source": [
    "# Apply the LazyRegressor on the data\n",
    "reg = LazyRegressor(verbose=0, ignore_warnings=False, custom_metric=None, regressors = REGRESSORS)"
   ]
  },
  {
   "attachments": {},
   "cell_type": "markdown",
   "metadata": {},
   "source": [
    "### LazyRegressor for the factors influencing the sleep scores given all the variables"
   ]
  },
  {
   "cell_type": "code",
   "execution_count": 10,
   "metadata": {},
   "outputs": [],
   "source": [
    "# Separate the indenpendent variables from the dependent variables\n",
    "y_oura = df['score']\n",
    "y_sub = df['subjective_sleep_score']\n",
    "X = df.drop(labels=['score', 'subjective_sleep_score'], axis=1)"
   ]
  },
  {
   "attachments": {},
   "cell_type": "markdown",
   "metadata": {},
   "source": [
    "#### Oura sleep scores"
   ]
  },
  {
   "cell_type": "code",
   "execution_count": 11,
   "metadata": {},
   "outputs": [
    {
     "name": "stdout",
     "output_type": "stream",
     "text": [
      "'tuple' object has no attribute '__name__'\n",
      "Invalid Regressor(s)\n"
     ]
    },
    {
     "name": "stderr",
     "output_type": "stream",
     "text": [
      "100%|██████████| 40/40 [00:01<00:00, 24.74it/s]"
     ]
    },
    {
     "name": "stdout",
     "output_type": "stream",
     "text": [
      "                               Adjusted R-Squared   R-Squared    RMSE  \\\n",
      "Model                                                                   \n",
      "Lars                                   2797661.13 -5595319.26 2185.42   \n",
      "GaussianProcessRegressor                    37.32      -71.65    7.87   \n",
      "MLPRegressor                                 2.38       -1.76    1.54   \n",
      "QuantileRegressor                            1.52       -0.04    0.94   \n",
      "LassoLars                                    1.50       -0.00    0.92   \n",
      "DummyRegressor                               1.50       -0.00    0.92   \n",
      "Lasso                                        1.50       -0.00    0.92   \n",
      "LarsCV                                       1.50       -0.00    0.92   \n",
      "ElasticNet                                   1.31        0.38    0.73   \n",
      "BaggingRegressor                             1.26        0.48    0.67   \n",
      "AdaBoostRegressor                            1.26        0.48    0.67   \n",
      "DecisionTreeRegressor                        1.25        0.50    0.65   \n",
      "RandomForestRegressor                        1.25        0.50    0.65   \n",
      "OrthogonalMatchingPursuitCV                  1.23        0.55    0.62   \n",
      "GradientBoostingRegressor                    1.22        0.57    0.61   \n",
      "SVR                                          1.17        0.66    0.54   \n",
      "NuSVR                                        1.17        0.66    0.54   \n",
      "KNeighborsRegressor                          1.15        0.71    0.50   \n",
      "ExtraTreesRegressor                          1.14        0.72    0.49   \n",
      "HistGradientBoostingRegressor                1.13        0.74    0.48   \n",
      "OrthogonalMatchingPursuit                    1.10        0.80    0.41   \n",
      "ExtraTreeRegressor                           1.07        0.86    0.35   \n",
      "GammaRegressor                               1.03        0.93    0.24   \n",
      "TweedieRegressor                             1.02        0.95    0.20   \n",
      "PoissonRegressor                             1.02        0.96    0.18   \n",
      "HuberRegressor                               1.01        0.98    0.14   \n",
      "PassiveAggressiveRegressor                   1.01        0.98    0.13   \n",
      "SGDRegressor                                 1.01        0.98    0.13   \n",
      "KernelRidge                                  1.01        0.98    0.12   \n",
      "Ridge                                        1.01        0.98    0.12   \n",
      "BayesianRidge                                1.01        0.99    0.11   \n",
      "LassoLarsIC                                  1.00        0.99    0.09   \n",
      "ElasticNetCV                                 1.00        0.99    0.08   \n",
      "RidgeCV                                      1.00        0.99    0.08   \n",
      "LassoLarsCV                                  1.00        1.00    0.06   \n",
      "LassoCV                                      1.00        1.00    0.06   \n",
      "LinearSVR                                    1.00        1.00    0.06   \n",
      "LinearRegression                             1.00        1.00    0.05   \n",
      "RANSACRegressor                              1.00        1.00    0.05   \n",
      "TransformedTargetRegressor                   1.00        1.00    0.05   \n",
      "\n",
      "                               Time Taken  \n",
      "Model                                      \n",
      "Lars                                 0.02  \n",
      "GaussianProcessRegressor             0.02  \n",
      "MLPRegressor                         0.12  \n",
      "QuantileRegressor                    0.08  \n",
      "LassoLars                            0.01  \n",
      "DummyRegressor                       0.01  \n",
      "Lasso                                0.01  \n",
      "LarsCV                               0.05  \n",
      "ElasticNet                           0.01  \n",
      "BaggingRegressor                     0.03  \n",
      "AdaBoostRegressor                    0.07  \n",
      "DecisionTreeRegressor                0.01  \n",
      "RandomForestRegressor                0.16  \n",
      "OrthogonalMatchingPursuitCV          0.01  \n",
      "GradientBoostingRegressor            0.08  \n",
      "SVR                                  0.01  \n",
      "NuSVR                                0.01  \n",
      "KNeighborsRegressor                  0.01  \n",
      "ExtraTreesRegressor                  0.12  \n",
      "HistGradientBoostingRegressor        0.17  \n",
      "OrthogonalMatchingPursuit            0.01  \n",
      "ExtraTreeRegressor                   0.01  \n",
      "GammaRegressor                       0.01  \n",
      "TweedieRegressor                     0.01  \n",
      "PoissonRegressor                     0.01  \n",
      "HuberRegressor                       0.03  \n",
      "PassiveAggressiveRegressor           0.01  \n",
      "SGDRegressor                         0.01  \n",
      "KernelRidge                          0.01  \n",
      "Ridge                                0.01  \n",
      "BayesianRidge                        0.02  \n",
      "LassoLarsIC                          0.02  \n",
      "ElasticNetCV                         0.13  \n",
      "RidgeCV                              0.01  \n",
      "LassoLarsCV                          0.07  \n",
      "LassoCV                              0.14  \n",
      "LinearSVR                            0.03  \n",
      "LinearRegression                     0.01  \n",
      "RANSACRegressor                      0.01  \n",
      "TransformedTargetRegressor           0.01  \n"
     ]
    },
    {
     "name": "stderr",
     "output_type": "stream",
     "text": [
      "\n"
     ]
    }
   ],
   "source": [
    "models_oura = lazy_regressor(X, y_oura, test_size = 0.2, random_state = 2, regressor = reg)\n",
    "\n",
    "print(models_oura)"
   ]
  },
  {
   "attachments": {},
   "cell_type": "markdown",
   "metadata": {},
   "source": [
    "#### Subjective sleep scores"
   ]
  },
  {
   "cell_type": "code",
   "execution_count": 12,
   "metadata": {},
   "outputs": [
    {
     "name": "stdout",
     "output_type": "stream",
     "text": [
      "'tuple' object has no attribute '__name__'\n",
      "Invalid Regressor(s)\n"
     ]
    },
    {
     "name": "stderr",
     "output_type": "stream",
     "text": [
      "100%|██████████| 40/40 [00:02<00:00, 15.44it/s]"
     ]
    },
    {
     "name": "stdout",
     "output_type": "stream",
     "text": [
      "                               Adjusted R-Squared         R-Squared  \\\n",
      "Model                                                                 \n",
      "Lars                             2393773643791.91 -4787547287580.83   \n",
      "GaussianProcessRegressor                    31.62            -60.23   \n",
      "MLPRegressor                                 3.04             -3.07   \n",
      "RANSACRegressor                              1.92             -0.84   \n",
      "TransformedTargetRegressor                   1.80             -0.60   \n",
      "LinearRegression                             1.80             -0.60   \n",
      "HuberRegressor                               1.72             -0.43   \n",
      "DecisionTreeRegressor                        1.71             -0.41   \n",
      "PassiveAggressiveRegressor                   1.68             -0.36   \n",
      "LinearSVR                                    1.65             -0.30   \n",
      "ExtraTreeRegressor                           1.60             -0.19   \n",
      "Lasso                                        1.54             -0.08   \n",
      "DummyRegressor                               1.54             -0.08   \n",
      "LassoLars                                    1.54             -0.08   \n",
      "ElasticNet                                   1.53             -0.07   \n",
      "QuantileRegressor                            1.51             -0.01   \n",
      "Ridge                                        1.50             -0.01   \n",
      "KernelRidge                                  1.50             -0.01   \n",
      "HistGradientBoostingRegressor                1.41              0.18   \n",
      "KNeighborsRegressor                          1.39              0.23   \n",
      "SVR                                          1.36              0.27   \n",
      "NuSVR                                        1.36              0.28   \n",
      "GradientBoostingRegressor                    1.32              0.36   \n",
      "BaggingRegressor                             1.31              0.37   \n",
      "SGDRegressor                                 1.31              0.38   \n",
      "RidgeCV                                      1.30              0.40   \n",
      "AdaBoostRegressor                            1.29              0.41   \n",
      "ExtraTreesRegressor                          1.29              0.42   \n",
      "PoissonRegressor                             1.29              0.42   \n",
      "OrthogonalMatchingPursuitCV                  1.29              0.42   \n",
      "LassoLarsCV                                  1.28              0.44   \n",
      "LassoCV                                      1.27              0.46   \n",
      "ElasticNetCV                                 1.27              0.46   \n",
      "RandomForestRegressor                        1.26              0.47   \n",
      "OrthogonalMatchingPursuit                    1.26              0.49   \n",
      "LarsCV                                       1.23              0.53   \n",
      "LassoLarsIC                                  1.23              0.53   \n",
      "GammaRegressor                               1.22              0.56   \n",
      "BayesianRidge                                1.22              0.57   \n",
      "TweedieRegressor                             1.21              0.57   \n",
      "\n",
      "                                    RMSE  Time Taken  \n",
      "Model                                                 \n",
      "Lars                          2004788.14        0.02  \n",
      "GaussianProcessRegressor            7.17        0.01  \n",
      "MLPRegressor                        1.85        0.12  \n",
      "RANSACRegressor                     1.24        0.09  \n",
      "TransformedTargetRegressor          1.16        0.01  \n",
      "LinearRegression                    1.16        0.01  \n",
      "HuberRegressor                      1.10        0.03  \n",
      "DecisionTreeRegressor               1.09        0.01  \n",
      "PassiveAggressiveRegressor          1.07        0.01  \n",
      "LinearSVR                           1.05        0.02  \n",
      "ExtraTreeRegressor                  1.00        0.01  \n",
      "Lasso                               0.95        0.01  \n",
      "DummyRegressor                      0.95        0.01  \n",
      "LassoLars                           0.95        0.01  \n",
      "ElasticNet                          0.95        0.01  \n",
      "QuantileRegressor                   0.92        0.06  \n",
      "Ridge                               0.92        0.01  \n",
      "KernelRidge                         0.92        0.01  \n",
      "HistGradientBoostingRegressor       0.83        0.18  \n",
      "KNeighborsRegressor                 0.81        0.01  \n",
      "SVR                                 0.78        0.01  \n",
      "NuSVR                               0.78        0.01  \n",
      "GradientBoostingRegressor           0.73        0.08  \n",
      "BaggingRegressor                    0.73        0.03  \n",
      "SGDRegressor                        0.72        0.01  \n",
      "RidgeCV                             0.71        0.01  \n",
      "AdaBoostRegressor                   0.70        0.07  \n",
      "ExtraTreesRegressor                 0.70        0.10  \n",
      "PoissonRegressor                    0.70        0.01  \n",
      "OrthogonalMatchingPursuitCV         0.70        0.01  \n",
      "LassoLarsCV                         0.69        0.05  \n",
      "LassoCV                             0.67        0.67  \n",
      "ElasticNetCV                        0.67        0.56  \n",
      "RandomForestRegressor               0.67        0.16  \n",
      "OrthogonalMatchingPursuit           0.65        0.01  \n",
      "LarsCV                              0.63        0.05  \n",
      "LassoLarsIC                         0.63        0.02  \n",
      "GammaRegressor                      0.61        0.01  \n",
      "BayesianRidge                       0.60        0.01  \n",
      "TweedieRegressor                    0.60        0.01  \n"
     ]
    },
    {
     "name": "stderr",
     "output_type": "stream",
     "text": [
      "\n"
     ]
    }
   ],
   "source": [
    "models_sub = lazy_regressor(X, y_sub, test_size = 0.2, random_state = 6, regressor = reg)\n",
    "\n",
    "print(models_sub)"
   ]
  },
  {
   "attachments": {},
   "cell_type": "markdown",
   "metadata": {},
   "source": [
    "### LazyRegressor for the factors influencing the sleep scores given the questionnaire variables only"
   ]
  },
  {
   "cell_type": "code",
   "execution_count": 13,
   "metadata": {},
   "outputs": [],
   "source": [
    "# Separate the indenpendent variables from the dependent variables\n",
    "X = df_quest.drop(labels=['subjective_sleep_score'], axis=1)"
   ]
  },
  {
   "attachments": {},
   "cell_type": "markdown",
   "metadata": {},
   "source": [
    "#### Oura sleep score"
   ]
  },
  {
   "cell_type": "code",
   "execution_count": 14,
   "metadata": {},
   "outputs": [
    {
     "name": "stdout",
     "output_type": "stream",
     "text": [
      "'tuple' object has no attribute '__name__'\n",
      "Invalid Regressor(s)\n"
     ]
    },
    {
     "name": "stderr",
     "output_type": "stream",
     "text": [
      "100%|██████████| 40/40 [00:00<00:00, 41.34it/s]"
     ]
    },
    {
     "name": "stdout",
     "output_type": "stream",
     "text": [
      "                                         Adjusted R-Squared  \\\n",
      "Model                                                         \n",
      "TransformedTargetRegressor    25746711327061882567655424.00   \n",
      "LinearRegression              25746711327061882567655424.00   \n",
      "KernelRidge                                          373.13   \n",
      "GaussianProcessRegressor                             188.71   \n",
      "RANSACRegressor                                       14.87   \n",
      "PassiveAggressiveRegressor                             8.31   \n",
      "MLPRegressor                                           8.11   \n",
      "DecisionTreeRegressor                                  7.82   \n",
      "QuantileRegressor                                      6.39   \n",
      "LassoLars                                              6.21   \n",
      "DummyRegressor                                         6.21   \n",
      "ElasticNet                                             6.21   \n",
      "Lasso                                                  6.21   \n",
      "BaggingRegressor                                       5.98   \n",
      "AdaBoostRegressor                                      5.92   \n",
      "LassoLarsIC                                            5.71   \n",
      "HistGradientBoostingRegressor                          5.61   \n",
      "OrthogonalMatchingPursuitCV                            5.34   \n",
      "RandomForestRegressor                                  5.31   \n",
      "SVR                                                    5.29   \n",
      "ElasticNetCV                                           5.29   \n",
      "LarsCV                                                 5.29   \n",
      "LassoLarsCV                                            5.29   \n",
      "LassoCV                                                5.29   \n",
      "NuSVR                                                  5.29   \n",
      "OrthogonalMatchingPursuit                              5.25   \n",
      "KNeighborsRegressor                                    5.14   \n",
      "ExtraTreeRegressor                                     4.92   \n",
      "TweedieRegressor                                       4.86   \n",
      "GammaRegressor                                         4.85   \n",
      "LinearSVR                                              4.82   \n",
      "BayesianRidge                                          4.69   \n",
      "PoissonRegressor                                       4.51   \n",
      "RidgeCV                                                4.46   \n",
      "Ridge                                                  4.44   \n",
      "Lars                                                   4.43   \n",
      "SGDRegressor                                           4.43   \n",
      "GradientBoostingRegressor                              4.41   \n",
      "ExtraTreesRegressor                                    4.38   \n",
      "HuberRegressor                                         4.28   \n",
      "\n",
      "                                                  R-Squared             RMSE  \\\n",
      "Model                                                                          \n",
      "TransformedTargetRegressor    -4951290639819592718876672.00 2055802492185.98   \n",
      "LinearRegression              -4951290639819592718876672.00 2055802492185.98   \n",
      "KernelRidge                                          -70.56             7.82   \n",
      "GaussianProcessRegressor                             -35.10             5.55   \n",
      "RANSACRegressor                                       -1.67             1.51   \n",
      "PassiveAggressiveRegressor                            -0.41             1.10   \n",
      "MLPRegressor                                          -0.37             1.08   \n",
      "DecisionTreeRegressor                                 -0.31             1.06   \n",
      "QuantileRegressor                                     -0.04             0.94   \n",
      "LassoLars                                             -0.00             0.92   \n",
      "DummyRegressor                                        -0.00             0.92   \n",
      "ElasticNet                                            -0.00             0.92   \n",
      "Lasso                                                 -0.00             0.92   \n",
      "BaggingRegressor                                       0.04             0.90   \n",
      "AdaBoostRegressor                                      0.05             0.90   \n",
      "LassoLarsIC                                            0.09             0.88   \n",
      "HistGradientBoostingRegressor                          0.11             0.87   \n",
      "OrthogonalMatchingPursuitCV                            0.17             0.84   \n",
      "RandomForestRegressor                                  0.17             0.84   \n",
      "SVR                                                    0.17             0.84   \n",
      "ElasticNetCV                                           0.17             0.84   \n",
      "LarsCV                                                 0.17             0.84   \n",
      "LassoLarsCV                                            0.17             0.84   \n",
      "LassoCV                                                0.17             0.84   \n",
      "NuSVR                                                  0.17             0.84   \n",
      "OrthogonalMatchingPursuit                              0.18             0.84   \n",
      "KNeighborsRegressor                                    0.20             0.82   \n",
      "ExtraTreeRegressor                                     0.25             0.80   \n",
      "TweedieRegressor                                       0.26             0.80   \n",
      "GammaRegressor                                         0.26             0.79   \n",
      "LinearSVR                                              0.27             0.79   \n",
      "BayesianRidge                                          0.29             0.78   \n",
      "PoissonRegressor                                       0.32             0.76   \n",
      "RidgeCV                                                0.34             0.75   \n",
      "Ridge                                                  0.34             0.75   \n",
      "Lars                                                   0.34             0.75   \n",
      "SGDRegressor                                           0.34             0.75   \n",
      "GradientBoostingRegressor                              0.34             0.75   \n",
      "ExtraTreesRegressor                                    0.35             0.75   \n",
      "HuberRegressor                                         0.37             0.73   \n",
      "\n",
      "                               Time Taken  \n",
      "Model                                      \n",
      "TransformedTargetRegressor           0.01  \n",
      "LinearRegression                     0.01  \n",
      "KernelRidge                          0.01  \n",
      "GaussianProcessRegressor             0.01  \n",
      "RANSACRegressor                      0.04  \n",
      "PassiveAggressiveRegressor           0.01  \n",
      "MLPRegressor                         0.12  \n",
      "DecisionTreeRegressor                0.01  \n",
      "QuantileRegressor                    0.06  \n",
      "LassoLars                            0.01  \n",
      "DummyRegressor                       0.01  \n",
      "ElasticNet                           0.01  \n",
      "Lasso                                0.01  \n",
      "BaggingRegressor                     0.02  \n",
      "AdaBoostRegressor                    0.05  \n",
      "LassoLarsIC                          0.01  \n",
      "HistGradientBoostingRegressor        0.20  \n",
      "OrthogonalMatchingPursuitCV          0.01  \n",
      "RandomForestRegressor                0.09  \n",
      "SVR                                  0.01  \n",
      "ElasticNetCV                         0.04  \n",
      "LarsCV                               0.02  \n",
      "LassoLarsCV                          0.02  \n",
      "LassoCV                              0.04  \n",
      "NuSVR                                0.01  \n",
      "OrthogonalMatchingPursuit            0.01  \n",
      "KNeighborsRegressor                  0.01  \n",
      "ExtraTreeRegressor                   0.01  \n",
      "TweedieRegressor                     0.01  \n",
      "GammaRegressor                       0.01  \n",
      "LinearSVR                            0.01  \n",
      "BayesianRidge                        0.01  \n",
      "PoissonRegressor                     0.01  \n",
      "RidgeCV                              0.01  \n",
      "Ridge                                0.01  \n",
      "Lars                                 0.01  \n",
      "SGDRegressor                         0.01  \n",
      "GradientBoostingRegressor            0.03  \n",
      "ExtraTreesRegressor                  0.08  \n",
      "HuberRegressor                       0.01  \n"
     ]
    },
    {
     "name": "stderr",
     "output_type": "stream",
     "text": [
      "\n"
     ]
    }
   ],
   "source": [
    "models_oura = lazy_regressor(X, y_oura, test_size = 0.2, random_state = 2, regressor = reg)\n",
    "\n",
    "print(models_oura)"
   ]
  },
  {
   "attachments": {},
   "cell_type": "markdown",
   "metadata": {},
   "source": [
    "#### Subjective sleep scores"
   ]
  },
  {
   "cell_type": "code",
   "execution_count": 15,
   "metadata": {},
   "outputs": [
    {
     "name": "stdout",
     "output_type": "stream",
     "text": [
      "'tuple' object has no attribute '__name__'\n",
      "Invalid Regressor(s)\n"
     ]
    },
    {
     "name": "stderr",
     "output_type": "stream",
     "text": [
      "100%|██████████| 40/40 [00:00<00:00, 41.57it/s]"
     ]
    },
    {
     "name": "stdout",
     "output_type": "stream",
     "text": [
      "                                          Adjusted R-Squared  \\\n",
      "Model                                                          \n",
      "RANSACRegressor               960809848391123624492269568.00   \n",
      "KernelRidge                                           328.53   \n",
      "GaussianProcessRegressor                              206.18   \n",
      "MLPRegressor                                           13.63   \n",
      "PassiveAggressiveRegressor                             12.24   \n",
      "ExtraTreeRegressor                                      9.03   \n",
      "DecisionTreeRegressor                                   8.80   \n",
      "Lasso                                                   6.62   \n",
      "LassoLars                                               6.62   \n",
      "ElasticNet                                              6.62   \n",
      "DummyRegressor                                          6.62   \n",
      "QuantileRegressor                                       6.28   \n",
      "HistGradientBoostingRegressor                           5.88   \n",
      "ExtraTreesRegressor                                     5.61   \n",
      "HuberRegressor                                          5.60   \n",
      "NuSVR                                                   5.58   \n",
      "SVR                                                     5.57   \n",
      "LinearRegression                                        5.53   \n",
      "TransformedTargetRegressor                              5.53   \n",
      "Lars                                                    5.53   \n",
      "Ridge                                                   5.26   \n",
      "KNeighborsRegressor                                     5.20   \n",
      "LarsCV                                                  5.14   \n",
      "LassoLarsCV                                             5.14   \n",
      "LinearSVR                                               5.10   \n",
      "BaggingRegressor                                        5.09   \n",
      "OrthogonalMatchingPursuitCV                             5.08   \n",
      "OrthogonalMatchingPursuit                               5.02   \n",
      "LassoLarsIC                                             5.01   \n",
      "ElasticNetCV                                            5.00   \n",
      "LassoCV                                                 4.99   \n",
      "RandomForestRegressor                                   4.86   \n",
      "RidgeCV                                                 4.78   \n",
      "SGDRegressor                                            4.75   \n",
      "AdaBoostRegressor                                       4.75   \n",
      "TweedieRegressor                                        4.67   \n",
      "PoissonRegressor                                        4.65   \n",
      "GammaRegressor                                          4.61   \n",
      "BayesianRidge                                           4.55   \n",
      "GradientBoostingRegressor                               4.35   \n",
      "\n",
      "                                                    R-Squared  \\\n",
      "Model                                                           \n",
      "RANSACRegressor               -184771124690600683802460160.00   \n",
      "KernelRidge                                            -61.99   \n",
      "GaussianProcessRegressor                               -38.46   \n",
      "MLPRegressor                                            -1.43   \n",
      "PassiveAggressiveRegressor                              -1.16   \n",
      "ExtraTreeRegressor                                      -0.54   \n",
      "DecisionTreeRegressor                                   -0.50   \n",
      "Lasso                                                   -0.08   \n",
      "LassoLars                                               -0.08   \n",
      "ElasticNet                                              -0.08   \n",
      "DummyRegressor                                          -0.08   \n",
      "QuantileRegressor                                       -0.01   \n",
      "HistGradientBoostingRegressor                            0.06   \n",
      "ExtraTreesRegressor                                      0.11   \n",
      "HuberRegressor                                           0.11   \n",
      "NuSVR                                                    0.12   \n",
      "SVR                                                      0.12   \n",
      "LinearRegression                                         0.13   \n",
      "TransformedTargetRegressor                               0.13   \n",
      "Lars                                                     0.13   \n",
      "Ridge                                                    0.18   \n",
      "KNeighborsRegressor                                      0.19   \n",
      "LarsCV                                                   0.20   \n",
      "LassoLarsCV                                              0.20   \n",
      "LinearSVR                                                0.21   \n",
      "BaggingRegressor                                         0.21   \n",
      "OrthogonalMatchingPursuitCV                              0.22   \n",
      "OrthogonalMatchingPursuit                                0.23   \n",
      "LassoLarsIC                                              0.23   \n",
      "ElasticNetCV                                             0.23   \n",
      "LassoCV                                                  0.23   \n",
      "RandomForestRegressor                                    0.26   \n",
      "RidgeCV                                                  0.27   \n",
      "SGDRegressor                                             0.28   \n",
      "AdaBoostRegressor                                        0.28   \n",
      "TweedieRegressor                                         0.29   \n",
      "PoissonRegressor                                         0.30   \n",
      "GammaRegressor                                           0.31   \n",
      "BayesianRidge                                            0.32   \n",
      "GradientBoostingRegressor                                0.36   \n",
      "\n",
      "                                           RMSE  Time Taken  \n",
      "Model                                                        \n",
      "RANSACRegressor               12454577461329.52        0.03  \n",
      "KernelRidge                                7.27        0.01  \n",
      "GaussianProcessRegressor                   5.76        0.01  \n",
      "MLPRegressor                               1.43        0.10  \n",
      "PassiveAggressiveRegressor                 1.35        0.01  \n",
      "ExtraTreeRegressor                         1.14        0.01  \n",
      "DecisionTreeRegressor                      1.12        0.01  \n",
      "Lasso                                      0.95        0.01  \n",
      "LassoLars                                  0.95        0.01  \n",
      "ElasticNet                                 0.95        0.01  \n",
      "DummyRegressor                             0.95        0.01  \n",
      "QuantileRegressor                          0.92        0.05  \n",
      "HistGradientBoostingRegressor              0.89        0.20  \n",
      "ExtraTreesRegressor                        0.86        0.07  \n",
      "HuberRegressor                             0.86        0.01  \n",
      "NuSVR                                      0.86        0.01  \n",
      "SVR                                        0.86        0.01  \n",
      "LinearRegression                           0.86        0.01  \n",
      "TransformedTargetRegressor                 0.86        0.01  \n",
      "Lars                                       0.86        0.01  \n",
      "Ridge                                      0.83        0.01  \n",
      "KNeighborsRegressor                        0.82        0.01  \n",
      "LarsCV                                     0.82        0.02  \n",
      "LassoLarsCV                                0.82        0.02  \n",
      "LinearSVR                                  0.81        0.01  \n",
      "BaggingRegressor                           0.81        0.02  \n",
      "OrthogonalMatchingPursuitCV                0.81        0.01  \n",
      "OrthogonalMatchingPursuit                  0.81        0.01  \n",
      "LassoLarsIC                                0.80        0.01  \n",
      "ElasticNetCV                               0.80        0.04  \n",
      "LassoCV                                    0.80        0.04  \n",
      "RandomForestRegressor                      0.79        0.09  \n",
      "RidgeCV                                    0.78        0.01  \n",
      "SGDRegressor                               0.78        0.01  \n",
      "AdaBoostRegressor                          0.78        0.05  \n",
      "TweedieRegressor                           0.77        0.01  \n",
      "PoissonRegressor                           0.77        0.01  \n",
      "GammaRegressor                             0.76        0.01  \n",
      "BayesianRidge                              0.76        0.01  \n",
      "GradientBoostingRegressor                  0.73        0.03  \n"
     ]
    },
    {
     "name": "stderr",
     "output_type": "stream",
     "text": [
      "\n"
     ]
    }
   ],
   "source": [
    "models_sub = lazy_regressor(X, y_sub, test_size = 0.2, random_state = 6, regressor = reg)\n",
    "\n",
    "print(models_sub)"
   ]
  },
  {
   "attachments": {},
   "cell_type": "markdown",
   "metadata": {},
   "source": [
    "### LazyRegressor for the factors influencing the sleep scores given the Oura variables only"
   ]
  },
  {
   "cell_type": "code",
   "execution_count": 16,
   "metadata": {},
   "outputs": [],
   "source": [
    "# Separate the indenpendent variables from the dependent variables\n",
    "X = df_oura.drop(labels=['score'], axis=1)"
   ]
  },
  {
   "attachments": {},
   "cell_type": "markdown",
   "metadata": {},
   "source": [
    "#### Oura sleep score"
   ]
  },
  {
   "cell_type": "code",
   "execution_count": 17,
   "metadata": {},
   "outputs": [
    {
     "name": "stdout",
     "output_type": "stream",
     "text": [
      "'tuple' object has no attribute '__name__'\n",
      "Invalid Regressor(s)\n"
     ]
    },
    {
     "name": "stderr",
     "output_type": "stream",
     "text": [
      "100%|██████████| 40/40 [00:01<00:00, 27.50it/s]"
     ]
    },
    {
     "name": "stdout",
     "output_type": "stream",
     "text": [
      "                               Adjusted R-Squared  R-Squared  RMSE  Time Taken\n",
      "Model                                                                         \n",
      "GaussianProcessRegressor                    83.00     -71.54  7.87        0.01\n",
      "MLPRegressor                                 4.12      -1.76  1.53        0.11\n",
      "QuantileRegressor                            2.17      -0.04  0.94        0.06\n",
      "LassoLars                                    2.13      -0.00  0.92        0.01\n",
      "DummyRegressor                               2.13      -0.00  0.92        0.01\n",
      "Lasso                                        2.13      -0.00  0.92        0.01\n",
      "ElasticNet                                   1.70       0.38  0.73        0.01\n",
      "DecisionTreeRegressor                        1.59       0.48  0.67        0.01\n",
      "BaggingRegressor                             1.59       0.48  0.67        0.02\n",
      "RandomForestRegressor                        1.56       0.50  0.65        0.15\n",
      "AdaBoostRegressor                            1.55       0.51  0.64        0.07\n",
      "GradientBoostingRegressor                    1.51       0.55  0.62        0.07\n",
      "OrthogonalMatchingPursuit                    1.49       0.57  0.61        0.01\n",
      "LarsCV                                       1.47       0.58  0.60        0.06\n",
      "OrthogonalMatchingPursuitCV                  1.42       0.63  0.56        0.01\n",
      "NuSVR                                        1.33       0.71  0.50        0.01\n",
      "SVR                                          1.32       0.71  0.49        0.02\n",
      "ExtraTreesRegressor                          1.30       0.73  0.48        0.10\n",
      "HistGradientBoostingRegressor                1.30       0.74  0.47        0.16\n",
      "KNeighborsRegressor                          1.25       0.78  0.44        0.01\n",
      "Lars                                         1.08       0.93  0.25        0.01\n",
      "ExtraTreeRegressor                           1.08       0.93  0.24        0.01\n",
      "GammaRegressor                               1.07       0.93  0.24        0.01\n",
      "TweedieRegressor                             1.05       0.95  0.20        0.02\n",
      "PoissonRegressor                             1.05       0.96  0.19        0.01\n",
      "SGDRegressor                                 1.03       0.98  0.14        0.01\n",
      "KernelRidge                                  1.02       0.98  0.12        0.01\n",
      "Ridge                                        1.02       0.98  0.12        0.01\n",
      "PassiveAggressiveRegressor                   1.01       0.99  0.10        0.01\n",
      "ElasticNetCV                                 1.01       0.99  0.09        0.10\n",
      "BayesianRidge                                1.01       0.99  0.08        0.01\n",
      "HuberRegressor                               1.01       0.99  0.08        0.03\n",
      "RidgeCV                                      1.01       0.99  0.07        0.01\n",
      "LassoLarsCV                                  1.01       1.00  0.06        0.04\n",
      "LassoCV                                      1.00       1.00  0.06        0.11\n",
      "LassoLarsIC                                  1.00       1.00  0.06        0.02\n",
      "LinearSVR                                    1.00       1.00  0.05        0.02\n",
      "LinearRegression                             1.00       1.00  0.05        0.01\n",
      "RANSACRegressor                              1.00       1.00  0.05        0.01\n",
      "TransformedTargetRegressor                   1.00       1.00  0.05        0.02\n"
     ]
    },
    {
     "name": "stderr",
     "output_type": "stream",
     "text": [
      "\n"
     ]
    }
   ],
   "source": [
    "models_oura = lazy_regressor(X, y_oura, test_size = 0.2, random_state = 2, regressor = reg)\n",
    "\n",
    "print(models_oura)"
   ]
  },
  {
   "attachments": {},
   "cell_type": "markdown",
   "metadata": {},
   "source": [
    "#### Subjective sleep scores"
   ]
  },
  {
   "cell_type": "code",
   "execution_count": 18,
   "metadata": {},
   "outputs": [
    {
     "name": "stdout",
     "output_type": "stream",
     "text": [
      "'tuple' object has no attribute '__name__'\n",
      "Invalid Regressor(s)\n"
     ]
    },
    {
     "name": "stderr",
     "output_type": "stream",
     "text": [
      "100%|██████████| 40/40 [00:01<00:00, 20.21it/s]"
     ]
    },
    {
     "name": "stdout",
     "output_type": "stream",
     "text": [
      "                               Adjusted R-Squared  R-Squared  RMSE  Time Taken\n",
      "Model                                                                         \n",
      "GaussianProcessRegressor                    69.99     -60.03  7.16        0.01\n",
      "Lars                                        26.51     -21.57  4.35        0.02\n",
      "RANSACRegressor                              4.63      -2.21  1.64        0.06\n",
      "MLPRegressor                                 3.60      -1.30  1.39        0.10\n",
      "TransformedTargetRegressor                   3.57      -1.27  1.38        0.01\n",
      "LinearRegression                             3.57      -1.27  1.38        0.01\n",
      "ExtraTreeRegressor                           3.54      -1.25  1.37        0.01\n",
      "PassiveAggressiveRegressor                   3.51      -1.22  1.37        0.01\n",
      "DecisionTreeRegressor                        2.50      -0.32  1.05        0.01\n",
      "LassoLars                                    2.22      -0.08  0.95        0.01\n",
      "Lasso                                        2.22      -0.08  0.95        0.01\n",
      "DummyRegressor                               2.22      -0.08  0.95        0.01\n",
      "ElasticNet                                   2.21      -0.07  0.95        0.01\n",
      "HuberRegressor                               2.16      -0.02  0.93        0.03\n",
      "QuantileRegressor                            2.15      -0.01  0.92        0.06\n",
      "Ridge                                        1.89       0.21  0.81        0.01\n",
      "KernelRidge                                  1.87       0.23  0.81        0.01\n",
      "NuSVR                                        1.84       0.26  0.79        0.01\n",
      "SVR                                          1.82       0.28  0.78        0.01\n",
      "HistGradientBoostingRegressor                1.79       0.30  0.77        0.17\n",
      "KNeighborsRegressor                          1.72       0.36  0.73        0.02\n",
      "GradientBoostingRegressor                    1.68       0.40  0.71        0.07\n",
      "PoissonRegressor                             1.67       0.40  0.71        0.01\n",
      "RidgeCV                                      1.66       0.41  0.70        0.02\n",
      "LinearSVR                                    1.66       0.42  0.70        0.02\n",
      "OrthogonalMatchingPursuitCV                  1.65       0.42  0.70        0.01\n",
      "LassoLarsCV                                  1.65       0.43  0.69        0.05\n",
      "LarsCV                                       1.65       0.43  0.69        0.03\n",
      "SGDRegressor                                 1.64       0.43  0.69        0.01\n",
      "ExtraTreesRegressor                          1.63       0.44  0.69        0.09\n",
      "OrthogonalMatchingPursuit                    1.63       0.44  0.69        0.01\n",
      "LassoCV                                      1.59       0.47  0.66        0.39\n",
      "BaggingRegressor                             1.59       0.48  0.66        0.03\n",
      "LassoLarsIC                                  1.58       0.49  0.66        0.02\n",
      "ElasticNetCV                                 1.58       0.49  0.66        0.36\n",
      "RandomForestRegressor                        1.56       0.51  0.64        0.14\n",
      "AdaBoostRegressor                            1.55       0.52  0.64        0.07\n",
      "GammaRegressor                               1.55       0.52  0.64        0.01\n",
      "BayesianRidge                                1.54       0.52  0.64        0.01\n",
      "TweedieRegressor                             1.52       0.54  0.62        0.01\n"
     ]
    },
    {
     "name": "stderr",
     "output_type": "stream",
     "text": [
      "\n"
     ]
    }
   ],
   "source": [
    "models_sub = lazy_regressor(X, y_sub, test_size = 0.2, random_state = 6, regressor = reg)\n",
    "\n",
    "print(models_sub)"
   ]
  },
  {
   "attachments": {},
   "cell_type": "markdown",
   "metadata": {},
   "source": [
    "### LazyRegressor for the factors influencing the average HRV given all the variables"
   ]
  },
  {
   "cell_type": "code",
   "execution_count": 19,
   "metadata": {},
   "outputs": [],
   "source": [
    "# Separate the indenpendent variables from the dependent variables\n",
    "y_hrv = df['average_hrv']\n",
    "X_hrv = df.drop(labels=['average_hrv'], axis=1)"
   ]
  },
  {
   "cell_type": "code",
   "execution_count": 20,
   "metadata": {},
   "outputs": [
    {
     "name": "stdout",
     "output_type": "stream",
     "text": [
      "'tuple' object has no attribute '__name__'\n",
      "Invalid Regressor(s)\n"
     ]
    },
    {
     "name": "stderr",
     "output_type": "stream",
     "text": [
      "100%|██████████| 40/40 [00:01<00:00, 22.04it/s]"
     ]
    },
    {
     "name": "stdout",
     "output_type": "stream",
     "text": [
      "                                      Adjusted R-Squared  \\\n",
      "Model                                                      \n",
      "TransformedTargetRegressor    58548449100391799324672.00   \n",
      "LinearRegression              58548449100391799324672.00   \n",
      "GaussianProcessRegressor                            8.97   \n",
      "MLPRegressor                                        2.63   \n",
      "QuantileRegressor                                   1.53   \n",
      "DummyRegressor                                      1.51   \n",
      "LassoLars                                           1.46   \n",
      "NuSVR                                               1.45   \n",
      "SVR                                                 1.43   \n",
      "Lars                                                1.35   \n",
      "KNeighborsRegressor                                 1.27   \n",
      "DecisionTreeRegressor                               1.25   \n",
      "ExtraTreeRegressor                                  1.21   \n",
      "RANSACRegressor                                     1.21   \n",
      "HuberRegressor                                      1.19   \n",
      "PassiveAggressiveRegressor                          1.15   \n",
      "AdaBoostRegressor                                   1.15   \n",
      "ExtraTreesRegressor                                 1.15   \n",
      "KernelRidge                                         1.14   \n",
      "Ridge                                               1.14   \n",
      "BaggingRegressor                                    1.14   \n",
      "RandomForestRegressor                               1.14   \n",
      "HistGradientBoostingRegressor                       1.14   \n",
      "TweedieRegressor                                    1.13   \n",
      "GammaRegressor                                      1.13   \n",
      "ElasticNet                                          1.12   \n",
      "SGDRegressor                                        1.12   \n",
      "GradientBoostingRegressor                           1.12   \n",
      "LinearSVR                                           1.12   \n",
      "OrthogonalMatchingPursuit                           1.10   \n",
      "Lasso                                               1.10   \n",
      "RidgeCV                                             1.10   \n",
      "LassoLarsIC                                         1.10   \n",
      "LarsCV                                              1.10   \n",
      "ElasticNetCV                                        1.10   \n",
      "LassoLarsCV                                         1.10   \n",
      "BayesianRidge                                       1.10   \n",
      "PoissonRegressor                                    1.10   \n",
      "LassoCV                                             1.10   \n",
      "OrthogonalMatchingPursuitCV                         1.09   \n",
      "\n",
      "                                                 R-Squared             RMSE  \\\n",
      "Model                                                                         \n",
      "TransformedTargetRegressor    -119348761627721744777216.00 5957785307728.48   \n",
      "LinearRegression              -119348761627721744777216.00 5957785307728.48   \n",
      "GaussianProcessRegressor                            -15.24            69.50   \n",
      "MLPRegressor                                         -2.32            31.44   \n",
      "QuantileRegressor                                    -0.07            17.87   \n",
      "DummyRegressor                                       -0.04            17.60   \n",
      "LassoLars                                             0.06            16.70   \n",
      "NuSVR                                                 0.08            16.52   \n",
      "SVR                                                   0.12            16.20   \n",
      "Lars                                                  0.28            14.60   \n",
      "KNeighborsRegressor                                   0.45            12.80   \n",
      "DecisionTreeRegressor                                 0.48            12.38   \n",
      "ExtraTreeRegressor                                    0.57            11.31   \n",
      "RANSACRegressor                                       0.58            11.24   \n",
      "HuberRegressor                                        0.60            10.86   \n",
      "PassiveAggressiveRegressor                            0.69             9.61   \n",
      "AdaBoostRegressor                                     0.69             9.56   \n",
      "ExtraTreesRegressor                                   0.70             9.47   \n",
      "KernelRidge                                           0.71             9.32   \n",
      "Ridge                                                 0.71             9.30   \n",
      "BaggingRegressor                                      0.71             9.27   \n",
      "RandomForestRegressor                                 0.72             9.09   \n",
      "HistGradientBoostingRegressor                         0.72             9.06   \n",
      "TweedieRegressor                                      0.74             8.85   \n",
      "GammaRegressor                                        0.74             8.73   \n",
      "ElasticNet                                            0.75             8.70   \n",
      "SGDRegressor                                          0.75             8.66   \n",
      "GradientBoostingRegressor                             0.76             8.52   \n",
      "LinearSVR                                             0.76             8.37   \n",
      "OrthogonalMatchingPursuit                             0.79             7.95   \n",
      "Lasso                                                 0.79             7.86   \n",
      "RidgeCV                                               0.79             7.82   \n",
      "LassoLarsIC                                           0.80             7.79   \n",
      "LarsCV                                                0.80             7.76   \n",
      "ElasticNetCV                                          0.80             7.76   \n",
      "LassoLarsCV                                           0.80             7.75   \n",
      "BayesianRidge                                         0.80             7.71   \n",
      "PoissonRegressor                                      0.80             7.69   \n",
      "LassoCV                                               0.80             7.67   \n",
      "OrthogonalMatchingPursuitCV                           0.81             7.52   \n",
      "\n",
      "                               Time Taken  \n",
      "Model                                      \n",
      "TransformedTargetRegressor           0.01  \n",
      "LinearRegression                     0.01  \n",
      "GaussianProcessRegressor             0.01  \n",
      "MLPRegressor                         0.11  \n",
      "QuantileRegressor                    0.07  \n",
      "DummyRegressor                       0.01  \n",
      "LassoLars                            0.01  \n",
      "NuSVR                                0.01  \n",
      "SVR                                  0.01  \n",
      "Lars                                 0.02  \n",
      "KNeighborsRegressor                  0.01  \n",
      "DecisionTreeRegressor                0.01  \n",
      "ExtraTreeRegressor                   0.01  \n",
      "RANSACRegressor                      0.10  \n",
      "HuberRegressor                       0.03  \n",
      "PassiveAggressiveRegressor           0.01  \n",
      "AdaBoostRegressor                    0.07  \n",
      "ExtraTreesRegressor                  0.13  \n",
      "KernelRidge                          0.01  \n",
      "Ridge                                0.01  \n",
      "BaggingRegressor                     0.03  \n",
      "RandomForestRegressor                0.17  \n",
      "HistGradientBoostingRegressor        0.19  \n",
      "TweedieRegressor                     0.01  \n",
      "GammaRegressor                       0.01  \n",
      "ElasticNet                           0.01  \n",
      "SGDRegressor                         0.01  \n",
      "GradientBoostingRegressor            0.08  \n",
      "LinearSVR                            0.01  \n",
      "OrthogonalMatchingPursuit            0.01  \n",
      "Lasso                                0.01  \n",
      "RidgeCV                              0.01  \n",
      "LassoLarsIC                          0.02  \n",
      "LarsCV                               0.05  \n",
      "ElasticNetCV                         0.12  \n",
      "LassoLarsCV                          0.06  \n",
      "BayesianRidge                        0.01  \n",
      "PoissonRegressor                     0.02  \n",
      "LassoCV                              0.27  \n",
      "OrthogonalMatchingPursuitCV          0.01  \n"
     ]
    },
    {
     "name": "stderr",
     "output_type": "stream",
     "text": [
      "\n"
     ]
    }
   ],
   "source": [
    "models_hrv = lazy_regressor(X_hrv, y_hrv, test_size = 0.2, random_state = 5, regressor = reg)\n",
    "\n",
    "print(models_hrv)"
   ]
  },
  {
   "attachments": {},
   "cell_type": "markdown",
   "metadata": {},
   "source": [
    "### LazyRegressor for the factors influencing the average HRV given the questionnaire variables only"
   ]
  },
  {
   "cell_type": "code",
   "execution_count": 21,
   "metadata": {},
   "outputs": [],
   "source": [
    "X_hrv = df_quest"
   ]
  },
  {
   "cell_type": "code",
   "execution_count": 22,
   "metadata": {},
   "outputs": [
    {
     "name": "stdout",
     "output_type": "stream",
     "text": [
      "'tuple' object has no attribute '__name__'\n",
      "Invalid Regressor(s)\n"
     ]
    },
    {
     "name": "stderr",
     "output_type": "stream",
     "text": [
      "100%|██████████| 40/40 [00:01<00:00, 37.48it/s]"
     ]
    },
    {
     "name": "stdout",
     "output_type": "stream",
     "text": [
      "                               Adjusted R-Squared  R-Squared  RMSE  Time Taken\n",
      "Model                                                                         \n",
      "KernelRidge                                 73.42     -15.71 70.50        0.01\n",
      "GaussianProcessRegressor                    51.09     -10.56 58.63        0.01\n",
      "MLPRegressor                                40.45      -8.10 52.03        0.10\n",
      "QuantileRegressor                            5.65      -0.07 17.87        0.06\n",
      "DecisionTreeRegressor                        5.52      -0.04 17.61        0.01\n",
      "LassoLars                                    5.51      -0.04 17.60        0.01\n",
      "DummyRegressor                               5.51      -0.04 17.60        0.01\n",
      "PassiveAggressiveRegressor                   5.27       0.02 17.11        0.01\n",
      "NuSVR                                        5.19       0.03 16.96        0.01\n",
      "SVR                                          5.17       0.04 16.91        0.01\n",
      "ExtraTreeRegressor                           4.87       0.11 16.29        0.01\n",
      "RANSACRegressor                              4.69       0.15 15.92        0.04\n",
      "LassoLarsIC                                  4.63       0.16 15.79        0.01\n",
      "LassoLarsCV                                  4.55       0.18 15.62        0.03\n",
      "LarsCV                                       4.55       0.18 15.62        0.02\n",
      "LinearSVR                                    4.34       0.23 15.14        0.01\n",
      "OrthogonalMatchingPursuitCV                  4.30       0.24 15.05        0.01\n",
      "OrthogonalMatchingPursuit                    4.25       0.25 14.93        0.01\n",
      "ExtraTreesRegressor                          4.09       0.29 14.55        0.08\n",
      "KNeighborsRegressor                          4.08       0.29 14.54        0.01\n",
      "Lasso                                        4.03       0.30 14.42        0.01\n",
      "ElasticNet                                   3.85       0.34 13.98        0.01\n",
      "ElasticNetCV                                 3.82       0.35 13.92        0.05\n",
      "GradientBoostingRegressor                    3.80       0.35 13.86        0.03\n",
      "LassoCV                                      3.78       0.36 13.82        0.05\n",
      "TweedieRegressor                             3.73       0.37 13.69        0.01\n",
      "GammaRegressor                               3.70       0.38 13.62        0.01\n",
      "HistGradientBoostingRegressor                3.66       0.39 13.52        0.22\n",
      "BayesianRidge                                3.63       0.39 13.43        0.01\n",
      "Lars                                         3.41       0.44 12.87        0.01\n",
      "AdaBoostRegressor                            3.32       0.47 12.61        0.05\n",
      "RidgeCV                                      3.26       0.48 12.47        0.01\n",
      "LinearRegression                             3.23       0.48 12.38        0.01\n",
      "TransformedTargetRegressor                   3.23       0.48 12.38        0.01\n",
      "Ridge                                        3.23       0.49 12.37        0.01\n",
      "PoissonRegressor                             3.22       0.49 12.33        0.01\n",
      "SGDRegressor                                 3.21       0.49 12.32        0.01\n",
      "HuberRegressor                               3.07       0.52 11.93        0.01\n",
      "RandomForestRegressor                        3.04       0.53 11.84        0.10\n",
      "BaggingRegressor                             3.02       0.53 11.78        0.02\n"
     ]
    },
    {
     "name": "stderr",
     "output_type": "stream",
     "text": [
      "\n"
     ]
    }
   ],
   "source": [
    "models_hrv = lazy_regressor(X_hrv, y_hrv, test_size = 0.2, random_state = 5, regressor = reg)\n",
    "\n",
    "print(models_hrv)"
   ]
  },
  {
   "attachments": {},
   "cell_type": "markdown",
   "metadata": {},
   "source": [
    "### LazyRegressor for the factors influencing the average HRV given the Oura variables only"
   ]
  },
  {
   "cell_type": "code",
   "execution_count": 23,
   "metadata": {},
   "outputs": [],
   "source": [
    "X_hrv = df_oura.drop(labels=['average_hrv'], axis=1)"
   ]
  },
  {
   "cell_type": "code",
   "execution_count": 24,
   "metadata": {},
   "outputs": [
    {
     "name": "stdout",
     "output_type": "stream",
     "text": [
      "'tuple' object has no attribute '__name__'\n",
      "Invalid Regressor(s)\n"
     ]
    },
    {
     "name": "stderr",
     "output_type": "stream",
     "text": [
      "100%|██████████| 40/40 [00:01<00:00, 27.01it/s]"
     ]
    },
    {
     "name": "stdout",
     "output_type": "stream",
     "text": [
      "                               Adjusted R-Squared  R-Squared  RMSE  Time Taken\n",
      "Model                                                                         \n",
      "GaussianProcessRegressor                    19.32     -15.21 69.43        0.01\n",
      "MLPRegressor                                 4.14      -1.78 28.76        0.11\n",
      "QuantileRegressor                            2.21      -0.07 17.87        0.06\n",
      "DummyRegressor                               2.18      -0.04 17.60        0.01\n",
      "LassoLars                                    2.06       0.06 16.70        0.01\n",
      "NuSVR                                        1.97       0.14 15.95        0.01\n",
      "SVR                                          1.92       0.18 15.59        0.01\n",
      "Lars                                         1.87       0.23 15.10        0.01\n",
      "RANSACRegressor                              1.53       0.53 11.83        0.06\n",
      "DecisionTreeRegressor                        1.51       0.55 11.59        0.01\n",
      "KNeighborsRegressor                          1.44       0.61 10.72        0.01\n",
      "AdaBoostRegressor                            1.34       0.70  9.48        0.07\n",
      "HistGradientBoostingRegressor                1.33       0.70  9.37        0.16\n",
      "HuberRegressor                               1.33       0.71  9.34        0.02\n",
      "PassiveAggressiveRegressor                   1.33       0.71  9.31        0.01\n",
      "RandomForestRegressor                        1.32       0.71  9.25        0.17\n",
      "TweedieRegressor                             1.32       0.72  9.16        0.01\n",
      "BaggingRegressor                             1.30       0.73  8.89        0.03\n",
      "GammaRegressor                               1.30       0.74  8.86        0.01\n",
      "LinearSVR                                    1.30       0.74  8.86        0.01\n",
      "ElasticNet                                   1.30       0.74  8.83        0.01\n",
      "ExtraTreesRegressor                          1.30       0.74  8.83        0.11\n",
      "TransformedTargetRegressor                   1.29       0.74  8.76        0.01\n",
      "LinearRegression                             1.29       0.74  8.76        0.01\n",
      "ExtraTreeRegressor                           1.28       0.75  8.63        0.01\n",
      "GradientBoostingRegressor                    1.26       0.77  8.25        0.07\n",
      "BayesianRidge                                1.26       0.77  8.24        0.01\n",
      "RidgeCV                                      1.25       0.78  8.17        0.01\n",
      "SGDRegressor                                 1.25       0.78  8.15        0.01\n",
      "KernelRidge                                  1.25       0.78  8.15        0.01\n",
      "Ridge                                        1.25       0.78  8.13        0.01\n",
      "ElasticNetCV                                 1.25       0.78  8.08        0.07\n",
      "Lasso                                        1.24       0.78  8.02        0.01\n",
      "PoissonRegressor                             1.24       0.79  7.92        0.02\n",
      "LassoLarsCV                                  1.23       0.80  7.81        0.04\n",
      "LassoLarsIC                                  1.23       0.80  7.80        0.02\n",
      "LarsCV                                       1.23       0.80  7.74        0.04\n",
      "LassoCV                                      1.23       0.80  7.74        0.15\n",
      "OrthogonalMatchingPursuit                    1.22       0.80  7.67        0.01\n",
      "OrthogonalMatchingPursuitCV                  1.22       0.81  7.52        0.01\n"
     ]
    },
    {
     "name": "stderr",
     "output_type": "stream",
     "text": [
      "\n"
     ]
    }
   ],
   "source": [
    "models_hrv = lazy_regressor(X_hrv, y_hrv, test_size = 0.2, random_state = 5, regressor = reg)\n",
    "\n",
    "print(models_hrv)"
   ]
  },
  {
   "attachments": {},
   "cell_type": "markdown",
   "metadata": {},
   "source": [
    "### LazyRegressor for the factors influencing the total sleep duration"
   ]
  },
  {
   "cell_type": "code",
   "execution_count": 25,
   "metadata": {},
   "outputs": [],
   "source": [
    "# Separate the indenpendent variables from the dependent variables\n",
    "# For the total sleep duration, only consider the days for which a person woke up naturally\n",
    "y_total_sleep = df[df['Naturally'] == 1]['total_sleep_duration']\n",
    "X_total_sleep = df[df['Naturally'] == 1]\n",
    "X_total_sleep = X_total_sleep.drop(labels=['total_sleep_duration'], axis=1)"
   ]
  },
  {
   "cell_type": "code",
   "execution_count": 26,
   "metadata": {},
   "outputs": [
    {
     "name": "stdout",
     "output_type": "stream",
     "text": [
      "'tuple' object has no attribute '__name__'\n",
      "Invalid Regressor(s)\n"
     ]
    },
    {
     "name": "stderr",
     "output_type": "stream",
     "text": [
      " 65%|██████▌   | 26/40 [00:00<00:00, 39.30it/s]"
     ]
    },
    {
     "name": "stdout",
     "output_type": "stream",
     "text": [
      "LassoLarsIC model failed to execute\n",
      "You are using LassoLarsIC in the case where the number of samples is smaller than the number of features. In this setting, getting a good estimate for the variance of the noise is not possible. Provide an estimate of the noise variance in the constructor.\n",
      "RANSACRegressor model failed to execute\n",
      "`min_samples` may not be larger than number of samples: n_samples = 16.\n"
     ]
    },
    {
     "name": "stderr",
     "output_type": "stream",
     "text": [
      "100%|██████████| 40/40 [00:00<00:00, 44.09it/s]"
     ]
    },
    {
     "name": "stdout",
     "output_type": "stream",
     "text": [
      "                                                              Adjusted R-Squared  \\\n",
      "Model                                                                              \n",
      "Lars                          14452432009214087842324165777411226639273023862...   \n",
      "GaussianProcessRegressor                                                    1.87   \n",
      "LinearSVR                                                                   1.87   \n",
      "MLPRegressor                                                                1.87   \n",
      "QuantileRegressor                                                           1.05   \n",
      "SVR                                                                         1.05   \n",
      "NuSVR                                                                       1.05   \n",
      "DummyRegressor                                                              1.05   \n",
      "HistGradientBoostingRegressor                                               1.05   \n",
      "ExtraTreeRegressor                                                          1.01   \n",
      "KNeighborsRegressor                                                         1.01   \n",
      "DecisionTreeRegressor                                                       1.00   \n",
      "PoissonRegressor                                                            1.00   \n",
      "RandomForestRegressor                                                       1.00   \n",
      "BaggingRegressor                                                            1.00   \n",
      "GradientBoostingRegressor                                                   1.00   \n",
      "GammaRegressor                                                              1.00   \n",
      "ElasticNetCV                                                                1.00   \n",
      "Lasso                                                                       1.00   \n",
      "TweedieRegressor                                                            1.00   \n",
      "AdaBoostRegressor                                                           1.00   \n",
      "ElasticNet                                                                  1.00   \n",
      "Ridge                                                                       1.00   \n",
      "RidgeCV                                                                     1.00   \n",
      "BayesianRidge                                                               1.00   \n",
      "TransformedTargetRegressor                                                  1.00   \n",
      "LinearRegression                                                            1.00   \n",
      "HuberRegressor                                                              1.00   \n",
      "PassiveAggressiveRegressor                                                  1.00   \n",
      "SGDRegressor                                                                1.00   \n",
      "KernelRidge                                                                 1.00   \n",
      "ExtraTreesRegressor                                                         1.00   \n",
      "LassoCV                                                                     1.00   \n",
      "OrthogonalMatchingPursuit                                                   1.00   \n",
      "LarsCV                                                                      1.00   \n",
      "OrthogonalMatchingPursuitCV                                                 1.00   \n",
      "LassoLarsCV                                                                 1.00   \n",
      "LassoLars                                                                   1.00   \n",
      "\n",
      "                                                                       R-Squared  \\\n",
      "Model                                                                              \n",
      "Lars                          -3661282775667569061839774880668537191688585808...   \n",
      "GaussianProcessRegressor                                                  -21.10   \n",
      "LinearSVR                                                                 -21.01   \n",
      "MLPRegressor                                                              -20.95   \n",
      "QuantileRegressor                                                          -0.21   \n",
      "SVR                                                                        -0.21   \n",
      "NuSVR                                                                      -0.20   \n",
      "DummyRegressor                                                             -0.19   \n",
      "HistGradientBoostingRegressor                                              -0.19   \n",
      "ExtraTreeRegressor                                                          0.67   \n",
      "KNeighborsRegressor                                                         0.77   \n",
      "DecisionTreeRegressor                                                       0.91   \n",
      "PoissonRegressor                                                            0.92   \n",
      "RandomForestRegressor                                                       0.93   \n",
      "BaggingRegressor                                                            0.94   \n",
      "GradientBoostingRegressor                                                   0.95   \n",
      "GammaRegressor                                                              0.95   \n",
      "ElasticNetCV                                                                0.95   \n",
      "Lasso                                                                       0.96   \n",
      "TweedieRegressor                                                            0.98   \n",
      "AdaBoostRegressor                                                           0.98   \n",
      "ElasticNet                                                                  0.98   \n",
      "Ridge                                                                       0.99   \n",
      "RidgeCV                                                                     0.99   \n",
      "BayesianRidge                                                               0.99   \n",
      "TransformedTargetRegressor                                                  0.99   \n",
      "LinearRegression                                                            0.99   \n",
      "HuberRegressor                                                              0.99   \n",
      "PassiveAggressiveRegressor                                                  0.99   \n",
      "SGDRegressor                                                                0.99   \n",
      "KernelRidge                                                                 0.99   \n",
      "ExtraTreesRegressor                                                         0.99   \n",
      "LassoCV                                                                     0.99   \n",
      "OrthogonalMatchingPursuit                                                   1.00   \n",
      "LarsCV                                                                      1.00   \n",
      "OrthogonalMatchingPursuitCV                                                 1.00   \n",
      "LassoLarsCV                                                                 1.00   \n",
      "LassoLars                                                                   1.00   \n",
      "\n",
      "                                                            RMSE  Time Taken  \n",
      "Model                                                                         \n",
      "Lars                          3260520234486782788272453058560.00        0.02  \n",
      "GaussianProcessRegressor                                25329.80        0.01  \n",
      "LinearSVR                                               25282.90        0.01  \n",
      "MLPRegressor                                            25243.60        0.08  \n",
      "QuantileRegressor                                        5935.75        0.02  \n",
      "SVR                                                      5935.12        0.01  \n",
      "NuSVR                                                    5904.22        0.01  \n",
      "DummyRegressor                                           5885.18        0.01  \n",
      "HistGradientBoostingRegressor                            5885.18        0.03  \n",
      "ExtraTreeRegressor                                       3103.15        0.01  \n",
      "KNeighborsRegressor                                      2606.63        0.01  \n",
      "DecisionTreeRegressor                                    1621.80        0.01  \n",
      "PoissonRegressor                                         1501.05        0.02  \n",
      "RandomForestRegressor                                    1423.24        0.09  \n",
      "BaggingRegressor                                         1329.30        0.02  \n",
      "GradientBoostingRegressor                                1201.82        0.03  \n",
      "GammaRegressor                                           1183.84        0.01  \n",
      "ElasticNetCV                                             1149.51        0.04  \n",
      "Lasso                                                    1093.60        0.02  \n",
      "TweedieRegressor                                          690.30        0.01  \n",
      "AdaBoostRegressor                                         689.80        0.05  \n",
      "ElasticNet                                                677.35        0.01  \n",
      "Ridge                                                     654.25        0.01  \n",
      "RidgeCV                                                   648.75        0.01  \n",
      "BayesianRidge                                             648.11        0.02  \n",
      "TransformedTargetRegressor                                648.11        0.01  \n",
      "LinearRegression                                          648.11        0.01  \n",
      "HuberRegressor                                            648.11        0.03  \n",
      "PassiveAggressiveRegressor                                648.09        0.01  \n",
      "SGDRegressor                                              647.51        0.01  \n",
      "KernelRidge                                               638.36        0.01  \n",
      "ExtraTreesRegressor                                       618.42        0.07  \n",
      "LassoCV                                                   495.81        0.07  \n",
      "OrthogonalMatchingPursuit                                 324.28        0.01  \n",
      "LarsCV                                                    257.22        0.04  \n",
      "OrthogonalMatchingPursuitCV                               251.45        0.01  \n",
      "LassoLarsCV                                               231.67        0.02  \n",
      "LassoLars                                                 226.62        0.01  \n"
     ]
    },
    {
     "name": "stderr",
     "output_type": "stream",
     "text": [
      "\n"
     ]
    }
   ],
   "source": [
    "models_sleep_duration = lazy_regressor(X_total_sleep, y_total_sleep, test_size = 0.2, random_state = 89, regressor = reg)\n",
    "\n",
    "print(models_sleep_duration)"
   ]
  },
  {
   "attachments": {},
   "cell_type": "markdown",
   "metadata": {},
   "source": [
    "### LazyRegressor for the factors influencing the total sleep duration given the questionnaire variables only"
   ]
  },
  {
   "cell_type": "code",
   "execution_count": 27,
   "metadata": {},
   "outputs": [],
   "source": [
    "X_total_sleep = df_quest[df_quest['Naturally'] == 1]"
   ]
  },
  {
   "cell_type": "code",
   "execution_count": 28,
   "metadata": {},
   "outputs": [
    {
     "name": "stdout",
     "output_type": "stream",
     "text": [
      "'tuple' object has no attribute '__name__'\n",
      "Invalid Regressor(s)\n"
     ]
    },
    {
     "name": "stderr",
     "output_type": "stream",
     "text": [
      " 70%|███████   | 28/40 [00:00<00:00, 57.23it/s]"
     ]
    },
    {
     "name": "stdout",
     "output_type": "stream",
     "text": [
      "LassoLarsIC model failed to execute\n",
      "You are using LassoLarsIC in the case where the number of samples is smaller than the number of features. In this setting, getting a good estimate for the variance of the noise is not possible. Provide an estimate of the noise variance in the constructor.\n",
      "RANSACRegressor model failed to execute\n",
      "`min_samples` may not be larger than number of samples: n_samples = 16.\n"
     ]
    },
    {
     "name": "stderr",
     "output_type": "stream",
     "text": [
      "100%|██████████| 40/40 [00:00<00:00, 61.85it/s]"
     ]
    },
    {
     "name": "stdout",
     "output_type": "stream",
     "text": [
      "                               Adjusted R-Squared  R-Squared     RMSE  \\\n",
      "Model                                                                   \n",
      "KernelRidge                                  3.37     -21.91 25789.77   \n",
      "LinearSVR                                    3.28     -21.07 25314.17   \n",
      "GaussianProcessRegressor                     3.28     -21.06 25310.31   \n",
      "MLPRegressor                                 3.28     -21.06 25308.30   \n",
      "PoissonRegressor                             2.09      -9.52 17478.46   \n",
      "Lars                                         1.62      -4.99 13191.63   \n",
      "LassoLars                                    1.56      -4.44 12566.36   \n",
      "HuberRegressor                               1.51      -3.94 11972.89   \n",
      "LinearRegression                             1.50      -3.88 11899.96   \n",
      "TransformedTargetRegressor                   1.50      -3.88 11899.96   \n",
      "Lasso                                        1.43      -3.19 11033.39   \n",
      "PassiveAggressiveRegressor                   1.38      -2.64 10276.13   \n",
      "SGDRegressor                                 1.35      -2.42  9958.42   \n",
      "Ridge                                        1.24      -1.31  8187.57   \n",
      "SVR                                          1.13      -0.21  5935.19   \n",
      "QuantileRegressor                            1.13      -0.21  5934.59   \n",
      "NuSVR                                        1.12      -0.20  5904.29   \n",
      "HistGradientBoostingRegressor                1.12      -0.19  5885.18   \n",
      "DummyRegressor                               1.12      -0.19  5885.18   \n",
      "ElasticNet                                   1.05       0.51  3788.06   \n",
      "BayesianRidge                                1.05       0.54  3643.15   \n",
      "GammaRegressor                               1.04       0.59  3468.82   \n",
      "ExtraTreeRegressor                           1.04       0.60  3409.39   \n",
      "RidgeCV                                      1.04       0.61  3344.49   \n",
      "KNeighborsRegressor                          1.04       0.63  3257.22   \n",
      "ElasticNetCV                                 1.03       0.74  2746.92   \n",
      "OrthogonalMatchingPursuitCV                  1.03       0.74  2722.98   \n",
      "DecisionTreeRegressor                        1.02       0.76  2637.36   \n",
      "TweedieRegressor                             1.02       0.78  2522.85   \n",
      "OrthogonalMatchingPursuit                    1.02       0.79  2487.20   \n",
      "LarsCV                                       1.02       0.83  2190.10   \n",
      "LassoLarsCV                                  1.02       0.84  2186.91   \n",
      "AdaBoostRegressor                            1.01       0.89  1792.50   \n",
      "LassoCV                                      1.01       0.91  1600.73   \n",
      "BaggingRegressor                             1.01       0.92  1493.66   \n",
      "GradientBoostingRegressor                    1.01       0.94  1325.56   \n",
      "RandomForestRegressor                        1.01       0.95  1201.20   \n",
      "ExtraTreesRegressor                          1.00       0.96  1120.64   \n",
      "\n",
      "                               Time Taken  \n",
      "Model                                      \n",
      "KernelRidge                          0.01  \n",
      "LinearSVR                            0.01  \n",
      "GaussianProcessRegressor             0.01  \n",
      "MLPRegressor                         0.08  \n",
      "PoissonRegressor                     0.01  \n",
      "Lars                                 0.01  \n",
      "LassoLars                            0.01  \n",
      "HuberRegressor                       0.02  \n",
      "LinearRegression                     0.01  \n",
      "TransformedTargetRegressor           0.01  \n",
      "Lasso                                0.01  \n",
      "PassiveAggressiveRegressor           0.01  \n",
      "SGDRegressor                         0.01  \n",
      "Ridge                                0.01  \n",
      "SVR                                  0.01  \n",
      "QuantileRegressor                    0.01  \n",
      "NuSVR                                0.01  \n",
      "HistGradientBoostingRegressor        0.03  \n",
      "DummyRegressor                       0.01  \n",
      "ElasticNet                           0.01  \n",
      "BayesianRidge                        0.01  \n",
      "GammaRegressor                       0.01  \n",
      "ExtraTreeRegressor                   0.01  \n",
      "RidgeCV                              0.01  \n",
      "KNeighborsRegressor                  0.01  \n",
      "ElasticNetCV                         0.02  \n",
      "OrthogonalMatchingPursuitCV          0.01  \n",
      "DecisionTreeRegressor                0.01  \n",
      "TweedieRegressor                     0.01  \n",
      "OrthogonalMatchingPursuit            0.01  \n",
      "LarsCV                               0.01  \n",
      "LassoLarsCV                          0.02  \n",
      "AdaBoostRegressor                    0.05  \n",
      "LassoCV                              0.05  \n",
      "BaggingRegressor                     0.02  \n",
      "GradientBoostingRegressor            0.02  \n",
      "RandomForestRegressor                0.07  \n",
      "ExtraTreesRegressor                  0.05  \n"
     ]
    },
    {
     "name": "stderr",
     "output_type": "stream",
     "text": [
      "\n"
     ]
    }
   ],
   "source": [
    "models_sleep_duration = lazy_regressor(X_total_sleep, y_total_sleep, test_size = 0.2, random_state = 89, regressor = reg)\n",
    "\n",
    "print(models_sleep_duration)"
   ]
  },
  {
   "attachments": {},
   "cell_type": "markdown",
   "metadata": {},
   "source": [
    "### LazyRegressor for the factors influencing the total sleep duration given the Oura variables only"
   ]
  },
  {
   "cell_type": "code",
   "execution_count": 29,
   "metadata": {},
   "outputs": [],
   "source": [
    "X_total_sleep = df[df['Naturally'] == 1]\n",
    "X_total_sleep = X_total_sleep.iloc[:, 0:49]\n",
    "X_total_sleep = X_total_sleep.drop(labels=['total_sleep_duration'], axis=1)"
   ]
  },
  {
   "cell_type": "code",
   "execution_count": 30,
   "metadata": {},
   "outputs": [
    {
     "name": "stdout",
     "output_type": "stream",
     "text": [
      "'tuple' object has no attribute '__name__'\n",
      "Invalid Regressor(s)\n"
     ]
    },
    {
     "name": "stderr",
     "output_type": "stream",
     "text": [
      " 65%|██████▌   | 26/40 [00:00<00:00, 44.88it/s]"
     ]
    },
    {
     "name": "stdout",
     "output_type": "stream",
     "text": [
      "LassoLarsIC model failed to execute\n",
      "You are using LassoLarsIC in the case where the number of samples is smaller than the number of features. In this setting, getting a good estimate for the variance of the noise is not possible. Provide an estimate of the noise variance in the constructor.\n",
      "RANSACRegressor model failed to execute\n",
      "`min_samples` may not be larger than number of samples: n_samples = 16.\n"
     ]
    },
    {
     "name": "stderr",
     "output_type": "stream",
     "text": [
      "100%|██████████| 40/40 [00:00<00:00, 48.10it/s]"
     ]
    },
    {
     "name": "stdout",
     "output_type": "stream",
     "text": [
      "                                                         Adjusted R-Squared  \\\n",
      "Model                                                                         \n",
      "Lars                          656378762935145151708421696646946282799104.00   \n",
      "GaussianProcessRegressor                                               2.47   \n",
      "LinearSVR                                                              2.47   \n",
      "MLPRegressor                                                           2.47   \n",
      "QuantileRegressor                                                      1.08   \n",
      "SVR                                                                    1.08   \n",
      "NuSVR                                                                  1.08   \n",
      "DummyRegressor                                                         1.08   \n",
      "HistGradientBoostingRegressor                                          1.08   \n",
      "KNeighborsRegressor                                                    1.02   \n",
      "BaggingRegressor                                                       1.01   \n",
      "DecisionTreeRegressor                                                  1.01   \n",
      "RandomForestRegressor                                                  1.01   \n",
      "ElasticNetCV                                                           1.01   \n",
      "AdaBoostRegressor                                                      1.00   \n",
      "LinearRegression                                                       1.00   \n",
      "TransformedTargetRegressor                                             1.00   \n",
      "BayesianRidge                                                          1.00   \n",
      "HuberRegressor                                                         1.00   \n",
      "KernelRidge                                                            1.00   \n",
      "Lasso                                                                  1.00   \n",
      "RidgeCV                                                                1.00   \n",
      "SGDRegressor                                                           1.00   \n",
      "ExtraTreesRegressor                                                    1.00   \n",
      "ExtraTreeRegressor                                                     1.00   \n",
      "Ridge                                                                  1.00   \n",
      "GradientBoostingRegressor                                              1.00   \n",
      "TweedieRegressor                                                       1.00   \n",
      "GammaRegressor                                                         1.00   \n",
      "ElasticNet                                                             1.00   \n",
      "PoissonRegressor                                                       1.00   \n",
      "LarsCV                                                                 1.00   \n",
      "PassiveAggressiveRegressor                                             1.00   \n",
      "LassoLars                                                              1.00   \n",
      "LassoLarsCV                                                            1.00   \n",
      "OrthogonalMatchingPursuit                                              1.00   \n",
      "OrthogonalMatchingPursuitCV                                            1.00   \n",
      "LassoCV                                                                1.00   \n",
      "\n",
      "                                                                    R-Squared  \\\n",
      "Model                                                                           \n",
      "Lars                          -9845681444027177662482587726385530147962880.00   \n",
      "GaussianProcessRegressor                                               -21.10   \n",
      "LinearSVR                                                              -21.01   \n",
      "MLPRegressor                                                           -21.00   \n",
      "QuantileRegressor                                                       -0.21   \n",
      "SVR                                                                     -0.21   \n",
      "NuSVR                                                                   -0.20   \n",
      "DummyRegressor                                                          -0.19   \n",
      "HistGradientBoostingRegressor                                           -0.19   \n",
      "KNeighborsRegressor                                                      0.77   \n",
      "BaggingRegressor                                                         0.82   \n",
      "DecisionTreeRegressor                                                    0.83   \n",
      "RandomForestRegressor                                                    0.92   \n",
      "ElasticNetCV                                                             0.92   \n",
      "AdaBoostRegressor                                                        0.96   \n",
      "LinearRegression                                                         0.97   \n",
      "TransformedTargetRegressor                                               0.97   \n",
      "BayesianRidge                                                            0.97   \n",
      "HuberRegressor                                                           0.97   \n",
      "KernelRidge                                                              0.97   \n",
      "Lasso                                                                    0.97   \n",
      "RidgeCV                                                                  0.97   \n",
      "SGDRegressor                                                             0.97   \n",
      "ExtraTreesRegressor                                                      0.98   \n",
      "ExtraTreeRegressor                                                       0.98   \n",
      "Ridge                                                                    0.98   \n",
      "GradientBoostingRegressor                                                0.98   \n",
      "TweedieRegressor                                                         0.99   \n",
      "GammaRegressor                                                           0.99   \n",
      "ElasticNet                                                               0.99   \n",
      "PoissonRegressor                                                         0.99   \n",
      "LarsCV                                                                   0.99   \n",
      "PassiveAggressiveRegressor                                               1.00   \n",
      "LassoLars                                                                1.00   \n",
      "LassoLarsCV                                                              1.00   \n",
      "OrthogonalMatchingPursuit                                                1.00   \n",
      "OrthogonalMatchingPursuitCV                                              1.00   \n",
      "LassoCV                                                                  1.00   \n",
      "\n",
      "                                                       RMSE  Time Taken  \n",
      "Model                                                                    \n",
      "Lars                          16908035599357310700355584.00        0.01  \n",
      "GaussianProcessRegressor                           25329.58        0.01  \n",
      "LinearSVR                                          25282.90        0.01  \n",
      "MLPRegressor                                       25271.64        0.06  \n",
      "QuantileRegressor                                   5938.12        0.02  \n",
      "SVR                                                 5935.12        0.01  \n",
      "NuSVR                                               5904.17        0.01  \n",
      "DummyRegressor                                      5885.18        0.01  \n",
      "HistGradientBoostingRegressor                       5885.18        0.02  \n",
      "KNeighborsRegressor                                 2591.34        0.01  \n",
      "BaggingRegressor                                    2307.77        0.02  \n",
      "DecisionTreeRegressor                               2216.25        0.01  \n",
      "RandomForestRegressor                               1494.69        0.08  \n",
      "ElasticNetCV                                        1488.32        0.03  \n",
      "AdaBoostRegressor                                   1092.15        0.07  \n",
      "LinearRegression                                     974.63        0.01  \n",
      "TransformedTargetRegressor                           974.63        0.01  \n",
      "BayesianRidge                                        974.63        0.01  \n",
      "HuberRegressor                                       961.47        0.03  \n",
      "KernelRidge                                          954.68        0.01  \n",
      "Lasso                                                929.19        0.01  \n",
      "RidgeCV                                              925.35        0.01  \n",
      "SGDRegressor                                         863.77        0.01  \n",
      "ExtraTreesRegressor                                  813.00        0.06  \n",
      "ExtraTreeRegressor                                   799.09        0.01  \n",
      "Ridge                                                684.95        0.01  \n",
      "GradientBoostingRegressor                            676.84        0.03  \n",
      "TweedieRegressor                                     581.51        0.01  \n",
      "GammaRegressor                                       507.81        0.01  \n",
      "ElasticNet                                           479.66        0.01  \n",
      "PoissonRegressor                                     446.43        0.02  \n",
      "LarsCV                                               404.64        0.03  \n",
      "PassiveAggressiveRegressor                           357.72        0.01  \n",
      "LassoLars                                            259.22        0.01  \n",
      "LassoLarsCV                                          246.47        0.02  \n",
      "OrthogonalMatchingPursuit                            228.56        0.01  \n",
      "OrthogonalMatchingPursuitCV                          176.09        0.01  \n",
      "LassoCV                                              114.26        0.05  \n"
     ]
    },
    {
     "name": "stderr",
     "output_type": "stream",
     "text": [
      "\n"
     ]
    }
   ],
   "source": [
    "models_sleep_duration = lazy_regressor(X_total_sleep, y_total_sleep, test_size = 0.2, random_state = 89, regressor = reg)\n",
    "\n",
    "print(models_sleep_duration)"
   ]
  },
  {
   "attachments": {},
   "cell_type": "markdown",
   "metadata": {},
   "source": [
    "### LazyRegressor for the factors influencing the total awake time during the night given all variables"
   ]
  },
  {
   "cell_type": "code",
   "execution_count": 31,
   "metadata": {},
   "outputs": [],
   "source": [
    "# Separate the indenpendent variables from the dependent variables\n",
    "# For the total awake time, Oura also considers some time before falling asleep and some time after waking up. \n",
    "# Subtract what we can from that, which is the time before falling asleep\n",
    "y_awake_time = df['awake_time'] - df['latency']\n",
    "X_awake_time = df.drop(labels=['awake_time'], axis=1)"
   ]
  },
  {
   "cell_type": "code",
   "execution_count": 32,
   "metadata": {},
   "outputs": [
    {
     "name": "stdout",
     "output_type": "stream",
     "text": [
      "'tuple' object has no attribute '__name__'\n",
      "Invalid Regressor(s)\n"
     ]
    },
    {
     "name": "stderr",
     "output_type": "stream",
     "text": [
      "100%|██████████| 40/40 [00:01<00:00, 25.25it/s]"
     ]
    },
    {
     "name": "stdout",
     "output_type": "stream",
     "text": [
      "                                                              Adjusted R-Squared  \\\n",
      "Model                                                                              \n",
      "Lars                          62197584941304097753076317279699411620529477104...   \n",
      "GaussianProcessRegressor                                                    7.93   \n",
      "MLPRegressor                                                                7.62   \n",
      "LinearSVR                                                                   6.12   \n",
      "KNeighborsRegressor                                                         1.67   \n",
      "QuantileRegressor                                                           1.51   \n",
      "SVR                                                                         1.51   \n",
      "ExtraTreeRegressor                                                          1.51   \n",
      "NuSVR                                                                       1.49   \n",
      "DummyRegressor                                                              1.49   \n",
      "DecisionTreeRegressor                                                       1.43   \n",
      "AdaBoostRegressor                                                           1.31   \n",
      "RandomForestRegressor                                                       1.29   \n",
      "HistGradientBoostingRegressor                                               1.28   \n",
      "GammaRegressor                                                              1.28   \n",
      "BaggingRegressor                                                            1.27   \n",
      "ExtraTreesRegressor                                                         1.27   \n",
      "TweedieRegressor                                                            1.26   \n",
      "ElasticNetCV                                                                1.24   \n",
      "ElasticNet                                                                  1.21   \n",
      "GradientBoostingRegressor                                                   1.20   \n",
      "PoissonRegressor                                                            1.11   \n",
      "PassiveAggressiveRegressor                                                  1.10   \n",
      "Lasso                                                                       1.07   \n",
      "Ridge                                                                       1.07   \n",
      "SGDRegressor                                                                1.07   \n",
      "BayesianRidge                                                               1.07   \n",
      "KernelRidge                                                                 1.07   \n",
      "HuberRegressor                                                              1.06   \n",
      "RidgeCV                                                                     1.05   \n",
      "OrthogonalMatchingPursuit                                                   1.04   \n",
      "LassoCV                                                                     1.04   \n",
      "LarsCV                                                                      1.03   \n",
      "LassoLars                                                                   1.03   \n",
      "OrthogonalMatchingPursuitCV                                                 1.03   \n",
      "LinearRegression                                                            1.00   \n",
      "LassoLarsIC                                                                 1.00   \n",
      "LassoLarsCV                                                                 1.00   \n",
      "RANSACRegressor                                                             1.00   \n",
      "TransformedTargetRegressor                                                  1.00   \n",
      "\n",
      "                                                                       R-Squared  \\\n",
      "Model                                                                              \n",
      "Lars                          -1267873846880429630867832665161055764248037116...   \n",
      "GaussianProcessRegressor                                                  -13.12   \n",
      "MLPRegressor                                                              -12.50   \n",
      "LinearSVR                                                                  -9.44   \n",
      "KNeighborsRegressor                                                        -0.37   \n",
      "QuantileRegressor                                                          -0.04   \n",
      "SVR                                                                        -0.04   \n",
      "ExtraTreeRegressor                                                         -0.03   \n",
      "NuSVR                                                                      -0.00   \n",
      "DummyRegressor                                                             -0.00   \n",
      "DecisionTreeRegressor                                                       0.12   \n",
      "AdaBoostRegressor                                                           0.38   \n",
      "RandomForestRegressor                                                       0.41   \n",
      "HistGradientBoostingRegressor                                               0.42   \n",
      "GammaRegressor                                                              0.42   \n",
      "BaggingRegressor                                                            0.45   \n",
      "ExtraTreesRegressor                                                         0.45   \n",
      "TweedieRegressor                                                            0.48   \n",
      "ElasticNetCV                                                                0.52   \n",
      "ElasticNet                                                                  0.58   \n",
      "GradientBoostingRegressor                                                   0.59   \n",
      "PoissonRegressor                                                            0.77   \n",
      "PassiveAggressiveRegressor                                                  0.80   \n",
      "Lasso                                                                       0.86   \n",
      "Ridge                                                                       0.86   \n",
      "SGDRegressor                                                                0.86   \n",
      "BayesianRidge                                                               0.86   \n",
      "KernelRidge                                                                 0.87   \n",
      "HuberRegressor                                                              0.89   \n",
      "RidgeCV                                                                     0.90   \n",
      "OrthogonalMatchingPursuit                                                   0.92   \n",
      "LassoCV                                                                     0.92   \n",
      "LarsCV                                                                      0.93   \n",
      "LassoLars                                                                   0.93   \n",
      "OrthogonalMatchingPursuitCV                                                 0.94   \n",
      "LinearRegression                                                            1.00   \n",
      "LassoLarsIC                                                                 1.00   \n",
      "LassoLarsCV                                                                 1.00   \n",
      "RANSACRegressor                                                             1.00   \n",
      "TransformedTargetRegressor                                                  1.00   \n",
      "\n",
      "                                                                            RMSE  \\\n",
      "Model                                                                              \n",
      "Lars                          20956746871925616829213927000559341510187250417...   \n",
      "GaussianProcessRegressor                                                 2211.78   \n",
      "MLPRegressor                                                             2162.70   \n",
      "LinearSVR                                                                1901.59   \n",
      "KNeighborsRegressor                                                       688.68   \n",
      "QuantileRegressor                                                         601.11   \n",
      "SVR                                                                       600.34   \n",
      "ExtraTreeRegressor                                                        597.83   \n",
      "NuSVR                                                                     588.90   \n",
      "DummyRegressor                                                            588.67   \n",
      "DecisionTreeRegressor                                                     552.21   \n",
      "AdaBoostRegressor                                                         464.62   \n",
      "RandomForestRegressor                                                     452.75   \n",
      "HistGradientBoostingRegressor                                             448.13   \n",
      "GammaRegressor                                                            447.70   \n",
      "BaggingRegressor                                                          437.26   \n",
      "ExtraTreesRegressor                                                       436.13   \n",
      "TweedieRegressor                                                          426.00   \n",
      "ElasticNetCV                                                              408.85   \n",
      "ElasticNet                                                                381.31   \n",
      "GradientBoostingRegressor                                                 376.72   \n",
      "PoissonRegressor                                                          283.02   \n",
      "PassiveAggressiveRegressor                                                263.80   \n",
      "Lasso                                                                     221.22   \n",
      "Ridge                                                                     218.29   \n",
      "SGDRegressor                                                              217.63   \n",
      "BayesianRidge                                                             216.80   \n",
      "KernelRidge                                                               214.54   \n",
      "HuberRegressor                                                            197.10   \n",
      "RidgeCV                                                                   187.68   \n",
      "OrthogonalMatchingPursuit                                                 170.32   \n",
      "LassoCV                                                                   163.95   \n",
      "LarsCV                                                                    155.40   \n",
      "LassoLars                                                                 154.78   \n",
      "OrthogonalMatchingPursuitCV                                               146.50   \n",
      "LinearRegression                                                            0.00   \n",
      "LassoLarsIC                                                                 0.00   \n",
      "LassoLarsCV                                                                 0.00   \n",
      "RANSACRegressor                                                             0.00   \n",
      "TransformedTargetRegressor                                                  0.00   \n",
      "\n",
      "                               Time Taken  \n",
      "Model                                      \n",
      "Lars                                 0.04  \n",
      "GaussianProcessRegressor             0.01  \n",
      "MLPRegressor                         0.15  \n",
      "LinearSVR                            0.01  \n",
      "KNeighborsRegressor                  0.01  \n",
      "QuantileRegressor                    0.09  \n",
      "SVR                                  0.01  \n",
      "ExtraTreeRegressor                   0.01  \n",
      "NuSVR                                0.01  \n",
      "DummyRegressor                       0.01  \n",
      "DecisionTreeRegressor                0.01  \n",
      "AdaBoostRegressor                    0.07  \n",
      "RandomForestRegressor                0.18  \n",
      "HistGradientBoostingRegressor        0.16  \n",
      "GammaRegressor                       0.01  \n",
      "BaggingRegressor                     0.03  \n",
      "ExtraTreesRegressor                  0.13  \n",
      "TweedieRegressor                     0.01  \n",
      "ElasticNetCV                         0.05  \n",
      "ElasticNet                           0.01  \n",
      "GradientBoostingRegressor            0.08  \n",
      "PoissonRegressor                     0.02  \n",
      "PassiveAggressiveRegressor           0.02  \n",
      "Lasso                                0.02  \n",
      "Ridge                                0.01  \n",
      "SGDRegressor                         0.02  \n",
      "BayesianRidge                        0.01  \n",
      "KernelRidge                          0.01  \n",
      "HuberRegressor                       0.03  \n",
      "RidgeCV                              0.01  \n",
      "OrthogonalMatchingPursuit            0.01  \n",
      "LassoCV                              0.07  \n",
      "LarsCV                               0.08  \n",
      "LassoLars                            0.01  \n",
      "OrthogonalMatchingPursuitCV          0.02  \n",
      "LinearRegression                     0.01  \n",
      "LassoLarsIC                          0.02  \n",
      "LassoLarsCV                          0.05  \n",
      "RANSACRegressor                      0.01  \n",
      "TransformedTargetRegressor           0.01  \n"
     ]
    },
    {
     "name": "stderr",
     "output_type": "stream",
     "text": [
      "\n"
     ]
    }
   ],
   "source": [
    "models_awake_time = lazy_regressor(X_awake_time, y_awake_time, test_size = 0.2, random_state = 56, regressor = reg)\n",
    "\n",
    "print(models_awake_time)"
   ]
  },
  {
   "attachments": {},
   "cell_type": "markdown",
   "metadata": {},
   "source": [
    "### LazyRegressor for the factors influencing the total awake time during the night given the questionnaire variables only"
   ]
  },
  {
   "cell_type": "code",
   "execution_count": 33,
   "metadata": {},
   "outputs": [],
   "source": [
    "X_awake_time = df_oura.drop(labels=['awake_time'], axis=1)"
   ]
  },
  {
   "cell_type": "code",
   "execution_count": 34,
   "metadata": {},
   "outputs": [
    {
     "name": "stdout",
     "output_type": "stream",
     "text": [
      "'tuple' object has no attribute '__name__'\n",
      "Invalid Regressor(s)\n"
     ]
    },
    {
     "name": "stderr",
     "output_type": "stream",
     "text": [
      "100%|██████████| 40/40 [00:01<00:00, 28.14it/s]"
     ]
    },
    {
     "name": "stdout",
     "output_type": "stream",
     "text": [
      "                               Adjusted R-Squared  R-Squared    RMSE  \\\n",
      "Model                                                                  \n",
      "GaussianProcessRegressor                    16.93     -13.09 2209.26   \n",
      "MLPRegressor                                16.19     -12.44 2157.71   \n",
      "LinearSVR                                   12.80      -9.44 1901.59   \n",
      "Lars                                         3.07      -0.83  795.77   \n",
      "KNeighborsRegressor                          2.29      -0.14  629.49   \n",
      "QuantileRegressor                            2.18      -0.04  601.11   \n",
      "SVR                                          2.17      -0.04  599.57   \n",
      "DummyRegressor                               2.13      -0.00  588.67   \n",
      "NuSVR                                        2.13       0.00  588.48   \n",
      "DecisionTreeRegressor                        1.98       0.13  549.15   \n",
      "BaggingRegressor                             1.82       0.27  501.20   \n",
      "ExtraTreeRegressor                           1.79       0.30  491.77   \n",
      "AdaBoostRegressor                            1.71       0.37  467.87   \n",
      "RandomForestRegressor                        1.61       0.46  433.89   \n",
      "HistGradientBoostingRegressor                1.58       0.48  422.94   \n",
      "GammaRegressor                               1.55       0.51  411.80   \n",
      "ExtraTreesRegressor                          1.55       0.51  411.32   \n",
      "TweedieRegressor                             1.44       0.61  366.83   \n",
      "GradientBoostingRegressor                    1.41       0.63  356.24   \n",
      "ElasticNetCV                                 1.38       0.66  343.17   \n",
      "ElasticNet                                   1.30       0.74  301.65   \n",
      "PoissonRegressor                             1.10       0.91  173.40   \n",
      "PassiveAggressiveRegressor                   1.08       0.93  155.48   \n",
      "OrthogonalMatchingPursuit                    1.07       0.94  149.37   \n",
      "OrthogonalMatchingPursuitCV                  1.07       0.94  146.50   \n",
      "LarsCV                                       1.07       0.94  143.13   \n",
      "LassoLars                                    1.06       0.94  140.29   \n",
      "SGDRegressor                                 1.06       0.95  137.50   \n",
      "Ridge                                        1.05       0.95  128.78   \n",
      "KernelRidge                                  1.05       0.95  126.13   \n",
      "Lasso                                        1.05       0.96  118.06   \n",
      "HuberRegressor                               1.05       0.96  117.90   \n",
      "LassoCV                                      1.04       0.97  108.23   \n",
      "RidgeCV                                      1.03       0.97   94.49   \n",
      "BayesianRidge                                1.01       0.99   52.84   \n",
      "LinearRegression                             1.00       1.00    0.00   \n",
      "LassoLarsIC                                  1.00       1.00    0.00   \n",
      "RANSACRegressor                              1.00       1.00    0.00   \n",
      "LassoLarsCV                                  1.00       1.00    0.00   \n",
      "TransformedTargetRegressor                   1.00       1.00    0.00   \n",
      "\n",
      "                               Time Taken  \n",
      "Model                                      \n",
      "GaussianProcessRegressor             0.01  \n",
      "MLPRegressor                         0.11  \n",
      "LinearSVR                            0.01  \n",
      "Lars                                 0.01  \n",
      "KNeighborsRegressor                  0.01  \n",
      "QuantileRegressor                    0.08  \n",
      "SVR                                  0.01  \n",
      "DummyRegressor                       0.01  \n",
      "NuSVR                                0.01  \n",
      "DecisionTreeRegressor                0.01  \n",
      "BaggingRegressor                     0.03  \n",
      "ExtraTreeRegressor                   0.01  \n",
      "AdaBoostRegressor                    0.07  \n",
      "RandomForestRegressor                0.16  \n",
      "HistGradientBoostingRegressor        0.17  \n",
      "GammaRegressor                       0.01  \n",
      "ExtraTreesRegressor                  0.11  \n",
      "TweedieRegressor                     0.01  \n",
      "GradientBoostingRegressor            0.07  \n",
      "ElasticNetCV                         0.04  \n",
      "ElasticNet                           0.01  \n",
      "PoissonRegressor                     0.02  \n",
      "PassiveAggressiveRegressor           0.01  \n",
      "OrthogonalMatchingPursuit            0.01  \n",
      "OrthogonalMatchingPursuitCV          0.01  \n",
      "LarsCV                               0.03  \n",
      "LassoLars                            0.01  \n",
      "SGDRegressor                         0.02  \n",
      "Ridge                                0.01  \n",
      "KernelRidge                          0.01  \n",
      "Lasso                                0.01  \n",
      "HuberRegressor                       0.02  \n",
      "LassoCV                              0.14  \n",
      "RidgeCV                              0.01  \n",
      "BayesianRidge                        0.02  \n",
      "LinearRegression                     0.01  \n",
      "LassoLarsIC                          0.01  \n",
      "RANSACRegressor                      0.01  \n",
      "LassoLarsCV                          0.04  \n",
      "TransformedTargetRegressor           0.01  \n"
     ]
    },
    {
     "name": "stderr",
     "output_type": "stream",
     "text": [
      "\n"
     ]
    }
   ],
   "source": [
    "models_awake_time = lazy_regressor(X_awake_time, y_awake_time, test_size = 0.2, random_state = 56, regressor = reg)\n",
    "\n",
    "print(models_awake_time)"
   ]
  },
  {
   "attachments": {},
   "cell_type": "markdown",
   "metadata": {},
   "source": [
    "### LazyRegressor for the factors influencing the total awake time during the night given the Oura variables only"
   ]
  },
  {
   "cell_type": "code",
   "execution_count": 35,
   "metadata": {},
   "outputs": [],
   "source": [
    "X_awake_time = df_quest"
   ]
  },
  {
   "cell_type": "code",
   "execution_count": 36,
   "metadata": {},
   "outputs": [
    {
     "name": "stdout",
     "output_type": "stream",
     "text": [
      "'tuple' object has no attribute '__name__'\n",
      "Invalid Regressor(s)\n"
     ]
    },
    {
     "name": "stderr",
     "output_type": "stream",
     "text": [
      "100%|██████████| 40/40 [00:01<00:00, 33.48it/s]"
     ]
    },
    {
     "name": "stdout",
     "output_type": "stream",
     "text": [
      "                                          Adjusted R-Squared  \\\n",
      "Model                                                          \n",
      "TransformedTargetRegressor    414904848943085762084077568.00   \n",
      "LinearRegression              414904848943085762084077568.00   \n",
      "RANSACRegressor                93152483602900156552314880.00   \n",
      "KernelRidge                                            68.53   \n",
      "MLPRegressor                                           61.22   \n",
      "LinearSVR                                              56.59   \n",
      "GaussianProcessRegressor                               45.14   \n",
      "PoissonRegressor                                       32.73   \n",
      "Lars                                                   24.58   \n",
      "ExtraTreeRegressor                                     23.25   \n",
      "Lasso                                                  19.82   \n",
      "HuberRegressor                                         19.23   \n",
      "Ridge                                                  18.23   \n",
      "SGDRegressor                                           16.94   \n",
      "LassoLars                                              14.97   \n",
      "DecisionTreeRegressor                                  14.18   \n",
      "RidgeCV                                                12.99   \n",
      "ExtraTreesRegressor                                    11.73   \n",
      "PassiveAggressiveRegressor                             10.91   \n",
      "KNeighborsRegressor                                     9.41   \n",
      "OrthogonalMatchingPursuit                               9.35   \n",
      "OrthogonalMatchingPursuitCV                             9.03   \n",
      "BaggingRegressor                                        8.81   \n",
      "ElasticNet                                              8.67   \n",
      "HistGradientBoostingRegressor                           8.50   \n",
      "BayesianRidge                                           8.11   \n",
      "GammaRegressor                                          7.99   \n",
      "GradientBoostingRegressor                               7.76   \n",
      "AdaBoostRegressor                                       7.44   \n",
      "TweedieRegressor                                        7.30   \n",
      "ElasticNetCV                                            7.24   \n",
      "RandomForestRegressor                                   7.00   \n",
      "LassoCV                                                 6.77   \n",
      "LassoLarsIC                                             6.77   \n",
      "LassoLarsCV                                             6.64   \n",
      "LarsCV                                                  6.64   \n",
      "SVR                                                     5.52   \n",
      "QuantileRegressor                                       5.52   \n",
      "NuSVR                                                   5.35   \n",
      "DummyRegressor                                          5.34   \n",
      "\n",
      "                                                   R-Squared  \\\n",
      "Model                                                          \n",
      "TransformedTargetRegressor    -95747272833019793893228544.00   \n",
      "LinearRegression              -95747272833019793893228544.00   \n",
      "RANSACRegressor               -21496726985284652172836864.00   \n",
      "KernelRidge                                           -14.58   \n",
      "MLPRegressor                                          -12.90   \n",
      "LinearSVR                                             -11.83   \n",
      "GaussianProcessRegressor                               -9.19   \n",
      "PoissonRegressor                                       -6.32   \n",
      "Lars                                                   -4.44   \n",
      "ExtraTreeRegressor                                     -4.13   \n",
      "Lasso                                                  -3.34   \n",
      "HuberRegressor                                         -3.21   \n",
      "Ridge                                                  -2.98   \n",
      "SGDRegressor                                           -2.68   \n",
      "LassoLars                                              -2.22   \n",
      "DecisionTreeRegressor                                  -2.04   \n",
      "RidgeCV                                                -1.77   \n",
      "ExtraTreesRegressor                                    -1.48   \n",
      "PassiveAggressiveRegressor                             -1.29   \n",
      "KNeighborsRegressor                                    -0.94   \n",
      "OrthogonalMatchingPursuit                              -0.93   \n",
      "OrthogonalMatchingPursuitCV                            -0.85   \n",
      "BaggingRegressor                                       -0.80   \n",
      "ElasticNet                                             -0.77   \n",
      "HistGradientBoostingRegressor                          -0.73   \n",
      "BayesianRidge                                          -0.64   \n",
      "GammaRegressor                                         -0.61   \n",
      "GradientBoostingRegressor                              -0.56   \n",
      "AdaBoostRegressor                                      -0.49   \n",
      "TweedieRegressor                                       -0.45   \n",
      "ElasticNetCV                                           -0.44   \n",
      "RandomForestRegressor                                  -0.39   \n",
      "LassoCV                                                -0.33   \n",
      "LassoLarsIC                                            -0.33   \n",
      "LassoLarsCV                                            -0.30   \n",
      "LarsCV                                                 -0.30   \n",
      "SVR                                                    -0.04   \n",
      "QuantileRegressor                                      -0.04   \n",
      "NuSVR                                                  -0.00   \n",
      "DummyRegressor                                         -0.00   \n",
      "\n",
      "                                             RMSE  Time Taken  \n",
      "Model                                                          \n",
      "TransformedTargetRegressor    5759026174911812.00        0.01  \n",
      "LinearRegression              5759026174911812.00        0.01  \n",
      "RANSACRegressor               2728801947929921.50        0.04  \n",
      "KernelRidge                               2323.33        0.01  \n",
      "MLPRegressor                              2194.05        0.11  \n",
      "LinearSVR                                 2108.05        0.01  \n",
      "GaussianProcessRegressor                  1878.51        0.01  \n",
      "PoissonRegressor                          1592.59        0.01  \n",
      "Lars                                      1373.06        0.01  \n",
      "ExtraTreeRegressor                        1333.54        0.01  \n",
      "Lasso                                     1226.46        0.01  \n",
      "HuberRegressor                            1207.24        0.01  \n",
      "Ridge                                     1173.69        0.01  \n",
      "SGDRegressor                              1128.67        0.01  \n",
      "LassoLars                                 1056.88        0.01  \n",
      "DecisionTreeRegressor                     1026.60        0.01  \n",
      "RidgeCV                                    978.83        0.01  \n",
      "ExtraTreesRegressor                        926.13        0.08  \n",
      "PassiveAggressiveRegressor                 890.09        0.01  \n",
      "KNeighborsRegressor                        819.94        0.01  \n",
      "OrthogonalMatchingPursuit                  817.15        0.01  \n",
      "OrthogonalMatchingPursuitCV                801.21        0.01  \n",
      "BaggingRegressor                           790.23        0.02  \n",
      "ElasticNet                                 783.24        0.01  \n",
      "HistGradientBoostingRegressor              774.14        0.36  \n",
      "BayesianRidge                              753.80        0.01  \n",
      "GammaRegressor                             747.45        0.01  \n",
      "GradientBoostingRegressor                  735.13        0.03  \n",
      "AdaBoostRegressor                          717.45        0.05  \n",
      "TweedieRegressor                           709.80        0.01  \n",
      "ElasticNetCV                               706.53        0.04  \n",
      "RandomForestRegressor                      692.66        0.10  \n",
      "LassoCV                                    679.24        0.05  \n",
      "LassoLarsIC                                678.91        0.01  \n",
      "LassoLarsCV                                671.27        0.02  \n",
      "LarsCV                                     671.27        0.02  \n",
      "SVR                                        601.20        0.01  \n",
      "QuantileRegressor                          601.11        0.06  \n",
      "NuSVR                                      589.39        0.01  \n",
      "DummyRegressor                             588.67        0.01  \n"
     ]
    },
    {
     "name": "stderr",
     "output_type": "stream",
     "text": [
      "\n"
     ]
    }
   ],
   "source": [
    "models_awake_time = lazy_regressor(X_awake_time, y_awake_time, test_size = 0.2, random_state = 56, regressor = reg)\n",
    "\n",
    "print(models_awake_time)"
   ]
  }
 ],
 "metadata": {
  "kernelspec": {
   "display_name": "Python 3.7.10 ('tensorflow_env')",
   "language": "python",
   "name": "python3"
  },
  "language_info": {
   "codemirror_mode": {
    "name": "ipython",
    "version": 3
   },
   "file_extension": ".py",
   "mimetype": "text/x-python",
   "name": "python",
   "nbconvert_exporter": "python",
   "pygments_lexer": "ipython3",
   "version": "3.7.10"
  },
  "orig_nbformat": 4,
  "vscode": {
   "interpreter": {
    "hash": "f440ca07c10c374a105f3d67f9c2c345d20e5b276c036b89a1e623f864f80620"
   }
  }
 },
 "nbformat": 4,
 "nbformat_minor": 2
}
