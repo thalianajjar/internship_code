{
 "cells": [
  {
   "cell_type": "markdown",
   "metadata": {},
   "source": [
    "## Imports"
   ]
  },
  {
   "cell_type": "code",
   "execution_count": 1,
   "metadata": {},
   "outputs": [],
   "source": [
    "import pandas as pd\n",
    "import numpy as np\n",
    "from sklearn.model_selection import train_test_split\n",
    "from lazypredict.Supervised import LazyRegressor\n",
    "from sklearn.utils import all_estimators\n",
    "from sklearn.base import RegressorMixin"
   ]
  },
  {
   "attachments": {},
   "cell_type": "markdown",
   "metadata": {},
   "source": [
    "## Define the files to be loaded"
   ]
  },
  {
   "cell_type": "code",
   "execution_count": 2,
   "metadata": {},
   "outputs": [],
   "source": [
    "# Participant number whose data should be loaded\n",
    "participant_number = 2\n",
    "\n",
    "# The version of the questionnaires to load\n",
    "quest_version = 2"
   ]
  },
  {
   "cell_type": "markdown",
   "metadata": {},
   "source": [
    "## Loading the pre-processed data"
   ]
  },
  {
   "cell_type": "code",
   "execution_count": 3,
   "metadata": {},
   "outputs": [],
   "source": [
    "# Complete dataset (Oura data + questionnaire data)\n",
    "df = pd.read_csv('data/preprocessed/preprocessed_data_' + str(participant_number) + '_v' + str(quest_version) + '.csv')\n",
    "df = df.drop(labels=['actual_day', 'actual_day.1'], axis=1)\n",
    "\n",
    "# Oura dataset\n",
    "df_oura = pd.read_csv('data/preprocessed/preprocessed_sleep_' + str(participant_number) + '_v' + str(quest_version) + '.csv')\n",
    "df_oura = df_oura.drop(labels=['actual_day'], axis=1)\n",
    "\n",
    "# Questionnaire dataset\n",
    "df_quest = pd.read_csv('data/preprocessed/preprocessed_questionnaires_' + str(participant_number) + '_v' + str(quest_version) + '.csv')\n",
    "df_quest = df_quest.drop(labels=['actual_day'], axis=1)"
   ]
  },
  {
   "cell_type": "code",
   "execution_count": 4,
   "metadata": {},
   "outputs": [],
   "source": [
    "# Remove these to try and fix the issues raised by LazyRegressor for them \n",
    "# example: \n",
    "# AdaBoostRegressor model failed to execute\n",
    "# Found unknown categories ['[0.0, 51.0, 53.0, 53.0, 54.0, 53.0, ...\n",
    "df = df.drop(labels=['hrv.items', 'heart_rate.items', 'sleep_phase_5_min', 'movement_30_sec'], axis=1)\n",
    "df_oura = df_oura.drop(labels=['hrv.items', 'heart_rate.items', 'sleep_phase_5_min', 'movement_30_sec'], axis=1)"
   ]
  },
  {
   "cell_type": "code",
   "execution_count": 5,
   "metadata": {},
   "outputs": [
    {
     "name": "stdout",
     "output_type": "stream",
     "text": [
      "['0', 'average_breath', 'average_breath_variation', 'average_heart_rate', 'average_hrv', 'awake_time', 'bedtime_end_delta', 'bedtime_end_seconds', 'bedtime_start_delta', 'bedtime_start_seconds', 'contributors.deep_sleep', 'contributors.efficiency', 'contributors.latency', 'contributors.rem_sleep', 'contributors.restfulness', 'contributors.timing', 'contributors.total_sleep', 'deep_sleep_duration', 'efficiency', 'got_ups', 'latency', 'light_sleep_duration', 'lowest_heart_rate', 'lowest_heart_rate_time_offset', 'period', 'readiness.contributors.activity_balance', 'readiness.contributors.body_temperature', 'readiness.contributors.hrv_balance', 'readiness.contributors.previous_day_activity', 'readiness.contributors.previous_night', 'readiness.contributors.recovery_index', 'readiness.contributors.resting_heart_rate', 'readiness.contributors.sleep_balance', 'readiness.score', 'readiness.temperature_deviation', 'readiness.temperature_trend_deviation', 'rem_sleep_duration', 'restless', 'restless_periods', 'score', 'segment_state', 'sleep_midpoint', 'time_in_bed', 'timezone', 'total_sleep_duration', 'type', 'wake_ups', 'prev_oura_score', 'bed_time', 'Comfort', 'I stayed in bed trying to sleep', 'I walked a bit', 'I went to the toilet', 'Naturally', 'Nothing', 'Temperature', 'With an alarm', 'blue_light', 'prevent_early_sleep', 'recall_awake', 'special_circumstances_wakeup', 'subjective_sleep_score', 'prev_subjective_score', 'Mentally active', 'Physically active', 'Relaxed', 'Socially active', 'Stressful', 'alcohol_amount', 'alcohol_time', 'coffee_amount', 'coffee_time', 'eat_bedtime', 'intervention', 'medication', 'medication_dosage', 'medication_time', 'special_circumstances', 'stress_levels', 'stress_relief_time', 'workout_intensity', 'workout_time']\n"
     ]
    }
   ],
   "source": [
    "print(df.columns.tolist())"
   ]
  },
  {
   "attachments": {},
   "cell_type": "markdown",
   "metadata": {},
   "source": [
    "## Prepare regressor list for lazypredict"
   ]
  },
  {
   "cell_type": "code",
   "execution_count": 6,
   "metadata": {},
   "outputs": [],
   "source": [
    "removed_regressors = [\n",
    "    \"TheilSenRegressor\",\n",
    "    \"ARDRegression\", \n",
    "    \"CCA\", \n",
    "    \"IsotonicRegression\", \n",
    "    \"StackingRegressor\",\n",
    "    \"MultiOutputRegressor\", \n",
    "    \"MultiTaskElasticNet\", \n",
    "    \"MultiTaskElasticNetCV\", \n",
    "    \"MultiTaskLasso\", \n",
    "    \"MultiTaskLassoCV\", \n",
    "    \"PLSCanonical\", \n",
    "    \"PLSRegression\", \n",
    "    \"RadiusNeighborsRegressor\", \n",
    "    \"RegressorChain\", \n",
    "    \"VotingRegressor\", \n",
    "]"
   ]
  },
  {
   "cell_type": "code",
   "execution_count": 7,
   "metadata": {},
   "outputs": [],
   "source": [
    "REGRESSORS = [\n",
    "    est\n",
    "    for est in all_estimators()\n",
    "    if (issubclass(est[1], RegressorMixin) and (est[0] not in removed_regressors))\n",
    "]"
   ]
  },
  {
   "attachments": {},
   "cell_type": "markdown",
   "metadata": {},
   "source": [
    "## Run LazyRegressor on datasets"
   ]
  },
  {
   "cell_type": "code",
   "execution_count": 8,
   "metadata": {},
   "outputs": [],
   "source": [
    "def lazy_regressor(X, y, test_size, random_state, regressor):\n",
    "    # Create the test and train sets for the given prediction\n",
    "    X_train, X_test, y_train, y_test = train_test_split(X, y, test_size = test_size, random_state = random_state)\n",
    "    \n",
    "    models, predictions = regressor.fit(X_train, X_test, y_train, y_test)\n",
    "    return models"
   ]
  },
  {
   "cell_type": "code",
   "execution_count": 9,
   "metadata": {},
   "outputs": [],
   "source": [
    "# Apply the LazyRegressor on the data\n",
    "reg = LazyRegressor(verbose=0, ignore_warnings=False, custom_metric=None, regressors = REGRESSORS)"
   ]
  },
  {
   "attachments": {},
   "cell_type": "markdown",
   "metadata": {},
   "source": [
    "### LazyRegressor for the factors influencing the sleep scores given all the variables"
   ]
  },
  {
   "cell_type": "code",
   "execution_count": 10,
   "metadata": {},
   "outputs": [],
   "source": [
    "# Separate the indenpendent variables from the dependent variables\n",
    "y_oura = df['score']\n",
    "y_sub = df['subjective_sleep_score']\n",
    "X = df.drop(labels=['score', 'subjective_sleep_score'], axis=1)"
   ]
  },
  {
   "attachments": {},
   "cell_type": "markdown",
   "metadata": {},
   "source": [
    "#### Oura sleep scores"
   ]
  },
  {
   "cell_type": "code",
   "execution_count": 11,
   "metadata": {},
   "outputs": [
    {
     "name": "stdout",
     "output_type": "stream",
     "text": [
      "'tuple' object has no attribute '__name__'\n",
      "Invalid Regressor(s)\n"
     ]
    },
    {
     "name": "stderr",
     "output_type": "stream",
     "text": [
      " 70%|███████   | 28/40 [00:01<00:00, 21.91it/s]"
     ]
    },
    {
     "name": "stdout",
     "output_type": "stream",
     "text": [
      "LassoLarsIC model failed to execute\n",
      "You are using LassoLarsIC in the case where the number of samples is smaller than the number of features. In this setting, getting a good estimate for the variance of the noise is not possible. Provide an estimate of the noise variance in the constructor.\n"
     ]
    },
    {
     "name": "stderr",
     "output_type": "stream",
     "text": [
      " 88%|████████▊ | 35/40 [00:01<00:00, 23.53it/s]"
     ]
    },
    {
     "name": "stdout",
     "output_type": "stream",
     "text": [
      "RANSACRegressor model failed to execute\n",
      "`min_samples` may not be larger than number of samples: n_samples = 77.\n"
     ]
    },
    {
     "name": "stderr",
     "output_type": "stream",
     "text": [
      "100%|██████████| 40/40 [00:01<00:00, 23.50it/s]"
     ]
    },
    {
     "name": "stdout",
     "output_type": "stream",
     "text": [
      "                               Adjusted R-Squared  R-Squared   RMSE  \\\n",
      "Model                                                                 \n",
      "Lars                                     40436.08 -129816.88 237.50   \n",
      "GaussianProcessRegressor                    48.93    -152.87   8.18   \n",
      "MLPRegressor                                 3.09      -5.72   1.71   \n",
      "LassoLarsCV                                  2.07      -2.45   1.22   \n",
      "QuantileRegressor                            1.36      -0.14   0.70   \n",
      "DummyRegressor                               1.32      -0.02   0.67   \n",
      "LassoLars                                    1.32      -0.02   0.67   \n",
      "Lasso                                        1.32      -0.02   0.67   \n",
      "ElasticNet                                   1.18       0.43   0.50   \n",
      "KNeighborsRegressor                          1.11       0.65   0.39   \n",
      "PassiveAggressiveRegressor                   1.08       0.74   0.34   \n",
      "SGDRegressor                                 1.05       0.84   0.26   \n",
      "SVR                                          1.05       0.85   0.25   \n",
      "NuSVR                                        1.04       0.86   0.25   \n",
      "HistGradientBoostingRegressor                1.04       0.88   0.23   \n",
      "DecisionTreeRegressor                        1.03       0.89   0.22   \n",
      "ExtraTreeRegressor                           1.03       0.89   0.22   \n",
      "GammaRegressor                               1.03       0.90   0.21   \n",
      "TweedieRegressor                             1.03       0.90   0.21   \n",
      "PoissonRegressor                             1.02       0.94   0.16   \n",
      "KernelRidge                                  1.02       0.95   0.15   \n",
      "Ridge                                        1.02       0.95   0.15   \n",
      "TransformedTargetRegressor                   1.01       0.95   0.14   \n",
      "LinearRegression                             1.01       0.95   0.14   \n",
      "BayesianRidge                                1.01       0.95   0.14   \n",
      "RidgeCV                                      1.01       0.96   0.13   \n",
      "AdaBoostRegressor                            1.01       0.96   0.13   \n",
      "HuberRegressor                               1.01       0.96   0.13   \n",
      "BaggingRegressor                             1.01       0.96   0.12   \n",
      "GradientBoostingRegressor                    1.01       0.96   0.12   \n",
      "LinearSVR                                    1.01       0.97   0.12   \n",
      "RandomForestRegressor                        1.01       0.97   0.12   \n",
      "ExtraTreesRegressor                          1.01       0.97   0.11   \n",
      "ElasticNetCV                                 1.01       0.97   0.11   \n",
      "LarsCV                                       1.01       0.97   0.11   \n",
      "LassoCV                                      1.01       0.98   0.10   \n",
      "OrthogonalMatchingPursuit                    1.01       0.98   0.09   \n",
      "OrthogonalMatchingPursuitCV                  1.01       0.98   0.09   \n",
      "\n",
      "                               Time Taken  \n",
      "Model                                      \n",
      "Lars                                 0.02  \n",
      "GaussianProcessRegressor             0.02  \n",
      "MLPRegressor                         0.12  \n",
      "LassoLarsCV                          0.05  \n",
      "QuantileRegressor                    0.06  \n",
      "DummyRegressor                       0.01  \n",
      "LassoLars                            0.01  \n",
      "Lasso                                0.01  \n",
      "ElasticNet                           0.01  \n",
      "KNeighborsRegressor                  0.01  \n",
      "PassiveAggressiveRegressor           0.01  \n",
      "SGDRegressor                         0.01  \n",
      "SVR                                  0.01  \n",
      "NuSVR                                0.01  \n",
      "HistGradientBoostingRegressor        0.25  \n",
      "DecisionTreeRegressor                0.01  \n",
      "ExtraTreeRegressor                   0.01  \n",
      "GammaRegressor                       0.02  \n",
      "TweedieRegressor                     0.01  \n",
      "PoissonRegressor                     0.01  \n",
      "KernelRidge                          0.02  \n",
      "Ridge                                0.01  \n",
      "TransformedTargetRegressor           0.01  \n",
      "LinearRegression                     0.01  \n",
      "BayesianRidge                        0.04  \n",
      "RidgeCV                              0.02  \n",
      "AdaBoostRegressor                    0.07  \n",
      "HuberRegressor                       0.03  \n",
      "BaggingRegressor                     0.03  \n",
      "GradientBoostingRegressor            0.07  \n",
      "LinearSVR                            0.02  \n",
      "RandomForestRegressor                0.14  \n",
      "ExtraTreesRegressor                  0.10  \n",
      "ElasticNetCV                         0.16  \n",
      "LarsCV                               0.06  \n",
      "LassoCV                              0.17  \n",
      "OrthogonalMatchingPursuit            0.01  \n",
      "OrthogonalMatchingPursuitCV          0.01  \n"
     ]
    },
    {
     "name": "stderr",
     "output_type": "stream",
     "text": [
      "\n"
     ]
    }
   ],
   "source": [
    "models_oura = lazy_regressor(X, y_oura, test_size = 0.2, random_state = 2, regressor = reg)\n",
    "\n",
    "print(models_oura)"
   ]
  },
  {
   "attachments": {},
   "cell_type": "markdown",
   "metadata": {},
   "source": [
    "#### Subjective sleep scores"
   ]
  },
  {
   "cell_type": "code",
   "execution_count": 12,
   "metadata": {},
   "outputs": [
    {
     "name": "stdout",
     "output_type": "stream",
     "text": [
      "'tuple' object has no attribute '__name__'\n",
      "Invalid Regressor(s)\n"
     ]
    },
    {
     "name": "stderr",
     "output_type": "stream",
     "text": [
      " 65%|██████▌   | 26/40 [00:03<00:01,  8.39it/s]"
     ]
    },
    {
     "name": "stdout",
     "output_type": "stream",
     "text": [
      "LassoLarsIC model failed to execute\n",
      "You are using LassoLarsIC in the case where the number of samples is smaller than the number of features. In this setting, getting a good estimate for the variance of the noise is not possible. Provide an estimate of the noise variance in the constructor.\n"
     ]
    },
    {
     "name": "stderr",
     "output_type": "stream",
     "text": [
      "100%|██████████| 40/40 [00:03<00:00, 11.75it/s]"
     ]
    },
    {
     "name": "stdout",
     "output_type": "stream",
     "text": [
      "RANSACRegressor model failed to execute\n",
      "`min_samples` may not be larger than number of samples: n_samples = 77.\n",
      "                                       Adjusted R-Squared  \\\n",
      "Model                                                       \n",
      "LinearRegression              505257517734733044252672.00   \n",
      "TransformedTargetRegressor    505257517734733044252672.00   \n",
      "Lars                                           1971170.40   \n",
      "GaussianProcessRegressor                            29.18   \n",
      "MLPRegressor                                         4.43   \n",
      "LinearSVR                                            2.32   \n",
      "HuberRegressor                                       2.30   \n",
      "PassiveAggressiveRegressor                           2.27   \n",
      "ExtraTreeRegressor                                   2.03   \n",
      "Ridge                                                1.94   \n",
      "KernelRidge                                          1.93   \n",
      "DecisionTreeRegressor                                1.85   \n",
      "OrthogonalMatchingPursuit                            1.60   \n",
      "SGDRegressor                                         1.55   \n",
      "OrthogonalMatchingPursuitCV                          1.52   \n",
      "RidgeCV                                              1.49   \n",
      "PoissonRegressor                                     1.45   \n",
      "GradientBoostingRegressor                            1.41   \n",
      "KNeighborsRegressor                                  1.41   \n",
      "HistGradientBoostingRegressor                        1.39   \n",
      "BaggingRegressor                                     1.35   \n",
      "QuantileRegressor                                    1.34   \n",
      "SVR                                                  1.33   \n",
      "LassoLars                                            1.31   \n",
      "Lasso                                                1.31   \n",
      "DummyRegressor                                       1.31   \n",
      "NuSVR                                                1.31   \n",
      "ExtraTreesRegressor                                  1.31   \n",
      "AdaBoostRegressor                                    1.30   \n",
      "RandomForestRegressor                                1.29   \n",
      "ElasticNet                                           1.27   \n",
      "TweedieRegressor                                     1.26   \n",
      "GammaRegressor                                       1.26   \n",
      "BayesianRidge                                        1.25   \n",
      "LassoCV                                              1.24   \n",
      "ElasticNetCV                                         1.24   \n",
      "LassoLarsCV                                          1.24   \n",
      "LarsCV                                               1.24   \n",
      "\n",
      "                                                  R-Squared            RMSE  \\\n",
      "Model                                                                         \n",
      "LinearRegression              -1622142556937827007856640.00 976221671650.95   \n",
      "TransformedTargetRegressor    -1622142556937827007856640.00 976221671650.95   \n",
      "Lars                                            -6328490.22         1928.21   \n",
      "GaussianProcessRegressor                             -89.47            7.29   \n",
      "MLPRegressor                                         -10.00            2.54   \n",
      "LinearSVR                                             -3.24            1.58   \n",
      "HuberRegressor                                        -3.18            1.57   \n",
      "PassiveAggressiveRegressor                            -3.07            1.55   \n",
      "ExtraTreeRegressor                                    -2.32            1.40   \n",
      "Ridge                                                 -2.01            1.33   \n",
      "KernelRidge                                           -1.98            1.32   \n",
      "DecisionTreeRegressor                                 -1.72            1.26   \n",
      "OrthogonalMatchingPursuit                             -0.94            1.07   \n",
      "SGDRegressor                                          -0.77            1.02   \n",
      "OrthogonalMatchingPursuitCV                           -0.68            0.99   \n",
      "RidgeCV                                               -0.57            0.96   \n",
      "PoissonRegressor                                      -0.46            0.93   \n",
      "GradientBoostingRegressor                             -0.32            0.88   \n",
      "KNeighborsRegressor                                   -0.32            0.88   \n",
      "HistGradientBoostingRegressor                         -0.27            0.86   \n",
      "BaggingRegressor                                      -0.12            0.81   \n",
      "QuantileRegressor                                     -0.11            0.81   \n",
      "SVR                                                   -0.06            0.79   \n",
      "LassoLars                                             -0.01            0.77   \n",
      "Lasso                                                 -0.01            0.77   \n",
      "DummyRegressor                                        -0.01            0.77   \n",
      "NuSVR                                                 -0.00            0.77   \n",
      "ExtraTreesRegressor                                    0.00            0.77   \n",
      "AdaBoostRegressor                                      0.03            0.75   \n",
      "RandomForestRegressor                                  0.08            0.74   \n",
      "ElasticNet                                             0.13            0.71   \n",
      "TweedieRegressor                                       0.16            0.70   \n",
      "GammaRegressor                                         0.16            0.70   \n",
      "BayesianRidge                                          0.19            0.69   \n",
      "LassoCV                                                0.23            0.67   \n",
      "ElasticNetCV                                           0.23            0.67   \n",
      "LassoLarsCV                                            0.23            0.67   \n",
      "LarsCV                                                 0.24            0.67   \n",
      "\n",
      "                               Time Taken  \n",
      "Model                                      \n",
      "LinearRegression                     0.01  \n",
      "TransformedTargetRegressor           0.01  \n",
      "Lars                                 0.02  \n",
      "GaussianProcessRegressor             0.01  \n",
      "MLPRegressor                         0.12  \n",
      "LinearSVR                            0.02  \n",
      "HuberRegressor                       0.03  \n",
      "PassiveAggressiveRegressor           0.01  \n",
      "ExtraTreeRegressor                   0.01  \n",
      "Ridge                                0.01  \n",
      "KernelRidge                          0.01  \n",
      "DecisionTreeRegressor                0.01  \n",
      "OrthogonalMatchingPursuit            0.01  \n",
      "SGDRegressor                         0.01  \n",
      "OrthogonalMatchingPursuitCV          0.01  \n",
      "RidgeCV                              0.01  \n",
      "PoissonRegressor                     0.02  \n",
      "GradientBoostingRegressor            0.07  \n",
      "KNeighborsRegressor                  0.01  \n",
      "HistGradientBoostingRegressor        0.19  \n",
      "BaggingRegressor                     0.03  \n",
      "QuantileRegressor                    0.04  \n",
      "SVR                                  0.01  \n",
      "LassoLars                            0.01  \n",
      "Lasso                                0.01  \n",
      "DummyRegressor                       0.01  \n",
      "NuSVR                                0.01  \n",
      "ExtraTreesRegressor                  0.09  \n",
      "AdaBoostRegressor                    0.07  \n",
      "RandomForestRegressor                0.12  \n",
      "ElasticNet                           0.01  \n",
      "TweedieRegressor                     0.01  \n",
      "GammaRegressor                       0.01  \n",
      "BayesianRidge                        0.01  \n",
      "LassoCV                              1.31  \n",
      "ElasticNetCV                         0.92  \n",
      "LassoLarsCV                          0.04  \n",
      "LarsCV                               0.05  \n"
     ]
    },
    {
     "name": "stderr",
     "output_type": "stream",
     "text": [
      "\n"
     ]
    }
   ],
   "source": [
    "models_sub = lazy_regressor(X, y_sub, test_size = 0.2, random_state = 6, regressor = reg)\n",
    "\n",
    "print(models_sub)"
   ]
  },
  {
   "attachments": {},
   "cell_type": "markdown",
   "metadata": {},
   "source": [
    "### LazyRegressor for the factors influencing the sleep scores given the questionnaire variables only"
   ]
  },
  {
   "cell_type": "code",
   "execution_count": 13,
   "metadata": {},
   "outputs": [],
   "source": [
    "# Separate the indenpendent variables from the dependent variables\n",
    "X_quest = df_quest.drop(labels=['subjective_sleep_score'], axis=1)"
   ]
  },
  {
   "attachments": {},
   "cell_type": "markdown",
   "metadata": {},
   "source": [
    "#### Oura sleep score"
   ]
  },
  {
   "cell_type": "code",
   "execution_count": 14,
   "metadata": {},
   "outputs": [
    {
     "name": "stdout",
     "output_type": "stream",
     "text": [
      "'tuple' object has no attribute '__name__'\n",
      "Invalid Regressor(s)\n"
     ]
    },
    {
     "name": "stderr",
     "output_type": "stream",
     "text": [
      "100%|██████████| 40/40 [00:00<00:00, 40.58it/s]"
     ]
    },
    {
     "name": "stdout",
     "output_type": "stream",
     "text": [
      "                                        Adjusted R-Squared  \\\n",
      "Model                                                        \n",
      "RANSACRegressor               5550509686441437569220608.00   \n",
      "TransformedTargetRegressor    3945868123691236162797568.00   \n",
      "LinearRegression              3945868123691236162797568.00   \n",
      "KernelRidge                                         217.72   \n",
      "GaussianProcessRegressor                            133.94   \n",
      "MLPRegressor                                          6.54   \n",
      "ExtraTreeRegressor                                    4.21   \n",
      "ExtraTreesRegressor                                   3.52   \n",
      "LinearSVR                                             3.17   \n",
      "DecisionTreeRegressor                                 3.04   \n",
      "PassiveAggressiveRegressor                            2.68   \n",
      "QuantileRegressor                                     2.55   \n",
      "OrthogonalMatchingPursuitCV                           2.41   \n",
      "OrthogonalMatchingPursuit                             2.41   \n",
      "Lasso                                                 2.38   \n",
      "LassoLars                                             2.38   \n",
      "DummyRegressor                                        2.38   \n",
      "ElasticNet                                            2.38   \n",
      "Ridge                                                 2.21   \n",
      "HuberRegressor                                        2.18   \n",
      "SGDRegressor                                          2.13   \n",
      "Lars                                                  2.07   \n",
      "RidgeCV                                               2.07   \n",
      "PoissonRegressor                                      2.05   \n",
      "BaggingRegressor                                      1.99   \n",
      "LassoCV                                               1.96   \n",
      "LassoLarsIC                                           1.95   \n",
      "BayesianRidge                                         1.94   \n",
      "ElasticNetCV                                          1.93   \n",
      "GradientBoostingRegressor                             1.92   \n",
      "HistGradientBoostingRegressor                         1.92   \n",
      "LassoLarsCV                                           1.89   \n",
      "LarsCV                                                1.89   \n",
      "TweedieRegressor                                      1.87   \n",
      "GammaRegressor                                        1.86   \n",
      "KNeighborsRegressor                                   1.85   \n",
      "RandomForestRegressor                                 1.81   \n",
      "AdaBoostRegressor                                     1.73   \n",
      "SVR                                                   1.73   \n",
      "NuSVR                                                 1.72   \n",
      "\n",
      "                                                  R-Squared             RMSE  \\\n",
      "Model                                                                          \n",
      "RANSACRegressor               -4089849242641059035480064.00 1333056448890.12   \n",
      "TransformedTargetRegressor    -2907481775351436861767680.00 1123966561508.93   \n",
      "LinearRegression              -2907481775351436861767680.00 1123966561508.93   \n",
      "KernelRidge                                         -158.69             8.33   \n",
      "GaussianProcessRegressor                             -96.95             6.52   \n",
      "MLPRegressor                                          -3.08             1.33   \n",
      "ExtraTreeRegressor                                    -1.36             1.01   \n",
      "ExtraTreesRegressor                                   -0.86             0.90   \n",
      "LinearSVR                                             -0.60             0.83   \n",
      "DecisionTreeRegressor                                 -0.50             0.81   \n",
      "PassiveAggressiveRegressor                            -0.24             0.73   \n",
      "QuantileRegressor                                     -0.14             0.70   \n",
      "OrthogonalMatchingPursuitCV                           -0.04             0.67   \n",
      "OrthogonalMatchingPursuit                             -0.04             0.67   \n",
      "Lasso                                                 -0.02             0.67   \n",
      "LassoLars                                             -0.02             0.67   \n",
      "DummyRegressor                                        -0.02             0.67   \n",
      "ElasticNet                                            -0.02             0.67   \n",
      "Ridge                                                  0.11             0.62   \n",
      "HuberRegressor                                         0.13             0.61   \n",
      "SGDRegressor                                           0.17             0.60   \n",
      "Lars                                                   0.21             0.59   \n",
      "RidgeCV                                                0.21             0.58   \n",
      "PoissonRegressor                                       0.23             0.58   \n",
      "BaggingRegressor                                       0.27             0.56   \n",
      "LassoCV                                                0.30             0.55   \n",
      "LassoLarsIC                                            0.30             0.55   \n",
      "BayesianRidge                                          0.31             0.55   \n",
      "ElasticNetCV                                           0.31             0.55   \n",
      "GradientBoostingRegressor                              0.32             0.54   \n",
      "HistGradientBoostingRegressor                          0.32             0.54   \n",
      "LassoLarsCV                                            0.34             0.53   \n",
      "LarsCV                                                 0.34             0.53   \n",
      "TweedieRegressor                                       0.36             0.53   \n",
      "GammaRegressor                                         0.37             0.52   \n",
      "KNeighborsRegressor                                    0.37             0.52   \n",
      "RandomForestRegressor                                  0.40             0.51   \n",
      "AdaBoostRegressor                                      0.46             0.48   \n",
      "SVR                                                    0.46             0.48   \n",
      "NuSVR                                                  0.47             0.48   \n",
      "\n",
      "                               Time Taken  \n",
      "Model                                      \n",
      "RANSACRegressor                      0.04  \n",
      "TransformedTargetRegressor           0.01  \n",
      "LinearRegression                     0.01  \n",
      "KernelRidge                          0.01  \n",
      "GaussianProcessRegressor             0.01  \n",
      "MLPRegressor                         0.14  \n",
      "ExtraTreeRegressor                   0.01  \n",
      "ExtraTreesRegressor                  0.07  \n",
      "LinearSVR                            0.01  \n",
      "DecisionTreeRegressor                0.01  \n",
      "PassiveAggressiveRegressor           0.01  \n",
      "QuantileRegressor                    0.05  \n",
      "OrthogonalMatchingPursuitCV          0.01  \n",
      "OrthogonalMatchingPursuit            0.01  \n",
      "Lasso                                0.01  \n",
      "LassoLars                            0.01  \n",
      "DummyRegressor                       0.01  \n",
      "ElasticNet                           0.01  \n",
      "Ridge                                0.01  \n",
      "HuberRegressor                       0.01  \n",
      "SGDRegressor                         0.01  \n",
      "Lars                                 0.01  \n",
      "RidgeCV                              0.01  \n",
      "PoissonRegressor                     0.01  \n",
      "BaggingRegressor                     0.02  \n",
      "LassoCV                              0.04  \n",
      "LassoLarsIC                          0.01  \n",
      "BayesianRidge                        0.01  \n",
      "ElasticNetCV                         0.04  \n",
      "GradientBoostingRegressor            0.02  \n",
      "HistGradientBoostingRegressor        0.19  \n",
      "LassoLarsCV                          0.02  \n",
      "LarsCV                               0.02  \n",
      "TweedieRegressor                     0.01  \n",
      "GammaRegressor                       0.01  \n",
      "KNeighborsRegressor                  0.01  \n",
      "RandomForestRegressor                0.09  \n",
      "AdaBoostRegressor                    0.05  \n",
      "SVR                                  0.01  \n",
      "NuSVR                                0.01  \n"
     ]
    },
    {
     "name": "stderr",
     "output_type": "stream",
     "text": [
      "\n"
     ]
    }
   ],
   "source": [
    "models_oura = lazy_regressor(X_quest, y_oura, test_size = 0.2, random_state = 2, regressor = reg)\n",
    "\n",
    "print(models_oura)"
   ]
  },
  {
   "attachments": {},
   "cell_type": "markdown",
   "metadata": {},
   "source": [
    "#### Subjective sleep scores"
   ]
  },
  {
   "cell_type": "code",
   "execution_count": 15,
   "metadata": {},
   "outputs": [
    {
     "name": "stdout",
     "output_type": "stream",
     "text": [
      "'tuple' object has no attribute '__name__'\n",
      "Invalid Regressor(s)\n"
     ]
    },
    {
     "name": "stderr",
     "output_type": "stream",
     "text": [
      "100%|██████████| 40/40 [00:00<00:00, 43.64it/s]"
     ]
    },
    {
     "name": "stdout",
     "output_type": "stream",
     "text": [
      "                                       Adjusted R-Squared  \\\n",
      "Model                                                       \n",
      "RANSACRegressor               296299723676300022382592.00   \n",
      "KernelRidge                                        130.76   \n",
      "GaussianProcessRegressor                            93.10   \n",
      "PassiveAggressiveRegressor                           6.46   \n",
      "MLPRegressor                                         5.62   \n",
      "DecisionTreeRegressor                                4.12   \n",
      "LinearSVR                                            3.76   \n",
      "ExtraTreeRegressor                                   3.54   \n",
      "KNeighborsRegressor                                  3.49   \n",
      "ExtraTreesRegressor                                  3.42   \n",
      "SVR                                                  3.26   \n",
      "HuberRegressor                                       3.26   \n",
      "LinearRegression                                     3.17   \n",
      "TransformedTargetRegressor                           3.17   \n",
      "Ridge                                                3.11   \n",
      "NuSVR                                                3.07   \n",
      "BaggingRegressor                                     2.92   \n",
      "GradientBoostingRegressor                            2.90   \n",
      "Lars                                                 2.87   \n",
      "SGDRegressor                                         2.85   \n",
      "PoissonRegressor                                     2.78   \n",
      "RidgeCV                                              2.78   \n",
      "HistGradientBoostingRegressor                        2.76   \n",
      "RandomForestRegressor                                2.67   \n",
      "AdaBoostRegressor                                    2.63   \n",
      "OrthogonalMatchingPursuit                            2.50   \n",
      "QuantileRegressor                                    2.50   \n",
      "GammaRegressor                                       2.41   \n",
      "TweedieRegressor                                     2.39   \n",
      "BayesianRidge                                        2.38   \n",
      "OrthogonalMatchingPursuitCV                          2.37   \n",
      "Lasso                                                2.37   \n",
      "DummyRegressor                                       2.37   \n",
      "LassoLars                                            2.37   \n",
      "ElasticNetCV                                         2.35   \n",
      "LassoCV                                              2.33   \n",
      "LassoLarsIC                                          2.31   \n",
      "ElasticNet                                           2.30   \n",
      "LassoLarsCV                                          2.30   \n",
      "LarsCV                                               2.30   \n",
      "\n",
      "                                                 R-Squared            RMSE  \\\n",
      "Model                                                                        \n",
      "RANSACRegressor               -218326112182536840937472.00 358143254728.11   \n",
      "KernelRidge                                         -94.61            7.49   \n",
      "GaussianProcessRegressor                            -66.86            6.31   \n",
      "PassiveAggressiveRegressor                           -3.03            1.54   \n",
      "MLPRegressor                                         -2.41            1.41   \n",
      "DecisionTreeRegressor                                -1.30            1.16   \n",
      "LinearSVR                                            -1.03            1.09   \n",
      "ExtraTreeRegressor                                   -0.87            1.05   \n",
      "KNeighborsRegressor                                  -0.83            1.04   \n",
      "ExtraTreesRegressor                                  -0.78            1.02   \n",
      "SVR                                                  -0.67            0.99   \n",
      "HuberRegressor                                       -0.67            0.99   \n",
      "LinearRegression                                     -0.60            0.97   \n",
      "TransformedTargetRegressor                           -0.60            0.97   \n",
      "Ridge                                                -0.55            0.95   \n",
      "NuSVR                                                -0.53            0.95   \n",
      "BaggingRegressor                                     -0.41            0.91   \n",
      "GradientBoostingRegressor                            -0.40            0.91   \n",
      "Lars                                                 -0.37            0.90   \n",
      "SGDRegressor                                         -0.37            0.90   \n",
      "PoissonRegressor                                     -0.32            0.88   \n",
      "RidgeCV                                              -0.31            0.88   \n",
      "HistGradientBoostingRegressor                        -0.29            0.87   \n",
      "RandomForestRegressor                                -0.23            0.85   \n",
      "AdaBoostRegressor                                    -0.20            0.84   \n",
      "OrthogonalMatchingPursuit                            -0.11            0.81   \n",
      "QuantileRegressor                                    -0.11            0.81   \n",
      "GammaRegressor                                       -0.04            0.78   \n",
      "TweedieRegressor                                     -0.03            0.78   \n",
      "BayesianRidge                                        -0.02            0.77   \n",
      "OrthogonalMatchingPursuitCV                          -0.01            0.77   \n",
      "Lasso                                                -0.01            0.77   \n",
      "DummyRegressor                                       -0.01            0.77   \n",
      "LassoLars                                            -0.01            0.77   \n",
      "ElasticNetCV                                          0.01            0.76   \n",
      "LassoCV                                               0.02            0.76   \n",
      "LassoLarsIC                                           0.04            0.75   \n",
      "ElasticNet                                            0.04            0.75   \n",
      "LassoLarsCV                                           0.04            0.75   \n",
      "LarsCV                                                0.04            0.75   \n",
      "\n",
      "                               Time Taken  \n",
      "Model                                      \n",
      "RANSACRegressor                      0.04  \n",
      "KernelRidge                          0.01  \n",
      "GaussianProcessRegressor             0.01  \n",
      "PassiveAggressiveRegressor           0.01  \n",
      "MLPRegressor                         0.10  \n",
      "DecisionTreeRegressor                0.01  \n",
      "LinearSVR                            0.01  \n",
      "ExtraTreeRegressor                   0.01  \n",
      "KNeighborsRegressor                  0.01  \n",
      "ExtraTreesRegressor                  0.07  \n",
      "SVR                                  0.01  \n",
      "HuberRegressor                       0.01  \n",
      "LinearRegression                     0.01  \n",
      "TransformedTargetRegressor           0.01  \n",
      "Ridge                                0.01  \n",
      "NuSVR                                0.01  \n",
      "BaggingRegressor                     0.02  \n",
      "GradientBoostingRegressor            0.02  \n",
      "Lars                                 0.01  \n",
      "SGDRegressor                         0.01  \n",
      "PoissonRegressor                     0.01  \n",
      "RidgeCV                              0.01  \n",
      "HistGradientBoostingRegressor        0.20  \n",
      "RandomForestRegressor                0.08  \n",
      "AdaBoostRegressor                    0.05  \n",
      "OrthogonalMatchingPursuit            0.01  \n",
      "QuantileRegressor                    0.04  \n",
      "GammaRegressor                       0.01  \n",
      "TweedieRegressor                     0.01  \n",
      "BayesianRidge                        0.01  \n",
      "OrthogonalMatchingPursuitCV          0.01  \n",
      "Lasso                                0.01  \n",
      "DummyRegressor                       0.01  \n",
      "LassoLars                            0.01  \n",
      "ElasticNetCV                         0.04  \n",
      "LassoCV                              0.04  \n",
      "LassoLarsIC                          0.01  \n",
      "ElasticNet                           0.01  \n",
      "LassoLarsCV                          0.02  \n",
      "LarsCV                               0.02  \n"
     ]
    },
    {
     "name": "stderr",
     "output_type": "stream",
     "text": [
      "\n"
     ]
    }
   ],
   "source": [
    "models_sub = lazy_regressor(X_quest, y_sub, test_size = 0.2, random_state = 6, regressor = reg)\n",
    "\n",
    "print(models_sub)"
   ]
  },
  {
   "attachments": {},
   "cell_type": "markdown",
   "metadata": {},
   "source": [
    "### LazyRegressor for the factors influencing the sleep scores given the Oura variables only"
   ]
  },
  {
   "cell_type": "code",
   "execution_count": 16,
   "metadata": {},
   "outputs": [],
   "source": [
    "# Separate the indenpendent variables from the dependent variables\n",
    "X_oura = df_oura.drop(labels=['score'], axis=1)"
   ]
  },
  {
   "attachments": {},
   "cell_type": "markdown",
   "metadata": {},
   "source": [
    "#### Oura sleep score"
   ]
  },
  {
   "cell_type": "code",
   "execution_count": 17,
   "metadata": {},
   "outputs": [
    {
     "name": "stdout",
     "output_type": "stream",
     "text": [
      "'tuple' object has no attribute '__name__'\n",
      "Invalid Regressor(s)\n"
     ]
    },
    {
     "name": "stderr",
     "output_type": "stream",
     "text": [
      "100%|██████████| 40/40 [00:01<00:00, 32.15it/s]"
     ]
    },
    {
     "name": "stdout",
     "output_type": "stream",
     "text": [
      "                               Adjusted R-Squared  R-Squared  RMSE  Time Taken\n",
      "Model                                                                         \n",
      "Lars                                       218.44    -342.33 12.21        0.01\n",
      "GaussianProcessRegressor                    98.34    -152.69  8.17        0.01\n",
      "MLPRegressor                                 8.39     -10.68  2.25        0.10\n",
      "QuantileRegressor                            1.72      -0.14  0.70        0.05\n",
      "DummyRegressor                               1.65      -0.02  0.67        0.02\n",
      "Lasso                                        1.65      -0.02  0.67        0.01\n",
      "LassoLars                                    1.65      -0.02  0.67        0.01\n",
      "ElasticNet                                   1.36       0.43  0.50        0.01\n",
      "PassiveAggressiveRegressor                   1.32       0.49  0.47        0.01\n",
      "ExtraTreeRegressor                           1.22       0.66  0.39        0.01\n",
      "KNeighborsRegressor                          1.21       0.67  0.38        0.01\n",
      "SVR                                          1.11       0.83  0.27        0.01\n",
      "SGDRegressor                                 1.11       0.83  0.27        0.01\n",
      "NuSVR                                        1.10       0.84  0.27        0.01\n",
      "HistGradientBoostingRegressor                1.08       0.88  0.23        0.16\n",
      "DecisionTreeRegressor                        1.06       0.90  0.21        0.01\n",
      "GammaRegressor                               1.06       0.90  0.21        0.01\n",
      "TweedieRegressor                             1.06       0.91  0.20        0.01\n",
      "LarsCV                                       1.05       0.92  0.18        0.03\n",
      "PoissonRegressor                             1.03       0.95  0.15        0.01\n",
      "GradientBoostingRegressor                    1.03       0.95  0.14        0.06\n",
      "AdaBoostRegressor                            1.02       0.97  0.12        0.06\n",
      "LinearSVR                                    1.02       0.97  0.12        0.02\n",
      "LassoLarsCV                                  1.02       0.97  0.12        0.04\n",
      "KernelRidge                                  1.02       0.97  0.11        0.01\n",
      "Ridge                                        1.02       0.97  0.11        0.01\n",
      "BaggingRegressor                             1.02       0.97  0.11        0.02\n",
      "ExtraTreesRegressor                          1.02       0.97  0.11        0.09\n",
      "RandomForestRegressor                        1.02       0.98  0.10        0.12\n",
      "OrthogonalMatchingPursuit                    1.01       0.98  0.10        0.01\n",
      "LassoLarsIC                                  1.01       0.98  0.10        0.01\n",
      "ElasticNetCV                                 1.01       0.98  0.10        0.08\n",
      "OrthogonalMatchingPursuitCV                  1.01       0.98  0.09        0.01\n",
      "LassoCV                                      1.01       0.98  0.09        0.07\n",
      "BayesianRidge                                1.01       0.98  0.08        0.01\n",
      "HuberRegressor                               1.01       0.99  0.08        0.02\n",
      "RidgeCV                                      1.01       0.99  0.08        0.01\n",
      "LinearRegression                             1.01       0.99  0.07        0.01\n",
      "RANSACRegressor                              1.01       0.99  0.07        0.01\n",
      "TransformedTargetRegressor                   1.01       0.99  0.07        0.01\n"
     ]
    },
    {
     "name": "stderr",
     "output_type": "stream",
     "text": [
      "\n"
     ]
    }
   ],
   "source": [
    "models_oura = lazy_regressor(X_oura, y_oura, test_size = 0.2, random_state = 2, regressor = reg)\n",
    "\n",
    "print(models_oura)"
   ]
  },
  {
   "attachments": {},
   "cell_type": "markdown",
   "metadata": {},
   "source": [
    "#### Subjective sleep scores"
   ]
  },
  {
   "cell_type": "code",
   "execution_count": 18,
   "metadata": {},
   "outputs": [
    {
     "name": "stdout",
     "output_type": "stream",
     "text": [
      "'tuple' object has no attribute '__name__'\n",
      "Invalid Regressor(s)\n"
     ]
    },
    {
     "name": "stderr",
     "output_type": "stream",
     "text": [
      "100%|██████████| 40/40 [00:01<00:00, 21.40it/s]"
     ]
    },
    {
     "name": "stdout",
     "output_type": "stream",
     "text": [
      "                               Adjusted R-Squared  R-Squared  RMSE  Time Taken\n",
      "Model                                                                         \n",
      "Lars                                       435.82    -685.55 20.08        0.01\n",
      "GaussianProcessRegressor                    58.08     -89.12  7.28        0.01\n",
      "RANSACRegressor                              8.20     -10.37  2.58        0.06\n",
      "MLPRegressor                                 6.03      -6.94  2.16        0.15\n",
      "TransformedTargetRegressor                   4.17      -4.01  1.72        0.01\n",
      "LinearRegression                             4.17      -4.01  1.72        0.01\n",
      "HuberRegressor                               3.68      -3.24  1.58        0.02\n",
      "LinearSVR                                    3.07      -2.27  1.39        0.02\n",
      "Ridge                                        2.81      -1.85  1.29        0.01\n",
      "KernelRidge                                  2.78      -1.81  1.28        0.01\n",
      "PassiveAggressiveRegressor                   2.42      -1.24  1.15        0.01\n",
      "DecisionTreeRegressor                        2.19      -0.87  1.05        0.01\n",
      "SGDRegressor                                 2.03      -0.62  0.98        0.01\n",
      "RidgeCV                                      1.92      -0.45  0.92        0.01\n",
      "PoissonRegressor                             1.84      -0.33  0.89        0.02\n",
      "OrthogonalMatchingPursuit                    1.81      -0.28  0.87        0.01\n",
      "HistGradientBoostingRegressor                1.74      -0.17  0.83        0.17\n",
      "GradientBoostingRegressor                    1.73      -0.16  0.83        0.06\n",
      "QuantileRegressor                            1.70      -0.11  0.81        0.06\n",
      "KNeighborsRegressor                          1.68      -0.08  0.79        0.01\n",
      "BaggingRegressor                             1.64      -0.02  0.77        0.02\n",
      "Lasso                                        1.64      -0.01  0.77        0.01\n",
      "DummyRegressor                               1.64      -0.01  0.77        0.01\n",
      "LassoLars                                    1.64      -0.01  0.77        0.01\n",
      "RandomForestRegressor                        1.60       0.05  0.75        0.12\n",
      "ExtraTreesRegressor                          1.59       0.06  0.74        0.08\n",
      "NuSVR                                        1.58       0.08  0.74        0.01\n",
      "SVR                                          1.57       0.10  0.73        0.01\n",
      "ElasticNet                                   1.55       0.13  0.71        0.01\n",
      "AdaBoostRegressor                            1.54       0.15  0.71        0.06\n",
      "ExtraTreeRegressor                           1.54       0.15  0.71        0.01\n",
      "TweedieRegressor                             1.50       0.21  0.68        0.01\n",
      "OrthogonalMatchingPursuitCV                  1.50       0.21  0.68        0.02\n",
      "BayesianRidge                                1.50       0.21  0.68        0.01\n",
      "GammaRegressor                               1.49       0.22  0.68        0.01\n",
      "LarsCV                                       1.48       0.25  0.67        0.03\n",
      "LassoLarsIC                                  1.47       0.25  0.66        0.03\n",
      "ElasticNetCV                                 1.47       0.26  0.66        0.29\n",
      "LassoCV                                      1.45       0.28  0.65        0.37\n",
      "LassoLarsCV                                  1.45       0.29  0.65        0.04\n"
     ]
    },
    {
     "name": "stderr",
     "output_type": "stream",
     "text": [
      "\n"
     ]
    }
   ],
   "source": [
    "models_sub = lazy_regressor(X_oura, y_sub, test_size = 0.2, random_state = 6, regressor = reg)\n",
    "\n",
    "print(models_sub)"
   ]
  },
  {
   "attachments": {},
   "cell_type": "markdown",
   "metadata": {},
   "source": [
    "### LazyRegressor for the factors influencing the average HRV given all the variables"
   ]
  },
  {
   "cell_type": "code",
   "execution_count": 19,
   "metadata": {},
   "outputs": [],
   "source": [
    "# Separate the indenpendent variables from the dependent variables\n",
    "y_hrv = df['average_hrv']\n",
    "X_hrv = df.drop(labels=['average_hrv'], axis=1)\n",
    "X_hrv_quest = df_quest\n",
    "X_hrv_oura = df_oura.drop(labels=['average_hrv'], axis=1)"
   ]
  },
  {
   "cell_type": "code",
   "execution_count": 20,
   "metadata": {},
   "outputs": [],
   "source": [
    "# Drop the rows for which the HRV value is not saved\n",
    "for i in range(len(df['average_hrv'])):\n",
    "    if pd.isna(df.iloc[i]['average_hrv']):\n",
    "        y_hrv = y_hrv.drop(i)\n",
    "        X_hrv = X_hrv.drop(i)\n",
    "        X_hrv_quest = X_hrv_quest.drop(i)\n",
    "        X_hrv_oura = X_hrv_oura.drop(i)"
   ]
  },
  {
   "cell_type": "code",
   "execution_count": 21,
   "metadata": {},
   "outputs": [
    {
     "name": "stdout",
     "output_type": "stream",
     "text": [
      "'tuple' object has no attribute '__name__'\n",
      "Invalid Regressor(s)\n"
     ]
    },
    {
     "name": "stderr",
     "output_type": "stream",
     "text": [
      " 65%|██████▌   | 26/40 [00:01<00:00, 14.77it/s]"
     ]
    },
    {
     "name": "stdout",
     "output_type": "stream",
     "text": [
      "LassoLarsIC model failed to execute\n",
      "You are using LassoLarsIC in the case where the number of samples is smaller than the number of features. In this setting, getting a good estimate for the variance of the noise is not possible. Provide an estimate of the noise variance in the constructor.\n"
     ]
    },
    {
     "name": "stderr",
     "output_type": "stream",
     "text": [
      " 90%|█████████ | 36/40 [00:01<00:00, 21.54it/s]"
     ]
    },
    {
     "name": "stdout",
     "output_type": "stream",
     "text": [
      "RANSACRegressor model failed to execute\n",
      "`min_samples` may not be larger than number of samples: n_samples = 76.\n"
     ]
    },
    {
     "name": "stderr",
     "output_type": "stream",
     "text": [
      "100%|██████████| 40/40 [00:01<00:00, 20.31it/s]"
     ]
    },
    {
     "name": "stdout",
     "output_type": "stream",
     "text": [
      "                               Adjusted R-Squared  R-Squared    RMSE  \\\n",
      "Model                                                                  \n",
      "Lars                                      2223.83   -7252.43 1618.24   \n",
      "GaussianProcessRegressor                     5.25     -12.86   70.75   \n",
      "MLPRegressor                                 1.96      -2.13   33.62   \n",
      "DummyRegressor                               1.31      -0.01   19.10   \n",
      "QuantileRegressor                            1.31      -0.01   19.09   \n",
      "TransformedTargetRegressor                   1.28       0.09   18.17   \n",
      "LinearRegression                             1.28       0.09   18.17   \n",
      "NuSVR                                        1.27       0.12   17.87   \n",
      "HuberRegressor                               1.27       0.14   17.67   \n",
      "SVR                                          1.26       0.14   17.63   \n",
      "PassiveAggressiveRegressor                   1.20       0.35   15.32   \n",
      "KernelRidge                                  1.19       0.39   14.82   \n",
      "Ridge                                        1.18       0.41   14.65   \n",
      "ExtraTreeRegressor                           1.18       0.43   14.38   \n",
      "SGDRegressor                                 1.16       0.47   13.81   \n",
      "LassoLars                                    1.16       0.49   13.55   \n",
      "GradientBoostingRegressor                    1.15       0.52   13.13   \n",
      "DecisionTreeRegressor                        1.15       0.53   13.09   \n",
      "PoissonRegressor                             1.14       0.55   12.68   \n",
      "LinearSVR                                    1.13       0.57   12.42   \n",
      "KNeighborsRegressor                          1.12       0.59   12.09   \n",
      "AdaBoostRegressor                            1.12       0.61   11.80   \n",
      "RandomForestRegressor                        1.12       0.62   11.79   \n",
      "ExtraTreesRegressor                          1.11       0.63   11.58   \n",
      "BaggingRegressor                             1.10       0.66   11.07   \n",
      "HistGradientBoostingRegressor                1.10       0.66   11.00   \n",
      "TweedieRegressor                             1.10       0.67   11.00   \n",
      "GammaRegressor                               1.10       0.67   10.88   \n",
      "ElasticNet                                   1.10       0.68   10.83   \n",
      "ElasticNetCV                                 1.10       0.69   10.62   \n",
      "LarsCV                                       1.09       0.69   10.57   \n",
      "RidgeCV                                      1.09       0.70   10.43   \n",
      "BayesianRidge                                1.09       0.70   10.38   \n",
      "OrthogonalMatchingPursuit                    1.09       0.71   10.20   \n",
      "OrthogonalMatchingPursuitCV                  1.09       0.71   10.16   \n",
      "LassoCV                                      1.08       0.73    9.85   \n",
      "LassoLarsCV                                  1.08       0.73    9.83   \n",
      "Lasso                                        1.08       0.74    9.70   \n",
      "\n",
      "                               Time Taken  \n",
      "Model                                      \n",
      "Lars                                 0.02  \n",
      "GaussianProcessRegressor             0.01  \n",
      "MLPRegressor                         0.11  \n",
      "DummyRegressor                       0.01  \n",
      "QuantileRegressor                    0.05  \n",
      "TransformedTargetRegressor           0.01  \n",
      "LinearRegression                     0.01  \n",
      "NuSVR                                0.01  \n",
      "HuberRegressor                       0.03  \n",
      "SVR                                  0.01  \n",
      "PassiveAggressiveRegressor           0.01  \n",
      "KernelRidge                          0.01  \n",
      "Ridge                                0.01  \n",
      "ExtraTreeRegressor                   0.01  \n",
      "SGDRegressor                         0.01  \n",
      "LassoLars                            0.01  \n",
      "GradientBoostingRegressor            0.06  \n",
      "DecisionTreeRegressor                0.01  \n",
      "PoissonRegressor                     0.02  \n",
      "LinearSVR                            0.01  \n",
      "KNeighborsRegressor                  0.01  \n",
      "AdaBoostRegressor                    0.06  \n",
      "RandomForestRegressor                0.14  \n",
      "ExtraTreesRegressor                  0.10  \n",
      "BaggingRegressor                     0.02  \n",
      "HistGradientBoostingRegressor        0.16  \n",
      "TweedieRegressor                     0.01  \n",
      "GammaRegressor                       0.01  \n",
      "ElasticNet                           0.01  \n",
      "ElasticNetCV                         0.21  \n",
      "LarsCV                               0.05  \n",
      "RidgeCV                              0.01  \n",
      "BayesianRidge                        0.01  \n",
      "OrthogonalMatchingPursuit            0.01  \n",
      "OrthogonalMatchingPursuitCV          0.01  \n",
      "LassoCV                              0.59  \n",
      "LassoLarsCV                          0.04  \n",
      "Lasso                                0.01  \n"
     ]
    },
    {
     "name": "stderr",
     "output_type": "stream",
     "text": [
      "\n"
     ]
    }
   ],
   "source": [
    "models_hrv = lazy_regressor(X_hrv, y_hrv, test_size = 0.2, random_state = 5, regressor = reg)\n",
    "\n",
    "print(models_hrv)"
   ]
  },
  {
   "attachments": {},
   "cell_type": "markdown",
   "metadata": {},
   "source": [
    "### LazyRegressor for the factors influencing the average HRV given the questionnaire variables only"
   ]
  },
  {
   "cell_type": "code",
   "execution_count": 22,
   "metadata": {},
   "outputs": [
    {
     "name": "stdout",
     "output_type": "stream",
     "text": [
      "'tuple' object has no attribute '__name__'\n",
      "Invalid Regressor(s)\n"
     ]
    },
    {
     "name": "stderr",
     "output_type": "stream",
     "text": [
      "100%|██████████| 40/40 [00:01<00:00, 31.82it/s]"
     ]
    },
    {
     "name": "stdout",
     "output_type": "stream",
     "text": [
      "                               Adjusted R-Squared  R-Squared  RMSE  Time Taken\n",
      "Model                                                                         \n",
      "KernelRidge                                 19.30     -13.45 72.22        0.01\n",
      "GaussianProcessRegressor                    17.07     -11.69 67.67        0.01\n",
      "MLPRegressor                                10.96      -6.86 53.27        0.18\n",
      "ExtraTreeRegressor                           3.02      -0.60 24.01        0.01\n",
      "LinearSVR                                    2.90      -0.50 23.29        0.01\n",
      "HuberRegressor                               2.61      -0.27 21.44        0.02\n",
      "TransformedTargetRegressor                   2.43      -0.13 20.17        0.01\n",
      "LinearRegression                             2.43      -0.13 20.17        0.01\n",
      "Ridge                                        2.29      -0.02 19.17        0.01\n",
      "LassoLars                                    2.28      -0.01 19.10        0.01\n",
      "DummyRegressor                               2.28      -0.01 19.10        0.01\n",
      "QuantileRegressor                            2.28      -0.01 19.09        0.05\n",
      "PoissonRegressor                             2.26       0.01 18.93        0.01\n",
      "SGDRegressor                                 2.25       0.01 18.88        0.01\n",
      "SVR                                          2.24       0.02 18.83        0.01\n",
      "KNeighborsRegressor                          2.24       0.02 18.79        0.01\n",
      "NuSVR                                        2.24       0.02 18.77        0.01\n",
      "DecisionTreeRegressor                        2.18       0.06 18.38        0.01\n",
      "ExtraTreesRegressor                          2.14       0.10 18.04        0.07\n",
      "RANSACRegressor                              2.14       0.10 18.01        0.04\n",
      "RidgeCV                                      2.13       0.10 17.99        0.01\n",
      "Lars                                         2.12       0.12 17.85        0.01\n",
      "BayesianRidge                                2.12       0.12 17.85        0.01\n",
      "TweedieRegressor                             2.12       0.12 17.83        0.01\n",
      "GammaRegressor                               2.11       0.12 17.82        0.01\n",
      "ElasticNetCV                                 2.11       0.12 17.79        0.06\n",
      "Lasso                                        2.10       0.13 17.74        0.01\n",
      "LassoLarsCV                                  2.10       0.14 17.67        0.03\n",
      "LarsCV                                       2.10       0.14 17.67        0.03\n",
      "ElasticNet                                   2.09       0.14 17.66        0.02\n",
      "LassoCV                                      2.09       0.14 17.63        0.08\n",
      "LassoLarsIC                                  2.09       0.14 17.62        0.01\n",
      "PassiveAggressiveRegressor                   2.09       0.14 17.60        0.01\n",
      "OrthogonalMatchingPursuit                    2.03       0.19 17.11        0.01\n",
      "OrthogonalMatchingPursuitCV                  1.99       0.22 16.78        0.01\n",
      "BaggingRegressor                             1.93       0.26 16.31        0.02\n",
      "AdaBoostRegressor                            1.84       0.34 15.47        0.07\n",
      "RandomForestRegressor                        1.73       0.43 14.38        0.09\n",
      "HistGradientBoostingRegressor                1.72       0.43 14.33        0.24\n",
      "GradientBoostingRegressor                    1.67       0.47 13.85        0.02\n"
     ]
    },
    {
     "name": "stderr",
     "output_type": "stream",
     "text": [
      "\n"
     ]
    }
   ],
   "source": [
    "models_hrv = lazy_regressor(X_hrv_quest, y_hrv, test_size = 0.2, random_state = 5, regressor = reg)\n",
    "\n",
    "print(models_hrv)"
   ]
  },
  {
   "attachments": {},
   "cell_type": "markdown",
   "metadata": {},
   "source": [
    "### LazyRegressor for the factors influencing the average HRV given the Oura variables only"
   ]
  },
  {
   "cell_type": "code",
   "execution_count": 23,
   "metadata": {},
   "outputs": [
    {
     "name": "stdout",
     "output_type": "stream",
     "text": [
      "'tuple' object has no attribute '__name__'\n",
      "Invalid Regressor(s)\n"
     ]
    },
    {
     "name": "stderr",
     "output_type": "stream",
     "text": [
      "100%|██████████| 40/40 [00:01<00:00, 23.92it/s]"
     ]
    },
    {
     "name": "stdout",
     "output_type": "stream",
     "text": [
      "                               Adjusted R-Squared   R-Squared     RMSE  \\\n",
      "Model                                                                    \n",
      "Lars                                   1878323.74 -2965771.74 32721.94   \n",
      "GaussianProcessRegressor                     9.76      -12.84    70.68   \n",
      "MLPRegressor                                 3.06       -2.25    34.24   \n",
      "DummyRegressor                               1.64       -0.01    19.10   \n",
      "QuantileRegressor                            1.64       -0.01    19.09   \n",
      "NuSVR                                        1.52        0.18    17.20   \n",
      "SVR                                          1.50        0.22    16.80   \n",
      "DecisionTreeRegressor                        1.37        0.42    14.52   \n",
      "LassoLars                                    1.32        0.49    13.55   \n",
      "GradientBoostingRegressor                    1.31        0.51    13.32   \n",
      "TransformedTargetRegressor                   1.29        0.55    12.80   \n",
      "LinearRegression                             1.29        0.55    12.80   \n",
      "RANSACRegressor                              1.28        0.56    12.63   \n",
      "HuberRegressor                               1.27        0.57    12.48   \n",
      "AdaBoostRegressor                            1.26        0.59    12.15   \n",
      "LinearSVR                                    1.25        0.61    11.94   \n",
      "RandomForestRegressor                        1.25        0.61    11.93   \n",
      "ExtraTreesRegressor                          1.24        0.61    11.81   \n",
      "ExtraTreeRegressor                           1.23        0.63    11.57   \n",
      "BaggingRegressor                             1.23        0.63    11.50   \n",
      "KNeighborsRegressor                          1.22        0.65    11.21   \n",
      "TweedieRegressor                             1.21        0.66    11.04   \n",
      "HistGradientBoostingRegressor                1.21        0.67    10.91   \n",
      "ElasticNet                                   1.21        0.67    10.85   \n",
      "PassiveAggressiveRegressor                   1.21        0.68    10.83   \n",
      "GammaRegressor                               1.20        0.68    10.71   \n",
      "OrthogonalMatchingPursuit                    1.20        0.68    10.69   \n",
      "SGDRegressor                                 1.18        0.71    10.23   \n",
      "Ridge                                        1.18        0.71    10.18   \n",
      "OrthogonalMatchingPursuitCV                  1.18        0.71    10.16   \n",
      "BayesianRidge                                1.18        0.71    10.16   \n",
      "RidgeCV                                      1.18        0.71    10.15   \n",
      "LarsCV                                       1.18        0.72    10.14   \n",
      "KernelRidge                                  1.18        0.72    10.12   \n",
      "LassoCV                                      1.18        0.72    10.00   \n",
      "LassoLarsCV                                  1.17        0.73     9.95   \n",
      "ElasticNetCV                                 1.17        0.73     9.94   \n",
      "Lasso                                        1.17        0.73     9.93   \n",
      "LassoLarsIC                                  1.17        0.73     9.85   \n",
      "PoissonRegressor                             1.14        0.77     9.06   \n",
      "\n",
      "                               Time Taken  \n",
      "Model                                      \n",
      "Lars                                 0.02  \n",
      "GaussianProcessRegressor             0.01  \n",
      "MLPRegressor                         0.14  \n",
      "DummyRegressor                       0.02  \n",
      "QuantileRegressor                    0.04  \n",
      "NuSVR                                0.02  \n",
      "SVR                                  0.01  \n",
      "DecisionTreeRegressor                0.02  \n",
      "LassoLars                            0.01  \n",
      "GradientBoostingRegressor            0.06  \n",
      "TransformedTargetRegressor           0.01  \n",
      "LinearRegression                     0.01  \n",
      "RANSACRegressor                      0.07  \n",
      "HuberRegressor                       0.03  \n",
      "AdaBoostRegressor                    0.07  \n",
      "LinearSVR                            0.01  \n",
      "RandomForestRegressor                0.13  \n",
      "ExtraTreesRegressor                  0.09  \n",
      "ExtraTreeRegressor                   0.01  \n",
      "BaggingRegressor                     0.03  \n",
      "KNeighborsRegressor                  0.01  \n",
      "TweedieRegressor                     0.02  \n",
      "HistGradientBoostingRegressor        0.25  \n",
      "ElasticNet                           0.01  \n",
      "PassiveAggressiveRegressor           0.01  \n",
      "GammaRegressor                       0.01  \n",
      "OrthogonalMatchingPursuit            0.01  \n",
      "SGDRegressor                         0.01  \n",
      "Ridge                                0.02  \n",
      "OrthogonalMatchingPursuitCV          0.01  \n",
      "BayesianRidge                        0.03  \n",
      "RidgeCV                              0.01  \n",
      "LarsCV                               0.04  \n",
      "KernelRidge                          0.01  \n",
      "LassoCV                              0.18  \n",
      "LassoLarsCV                          0.04  \n",
      "ElasticNetCV                         0.11  \n",
      "Lasso                                0.01  \n",
      "LassoLarsIC                          0.02  \n",
      "PoissonRegressor                     0.02  \n"
     ]
    },
    {
     "name": "stderr",
     "output_type": "stream",
     "text": [
      "\n"
     ]
    }
   ],
   "source": [
    "models_hrv = lazy_regressor(X_hrv_oura, y_hrv, test_size = 0.2, random_state = 5, regressor = reg)\n",
    "\n",
    "print(models_hrv)"
   ]
  },
  {
   "attachments": {},
   "cell_type": "markdown",
   "metadata": {},
   "source": [
    "### LazyRegressor for the factors influencing the total sleep duration given all variables"
   ]
  },
  {
   "cell_type": "code",
   "execution_count": 24,
   "metadata": {},
   "outputs": [],
   "source": [
    "# Separate the indenpendent variables from the dependent variables\n",
    "# For the total sleep duration, only consider the days for which a person woke up naturally\n",
    "y_total_sleep = df[df['Naturally'] == 1]['total_sleep_duration']\n",
    "X_total_sleep = df[df['Naturally'] == 1]\n",
    "X_total_sleep = X_total_sleep.drop(labels=['total_sleep_duration', 'deep_sleep_duration', 'light_sleep_duration', 'contributors.total_sleep', 'contributors.deep_sleep', 'contributors.rem_sleep', 'rem_sleep_duration', 'time_in_bed', 'bedtime_start_delta', 'bedtime_end_delta', 'bedtime_end_seconds', 'bed_time'], axis=1)"
   ]
  },
  {
   "cell_type": "code",
   "execution_count": 25,
   "metadata": {},
   "outputs": [
    {
     "name": "stdout",
     "output_type": "stream",
     "text": [
      "'tuple' object has no attribute '__name__'\n",
      "Invalid Regressor(s)\n"
     ]
    },
    {
     "name": "stderr",
     "output_type": "stream",
     "text": [
      " 65%|██████▌   | 26/40 [00:00<00:00, 35.36it/s]"
     ]
    },
    {
     "name": "stdout",
     "output_type": "stream",
     "text": [
      "LassoLarsIC model failed to execute\n",
      "You are using LassoLarsIC in the case where the number of samples is smaller than the number of features. In this setting, getting a good estimate for the variance of the noise is not possible. Provide an estimate of the noise variance in the constructor.\n"
     ]
    },
    {
     "name": "stderr",
     "output_type": "stream",
     "text": [
      "100%|██████████| 40/40 [00:01<00:00, 35.86it/s]"
     ]
    },
    {
     "name": "stdout",
     "output_type": "stream",
     "text": [
      "RANSACRegressor model failed to execute\n",
      "`min_samples` may not be larger than number of samples: n_samples = 8.\n",
      "                               Adjusted R-Squared  R-Squared     RMSE  \\\n",
      "Model                                                                   \n",
      "GaussianProcessRegressor                     7.61    -454.88 19536.44   \n",
      "LinearSVR                                    7.59    -453.76 19512.47   \n",
      "MLPRegressor                                 7.55    -450.61 19444.79   \n",
      "HistGradientBoostingRegressor                2.02     -69.08  7659.85   \n",
      "DummyRegressor                               2.02     -69.08  7659.85   \n",
      "NuSVR                                        1.95     -64.52  7406.57   \n",
      "ExtraTreesRegressor                          1.90     -61.09  7209.85   \n",
      "RandomForestRegressor                        1.79     -53.23  6738.16   \n",
      "QuantileRegressor                            1.75     -50.69  6578.32   \n",
      "AdaBoostRegressor                            1.74     -49.96  6531.60   \n",
      "SVR                                          1.74     -49.92  6529.22   \n",
      "KNeighborsRegressor                          1.68     -45.94  6269.05   \n",
      "GradientBoostingRegressor                    1.67     -44.92  6200.62   \n",
      "BaggingRegressor                             1.62     -41.72  5980.36   \n",
      "TransformedTargetRegressor                   1.51     -34.47  5449.34   \n",
      "LinearRegression                             1.51     -34.47  5449.34   \n",
      "BayesianRidge                                1.51     -34.47  5449.34   \n",
      "HuberRegressor                               1.51     -34.47  5449.32   \n",
      "SGDRegressor                                 1.51     -34.46  5448.59   \n",
      "RidgeCV                                      1.51     -34.39  5443.33   \n",
      "Ridge                                        1.50     -33.76  5394.72   \n",
      "ElasticNetCV                                 1.49     -32.61  5304.80   \n",
      "ElasticNet                                   1.48     -32.32  5281.91   \n",
      "TweedieRegressor                             1.47     -31.58  5222.97   \n",
      "PoissonRegressor                             1.43     -28.68  4984.97   \n",
      "GammaRegressor                               1.42     -27.85  4914.88   \n",
      "ExtraTreeRegressor                           1.36     -23.92  4567.99   \n",
      "Lasso                                        1.35     -23.38  4517.87   \n",
      "DecisionTreeRegressor                        1.35     -23.07  4489.24   \n",
      "KernelRidge                                  1.25     -16.24  3799.44   \n",
      "PassiveAggressiveRegressor                   1.24     -15.58  3725.58   \n",
      "OrthogonalMatchingPursuit                    1.04      -2.08  1604.74   \n",
      "OrthogonalMatchingPursuitCV                  1.01       0.03   898.86   \n",
      "LassoCV                                      1.00       0.81   399.40   \n",
      "LassoLarsCV                                  1.00       0.81   396.67   \n",
      "Lars                                         1.00       0.81   396.67   \n",
      "LassoLars                                    1.00       0.81   395.45   \n",
      "LarsCV                                       1.00       0.82   391.79   \n",
      "\n",
      "                               Time Taken  \n",
      "Model                                      \n",
      "GaussianProcessRegressor             0.01  \n",
      "LinearSVR                            0.01  \n",
      "MLPRegressor                         0.10  \n",
      "HistGradientBoostingRegressor        0.06  \n",
      "DummyRegressor                       0.02  \n",
      "NuSVR                                0.01  \n",
      "ExtraTreesRegressor                  0.07  \n",
      "RandomForestRegressor                0.09  \n",
      "QuantileRegressor                    0.02  \n",
      "AdaBoostRegressor                    0.11  \n",
      "SVR                                  0.01  \n",
      "KNeighborsRegressor                  0.01  \n",
      "GradientBoostingRegressor            0.03  \n",
      "BaggingRegressor                     0.04  \n",
      "TransformedTargetRegressor           0.01  \n",
      "LinearRegression                     0.01  \n",
      "BayesianRidge                        0.02  \n",
      "HuberRegressor                       0.03  \n",
      "SGDRegressor                         0.01  \n",
      "RidgeCV                              0.01  \n",
      "Ridge                                0.01  \n",
      "ElasticNetCV                         0.07  \n",
      "ElasticNet                           0.04  \n",
      "TweedieRegressor                     0.01  \n",
      "PoissonRegressor                     0.01  \n",
      "GammaRegressor                       0.02  \n",
      "ExtraTreeRegressor                   0.04  \n",
      "Lasso                                0.02  \n",
      "DecisionTreeRegressor                0.02  \n",
      "KernelRidge                          0.01  \n",
      "PassiveAggressiveRegressor           0.01  \n",
      "OrthogonalMatchingPursuit            0.01  \n",
      "OrthogonalMatchingPursuitCV          0.01  \n",
      "LassoCV                              0.04  \n",
      "LassoLarsCV                          0.02  \n",
      "Lars                                 0.01  \n",
      "LassoLars                            0.01  \n",
      "LarsCV                               0.02  \n"
     ]
    },
    {
     "name": "stderr",
     "output_type": "stream",
     "text": [
      "\n"
     ]
    }
   ],
   "source": [
    "models_sleep_duration = lazy_regressor(X_total_sleep, y_total_sleep, test_size = 0.2, random_state = 89, regressor = reg)\n",
    "\n",
    "print(models_sleep_duration)"
   ]
  },
  {
   "attachments": {},
   "cell_type": "markdown",
   "metadata": {},
   "source": [
    "### LazyRegressor for the factors influencing the total sleep duration given the questionnaire variables only"
   ]
  },
  {
   "cell_type": "code",
   "execution_count": 26,
   "metadata": {},
   "outputs": [],
   "source": [
    "X_total_sleep = df_quest[df_quest['Naturally'] == 1]"
   ]
  },
  {
   "cell_type": "code",
   "execution_count": 27,
   "metadata": {},
   "outputs": [
    {
     "name": "stdout",
     "output_type": "stream",
     "text": [
      "'tuple' object has no attribute '__name__'\n",
      "Invalid Regressor(s)\n"
     ]
    },
    {
     "name": "stderr",
     "output_type": "stream",
     "text": [
      " 75%|███████▌  | 30/40 [00:00<00:00, 60.35it/s]"
     ]
    },
    {
     "name": "stdout",
     "output_type": "stream",
     "text": [
      "LassoLarsIC model failed to execute\n",
      "You are using LassoLarsIC in the case where the number of samples is smaller than the number of features. In this setting, getting a good estimate for the variance of the noise is not possible. Provide an estimate of the noise variance in the constructor.\n",
      "RANSACRegressor model failed to execute\n",
      "`min_samples` may not be larger than number of samples: n_samples = 8.\n"
     ]
    },
    {
     "name": "stderr",
     "output_type": "stream",
     "text": [
      "100%|██████████| 40/40 [00:00<00:00, 60.41it/s]"
     ]
    },
    {
     "name": "stdout",
     "output_type": "stream",
     "text": [
      "                               Adjusted R-Squared  R-Squared     RMSE  \\\n",
      "Model                                                                   \n",
      "KernelRidge                                 21.05    -660.51 23533.72   \n",
      "GaussianProcessRegressor                    14.81    -454.87 19536.26   \n",
      "LinearSVR                                   14.80    -454.51 19528.45   \n",
      "MLPRegressor                                14.78    -453.64 19509.97   \n",
      "PassiveAggressiveRegressor                   5.83    -158.37 11551.30   \n",
      "Lars                                         5.26    -139.42 10842.81   \n",
      "HistGradientBoostingRegressor                3.12     -69.08  7659.85   \n",
      "DummyRegressor                               3.12     -69.08  7659.85   \n",
      "NuSVR                                        2.99     -64.52  7406.30   \n",
      "QuantileRegressor                            2.59     -51.43  6625.44   \n",
      "SVR                                          2.54     -49.92  6529.00   \n",
      "KNeighborsRegressor                          2.42     -45.94  6269.05   \n",
      "RandomForestRegressor                        2.19     -38.37  5741.03   \n",
      "BayesianRidge                                2.18     -38.10  5721.51   \n",
      "AdaBoostRegressor                            2.16     -37.26  5659.91   \n",
      "BaggingRegressor                             2.14     -36.77  5623.08   \n",
      "ExtraTreeRegressor                           2.13     -36.41  5596.51   \n",
      "ElasticNetCV                                 2.13     -36.17  5578.30   \n",
      "GradientBoostingRegressor                    2.05     -33.55  5378.37   \n",
      "LarsCV                                       2.02     -32.52  5297.56   \n",
      "RidgeCV                                      1.86     -27.25  4863.22   \n",
      "OrthogonalMatchingPursuitCV                  1.84     -26.58  4805.42   \n",
      "LassoLars                                    1.84     -26.56  4803.66   \n",
      "GammaRegressor                               1.81     -25.79  4735.73   \n",
      "TweedieRegressor                             1.80     -25.36  4697.46   \n",
      "ExtraTreesRegressor                          1.79     -25.06  4671.31   \n",
      "HuberRegressor                               1.73     -23.04  4486.73   \n",
      "LinearRegression                             1.73     -23.04  4486.73   \n",
      "TransformedTargetRegressor                   1.73     -23.04  4486.73   \n",
      "SGDRegressor                                 1.72     -22.84  4467.97   \n",
      "LassoLarsCV                                  1.72     -22.83  4466.35   \n",
      "OrthogonalMatchingPursuit                    1.72     -22.76  4460.46   \n",
      "ElasticNet                                   1.67     -21.26  4317.20   \n",
      "PoissonRegressor                             1.67     -21.12  4303.47   \n",
      "LassoCV                                      1.66     -20.66  4258.21   \n",
      "Ridge                                        1.64     -20.20  4213.11   \n",
      "Lasso                                        1.50     -15.48  3714.05   \n",
      "DecisionTreeRegressor                        1.44     -13.61  3496.83   \n",
      "\n",
      "                               Time Taken  \n",
      "Model                                      \n",
      "KernelRidge                          0.01  \n",
      "GaussianProcessRegressor             0.01  \n",
      "LinearSVR                            0.01  \n",
      "MLPRegressor                         0.07  \n",
      "PassiveAggressiveRegressor           0.01  \n",
      "Lars                                 0.01  \n",
      "HistGradientBoostingRegressor        0.08  \n",
      "DummyRegressor                       0.01  \n",
      "NuSVR                                0.01  \n",
      "QuantileRegressor                    0.01  \n",
      "SVR                                  0.01  \n",
      "KNeighborsRegressor                  0.01  \n",
      "RandomForestRegressor                0.08  \n",
      "BayesianRidge                        0.01  \n",
      "AdaBoostRegressor                    0.04  \n",
      "BaggingRegressor                     0.01  \n",
      "ExtraTreeRegressor                   0.01  \n",
      "ElasticNetCV                         0.02  \n",
      "GradientBoostingRegressor            0.02  \n",
      "LarsCV                               0.01  \n",
      "RidgeCV                              0.01  \n",
      "OrthogonalMatchingPursuitCV          0.01  \n",
      "LassoLars                            0.01  \n",
      "GammaRegressor                       0.01  \n",
      "TweedieRegressor                     0.01  \n",
      "ExtraTreesRegressor                  0.05  \n",
      "HuberRegressor                       0.03  \n",
      "LinearRegression                     0.01  \n",
      "TransformedTargetRegressor           0.01  \n",
      "SGDRegressor                         0.01  \n",
      "LassoLarsCV                          0.01  \n",
      "OrthogonalMatchingPursuit            0.01  \n",
      "ElasticNet                           0.01  \n",
      "PoissonRegressor                     0.01  \n",
      "LassoCV                              0.03  \n",
      "Ridge                                0.01  \n",
      "Lasso                                0.01  \n",
      "DecisionTreeRegressor                0.01  \n"
     ]
    },
    {
     "name": "stderr",
     "output_type": "stream",
     "text": [
      "\n"
     ]
    }
   ],
   "source": [
    "models_sleep_duration = lazy_regressor(X_total_sleep, y_total_sleep, test_size = 0.2, random_state = 89, regressor = reg)\n",
    "\n",
    "print(models_sleep_duration)"
   ]
  },
  {
   "attachments": {},
   "cell_type": "markdown",
   "metadata": {},
   "source": [
    "### LazyRegressor for the factors influencing the total sleep duration given the Oura variables only"
   ]
  },
  {
   "cell_type": "code",
   "execution_count": 28,
   "metadata": {},
   "outputs": [],
   "source": [
    "X_total_sleep = df[df['Naturally'] == 1]\n",
    "X_total_sleep = X_total_sleep.iloc[:, 0:49]\n",
    "X_total_sleep = X_total_sleep.drop(labels=['total_sleep_duration', 'deep_sleep_duration', 'light_sleep_duration', 'contributors.total_sleep', 'contributors.deep_sleep', 'contributors.rem_sleep', 'rem_sleep_duration', 'time_in_bed', 'bedtime_start_delta', 'bedtime_end_delta', 'bedtime_end_seconds', 'bed_time'], axis=1)"
   ]
  },
  {
   "cell_type": "code",
   "execution_count": 29,
   "metadata": {},
   "outputs": [
    {
     "name": "stdout",
     "output_type": "stream",
     "text": [
      "'tuple' object has no attribute '__name__'\n",
      "Invalid Regressor(s)\n"
     ]
    },
    {
     "name": "stderr",
     "output_type": "stream",
     "text": [
      " 68%|██████▊   | 27/40 [00:00<00:00, 47.33it/s]"
     ]
    },
    {
     "name": "stdout",
     "output_type": "stream",
     "text": [
      "LassoLarsIC model failed to execute\n",
      "You are using LassoLarsIC in the case where the number of samples is smaller than the number of features. In this setting, getting a good estimate for the variance of the noise is not possible. Provide an estimate of the noise variance in the constructor.\n",
      "RANSACRegressor model failed to execute\n",
      "`min_samples` may not be larger than number of samples: n_samples = 8.\n"
     ]
    },
    {
     "name": "stderr",
     "output_type": "stream",
     "text": [
      "100%|██████████| 40/40 [00:00<00:00, 41.13it/s]"
     ]
    },
    {
     "name": "stdout",
     "output_type": "stream",
     "text": [
      "                               Adjusted R-Squared  R-Squared     RMSE  \\\n",
      "Model                                                                   \n",
      "GaussianProcessRegressor                    13.66    -454.88 19536.44   \n",
      "LinearSVR                                   13.63    -453.76 19512.47   \n",
      "MLPRegressor                                13.55    -450.95 19452.07   \n",
      "DecisionTreeRegressor                        5.47    -160.08 11612.77   \n",
      "BaggingRegressor                             3.16     -76.82  8071.92   \n",
      "DummyRegressor                               2.95     -69.08  7659.85   \n",
      "HistGradientBoostingRegressor                2.95     -69.08  7659.85   \n",
      "NuSVR                                        2.82     -64.52  7406.67   \n",
      "GradientBoostingRegressor                    2.81     -64.02  7378.15   \n",
      "ExtraTreesRegressor                          2.71     -60.69  7186.68   \n",
      "RandomForestRegressor                        2.66     -58.68  7068.35   \n",
      "QuantileRegressor                            2.42     -50.03  6536.38   \n",
      "SVR                                          2.41     -49.92  6529.29   \n",
      "KNeighborsRegressor                          2.30     -45.94  6269.05   \n",
      "ElasticNetCV                                 1.98     -34.45  5447.76   \n",
      "AdaBoostRegressor                            1.91     -31.84  5243.78   \n",
      "HuberRegressor                               1.91     -31.66  5228.90   \n",
      "TransformedTargetRegressor                   1.91     -31.66  5228.90   \n",
      "LinearRegression                             1.91     -31.66  5228.90   \n",
      "BayesianRidge                                1.91     -31.66  5228.90   \n",
      "SGDRegressor                                 1.91     -31.65  5228.35   \n",
      "RidgeCV                                      1.91     -31.59  5223.79   \n",
      "Ridge                                        1.89     -31.14  5187.12   \n",
      "TweedieRegressor                             1.88     -30.71  5152.88   \n",
      "ElasticNet                                   1.87     -30.46  5131.84   \n",
      "GammaRegressor                               1.79     -27.61  4893.83   \n",
      "PoissonRegressor                             1.76     -26.52  4800.45   \n",
      "ExtraTreeRegressor                           1.57     -19.45  4138.10   \n",
      "Lasso                                        1.51     -17.45  3929.85   \n",
      "PassiveAggressiveRegressor                   1.43     -14.48  3600.08   \n",
      "KernelRidge                                  1.43     -14.41  3591.85   \n",
      "OrthogonalMatchingPursuit                    1.18      -5.36  2307.74   \n",
      "LassoCV                                      1.15      -4.47  2140.60   \n",
      "OrthogonalMatchingPursuitCV                  1.03       0.03   898.86   \n",
      "LassoLars                                    1.02       0.33   746.31   \n",
      "LassoLarsCV                                  1.01       0.63   553.22   \n",
      "LarsCV                                       1.01       0.63   553.22   \n",
      "Lars                                         1.00       0.89   307.09   \n",
      "\n",
      "                               Time Taken  \n",
      "Model                                      \n",
      "GaussianProcessRegressor             0.01  \n",
      "LinearSVR                            0.01  \n",
      "MLPRegressor                         0.07  \n",
      "DecisionTreeRegressor                0.01  \n",
      "BaggingRegressor                     0.02  \n",
      "DummyRegressor                       0.01  \n",
      "HistGradientBoostingRegressor        0.05  \n",
      "NuSVR                                0.01  \n",
      "GradientBoostingRegressor            0.02  \n",
      "ExtraTreesRegressor                  0.06  \n",
      "RandomForestRegressor                0.19  \n",
      "QuantileRegressor                    0.01  \n",
      "SVR                                  0.03  \n",
      "KNeighborsRegressor                  0.01  \n",
      "ElasticNetCV                         0.03  \n",
      "AdaBoostRegressor                    0.06  \n",
      "HuberRegressor                       0.03  \n",
      "TransformedTargetRegressor           0.02  \n",
      "LinearRegression                     0.01  \n",
      "BayesianRidge                        0.01  \n",
      "SGDRegressor                         0.01  \n",
      "RidgeCV                              0.01  \n",
      "Ridge                                0.03  \n",
      "TweedieRegressor                     0.02  \n",
      "ElasticNet                           0.01  \n",
      "GammaRegressor                       0.01  \n",
      "PoissonRegressor                     0.01  \n",
      "ExtraTreeRegressor                   0.01  \n",
      "Lasso                                0.01  \n",
      "PassiveAggressiveRegressor           0.01  \n",
      "KernelRidge                          0.01  \n",
      "OrthogonalMatchingPursuit            0.01  \n",
      "LassoCV                              0.04  \n",
      "OrthogonalMatchingPursuitCV          0.01  \n",
      "LassoLars                            0.01  \n",
      "LassoLarsCV                          0.02  \n",
      "LarsCV                               0.01  \n",
      "Lars                                 0.01  \n"
     ]
    },
    {
     "name": "stderr",
     "output_type": "stream",
     "text": [
      "\n"
     ]
    }
   ],
   "source": [
    "models_sleep_duration = lazy_regressor(X_total_sleep, y_total_sleep, test_size = 0.2, random_state = 89, regressor = reg)\n",
    "\n",
    "print(models_sleep_duration)"
   ]
  },
  {
   "attachments": {},
   "cell_type": "markdown",
   "metadata": {},
   "source": [
    "### LazyRegressor for the factors influencing the total awake time during the night given all variables"
   ]
  },
  {
   "cell_type": "code",
   "execution_count": 30,
   "metadata": {},
   "outputs": [],
   "source": [
    "# Separate the indenpendent variables from the dependent variables\n",
    "# For the total awake time, Oura also considers some time before falling asleep and some time after waking up. \n",
    "# Subtract what we can from that, which is the time before falling asleep\n",
    "y_awake_time = df['awake_time'] - df['latency']\n",
    "X_awake_time = df.drop(labels=['awake_time', 'time_in_bed', 'latency', 'total_sleep_duration'], axis=1)"
   ]
  },
  {
   "cell_type": "code",
   "execution_count": 31,
   "metadata": {},
   "outputs": [
    {
     "name": "stdout",
     "output_type": "stream",
     "text": [
      "'tuple' object has no attribute '__name__'\n",
      "Invalid Regressor(s)\n"
     ]
    },
    {
     "name": "stderr",
     "output_type": "stream",
     "text": [
      "100%|██████████| 40/40 [00:02<00:00, 18.41it/s]"
     ]
    },
    {
     "name": "stdout",
     "output_type": "stream",
     "text": [
      "                               Adjusted R-Squared  R-Squared      RMSE  \\\n",
      "Model                                                                    \n",
      "Lars                                     19455.89  -60411.55 202239.15   \n",
      "GaussianProcessRegressor                     3.73      -7.48   2396.70   \n",
      "MLPRegressor                                 3.58      -7.00   2326.79   \n",
      "LinearSVR                                    3.26      -6.03   2181.61   \n",
      "QuantileRegressor                            1.39      -0.23    911.21   \n",
      "SVR                                          1.39      -0.22    910.34   \n",
      "NuSVR                                        1.37      -0.15    881.45   \n",
      "DummyRegressor                               1.36      -0.10    863.92   \n",
      "KNeighborsRegressor                          1.30       0.06    796.90   \n",
      "PoissonRegressor                             1.27       0.16    755.26   \n",
      "GammaRegressor                               1.27       0.16    752.89   \n",
      "TransformedTargetRegressor                   1.26       0.20    734.31   \n",
      "LinearRegression                             1.26       0.20    734.31   \n",
      "RANSACRegressor                              1.26       0.20    734.31   \n",
      "TweedieRegressor                             1.23       0.30    689.30   \n",
      "ElasticNetCV                                 1.22       0.32    678.81   \n",
      "ElasticNet                                   1.21       0.33    672.29   \n",
      "BayesianRidge                                1.20       0.38    647.41   \n",
      "RidgeCV                                      1.20       0.39    645.23   \n",
      "KernelRidge                                  1.19       0.41    630.95   \n",
      "SGDRegressor                                 1.19       0.41    630.44   \n",
      "Ridge                                        1.19       0.42    626.10   \n",
      "DecisionTreeRegressor                        1.17       0.46    606.01   \n",
      "ExtraTreeRegressor                           1.15       0.54    555.20   \n",
      "PassiveAggressiveRegressor                   1.14       0.57    541.61   \n",
      "HuberRegressor                               1.13       0.61    512.66   \n",
      "OrthogonalMatchingPursuit                    1.12       0.64    492.36   \n",
      "Lasso                                        1.11       0.65    485.26   \n",
      "BaggingRegressor                             1.11       0.67    472.73   \n",
      "LassoLars                                    1.11       0.67    471.11   \n",
      "GradientBoostingRegressor                    1.10       0.68    468.01   \n",
      "AdaBoostRegressor                            1.10       0.70    450.98   \n",
      "HistGradientBoostingRegressor                1.09       0.71    446.57   \n",
      "RandomForestRegressor                        1.09       0.71    445.59   \n",
      "ExtraTreesRegressor                          1.09       0.73    428.21   \n",
      "LarsCV                                       1.09       0.73    426.91   \n",
      "LassoCV                                      1.09       0.73    426.76   \n",
      "LassoLarsIC                                  1.09       0.74    423.44   \n",
      "LassoLarsCV                                  1.08       0.76    405.98   \n",
      "OrthogonalMatchingPursuitCV                  1.05       0.84    329.79   \n",
      "\n",
      "                               Time Taken  \n",
      "Model                                      \n",
      "Lars                                 0.02  \n",
      "GaussianProcessRegressor             0.02  \n",
      "MLPRegressor                         0.17  \n",
      "LinearSVR                            0.01  \n",
      "QuantileRegressor                    0.10  \n",
      "SVR                                  0.02  \n",
      "NuSVR                                0.01  \n",
      "DummyRegressor                       0.01  \n",
      "KNeighborsRegressor                  0.01  \n",
      "PoissonRegressor                     0.02  \n",
      "GammaRegressor                       0.01  \n",
      "TransformedTargetRegressor           0.01  \n",
      "LinearRegression                     0.01  \n",
      "RANSACRegressor                      0.02  \n",
      "TweedieRegressor                     0.01  \n",
      "ElasticNetCV                         0.05  \n",
      "ElasticNet                           0.01  \n",
      "BayesianRidge                        0.02  \n",
      "RidgeCV                              0.01  \n",
      "KernelRidge                          0.01  \n",
      "SGDRegressor                         0.01  \n",
      "Ridge                                0.01  \n",
      "DecisionTreeRegressor                0.02  \n",
      "ExtraTreeRegressor                   0.01  \n",
      "PassiveAggressiveRegressor           0.01  \n",
      "HuberRegressor                       0.03  \n",
      "OrthogonalMatchingPursuit            0.01  \n",
      "Lasso                                0.02  \n",
      "BaggingRegressor                     0.03  \n",
      "LassoLars                            0.02  \n",
      "GradientBoostingRegressor            0.07  \n",
      "AdaBoostRegressor                    0.07  \n",
      "HistGradientBoostingRegressor        0.18  \n",
      "RandomForestRegressor                0.14  \n",
      "ExtraTreesRegressor                  0.12  \n",
      "LarsCV                               0.05  \n",
      "LassoCV                              0.69  \n",
      "LassoLarsIC                          0.02  \n",
      "LassoLarsCV                          0.05  \n",
      "OrthogonalMatchingPursuitCV          0.02  \n"
     ]
    },
    {
     "name": "stderr",
     "output_type": "stream",
     "text": [
      "\n"
     ]
    }
   ],
   "source": [
    "models_awake_time = lazy_regressor(X_awake_time, y_awake_time, test_size = 0.2, random_state = 56, regressor = reg)\n",
    "\n",
    "print(models_awake_time)"
   ]
  },
  {
   "attachments": {},
   "cell_type": "markdown",
   "metadata": {},
   "source": [
    "### LazyRegressor for the factors influencing the total awake time during the night given the questionnaire variables only"
   ]
  },
  {
   "cell_type": "code",
   "execution_count": 32,
   "metadata": {},
   "outputs": [],
   "source": [
    "X_awake_time = df_quest"
   ]
  },
  {
   "cell_type": "code",
   "execution_count": 33,
   "metadata": {},
   "outputs": [
    {
     "name": "stdout",
     "output_type": "stream",
     "text": [
      "'tuple' object has no attribute '__name__'\n",
      "Invalid Regressor(s)\n"
     ]
    },
    {
     "name": "stderr",
     "output_type": "stream",
     "text": [
      "100%|██████████| 40/40 [00:01<00:00, 28.57it/s]"
     ]
    },
    {
     "name": "stdout",
     "output_type": "stream",
     "text": [
      "                               Adjusted R-Squared  R-Squared    RMSE  \\\n",
      "Model                                                                  \n",
      "KernelRidge                                 13.14      -8.59 2547.45   \n",
      "MLPRegressor                                11.54      -7.32 2373.72   \n",
      "LinearSVR                                   11.11      -6.98 2324.97   \n",
      "GaussianProcessRegressor                     8.80      -5.15 2041.32   \n",
      "Lars                                         3.18      -0.72 1080.35   \n",
      "ExtraTreeRegressor                           3.14      -0.69 1070.23   \n",
      "TransformedTargetRegressor                   2.85      -0.46  995.56   \n",
      "LinearRegression                             2.85      -0.46  995.56   \n",
      "DecisionTreeRegressor                        2.85      -0.46  995.37   \n",
      "HuberRegressor                               2.81      -0.43  984.33   \n",
      "Lasso                                        2.80      -0.42  980.19   \n",
      "RANSACRegressor                              2.77      -0.40  972.73   \n",
      "PoissonRegressor                             2.71      -0.35  956.89   \n",
      "SGDRegressor                                 2.71      -0.35  956.40   \n",
      "Ridge                                        2.65      -0.30  938.62   \n",
      "QuantileRegressor                            2.55      -0.23  911.21   \n",
      "SVR                                          2.55      -0.22  910.12   \n",
      "GradientBoostingRegressor                    2.52      -0.20  900.01   \n",
      "NuSVR                                        2.46      -0.15  882.07   \n",
      "LassoLars                                    2.41      -0.11  868.08   \n",
      "PassiveAggressiveRegressor                   2.40      -0.11  865.80   \n",
      "DummyRegressor                               2.40      -0.10  863.92   \n",
      "KNeighborsRegressor                          2.34      -0.06  847.55   \n",
      "RidgeCV                                      2.29      -0.02  829.00   \n",
      "BaggingRegressor                             2.27      -0.01  825.16   \n",
      "RandomForestRegressor                        2.27      -0.00  823.16   \n",
      "GammaRegressor                               2.25       0.01  816.80   \n",
      "BayesianRidge                                2.24       0.02  812.66   \n",
      "ElasticNetCV                                 2.23       0.03  810.74   \n",
      "ElasticNet                                   2.23       0.03  809.46   \n",
      "TweedieRegressor                             2.22       0.03  808.35   \n",
      "ExtraTreesRegressor                          2.22       0.04  807.91   \n",
      "AdaBoostRegressor                            2.21       0.04  805.82   \n",
      "LassoLarsCV                                  2.19       0.06  796.11   \n",
      "LarsCV                                       2.19       0.06  796.11   \n",
      "LassoCV                                      2.17       0.07  792.10   \n",
      "LassoLarsIC                                  2.16       0.08  787.98   \n",
      "HistGradientBoostingRegressor                2.11       0.12  771.00   \n",
      "OrthogonalMatchingPursuitCV                  2.06       0.16  752.66   \n",
      "OrthogonalMatchingPursuit                    2.06       0.17  751.43   \n",
      "\n",
      "                               Time Taken  \n",
      "Model                                      \n",
      "KernelRidge                          0.01  \n",
      "MLPRegressor                         0.13  \n",
      "LinearSVR                            0.01  \n",
      "GaussianProcessRegressor             0.01  \n",
      "Lars                                 0.02  \n",
      "ExtraTreeRegressor                   0.01  \n",
      "TransformedTargetRegressor           0.01  \n",
      "LinearRegression                     0.01  \n",
      "DecisionTreeRegressor                0.01  \n",
      "HuberRegressor                       0.02  \n",
      "Lasso                                0.02  \n",
      "RANSACRegressor                      0.05  \n",
      "PoissonRegressor                     0.01  \n",
      "SGDRegressor                         0.01  \n",
      "Ridge                                0.01  \n",
      "QuantileRegressor                    0.16  \n",
      "SVR                                  0.01  \n",
      "GradientBoostingRegressor            0.02  \n",
      "NuSVR                                0.01  \n",
      "LassoLars                            0.01  \n",
      "PassiveAggressiveRegressor           0.01  \n",
      "DummyRegressor                       0.01  \n",
      "KNeighborsRegressor                  0.02  \n",
      "RidgeCV                              0.01  \n",
      "BaggingRegressor                     0.02  \n",
      "RandomForestRegressor                0.10  \n",
      "GammaRegressor                       0.01  \n",
      "BayesianRidge                        0.01  \n",
      "ElasticNetCV                         0.04  \n",
      "ElasticNet                           0.01  \n",
      "TweedieRegressor                     0.01  \n",
      "ExtraTreesRegressor                  0.08  \n",
      "AdaBoostRegressor                    0.05  \n",
      "LassoLarsCV                          0.02  \n",
      "LarsCV                               0.05  \n",
      "LassoCV                              0.08  \n",
      "LassoLarsIC                          0.01  \n",
      "HistGradientBoostingRegressor        0.33  \n",
      "OrthogonalMatchingPursuitCV          0.01  \n",
      "OrthogonalMatchingPursuit            0.01  \n"
     ]
    },
    {
     "name": "stderr",
     "output_type": "stream",
     "text": [
      "\n"
     ]
    }
   ],
   "source": [
    "models_awake_time = lazy_regressor(X_awake_time, y_awake_time, test_size = 0.2, random_state = 56, regressor = reg)\n",
    "\n",
    "print(models_awake_time)"
   ]
  },
  {
   "attachments": {},
   "cell_type": "markdown",
   "metadata": {},
   "source": [
    "### LazyRegressor for the factors influencing the total awake time during the night given the Oura variables only"
   ]
  },
  {
   "cell_type": "code",
   "execution_count": 34,
   "metadata": {},
   "outputs": [],
   "source": [
    "X_awake_time = df_oura.drop(labels=['awake_time', 'time_in_bed', 'latency', 'total_sleep_duration'], axis=1)"
   ]
  },
  {
   "cell_type": "code",
   "execution_count": 35,
   "metadata": {},
   "outputs": [
    {
     "name": "stdout",
     "output_type": "stream",
     "text": [
      "'tuple' object has no attribute '__name__'\n",
      "Invalid Regressor(s)\n"
     ]
    },
    {
     "name": "stderr",
     "output_type": "stream",
     "text": [
      "100%|██████████| 40/40 [00:01<00:00, 22.58it/s]"
     ]
    },
    {
     "name": "stdout",
     "output_type": "stream",
     "text": [
      "                               Adjusted R-Squared  R-Squared    RMSE  \\\n",
      "Model                                                                  \n",
      "Lars                                        55.97     -77.12 7272.34   \n",
      "GaussianProcessRegressor                     6.95      -7.46 2392.62   \n",
      "MLPRegressor                                 6.64      -7.01 2329.32   \n",
      "LinearSVR                                    5.95      -6.03 2181.61   \n",
      "QuantileRegressor                            1.86      -0.23  911.21   \n",
      "SVR                                          1.86      -0.22  910.24   \n",
      "KNeighborsRegressor                          1.83      -0.18  894.67   \n",
      "NuSVR                                        1.81      -0.15  881.05   \n",
      "DummyRegressor                               1.78      -0.10  863.92   \n",
      "ExtraTreeRegressor                           1.65       0.08  787.81   \n",
      "GammaRegressor                               1.54       0.24  719.26   \n",
      "TweedieRegressor                             1.44       0.37  654.30   \n",
      "ElasticNetCV                                 1.42       0.40  638.24   \n",
      "ElasticNet                                   1.41       0.42  627.74   \n",
      "PoissonRegressor                             1.40       0.43  618.96   \n",
      "BayesianRidge                                1.30       0.57  538.01   \n",
      "GradientBoostingRegressor                    1.28       0.60  520.30   \n",
      "BaggingRegressor                             1.27       0.61  513.91   \n",
      "SGDRegressor                                 1.25       0.64  494.06   \n",
      "KernelRidge                                  1.24       0.66  482.65   \n",
      "Ridge                                        1.24       0.66  478.89   \n",
      "DecisionTreeRegressor                        1.24       0.66  477.13   \n",
      "PassiveAggressiveRegressor                   1.24       0.67  476.18   \n",
      "LassoLars                                    1.23       0.68  468.73   \n",
      "HistGradientBoostingRegressor                1.23       0.68  468.17   \n",
      "AdaBoostRegressor                            1.23       0.68  468.11   \n",
      "OrthogonalMatchingPursuit                    1.21       0.70  451.30   \n",
      "RandomForestRegressor                        1.21       0.70  451.13   \n",
      "ExtraTreesRegressor                          1.21       0.71  444.36   \n",
      "LassoLarsCV                                  1.21       0.71  444.11   \n",
      "LassoLarsIC                                  1.20       0.71  441.84   \n",
      "LarsCV                                       1.19       0.74  421.94   \n",
      "RidgeCV                                      1.18       0.74  421.15   \n",
      "LassoCV                                      1.17       0.76  405.45   \n",
      "Lasso                                        1.16       0.77  394.23   \n",
      "LinearRegression                             1.15       0.79  380.01   \n",
      "TransformedTargetRegressor                   1.15       0.79  380.01   \n",
      "OrthogonalMatchingPursuitCV                  1.11       0.84  329.79   \n",
      "RANSACRegressor                              1.11       0.84  326.37   \n",
      "HuberRegressor                               1.09       0.88  286.61   \n",
      "\n",
      "                               Time Taken  \n",
      "Model                                      \n",
      "Lars                                 0.02  \n",
      "GaussianProcessRegressor             0.01  \n",
      "MLPRegressor                         0.19  \n",
      "LinearSVR                            0.01  \n",
      "QuantileRegressor                    0.08  \n",
      "SVR                                  0.01  \n",
      "KNeighborsRegressor                  0.01  \n",
      "NuSVR                                0.01  \n",
      "DummyRegressor                       0.01  \n",
      "ExtraTreeRegressor                   0.01  \n",
      "GammaRegressor                       0.01  \n",
      "TweedieRegressor                     0.01  \n",
      "ElasticNetCV                         0.05  \n",
      "ElasticNet                           0.01  \n",
      "PoissonRegressor                     0.02  \n",
      "BayesianRidge                        0.02  \n",
      "GradientBoostingRegressor            0.06  \n",
      "BaggingRegressor                     0.03  \n",
      "SGDRegressor                         0.01  \n",
      "KernelRidge                          0.02  \n",
      "Ridge                                0.01  \n",
      "DecisionTreeRegressor                0.02  \n",
      "PassiveAggressiveRegressor           0.01  \n",
      "LassoLars                            0.02  \n",
      "HistGradientBoostingRegressor        0.22  \n",
      "AdaBoostRegressor                    0.08  \n",
      "OrthogonalMatchingPursuit            0.01  \n",
      "RandomForestRegressor                0.13  \n",
      "ExtraTreesRegressor                  0.10  \n",
      "LassoLarsCV                          0.04  \n",
      "LassoLarsIC                          0.02  \n",
      "LarsCV                               0.06  \n",
      "RidgeCV                              0.01  \n",
      "LassoCV                              0.30  \n",
      "Lasso                                0.02  \n",
      "LinearRegression                     0.02  \n",
      "TransformedTargetRegressor           0.01  \n",
      "OrthogonalMatchingPursuitCV          0.01  \n",
      "RANSACRegressor                      0.02  \n",
      "HuberRegressor                       0.02  \n"
     ]
    },
    {
     "name": "stderr",
     "output_type": "stream",
     "text": [
      "\n"
     ]
    }
   ],
   "source": [
    "models_awake_time = lazy_regressor(X_awake_time, y_awake_time, test_size = 0.2, random_state = 56, regressor = reg)\n",
    "\n",
    "print(models_awake_time)"
   ]
  }
 ],
 "metadata": {
  "kernelspec": {
   "display_name": "Python 3.7.10 ('tensorflow_env')",
   "language": "python",
   "name": "python3"
  },
  "language_info": {
   "codemirror_mode": {
    "name": "ipython",
    "version": 3
   },
   "file_extension": ".py",
   "mimetype": "text/x-python",
   "name": "python",
   "nbconvert_exporter": "python",
   "pygments_lexer": "ipython3",
   "version": "3.7.10"
  },
  "orig_nbformat": 4,
  "vscode": {
   "interpreter": {
    "hash": "f440ca07c10c374a105f3d67f9c2c345d20e5b276c036b89a1e623f864f80620"
   }
  }
 },
 "nbformat": 4,
 "nbformat_minor": 2
}
