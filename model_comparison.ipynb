{
 "cells": [
  {
   "cell_type": "markdown",
   "metadata": {},
   "source": [
    "## Imports"
   ]
  },
  {
   "cell_type": "code",
   "execution_count": 1,
   "metadata": {},
   "outputs": [],
   "source": [
    "import pandas as pd\n",
    "import numpy as np\n",
    "from sklearn.model_selection import train_test_split\n",
    "from lazypredict.Supervised import LazyRegressor\n",
    "from sklearn.preprocessing import LabelEncoder\n",
    "from sklearn.utils import all_estimators\n",
    "from sklearn.base import RegressorMixin"
   ]
  },
  {
   "attachments": {},
   "cell_type": "markdown",
   "metadata": {},
   "source": [
    "## Define the files to be loaded"
   ]
  },
  {
   "cell_type": "code",
   "execution_count": 2,
   "metadata": {},
   "outputs": [],
   "source": [
    "# Participant number whose data should be loaded\n",
    "participant_number = 2\n",
    "\n",
    "# The version of the questionnaires to load\n",
    "quest_version = 2"
   ]
  },
  {
   "cell_type": "markdown",
   "metadata": {},
   "source": [
    "## Loading the pre-processed data"
   ]
  },
  {
   "cell_type": "code",
   "execution_count": 3,
   "metadata": {},
   "outputs": [],
   "source": [
    "df = pd.read_csv('data/preprocessed/preprocessed_data_' + str(participant_number) + '_v' + str(quest_version) + '.csv')\n",
    "df = df.drop(labels=['actual_day', 'actual_day.1'], axis=1)\n",
    "\n",
    "df_oura = pd.read_csv('data/preprocessed/preprocessed_sleep_' + str(participant_number) + '_v' + str(quest_version) + '.csv')\n",
    "df_oura = df_oura.drop(labels=['actual_day'], axis=1)\n",
    "\n",
    "df_quest = pd.read_csv('data/preprocessed/preprocessed_questionnaires_' + str(participant_number) + '_v' + str(quest_version) + '.csv')\n",
    "df_quest = df_quest.drop(labels=['actual_day'], axis=1)"
   ]
  },
  {
   "cell_type": "code",
   "execution_count": 4,
   "metadata": {},
   "outputs": [],
   "source": [
    "# Remove these to try and fix the issues raised by LazyRegressor for them \n",
    "# example: \n",
    "# AdaBoostRegressor model failed to execute\n",
    "# Found unknown categories ['[0.0, 51.0, 53.0, 53.0, 54.0, 53.0, ...\n",
    "df = df.drop(labels=['hrv.items', 'heart_rate.items', 'sleep_phase_5_min', 'movement_30_sec'], axis=1)\n",
    "df_oura = df_oura.drop(labels=['hrv.items', 'heart_rate.items', 'sleep_phase_5_min', 'movement_30_sec'], axis=1)"
   ]
  },
  {
   "cell_type": "code",
   "execution_count": 5,
   "metadata": {},
   "outputs": [
    {
     "name": "stdout",
     "output_type": "stream",
     "text": [
      "['0', 'average_breath', 'average_breath_variation', 'average_heart_rate', 'average_hrv', 'awake_time', 'bedtime_end_delta', 'bedtime_end_seconds', 'bedtime_start_delta', 'bedtime_start_seconds', 'contributors.deep_sleep', 'contributors.efficiency', 'contributors.latency', 'contributors.rem_sleep', 'contributors.restfulness', 'contributors.timing', 'contributors.total_sleep', 'deep_sleep_duration', 'efficiency', 'got_ups', 'latency', 'light_sleep_duration', 'lowest_heart_rate', 'lowest_heart_rate_time_offset', 'period', 'readiness.contributors.activity_balance', 'readiness.contributors.body_temperature', 'readiness.contributors.hrv_balance', 'readiness.contributors.previous_day_activity', 'readiness.contributors.previous_night', 'readiness.contributors.recovery_index', 'readiness.contributors.resting_heart_rate', 'readiness.contributors.sleep_balance', 'readiness.score', 'readiness.temperature_deviation', 'readiness.temperature_trend_deviation', 'rem_sleep_duration', 'restless', 'restless_periods', 'score', 'segment_state', 'sleep_midpoint', 'time_in_bed', 'timezone', 'total_sleep_duration', 'type', 'wake_ups', 'prev_oura_score', 'bed_time', 'Comfort', 'I stayed in bed trying to sleep', 'I walked a bit', 'I went to the toilet', 'Naturally', 'Nothing', 'Temperature', 'With an alarm', 'blue_light', 'prevent_early_sleep', 'recall_awake', 'special_circumstances_wakeup', 'subjective_sleep_score', 'prev_subjective_score', 'Mentally active', 'Physically active', 'Relaxed', 'Socially active', 'Stressful', 'alcohol_amount', 'alcohol_time', 'coffee_amount', 'coffee_time', 'eat_bedtime', 'intervention', 'medication', 'medication_dosage', 'medication_time', 'special_circumstances', 'stress_levels', 'stress_relief_time', 'workout_intensity', 'workout_time']\n"
     ]
    }
   ],
   "source": [
    "print(df.columns.tolist())"
   ]
  },
  {
   "attachments": {},
   "cell_type": "markdown",
   "metadata": {},
   "source": [
    "## Prepare regressor list for lazypredict"
   ]
  },
  {
   "cell_type": "code",
   "execution_count": 6,
   "metadata": {},
   "outputs": [],
   "source": [
    "removed_regressors = [\n",
    "    \"TheilSenRegressor\",\n",
    "    \"ARDRegression\", \n",
    "    \"CCA\", \n",
    "    \"IsotonicRegression\", \n",
    "    \"StackingRegressor\",\n",
    "    \"MultiOutputRegressor\", \n",
    "    \"MultiTaskElasticNet\", \n",
    "    \"MultiTaskElasticNetCV\", \n",
    "    \"MultiTaskLasso\", \n",
    "    \"MultiTaskLassoCV\", \n",
    "    \"PLSCanonical\", \n",
    "    \"PLSRegression\", \n",
    "    \"RadiusNeighborsRegressor\", \n",
    "    \"RegressorChain\", \n",
    "    \"VotingRegressor\", \n",
    "]"
   ]
  },
  {
   "cell_type": "code",
   "execution_count": 7,
   "metadata": {},
   "outputs": [],
   "source": [
    "REGRESSORS = [\n",
    "    est\n",
    "    for est in all_estimators()\n",
    "    if (issubclass(est[1], RegressorMixin) and (est[0] not in removed_regressors))\n",
    "]"
   ]
  },
  {
   "attachments": {},
   "cell_type": "markdown",
   "metadata": {},
   "source": [
    "## Run LazyRegressor on datasets"
   ]
  },
  {
   "cell_type": "code",
   "execution_count": 8,
   "metadata": {},
   "outputs": [],
   "source": [
    "def lazy_regressor(X, y, test_size, random_state, regressor):\n",
    "    # Create the test and train sets for the given prediction\n",
    "    X_train, X_test, y_train, y_test = train_test_split(X, y, test_size = test_size, random_state = random_state)\n",
    "    \n",
    "    models, predictions = regressor.fit(X_train, X_test, y_train, y_test)\n",
    "    return models"
   ]
  },
  {
   "cell_type": "code",
   "execution_count": 9,
   "metadata": {},
   "outputs": [],
   "source": [
    "# Apply the LazyRegressor on the data\n",
    "reg = LazyRegressor(verbose=0, ignore_warnings=False, custom_metric=None, regressors = REGRESSORS)"
   ]
  },
  {
   "attachments": {},
   "cell_type": "markdown",
   "metadata": {},
   "source": [
    "### LazyRegressor for the factors influencing the sleep scores given all the variables"
   ]
  },
  {
   "cell_type": "code",
   "execution_count": 10,
   "metadata": {},
   "outputs": [],
   "source": [
    "# Separate the indenpendent variables from the dependent variables\n",
    "y_oura = df['score']\n",
    "y_sub = df['subjective_sleep_score']\n",
    "X = df.drop(labels=['score', 'subjective_sleep_score'], axis=1)"
   ]
  },
  {
   "attachments": {},
   "cell_type": "markdown",
   "metadata": {},
   "source": [
    "#### Oura sleep scores"
   ]
  },
  {
   "cell_type": "code",
   "execution_count": 11,
   "metadata": {},
   "outputs": [
    {
     "name": "stdout",
     "output_type": "stream",
     "text": [
      "'tuple' object has no attribute '__name__'\n",
      "Invalid Regressor(s)\n"
     ]
    },
    {
     "name": "stderr",
     "output_type": "stream",
     "text": [
      " 65%|██████▌   | 26/40 [00:01<00:00, 22.23it/s]"
     ]
    },
    {
     "name": "stdout",
     "output_type": "stream",
     "text": [
      "LassoLarsIC model failed to execute\n",
      "You are using LassoLarsIC in the case where the number of samples is smaller than the number of features. In this setting, getting a good estimate for the variance of the noise is not possible. Provide an estimate of the noise variance in the constructor.\n"
     ]
    },
    {
     "name": "stderr",
     "output_type": "stream",
     "text": [
      " 90%|█████████ | 36/40 [00:01<00:00, 26.96it/s]"
     ]
    },
    {
     "name": "stdout",
     "output_type": "stream",
     "text": [
      "RANSACRegressor model failed to execute\n",
      "`min_samples` may not be larger than number of samples: n_samples = 77.\n"
     ]
    },
    {
     "name": "stderr",
     "output_type": "stream",
     "text": [
      "100%|██████████| 40/40 [00:01<00:00, 25.90it/s]"
     ]
    },
    {
     "name": "stdout",
     "output_type": "stream",
     "text": [
      "                               Adjusted R-Squared  R-Squared   RMSE  \\\n",
      "Model                                                                 \n",
      "Lars                                     85507.19 -274518.87 345.37   \n",
      "GaussianProcessRegressor                    48.93    -152.87   8.18   \n",
      "MLPRegressor                                 3.06      -5.62   1.70   \n",
      "QuantileRegressor                            1.36      -0.14   0.70   \n",
      "DummyRegressor                               1.32      -0.02   0.67   \n",
      "LassoLars                                    1.32      -0.02   0.67   \n",
      "Lasso                                        1.32      -0.02   0.67   \n",
      "ElasticNet                                   1.18       0.43   0.50   \n",
      "KNeighborsRegressor                          1.11       0.65   0.39   \n",
      "PassiveAggressiveRegressor                   1.09       0.70   0.36   \n",
      "SVR                                          1.05       0.85   0.26   \n",
      "SGDRegressor                                 1.05       0.85   0.26   \n",
      "NuSVR                                        1.04       0.86   0.25   \n",
      "DecisionTreeRegressor                        1.04       0.88   0.23   \n",
      "ExtraTreeRegressor                           1.03       0.89   0.22   \n",
      "GammaRegressor                               1.03       0.90   0.21   \n",
      "TweedieRegressor                             1.03       0.90   0.21   \n",
      "LassoLarsCV                                  1.02       0.92   0.19   \n",
      "TransformedTargetRegressor                   1.02       0.92   0.19   \n",
      "LinearRegression                             1.02       0.92   0.19   \n",
      "HistGradientBoostingRegressor                1.02       0.93   0.18   \n",
      "Ridge                                        1.02       0.94   0.16   \n",
      "KernelRidge                                  1.02       0.94   0.16   \n",
      "RidgeCV                                      1.02       0.94   0.16   \n",
      "PoissonRegressor                             1.02       0.95   0.15   \n",
      "BayesianRidge                                1.02       0.95   0.15   \n",
      "HuberRegressor                               1.01       0.95   0.14   \n",
      "AdaBoostRegressor                            1.01       0.96   0.13   \n",
      "LinearSVR                                    1.01       0.96   0.13   \n",
      "BaggingRegressor                             1.01       0.96   0.12   \n",
      "GradientBoostingRegressor                    1.01       0.97   0.12   \n",
      "ElasticNetCV                                 1.01       0.97   0.12   \n",
      "ExtraTreesRegressor                          1.01       0.97   0.12   \n",
      "LarsCV                                       1.01       0.97   0.11   \n",
      "RandomForestRegressor                        1.01       0.97   0.11   \n",
      "LassoCV                                      1.01       0.98   0.10   \n",
      "OrthogonalMatchingPursuit                    1.01       0.98   0.09   \n",
      "OrthogonalMatchingPursuitCV                  1.01       0.98   0.09   \n",
      "\n",
      "                               Time Taken  \n",
      "Model                                      \n",
      "Lars                                 0.02  \n",
      "GaussianProcessRegressor             0.02  \n",
      "MLPRegressor                         0.11  \n",
      "QuantileRegressor                    0.06  \n",
      "DummyRegressor                       0.01  \n",
      "LassoLars                            0.01  \n",
      "Lasso                                0.01  \n",
      "ElasticNet                           0.01  \n",
      "KNeighborsRegressor                  0.01  \n",
      "PassiveAggressiveRegressor           0.01  \n",
      "SVR                                  0.01  \n",
      "SGDRegressor                         0.01  \n",
      "NuSVR                                0.01  \n",
      "DecisionTreeRegressor                0.01  \n",
      "ExtraTreeRegressor                   0.01  \n",
      "GammaRegressor                       0.01  \n",
      "TweedieRegressor                     0.01  \n",
      "LassoLarsCV                          0.04  \n",
      "TransformedTargetRegressor           0.01  \n",
      "LinearRegression                     0.01  \n",
      "HistGradientBoostingRegressor        0.17  \n",
      "Ridge                                0.01  \n",
      "KernelRidge                          0.01  \n",
      "RidgeCV                              0.02  \n",
      "PoissonRegressor                     0.01  \n",
      "BayesianRidge                        0.03  \n",
      "HuberRegressor                       0.03  \n",
      "AdaBoostRegressor                    0.07  \n",
      "LinearSVR                            0.02  \n",
      "BaggingRegressor                     0.02  \n",
      "GradientBoostingRegressor            0.07  \n",
      "ElasticNetCV                         0.15  \n",
      "ExtraTreesRegressor                  0.10  \n",
      "LarsCV                               0.05  \n",
      "RandomForestRegressor                0.13  \n",
      "LassoCV                              0.16  \n",
      "OrthogonalMatchingPursuit            0.01  \n",
      "OrthogonalMatchingPursuitCV          0.01  \n"
     ]
    },
    {
     "name": "stderr",
     "output_type": "stream",
     "text": [
      "\n"
     ]
    }
   ],
   "source": [
    "models_oura = lazy_regressor(X, y_oura, test_size = 0.2, random_state = 2, regressor = reg)\n",
    "\n",
    "print(models_oura)"
   ]
  },
  {
   "attachments": {},
   "cell_type": "markdown",
   "metadata": {},
   "source": [
    "#### Subjective sleep scores"
   ]
  },
  {
   "cell_type": "code",
   "execution_count": 12,
   "metadata": {},
   "outputs": [
    {
     "name": "stdout",
     "output_type": "stream",
     "text": [
      "'tuple' object has no attribute '__name__'\n",
      "Invalid Regressor(s)\n"
     ]
    },
    {
     "name": "stderr",
     "output_type": "stream",
     "text": [
      " 65%|██████▌   | 26/40 [00:02<00:01,  9.46it/s]"
     ]
    },
    {
     "name": "stdout",
     "output_type": "stream",
     "text": [
      "LassoLarsIC model failed to execute\n",
      "You are using LassoLarsIC in the case where the number of samples is smaller than the number of features. In this setting, getting a good estimate for the variance of the noise is not possible. Provide an estimate of the noise variance in the constructor.\n"
     ]
    },
    {
     "name": "stderr",
     "output_type": "stream",
     "text": [
      " 88%|████████▊ | 35/40 [00:02<00:00, 15.09it/s]"
     ]
    },
    {
     "name": "stdout",
     "output_type": "stream",
     "text": [
      "RANSACRegressor model failed to execute\n",
      "`min_samples` may not be larger than number of samples: n_samples = 77.\n"
     ]
    },
    {
     "name": "stderr",
     "output_type": "stream",
     "text": [
      "100%|██████████| 40/40 [00:03<00:00, 13.09it/s]"
     ]
    },
    {
     "name": "stdout",
     "output_type": "stream",
     "text": [
      "                               Adjusted R-Squared   R-Squared    RMSE  \\\n",
      "Model                                                                   \n",
      "Lars                                    883401.51 -2836179.60 1290.84   \n",
      "LarsCV                                  882807.87 -2834273.70 1290.40   \n",
      "GaussianProcessRegressor                    29.18      -89.47    7.29   \n",
      "MLPRegressor                                 4.25       -9.42    2.47   \n",
      "HuberRegressor                               2.89       -5.06    1.89   \n",
      "LinearSVR                                    2.66       -4.34    1.77   \n",
      "LinearRegression                             2.49       -3.80    1.68   \n",
      "TransformedTargetRegressor                   2.49       -3.80    1.68   \n",
      "PassiveAggressiveRegressor                   2.40       -3.48    1.62   \n",
      "Ridge                                        2.09       -2.50    1.43   \n",
      "KernelRidge                                  2.09       -2.49    1.43   \n",
      "ExtraTreeRegressor                           2.01       -2.23    1.38   \n",
      "DecisionTreeRegressor                        1.85       -1.72    1.26   \n",
      "OrthogonalMatchingPursuit                    1.60       -0.94    1.07   \n",
      "SGDRegressor                                 1.57       -0.83    1.04   \n",
      "OrthogonalMatchingPursuitCV                  1.52       -0.68    0.99   \n",
      "RidgeCV                                      1.52       -0.66    0.99   \n",
      "PoissonRegressor                             1.47       -0.52    0.94   \n",
      "GradientBoostingRegressor                    1.41       -0.32    0.88   \n",
      "KNeighborsRegressor                          1.41       -0.32    0.88   \n",
      "HistGradientBoostingRegressor                1.40       -0.30    0.87   \n",
      "QuantileRegressor                            1.34       -0.11    0.81   \n",
      "BaggingRegressor                             1.34       -0.09    0.80   \n",
      "AdaBoostRegressor                            1.33       -0.06    0.79   \n",
      "SVR                                          1.32       -0.03    0.78   \n",
      "LassoLars                                    1.31       -0.01    0.77   \n",
      "Lasso                                        1.31       -0.01    0.77   \n",
      "DummyRegressor                               1.31       -0.01    0.77   \n",
      "ExtraTreesRegressor                          1.31       -0.00    0.77   \n",
      "NuSVR                                        1.31       -0.00    0.77   \n",
      "RandomForestRegressor                        1.29        0.06    0.74   \n",
      "ElasticNet                                   1.27        0.13    0.72   \n",
      "TweedieRegressor                             1.26        0.15    0.71   \n",
      "GammaRegressor                               1.26        0.16    0.70   \n",
      "BayesianRidge                                1.25        0.19    0.69   \n",
      "ElasticNetCV                                 1.24        0.23    0.67   \n",
      "LassoCV                                      1.24        0.23    0.67   \n",
      "LassoLarsCV                                  1.24        0.24    0.67   \n",
      "\n",
      "                               Time Taken  \n",
      "Model                                      \n",
      "Lars                                 0.02  \n",
      "LarsCV                               0.09  \n",
      "GaussianProcessRegressor             0.01  \n",
      "MLPRegressor                         0.11  \n",
      "HuberRegressor                       0.03  \n",
      "LinearSVR                            0.02  \n",
      "LinearRegression                     0.01  \n",
      "TransformedTargetRegressor           0.01  \n",
      "PassiveAggressiveRegressor           0.01  \n",
      "Ridge                                0.02  \n",
      "KernelRidge                          0.01  \n",
      "ExtraTreeRegressor                   0.01  \n",
      "DecisionTreeRegressor                0.01  \n",
      "OrthogonalMatchingPursuit            0.01  \n",
      "SGDRegressor                         0.01  \n",
      "OrthogonalMatchingPursuitCV          0.01  \n",
      "RidgeCV                              0.01  \n",
      "PoissonRegressor                     0.01  \n",
      "GradientBoostingRegressor            0.06  \n",
      "KNeighborsRegressor                  0.01  \n",
      "HistGradientBoostingRegressor        0.16  \n",
      "QuantileRegressor                    0.05  \n",
      "BaggingRegressor                     0.02  \n",
      "AdaBoostRegressor                    0.07  \n",
      "SVR                                  0.01  \n",
      "LassoLars                            0.01  \n",
      "Lasso                                0.01  \n",
      "DummyRegressor                       0.01  \n",
      "ExtraTreesRegressor                  0.09  \n",
      "NuSVR                                0.01  \n",
      "RandomForestRegressor                0.13  \n",
      "ElasticNet                           0.01  \n",
      "TweedieRegressor                     0.01  \n",
      "GammaRegressor                       0.01  \n",
      "BayesianRidge                        0.01  \n",
      "ElasticNetCV                         0.77  \n",
      "LassoCV                              1.09  \n",
      "LassoLarsCV                          0.05  \n"
     ]
    },
    {
     "name": "stderr",
     "output_type": "stream",
     "text": [
      "\n"
     ]
    }
   ],
   "source": [
    "models_sub = lazy_regressor(X, y_sub, test_size = 0.2, random_state = 6, regressor = reg)\n",
    "\n",
    "print(models_sub)"
   ]
  },
  {
   "attachments": {},
   "cell_type": "markdown",
   "metadata": {},
   "source": [
    "### LazyRegressor for the factors influencing the sleep scores given the questionnaire variables only"
   ]
  },
  {
   "cell_type": "code",
   "execution_count": 13,
   "metadata": {},
   "outputs": [],
   "source": [
    "# Separate the indenpendent variables from the dependent variables\n",
    "X_quest = df_quest.drop(labels=['subjective_sleep_score'], axis=1)"
   ]
  },
  {
   "attachments": {},
   "cell_type": "markdown",
   "metadata": {},
   "source": [
    "#### Oura sleep score"
   ]
  },
  {
   "cell_type": "code",
   "execution_count": 14,
   "metadata": {},
   "outputs": [
    {
     "name": "stdout",
     "output_type": "stream",
     "text": [
      "'tuple' object has no attribute '__name__'\n",
      "Invalid Regressor(s)\n"
     ]
    },
    {
     "name": "stderr",
     "output_type": "stream",
     "text": [
      "100%|██████████| 40/40 [00:00<00:00, 41.58it/s]"
     ]
    },
    {
     "name": "stdout",
     "output_type": "stream",
     "text": [
      "                                        Adjusted R-Squared  \\\n",
      "Model                                                        \n",
      "RANSACRegressor               5550509686441437569220608.00   \n",
      "TransformedTargetRegressor    3945868123691236162797568.00   \n",
      "LinearRegression              3945868123691236162797568.00   \n",
      "KernelRidge                                         217.72   \n",
      "GaussianProcessRegressor                            133.94   \n",
      "MLPRegressor                                          6.54   \n",
      "ExtraTreeRegressor                                    4.21   \n",
      "ExtraTreesRegressor                                   3.52   \n",
      "LinearSVR                                             3.17   \n",
      "DecisionTreeRegressor                                 3.04   \n",
      "PassiveAggressiveRegressor                            2.68   \n",
      "QuantileRegressor                                     2.55   \n",
      "OrthogonalMatchingPursuitCV                           2.41   \n",
      "OrthogonalMatchingPursuit                             2.41   \n",
      "Lasso                                                 2.38   \n",
      "LassoLars                                             2.38   \n",
      "DummyRegressor                                        2.38   \n",
      "ElasticNet                                            2.38   \n",
      "Ridge                                                 2.21   \n",
      "HuberRegressor                                        2.18   \n",
      "SGDRegressor                                          2.13   \n",
      "Lars                                                  2.07   \n",
      "RidgeCV                                               2.07   \n",
      "PoissonRegressor                                      2.05   \n",
      "BaggingRegressor                                      1.99   \n",
      "LassoCV                                               1.96   \n",
      "LassoLarsIC                                           1.95   \n",
      "BayesianRidge                                         1.94   \n",
      "ElasticNetCV                                          1.93   \n",
      "GradientBoostingRegressor                             1.92   \n",
      "HistGradientBoostingRegressor                         1.92   \n",
      "LassoLarsCV                                           1.89   \n",
      "LarsCV                                                1.89   \n",
      "TweedieRegressor                                      1.87   \n",
      "GammaRegressor                                        1.86   \n",
      "KNeighborsRegressor                                   1.85   \n",
      "RandomForestRegressor                                 1.81   \n",
      "AdaBoostRegressor                                     1.73   \n",
      "SVR                                                   1.73   \n",
      "NuSVR                                                 1.72   \n",
      "\n",
      "                                                  R-Squared             RMSE  \\\n",
      "Model                                                                          \n",
      "RANSACRegressor               -4089849242641059035480064.00 1333056448890.12   \n",
      "TransformedTargetRegressor    -2907481775351436861767680.00 1123966561508.93   \n",
      "LinearRegression              -2907481775351436861767680.00 1123966561508.93   \n",
      "KernelRidge                                         -158.69             8.33   \n",
      "GaussianProcessRegressor                             -96.95             6.52   \n",
      "MLPRegressor                                          -3.08             1.33   \n",
      "ExtraTreeRegressor                                    -1.36             1.01   \n",
      "ExtraTreesRegressor                                   -0.86             0.90   \n",
      "LinearSVR                                             -0.60             0.83   \n",
      "DecisionTreeRegressor                                 -0.50             0.81   \n",
      "PassiveAggressiveRegressor                            -0.24             0.73   \n",
      "QuantileRegressor                                     -0.14             0.70   \n",
      "OrthogonalMatchingPursuitCV                           -0.04             0.67   \n",
      "OrthogonalMatchingPursuit                             -0.04             0.67   \n",
      "Lasso                                                 -0.02             0.67   \n",
      "LassoLars                                             -0.02             0.67   \n",
      "DummyRegressor                                        -0.02             0.67   \n",
      "ElasticNet                                            -0.02             0.67   \n",
      "Ridge                                                  0.11             0.62   \n",
      "HuberRegressor                                         0.13             0.61   \n",
      "SGDRegressor                                           0.17             0.60   \n",
      "Lars                                                   0.21             0.59   \n",
      "RidgeCV                                                0.21             0.58   \n",
      "PoissonRegressor                                       0.23             0.58   \n",
      "BaggingRegressor                                       0.27             0.56   \n",
      "LassoCV                                                0.30             0.55   \n",
      "LassoLarsIC                                            0.30             0.55   \n",
      "BayesianRidge                                          0.31             0.55   \n",
      "ElasticNetCV                                           0.31             0.55   \n",
      "GradientBoostingRegressor                              0.32             0.54   \n",
      "HistGradientBoostingRegressor                          0.32             0.54   \n",
      "LassoLarsCV                                            0.34             0.53   \n",
      "LarsCV                                                 0.34             0.53   \n",
      "TweedieRegressor                                       0.36             0.53   \n",
      "GammaRegressor                                         0.37             0.52   \n",
      "KNeighborsRegressor                                    0.37             0.52   \n",
      "RandomForestRegressor                                  0.40             0.51   \n",
      "AdaBoostRegressor                                      0.46             0.48   \n",
      "SVR                                                    0.46             0.48   \n",
      "NuSVR                                                  0.47             0.48   \n",
      "\n",
      "                               Time Taken  \n",
      "Model                                      \n",
      "RANSACRegressor                      0.04  \n",
      "TransformedTargetRegressor           0.01  \n",
      "LinearRegression                     0.01  \n",
      "KernelRidge                          0.01  \n",
      "GaussianProcessRegressor             0.01  \n",
      "MLPRegressor                         0.10  \n",
      "ExtraTreeRegressor                   0.01  \n",
      "ExtraTreesRegressor                  0.07  \n",
      "LinearSVR                            0.01  \n",
      "DecisionTreeRegressor                0.01  \n",
      "PassiveAggressiveRegressor           0.01  \n",
      "QuantileRegressor                    0.03  \n",
      "OrthogonalMatchingPursuitCV          0.01  \n",
      "OrthogonalMatchingPursuit            0.01  \n",
      "Lasso                                0.01  \n",
      "LassoLars                            0.01  \n",
      "DummyRegressor                       0.01  \n",
      "ElasticNet                           0.01  \n",
      "Ridge                                0.01  \n",
      "HuberRegressor                       0.01  \n",
      "SGDRegressor                         0.01  \n",
      "Lars                                 0.01  \n",
      "RidgeCV                              0.01  \n",
      "PoissonRegressor                     0.01  \n",
      "BaggingRegressor                     0.02  \n",
      "LassoCV                              0.04  \n",
      "LassoLarsIC                          0.01  \n",
      "BayesianRidge                        0.01  \n",
      "ElasticNetCV                         0.05  \n",
      "GradientBoostingRegressor            0.02  \n",
      "HistGradientBoostingRegressor        0.18  \n",
      "LassoLarsCV                          0.02  \n",
      "LarsCV                               0.02  \n",
      "TweedieRegressor                     0.01  \n",
      "GammaRegressor                       0.01  \n",
      "KNeighborsRegressor                  0.01  \n",
      "RandomForestRegressor                0.09  \n",
      "AdaBoostRegressor                    0.06  \n",
      "SVR                                  0.01  \n",
      "NuSVR                                0.01  \n"
     ]
    },
    {
     "name": "stderr",
     "output_type": "stream",
     "text": [
      "\n"
     ]
    }
   ],
   "source": [
    "models_oura = lazy_regressor(X_quest, y_oura, test_size = 0.2, random_state = 2, regressor = reg)\n",
    "\n",
    "print(models_oura)"
   ]
  },
  {
   "attachments": {},
   "cell_type": "markdown",
   "metadata": {},
   "source": [
    "#### Subjective sleep scores"
   ]
  },
  {
   "cell_type": "code",
   "execution_count": 15,
   "metadata": {},
   "outputs": [
    {
     "name": "stdout",
     "output_type": "stream",
     "text": [
      "'tuple' object has no attribute '__name__'\n",
      "Invalid Regressor(s)\n"
     ]
    },
    {
     "name": "stderr",
     "output_type": "stream",
     "text": [
      "100%|██████████| 40/40 [00:00<00:00, 43.80it/s]"
     ]
    },
    {
     "name": "stdout",
     "output_type": "stream",
     "text": [
      "                                       Adjusted R-Squared  \\\n",
      "Model                                                       \n",
      "RANSACRegressor               296299723676300022382592.00   \n",
      "KernelRidge                                        130.76   \n",
      "GaussianProcessRegressor                            93.10   \n",
      "PassiveAggressiveRegressor                           6.46   \n",
      "MLPRegressor                                         5.62   \n",
      "DecisionTreeRegressor                                4.12   \n",
      "LinearSVR                                            3.76   \n",
      "ExtraTreeRegressor                                   3.54   \n",
      "KNeighborsRegressor                                  3.49   \n",
      "ExtraTreesRegressor                                  3.42   \n",
      "SVR                                                  3.26   \n",
      "HuberRegressor                                       3.26   \n",
      "LinearRegression                                     3.17   \n",
      "TransformedTargetRegressor                           3.17   \n",
      "Ridge                                                3.11   \n",
      "NuSVR                                                3.07   \n",
      "BaggingRegressor                                     2.92   \n",
      "GradientBoostingRegressor                            2.90   \n",
      "Lars                                                 2.87   \n",
      "SGDRegressor                                         2.85   \n",
      "PoissonRegressor                                     2.78   \n",
      "RidgeCV                                              2.78   \n",
      "HistGradientBoostingRegressor                        2.76   \n",
      "RandomForestRegressor                                2.67   \n",
      "AdaBoostRegressor                                    2.63   \n",
      "OrthogonalMatchingPursuit                            2.50   \n",
      "QuantileRegressor                                    2.50   \n",
      "GammaRegressor                                       2.41   \n",
      "TweedieRegressor                                     2.39   \n",
      "BayesianRidge                                        2.38   \n",
      "OrthogonalMatchingPursuitCV                          2.37   \n",
      "Lasso                                                2.37   \n",
      "DummyRegressor                                       2.37   \n",
      "LassoLars                                            2.37   \n",
      "ElasticNetCV                                         2.35   \n",
      "LassoCV                                              2.33   \n",
      "LassoLarsIC                                          2.31   \n",
      "ElasticNet                                           2.30   \n",
      "LassoLarsCV                                          2.30   \n",
      "LarsCV                                               2.30   \n",
      "\n",
      "                                                 R-Squared            RMSE  \\\n",
      "Model                                                                        \n",
      "RANSACRegressor               -218326112182536840937472.00 358143254728.11   \n",
      "KernelRidge                                         -94.61            7.49   \n",
      "GaussianProcessRegressor                            -66.86            6.31   \n",
      "PassiveAggressiveRegressor                           -3.03            1.54   \n",
      "MLPRegressor                                         -2.41            1.41   \n",
      "DecisionTreeRegressor                                -1.30            1.16   \n",
      "LinearSVR                                            -1.03            1.09   \n",
      "ExtraTreeRegressor                                   -0.87            1.05   \n",
      "KNeighborsRegressor                                  -0.83            1.04   \n",
      "ExtraTreesRegressor                                  -0.78            1.02   \n",
      "SVR                                                  -0.67            0.99   \n",
      "HuberRegressor                                       -0.67            0.99   \n",
      "LinearRegression                                     -0.60            0.97   \n",
      "TransformedTargetRegressor                           -0.60            0.97   \n",
      "Ridge                                                -0.55            0.95   \n",
      "NuSVR                                                -0.53            0.95   \n",
      "BaggingRegressor                                     -0.41            0.91   \n",
      "GradientBoostingRegressor                            -0.40            0.91   \n",
      "Lars                                                 -0.37            0.90   \n",
      "SGDRegressor                                         -0.37            0.90   \n",
      "PoissonRegressor                                     -0.32            0.88   \n",
      "RidgeCV                                              -0.31            0.88   \n",
      "HistGradientBoostingRegressor                        -0.29            0.87   \n",
      "RandomForestRegressor                                -0.23            0.85   \n",
      "AdaBoostRegressor                                    -0.20            0.84   \n",
      "OrthogonalMatchingPursuit                            -0.11            0.81   \n",
      "QuantileRegressor                                    -0.11            0.81   \n",
      "GammaRegressor                                       -0.04            0.78   \n",
      "TweedieRegressor                                     -0.03            0.78   \n",
      "BayesianRidge                                        -0.02            0.77   \n",
      "OrthogonalMatchingPursuitCV                          -0.01            0.77   \n",
      "Lasso                                                -0.01            0.77   \n",
      "DummyRegressor                                       -0.01            0.77   \n",
      "LassoLars                                            -0.01            0.77   \n",
      "ElasticNetCV                                          0.01            0.76   \n",
      "LassoCV                                               0.02            0.76   \n",
      "LassoLarsIC                                           0.04            0.75   \n",
      "ElasticNet                                            0.04            0.75   \n",
      "LassoLarsCV                                           0.04            0.75   \n",
      "LarsCV                                                0.04            0.75   \n",
      "\n",
      "                               Time Taken  \n",
      "Model                                      \n",
      "RANSACRegressor                      0.04  \n",
      "KernelRidge                          0.01  \n",
      "GaussianProcessRegressor             0.01  \n",
      "PassiveAggressiveRegressor           0.01  \n",
      "MLPRegressor                         0.10  \n",
      "DecisionTreeRegressor                0.01  \n",
      "LinearSVR                            0.01  \n",
      "ExtraTreeRegressor                   0.01  \n",
      "KNeighborsRegressor                  0.01  \n",
      "ExtraTreesRegressor                  0.07  \n",
      "SVR                                  0.01  \n",
      "HuberRegressor                       0.01  \n",
      "LinearRegression                     0.01  \n",
      "TransformedTargetRegressor           0.01  \n",
      "Ridge                                0.01  \n",
      "NuSVR                                0.01  \n",
      "BaggingRegressor                     0.02  \n",
      "GradientBoostingRegressor            0.03  \n",
      "Lars                                 0.01  \n",
      "SGDRegressor                         0.01  \n",
      "PoissonRegressor                     0.01  \n",
      "RidgeCV                              0.01  \n",
      "HistGradientBoostingRegressor        0.19  \n",
      "RandomForestRegressor                0.09  \n",
      "AdaBoostRegressor                    0.05  \n",
      "OrthogonalMatchingPursuit            0.01  \n",
      "QuantileRegressor                    0.03  \n",
      "GammaRegressor                       0.01  \n",
      "TweedieRegressor                     0.01  \n",
      "BayesianRidge                        0.01  \n",
      "OrthogonalMatchingPursuitCV          0.01  \n",
      "Lasso                                0.01  \n",
      "DummyRegressor                       0.01  \n",
      "LassoLars                            0.01  \n",
      "ElasticNetCV                         0.04  \n",
      "LassoCV                              0.04  \n",
      "LassoLarsIC                          0.01  \n",
      "ElasticNet                           0.01  \n",
      "LassoLarsCV                          0.02  \n",
      "LarsCV                               0.02  \n"
     ]
    },
    {
     "name": "stderr",
     "output_type": "stream",
     "text": [
      "\n"
     ]
    }
   ],
   "source": [
    "models_sub = lazy_regressor(X_quest, y_sub, test_size = 0.2, random_state = 6, regressor = reg)\n",
    "\n",
    "print(models_sub)"
   ]
  },
  {
   "attachments": {},
   "cell_type": "markdown",
   "metadata": {},
   "source": [
    "### LazyRegressor for the factors influencing the sleep scores given the Oura variables only"
   ]
  },
  {
   "cell_type": "code",
   "execution_count": 16,
   "metadata": {},
   "outputs": [],
   "source": [
    "# Separate the indenpendent variables from the dependent variables\n",
    "X_oura = df_oura.drop(labels=['score'], axis=1)"
   ]
  },
  {
   "attachments": {},
   "cell_type": "markdown",
   "metadata": {},
   "source": [
    "#### Oura sleep score"
   ]
  },
  {
   "cell_type": "code",
   "execution_count": 17,
   "metadata": {},
   "outputs": [
    {
     "name": "stdout",
     "output_type": "stream",
     "text": [
      "'tuple' object has no attribute '__name__'\n",
      "Invalid Regressor(s)\n"
     ]
    },
    {
     "name": "stderr",
     "output_type": "stream",
     "text": [
      "100%|██████████| 40/40 [00:01<00:00, 32.00it/s]"
     ]
    },
    {
     "name": "stdout",
     "output_type": "stream",
     "text": [
      "                               Adjusted R-Squared  R-Squared  RMSE  Time Taken\n",
      "Model                                                                         \n",
      "Lars                                       122.95    -191.55  9.15        0.01\n",
      "GaussianProcessRegressor                    98.34    -152.69  8.17        0.01\n",
      "MLPRegressor                                 8.92     -11.50  2.33        0.09\n",
      "QuantileRegressor                            1.72      -0.14  0.70        0.04\n",
      "LassoLars                                    1.65      -0.02  0.67        0.01\n",
      "DummyRegressor                               1.65      -0.02  0.67        0.02\n",
      "Lasso                                        1.65      -0.02  0.67        0.01\n",
      "ElasticNet                                   1.36       0.43  0.50        0.01\n",
      "PassiveAggressiveRegressor                   1.30       0.53  0.45        0.01\n",
      "ExtraTreeRegressor                           1.23       0.64  0.39        0.01\n",
      "KNeighborsRegressor                          1.21       0.67  0.38        0.01\n",
      "SVR                                          1.11       0.83  0.27        0.01\n",
      "NuSVR                                        1.10       0.84  0.27        0.01\n",
      "SGDRegressor                                 1.10       0.84  0.26        0.01\n",
      "GammaRegressor                               1.06       0.90  0.21        0.01\n",
      "DecisionTreeRegressor                        1.06       0.90  0.21        0.02\n",
      "TweedieRegressor                             1.06       0.90  0.20        0.01\n",
      "HistGradientBoostingRegressor                1.05       0.93  0.18        0.17\n",
      "LassoLarsCV                                  1.04       0.94  0.16        0.04\n",
      "PoissonRegressor                             1.03       0.95  0.15        0.01\n",
      "GradientBoostingRegressor                    1.03       0.96  0.14        0.06\n",
      "BaggingRegressor                             1.02       0.97  0.12        0.02\n",
      "LassoLarsIC                                  1.02       0.97  0.12        0.01\n",
      "LinearSVR                                    1.02       0.97  0.12        0.02\n",
      "AdaBoostRegressor                            1.02       0.97  0.12        0.07\n",
      "KernelRidge                                  1.02       0.97  0.12        0.01\n",
      "Ridge                                        1.02       0.97  0.12        0.01\n",
      "LarsCV                                       1.02       0.97  0.11        0.03\n",
      "ExtraTreesRegressor                          1.02       0.98  0.10        0.09\n",
      "RandomForestRegressor                        1.02       0.98  0.10        0.12\n",
      "OrthogonalMatchingPursuit                    1.01       0.98  0.10        0.01\n",
      "ElasticNetCV                                 1.01       0.98  0.10        0.07\n",
      "OrthogonalMatchingPursuitCV                  1.01       0.98  0.09        0.01\n",
      "LassoCV                                      1.01       0.98  0.09        0.07\n",
      "HuberRegressor                               1.01       0.98  0.09        0.02\n",
      "BayesianRidge                                1.01       0.98  0.08        0.02\n",
      "RidgeCV                                      1.01       0.99  0.08        0.01\n",
      "LinearRegression                             1.01       0.99  0.07        0.01\n",
      "RANSACRegressor                              1.01       0.99  0.07        0.01\n",
      "TransformedTargetRegressor                   1.01       0.99  0.07        0.01\n"
     ]
    },
    {
     "name": "stderr",
     "output_type": "stream",
     "text": [
      "\n"
     ]
    }
   ],
   "source": [
    "models_oura = lazy_regressor(X_oura, y_oura, test_size = 0.2, random_state = 2, regressor = reg)\n",
    "\n",
    "print(models_oura)"
   ]
  },
  {
   "attachments": {},
   "cell_type": "markdown",
   "metadata": {},
   "source": [
    "#### Subjective sleep scores"
   ]
  },
  {
   "cell_type": "code",
   "execution_count": 18,
   "metadata": {},
   "outputs": [
    {
     "name": "stdout",
     "output_type": "stream",
     "text": [
      "'tuple' object has no attribute '__name__'\n",
      "Invalid Regressor(s)\n"
     ]
    },
    {
     "name": "stderr",
     "output_type": "stream",
     "text": [
      "100%|██████████| 40/40 [00:01<00:00, 21.63it/s]"
     ]
    },
    {
     "name": "stdout",
     "output_type": "stream",
     "text": [
      "                               Adjusted R-Squared  R-Squared  RMSE  Time Taken\n",
      "Model                                                                         \n",
      "Lars                                      1992.41   -3143.33 42.98        0.01\n",
      "GaussianProcessRegressor                    58.08     -89.12  7.28        0.01\n",
      "MLPRegressor                                 6.38      -7.50  2.23        0.15\n",
      "RANSACRegressor                              4.66      -4.77  1.84        0.06\n",
      "TransformedTargetRegressor                   4.16      -3.99  1.71        0.01\n",
      "LinearRegression                             4.16      -3.99  1.71        0.01\n",
      "HuberRegressor                               3.60      -3.10  1.55        0.03\n",
      "LinearSVR                                    3.42      -2.83  1.50        0.01\n",
      "Ridge                                        2.85      -1.93  1.31        0.01\n",
      "KernelRidge                                  2.83      -1.89  1.30        0.01\n",
      "PassiveAggressiveRegressor                   2.39      -1.20  1.14        0.01\n",
      "SGDRegressor                                 2.04      -0.64  0.98        0.01\n",
      "DecisionTreeRegressor                        1.97      -0.53  0.95        0.02\n",
      "RidgeCV                                      1.92      -0.46  0.93        0.01\n",
      "PoissonRegressor                             1.84      -0.33  0.88        0.01\n",
      "OrthogonalMatchingPursuit                    1.81      -0.28  0.87        0.01\n",
      "HistGradientBoostingRegressor                1.76      -0.19  0.84        0.16\n",
      "QuantileRegressor                            1.70      -0.11  0.81        0.04\n",
      "GradientBoostingRegressor                    1.69      -0.09  0.80        0.06\n",
      "KNeighborsRegressor                          1.68      -0.08  0.79        0.01\n",
      "ExtraTreesRegressor                          1.65      -0.03  0.78        0.08\n",
      "BaggingRegressor                             1.65      -0.03  0.78        0.03\n",
      "Lasso                                        1.64      -0.01  0.77        0.01\n",
      "DummyRegressor                               1.64      -0.01  0.77        0.01\n",
      "LassoLars                                    1.64      -0.01  0.77        0.01\n",
      "AdaBoostRegressor                            1.62       0.03  0.76        0.08\n",
      "RandomForestRegressor                        1.61       0.03  0.75        0.12\n",
      "NuSVR                                        1.59       0.06  0.74        0.01\n",
      "SVR                                          1.57       0.10  0.73        0.01\n",
      "ElasticNet                                   1.55       0.13  0.72        0.01\n",
      "ExtraTreeRegressor                           1.54       0.15  0.71        0.01\n",
      "OrthogonalMatchingPursuitCV                  1.50       0.21  0.68        0.01\n",
      "TweedieRegressor                             1.50       0.21  0.68        0.01\n",
      "BayesianRidge                                1.50       0.21  0.68        0.02\n",
      "GammaRegressor                               1.49       0.22  0.68        0.01\n",
      "LarsCV                                       1.48       0.24  0.67        0.03\n",
      "LassoLarsIC                                  1.47       0.25  0.66        0.01\n",
      "ElasticNetCV                                 1.47       0.27  0.66        0.30\n",
      "LassoCV                                      1.45       0.28  0.65        0.35\n",
      "LassoLarsCV                                  1.45       0.29  0.65        0.04\n"
     ]
    },
    {
     "name": "stderr",
     "output_type": "stream",
     "text": [
      "\n"
     ]
    }
   ],
   "source": [
    "models_sub = lazy_regressor(X_oura, y_sub, test_size = 0.2, random_state = 6, regressor = reg)\n",
    "\n",
    "print(models_sub)"
   ]
  },
  {
   "attachments": {},
   "cell_type": "markdown",
   "metadata": {},
   "source": [
    "### LazyRegressor for the factors influencing the average HRV given all the variables"
   ]
  },
  {
   "cell_type": "code",
   "execution_count": 19,
   "metadata": {},
   "outputs": [],
   "source": [
    "# Separate the indenpendent variables from the dependent variables\n",
    "y_hrv = df['average_hrv']\n",
    "X_hrv = df.drop(labels=['average_hrv'], axis=1)\n",
    "X_hrv_quest = df_quest\n",
    "X_hrv_oura = df_oura.drop(labels=['average_hrv'], axis=1)"
   ]
  },
  {
   "cell_type": "code",
   "execution_count": 20,
   "metadata": {},
   "outputs": [],
   "source": [
    "# Drop the rows for which the HRV value is not saved\n",
    "for i in range(len(df['average_hrv'])):\n",
    "    if pd.isna(df.iloc[i]['average_hrv']):\n",
    "        y_hrv = y_hrv.drop(i)\n",
    "        X_hrv = X_hrv.drop(i)\n",
    "        X_hrv_quest = X_hrv_quest.drop(i)\n",
    "        X_hrv_oura = X_hrv_oura.drop(i)"
   ]
  },
  {
   "cell_type": "code",
   "execution_count": 21,
   "metadata": {},
   "outputs": [
    {
     "name": "stdout",
     "output_type": "stream",
     "text": [
      "'tuple' object has no attribute '__name__'\n",
      "Invalid Regressor(s)\n"
     ]
    },
    {
     "name": "stderr",
     "output_type": "stream",
     "text": [
      " 65%|██████▌   | 26/40 [00:01<00:00, 15.27it/s]"
     ]
    },
    {
     "name": "stdout",
     "output_type": "stream",
     "text": [
      "LassoLarsIC model failed to execute\n",
      "You are using LassoLarsIC in the case where the number of samples is smaller than the number of features. In this setting, getting a good estimate for the variance of the noise is not possible. Provide an estimate of the noise variance in the constructor.\n"
     ]
    },
    {
     "name": "stderr",
     "output_type": "stream",
     "text": [
      " 80%|████████  | 32/40 [00:01<00:00, 21.60it/s]"
     ]
    },
    {
     "name": "stdout",
     "output_type": "stream",
     "text": [
      "RANSACRegressor model failed to execute\n",
      "`min_samples` may not be larger than number of samples: n_samples = 76.\n"
     ]
    },
    {
     "name": "stderr",
     "output_type": "stream",
     "text": [
      "100%|██████████| 40/40 [00:02<00:00, 19.84it/s]"
     ]
    },
    {
     "name": "stdout",
     "output_type": "stream",
     "text": [
      "                               Adjusted R-Squared  R-Squared   RMSE  \\\n",
      "Model                                                                 \n",
      "Lars                                        12.16     -35.41 114.65   \n",
      "GaussianProcessRegressor                     5.25     -12.86  70.75   \n",
      "MLPRegressor                                 1.95      -2.10  33.43   \n",
      "DummyRegressor                               1.31      -0.01  19.10   \n",
      "QuantileRegressor                            1.31      -0.01  19.09   \n",
      "HuberRegressor                               1.30       0.04  18.65   \n",
      "TransformedTargetRegressor                   1.28       0.08  18.23   \n",
      "LinearRegression                             1.28       0.08  18.23   \n",
      "NuSVR                                        1.27       0.12  17.87   \n",
      "SVR                                          1.26       0.14  17.62   \n",
      "PassiveAggressiveRegressor                   1.20       0.34  15.41   \n",
      "KernelRidge                                  1.18       0.40  14.67   \n",
      "Ridge                                        1.18       0.42  14.48   \n",
      "ExtraTreeRegressor                           1.18       0.43  14.38   \n",
      "SGDRegressor                                 1.16       0.48  13.73   \n",
      "LassoLars                                    1.16       0.49  13.55   \n",
      "DecisionTreeRegressor                        1.15       0.53  13.09   \n",
      "GradientBoostingRegressor                    1.14       0.54  12.92   \n",
      "LinearSVR                                    1.14       0.55  12.80   \n",
      "PoissonRegressor                             1.13       0.57  12.43   \n",
      "KNeighborsRegressor                          1.12       0.59  12.11   \n",
      "RandomForestRegressor                        1.12       0.61  11.84   \n",
      "ExtraTreesRegressor                          1.11       0.63  11.52   \n",
      "AdaBoostRegressor                            1.11       0.64  11.42   \n",
      "OrthogonalMatchingPursuit                    1.11       0.65  11.20   \n",
      "BaggingRegressor                             1.10       0.66  11.03   \n",
      "TweedieRegressor                             1.10       0.66  11.01   \n",
      "GammaRegressor                               1.10       0.67  10.91   \n",
      "ElasticNet                                   1.10       0.67  10.87   \n",
      "HistGradientBoostingRegressor                1.10       0.67  10.85   \n",
      "ElasticNetCV                                 1.10       0.68  10.69   \n",
      "LarsCV                                       1.10       0.69  10.63   \n",
      "RidgeCV                                      1.10       0.69  10.60   \n",
      "BayesianRidge                                1.09       0.70  10.46   \n",
      "OrthogonalMatchingPursuitCV                  1.09       0.71  10.16   \n",
      "Lasso                                        1.09       0.72  10.11   \n",
      "LassoCV                                      1.09       0.72  10.05   \n",
      "LassoLarsCV                                  1.09       0.72  10.02   \n",
      "\n",
      "                               Time Taken  \n",
      "Model                                      \n",
      "Lars                                 0.02  \n",
      "GaussianProcessRegressor             0.01  \n",
      "MLPRegressor                         0.10  \n",
      "DummyRegressor                       0.01  \n",
      "QuantileRegressor                    0.04  \n",
      "HuberRegressor                       0.03  \n",
      "TransformedTargetRegressor           0.01  \n",
      "LinearRegression                     0.01  \n",
      "NuSVR                                0.01  \n",
      "SVR                                  0.01  \n",
      "PassiveAggressiveRegressor           0.01  \n",
      "KernelRidge                          0.01  \n",
      "Ridge                                0.02  \n",
      "ExtraTreeRegressor                   0.01  \n",
      "SGDRegressor                         0.02  \n",
      "LassoLars                            0.01  \n",
      "DecisionTreeRegressor                0.01  \n",
      "GradientBoostingRegressor            0.07  \n",
      "LinearSVR                            0.01  \n",
      "PoissonRegressor                     0.02  \n",
      "KNeighborsRegressor                  0.01  \n",
      "RandomForestRegressor                0.16  \n",
      "ExtraTreesRegressor                  0.11  \n",
      "AdaBoostRegressor                    0.07  \n",
      "OrthogonalMatchingPursuit            0.01  \n",
      "BaggingRegressor                     0.03  \n",
      "TweedieRegressor                     0.01  \n",
      "GammaRegressor                       0.01  \n",
      "ElasticNet                           0.01  \n",
      "HistGradientBoostingRegressor        0.17  \n",
      "ElasticNetCV                         0.21  \n",
      "LarsCV                               0.05  \n",
      "RidgeCV                              0.05  \n",
      "BayesianRidge                        0.02  \n",
      "OrthogonalMatchingPursuitCV          0.01  \n",
      "Lasso                                0.01  \n",
      "LassoCV                              0.54  \n",
      "LassoLarsCV                          0.04  \n"
     ]
    },
    {
     "name": "stderr",
     "output_type": "stream",
     "text": [
      "\n"
     ]
    }
   ],
   "source": [
    "models_hrv = lazy_regressor(X_hrv, y_hrv, test_size = 0.2, random_state = 5, regressor = reg)\n",
    "\n",
    "print(models_hrv)"
   ]
  },
  {
   "attachments": {},
   "cell_type": "markdown",
   "metadata": {},
   "source": [
    "### LazyRegressor for the factors influencing the average HRV given the questionnaire variables only"
   ]
  },
  {
   "cell_type": "code",
   "execution_count": 22,
   "metadata": {},
   "outputs": [
    {
     "name": "stdout",
     "output_type": "stream",
     "text": [
      "'tuple' object has no attribute '__name__'\n",
      "Invalid Regressor(s)\n"
     ]
    },
    {
     "name": "stderr",
     "output_type": "stream",
     "text": [
      "100%|██████████| 40/40 [00:00<00:00, 42.03it/s]"
     ]
    },
    {
     "name": "stdout",
     "output_type": "stream",
     "text": [
      "                               Adjusted R-Squared  R-Squared  RMSE  Time Taken\n",
      "Model                                                                         \n",
      "KernelRidge                                 19.30     -13.45 72.22        0.01\n",
      "GaussianProcessRegressor                    17.07     -11.69 67.67        0.01\n",
      "MLPRegressor                                10.96      -6.86 53.27        0.10\n",
      "ExtraTreeRegressor                           3.02      -0.60 24.01        0.01\n",
      "LinearSVR                                    2.90      -0.50 23.29        0.01\n",
      "HuberRegressor                               2.61      -0.27 21.44        0.01\n",
      "TransformedTargetRegressor                   2.43      -0.13 20.17        0.01\n",
      "LinearRegression                             2.43      -0.13 20.17        0.01\n",
      "Ridge                                        2.29      -0.02 19.17        0.01\n",
      "LassoLars                                    2.28      -0.01 19.10        0.01\n",
      "DummyRegressor                               2.28      -0.01 19.10        0.01\n",
      "QuantileRegressor                            2.28      -0.01 19.09        0.03\n",
      "PoissonRegressor                             2.26       0.01 18.93        0.01\n",
      "SGDRegressor                                 2.25       0.01 18.88        0.01\n",
      "SVR                                          2.24       0.02 18.83        0.01\n",
      "KNeighborsRegressor                          2.24       0.02 18.79        0.01\n",
      "NuSVR                                        2.24       0.02 18.77        0.01\n",
      "DecisionTreeRegressor                        2.18       0.06 18.38        0.01\n",
      "ExtraTreesRegressor                          2.14       0.10 18.04        0.07\n",
      "RANSACRegressor                              2.14       0.10 18.01        0.04\n",
      "RidgeCV                                      2.13       0.10 17.99        0.01\n",
      "Lars                                         2.12       0.12 17.85        0.01\n",
      "BayesianRidge                                2.12       0.12 17.85        0.01\n",
      "TweedieRegressor                             2.12       0.12 17.83        0.01\n",
      "GammaRegressor                               2.11       0.12 17.82        0.01\n",
      "ElasticNetCV                                 2.11       0.12 17.79        0.05\n",
      "Lasso                                        2.10       0.13 17.74        0.01\n",
      "LassoLarsCV                                  2.10       0.14 17.67        0.02\n",
      "LarsCV                                       2.10       0.14 17.67        0.02\n",
      "ElasticNet                                   2.09       0.14 17.66        0.01\n",
      "LassoCV                                      2.09       0.14 17.63        0.05\n",
      "LassoLarsIC                                  2.09       0.14 17.62        0.01\n",
      "PassiveAggressiveRegressor                   2.09       0.14 17.60        0.01\n",
      "OrthogonalMatchingPursuit                    2.03       0.19 17.11        0.01\n",
      "OrthogonalMatchingPursuitCV                  1.99       0.22 16.78        0.01\n",
      "BaggingRegressor                             1.93       0.26 16.31        0.02\n",
      "AdaBoostRegressor                            1.84       0.34 15.47        0.05\n",
      "RandomForestRegressor                        1.73       0.43 14.38        0.09\n",
      "HistGradientBoostingRegressor                1.72       0.43 14.33        0.19\n",
      "GradientBoostingRegressor                    1.67       0.47 13.85        0.02\n"
     ]
    },
    {
     "name": "stderr",
     "output_type": "stream",
     "text": [
      "\n"
     ]
    }
   ],
   "source": [
    "models_hrv = lazy_regressor(X_hrv_quest, y_hrv, test_size = 0.2, random_state = 5, regressor = reg)\n",
    "\n",
    "print(models_hrv)"
   ]
  },
  {
   "attachments": {},
   "cell_type": "markdown",
   "metadata": {},
   "source": [
    "### LazyRegressor for the factors influencing the average HRV given the Oura variables only"
   ]
  },
  {
   "cell_type": "code",
   "execution_count": 23,
   "metadata": {},
   "outputs": [
    {
     "name": "stdout",
     "output_type": "stream",
     "text": [
      "'tuple' object has no attribute '__name__'\n",
      "Invalid Regressor(s)\n"
     ]
    },
    {
     "name": "stderr",
     "output_type": "stream",
     "text": [
      "100%|██████████| 40/40 [00:01<00:00, 29.25it/s]\n"
     ]
    },
    {
     "name": "stdout",
     "output_type": "stream",
     "text": [
      "                               Adjusted R-Squared  R-Squared   RMSE  \\\n",
      "Model                                                                 \n",
      "Lars                                       235.26    -368.89 365.43   \n",
      "GaussianProcessRegressor                     9.76     -12.84  70.68   \n",
      "MLPRegressor                                 3.02      -2.19  33.93   \n",
      "DummyRegressor                               1.64      -0.01  19.10   \n",
      "QuantileRegressor                            1.64      -0.01  19.09   \n",
      "NuSVR                                        1.52       0.18  17.23   \n",
      "SVR                                          1.50       0.22  16.81   \n",
      "DecisionTreeRegressor                        1.33       0.48  13.70   \n",
      "LassoLars                                    1.32       0.49  13.55   \n",
      "GradientBoostingRegressor                    1.31       0.51  13.26   \n",
      "HuberRegressor                               1.29       0.54  12.92   \n",
      "LinearRegression                             1.29       0.55  12.80   \n",
      "TransformedTargetRegressor                   1.29       0.55  12.80   \n",
      "RANSACRegressor                              1.28       0.56  12.65   \n",
      "LinearSVR                                    1.26       0.59  12.11   \n",
      "RandomForestRegressor                        1.25       0.61  11.88   \n",
      "ExtraTreesRegressor                          1.24       0.62  11.79   \n",
      "OrthogonalMatchingPursuit                    1.24       0.63  11.60   \n",
      "ExtraTreeRegressor                           1.23       0.63  11.57   \n",
      "PassiveAggressiveRegressor                   1.23       0.63  11.55   \n",
      "BaggingRegressor                             1.23       0.64  11.46   \n",
      "KNeighborsRegressor                          1.22       0.64  11.32   \n",
      "AdaBoostRegressor                            1.22       0.65  11.26   \n",
      "TweedieRegressor                             1.21       0.66  11.04   \n",
      "SGDRegressor                                 1.21       0.66  11.01   \n",
      "Ridge                                        1.21       0.67  10.98   \n",
      "KernelRidge                                  1.21       0.67  10.95   \n",
      "ElasticNet                                   1.21       0.67  10.86   \n",
      "HistGradientBoostingRegressor                1.21       0.68  10.82   \n",
      "GammaRegressor                               1.20       0.68  10.73   \n",
      "ElasticNetCV                                 1.20       0.69  10.61   \n",
      "BayesianRidge                                1.19       0.69  10.50   \n",
      "RidgeCV                                      1.19       0.69  10.49   \n",
      "OrthogonalMatchingPursuitCV                  1.18       0.71  10.16   \n",
      "LassoCV                                      1.18       0.71  10.15   \n",
      "Lasso                                        1.18       0.72  10.12   \n",
      "LassoLarsIC                                  1.18       0.72  10.12   \n",
      "LarsCV                                       1.18       0.72  10.10   \n",
      "LassoLarsCV                                  1.18       0.72  10.08   \n",
      "PoissonRegressor                             1.17       0.74   9.76   \n",
      "\n",
      "                               Time Taken  \n",
      "Model                                      \n",
      "Lars                                 0.01  \n",
      "GaussianProcessRegressor             0.01  \n",
      "MLPRegressor                         0.09  \n",
      "DummyRegressor                       0.01  \n",
      "QuantileRegressor                    0.04  \n",
      "NuSVR                                0.01  \n",
      "SVR                                  0.01  \n",
      "DecisionTreeRegressor                0.01  \n",
      "LassoLars                            0.01  \n",
      "GradientBoostingRegressor            0.06  \n",
      "HuberRegressor                       0.02  \n",
      "LinearRegression                     0.01  \n",
      "TransformedTargetRegressor           0.01  \n",
      "RANSACRegressor                      0.06  \n",
      "LinearSVR                            0.01  \n",
      "RandomForestRegressor                0.13  \n",
      "ExtraTreesRegressor                  0.09  \n",
      "OrthogonalMatchingPursuit            0.01  \n",
      "ExtraTreeRegressor                   0.01  \n",
      "PassiveAggressiveRegressor           0.01  \n",
      "BaggingRegressor                     0.02  \n",
      "KNeighborsRegressor                  0.01  \n",
      "AdaBoostRegressor                    0.07  \n",
      "TweedieRegressor                     0.01  \n",
      "SGDRegressor                         0.01  \n",
      "Ridge                                0.01  \n",
      "KernelRidge                          0.01  \n",
      "ElasticNet                           0.01  \n",
      "HistGradientBoostingRegressor        0.17  \n",
      "GammaRegressor                       0.01  \n",
      "ElasticNetCV                         0.08  \n",
      "BayesianRidge                        0.01  \n",
      "RidgeCV                              0.01  \n",
      "OrthogonalMatchingPursuitCV          0.01  \n",
      "LassoCV                              0.15  \n",
      "Lasso                                0.01  \n",
      "LassoLarsIC                          0.02  \n",
      "LarsCV                               0.03  \n",
      "LassoLarsCV                          0.04  \n",
      "PoissonRegressor                     0.02  \n"
     ]
    }
   ],
   "source": [
    "models_hrv = lazy_regressor(X_hrv_oura, y_hrv, test_size = 0.2, random_state = 5, regressor = reg)\n",
    "\n",
    "print(models_hrv)"
   ]
  },
  {
   "attachments": {},
   "cell_type": "markdown",
   "metadata": {},
   "source": [
    "### LazyRegressor for the factors influencing the total sleep duration given all variables"
   ]
  },
  {
   "cell_type": "code",
   "execution_count": 24,
   "metadata": {},
   "outputs": [],
   "source": [
    "# Separate the indenpendent variables from the dependent variables\n",
    "# For the total sleep duration, only consider the days for which a person woke up naturally\n",
    "y_total_sleep = df[df['Naturally'] == 1]['total_sleep_duration']\n",
    "X_total_sleep = df[df['Naturally'] == 1]\n",
    "X_total_sleep = X_total_sleep.drop(labels=['total_sleep_duration', 'deep_sleep_duration', 'light_sleep_duration', 'contributors.total_sleep', 'contributors.deep_sleep', 'contributors.rem_sleep', 'rem_sleep_duration', 'time_in_bed', 'bedtime_start_delta', 'bedtime_end_delta', 'bedtime_end_seconds', 'bed_time'], axis=1)"
   ]
  },
  {
   "cell_type": "code",
   "execution_count": 25,
   "metadata": {},
   "outputs": [
    {
     "name": "stdout",
     "output_type": "stream",
     "text": [
      "'tuple' object has no attribute '__name__'\n",
      "Invalid Regressor(s)\n"
     ]
    },
    {
     "name": "stderr",
     "output_type": "stream",
     "text": [
      " 70%|███████   | 28/40 [00:00<00:00, 49.40it/s]"
     ]
    },
    {
     "name": "stdout",
     "output_type": "stream",
     "text": [
      "LassoLarsIC model failed to execute\n",
      "You are using LassoLarsIC in the case where the number of samples is smaller than the number of features. In this setting, getting a good estimate for the variance of the noise is not possible. Provide an estimate of the noise variance in the constructor.\n",
      "RANSACRegressor model failed to execute\n",
      "`min_samples` may not be larger than number of samples: n_samples = 8.\n"
     ]
    },
    {
     "name": "stderr",
     "output_type": "stream",
     "text": [
      "100%|██████████| 40/40 [00:00<00:00, 51.29it/s]"
     ]
    },
    {
     "name": "stdout",
     "output_type": "stream",
     "text": [
      "                               Adjusted R-Squared  R-Squared     RMSE  \\\n",
      "Model                                                                   \n",
      "GaussianProcessRegressor                     7.61    -454.88 19536.44   \n",
      "LinearSVR                                    7.59    -453.76 19512.47   \n",
      "MLPRegressor                                 7.56    -451.41 19462.07   \n",
      "DummyRegressor                               2.02     -69.08  7659.85   \n",
      "HistGradientBoostingRegressor                2.02     -69.08  7659.85   \n",
      "NuSVR                                        1.95     -64.52  7406.57   \n",
      "ExtraTreesRegressor                          1.90     -61.26  7219.52   \n",
      "RandomForestRegressor                        1.79     -53.37  6747.01   \n",
      "AdaBoostRegressor                            1.77     -52.12  6668.54   \n",
      "QuantileRegressor                            1.75     -50.79  6584.75   \n",
      "SVR                                          1.74     -49.92  6529.22   \n",
      "Lasso                                        1.70     -47.44  6368.38   \n",
      "GradientBoostingRegressor                    1.68     -46.06  6276.96   \n",
      "KNeighborsRegressor                          1.68     -45.94  6269.05   \n",
      "BaggingRegressor                             1.62     -41.72  5980.36   \n",
      "TransformedTargetRegressor                   1.55     -37.28  5661.17   \n",
      "LinearRegression                             1.55     -37.28  5661.17   \n",
      "BayesianRidge                                1.55     -37.28  5661.17   \n",
      "HuberRegressor                               1.55     -37.28  5661.15   \n",
      "SGDRegressor                                 1.55     -37.27  5660.41   \n",
      "RidgeCV                                      1.55     -37.20  5655.08   \n",
      "Ridge                                        1.54     -36.53  5605.71   \n",
      "ElasticNet                                   1.52     -35.00  5489.86   \n",
      "ElasticNetCV                                 1.52     -34.92  5483.52   \n",
      "TweedieRegressor                             1.51     -34.17  5426.55   \n",
      "PoissonRegressor                             1.46     -30.97  5173.56   \n",
      "GammaRegressor                               1.45     -30.03  5096.78   \n",
      "ExtraTreeRegressor                           1.36     -23.92  4567.99   \n",
      "DecisionTreeRegressor                        1.35     -23.07  4489.24   \n",
      "KernelRidge                                  1.28     -18.21  4010.64   \n",
      "PassiveAggressiveRegressor                   1.24     -15.81  3751.40   \n",
      "OrthogonalMatchingPursuit                    1.04      -2.08  1604.74   \n",
      "OrthogonalMatchingPursuitCV                  1.01       0.03   898.86   \n",
      "LassoCV                                      1.01       0.52   635.13   \n",
      "LassoLarsCV                                  1.00       0.81   396.67   \n",
      "Lars                                         1.00       0.81   396.67   \n",
      "LassoLars                                    1.00       0.81   395.45   \n",
      "LarsCV                                       1.00       0.82   391.79   \n",
      "\n",
      "                               Time Taken  \n",
      "Model                                      \n",
      "GaussianProcessRegressor             0.01  \n",
      "LinearSVR                            0.01  \n",
      "MLPRegressor                         0.08  \n",
      "DummyRegressor                       0.01  \n",
      "HistGradientBoostingRegressor        0.03  \n",
      "NuSVR                                0.01  \n",
      "ExtraTreesRegressor                  0.06  \n",
      "RandomForestRegressor                0.08  \n",
      "AdaBoostRegressor                    0.05  \n",
      "QuantileRegressor                    0.02  \n",
      "SVR                                  0.01  \n",
      "Lasso                                0.01  \n",
      "GradientBoostingRegressor            0.02  \n",
      "KNeighborsRegressor                  0.01  \n",
      "BaggingRegressor                     0.02  \n",
      "TransformedTargetRegressor           0.01  \n",
      "LinearRegression                     0.01  \n",
      "BayesianRidge                        0.01  \n",
      "HuberRegressor                       0.03  \n",
      "SGDRegressor                         0.01  \n",
      "RidgeCV                              0.01  \n",
      "Ridge                                0.01  \n",
      "ElasticNet                           0.01  \n",
      "ElasticNetCV                         0.03  \n",
      "TweedieRegressor                     0.01  \n",
      "PoissonRegressor                     0.01  \n",
      "GammaRegressor                       0.01  \n",
      "ExtraTreeRegressor                   0.01  \n",
      "DecisionTreeRegressor                0.01  \n",
      "KernelRidge                          0.01  \n",
      "PassiveAggressiveRegressor           0.01  \n",
      "OrthogonalMatchingPursuit            0.01  \n",
      "OrthogonalMatchingPursuitCV          0.01  \n",
      "LassoCV                              0.03  \n",
      "LassoLarsCV                          0.01  \n",
      "Lars                                 0.01  \n",
      "LassoLars                            0.01  \n",
      "LarsCV                               0.01  \n"
     ]
    },
    {
     "name": "stderr",
     "output_type": "stream",
     "text": [
      "\n"
     ]
    }
   ],
   "source": [
    "models_sleep_duration = lazy_regressor(X_total_sleep, y_total_sleep, test_size = 0.2, random_state = 89, regressor = reg)\n",
    "\n",
    "print(models_sleep_duration)"
   ]
  },
  {
   "attachments": {},
   "cell_type": "markdown",
   "metadata": {},
   "source": [
    "### LazyRegressor for the factors influencing the total sleep duration given the questionnaire variables only"
   ]
  },
  {
   "cell_type": "code",
   "execution_count": 26,
   "metadata": {},
   "outputs": [],
   "source": [
    "X_total_sleep = df_quest[df_quest['Naturally'] == 1]"
   ]
  },
  {
   "cell_type": "code",
   "execution_count": 27,
   "metadata": {},
   "outputs": [
    {
     "name": "stdout",
     "output_type": "stream",
     "text": [
      "'tuple' object has no attribute '__name__'\n",
      "Invalid Regressor(s)\n"
     ]
    },
    {
     "name": "stderr",
     "output_type": "stream",
     "text": [
      " 65%|██████▌   | 26/40 [00:00<00:00, 55.95it/s]"
     ]
    },
    {
     "name": "stdout",
     "output_type": "stream",
     "text": [
      "LassoLarsIC model failed to execute\n",
      "You are using LassoLarsIC in the case where the number of samples is smaller than the number of features. In this setting, getting a good estimate for the variance of the noise is not possible. Provide an estimate of the noise variance in the constructor.\n",
      "RANSACRegressor model failed to execute\n",
      "`min_samples` may not be larger than number of samples: n_samples = 8.\n"
     ]
    },
    {
     "name": "stderr",
     "output_type": "stream",
     "text": [
      "100%|██████████| 40/40 [00:00<00:00, 64.27it/s]"
     ]
    },
    {
     "name": "stdout",
     "output_type": "stream",
     "text": [
      "                               Adjusted R-Squared  R-Squared     RMSE  \\\n",
      "Model                                                                   \n",
      "KernelRidge                                 21.05    -660.51 23533.72   \n",
      "GaussianProcessRegressor                    14.81    -454.87 19536.26   \n",
      "LinearSVR                                   14.80    -454.51 19528.45   \n",
      "MLPRegressor                                14.78    -453.64 19509.97   \n",
      "PassiveAggressiveRegressor                   5.83    -158.37 11551.30   \n",
      "Lars                                         5.26    -139.42 10842.81   \n",
      "HistGradientBoostingRegressor                3.12     -69.08  7659.85   \n",
      "DummyRegressor                               3.12     -69.08  7659.85   \n",
      "NuSVR                                        2.99     -64.52  7406.30   \n",
      "QuantileRegressor                            2.59     -51.43  6625.44   \n",
      "SVR                                          2.54     -49.92  6529.00   \n",
      "KNeighborsRegressor                          2.42     -45.94  6269.05   \n",
      "RandomForestRegressor                        2.19     -38.37  5741.03   \n",
      "BayesianRidge                                2.18     -38.10  5721.51   \n",
      "AdaBoostRegressor                            2.16     -37.26  5659.91   \n",
      "BaggingRegressor                             2.14     -36.77  5623.08   \n",
      "ExtraTreeRegressor                           2.13     -36.41  5596.51   \n",
      "ElasticNetCV                                 2.13     -36.17  5578.30   \n",
      "GradientBoostingRegressor                    2.05     -33.55  5378.37   \n",
      "LarsCV                                       2.02     -32.52  5297.56   \n",
      "RidgeCV                                      1.86     -27.25  4863.22   \n",
      "OrthogonalMatchingPursuitCV                  1.84     -26.58  4805.42   \n",
      "LassoLars                                    1.84     -26.56  4803.66   \n",
      "GammaRegressor                               1.81     -25.79  4735.73   \n",
      "TweedieRegressor                             1.80     -25.36  4697.46   \n",
      "ExtraTreesRegressor                          1.79     -25.06  4671.31   \n",
      "HuberRegressor                               1.73     -23.04  4486.73   \n",
      "LinearRegression                             1.73     -23.04  4486.73   \n",
      "TransformedTargetRegressor                   1.73     -23.04  4486.73   \n",
      "SGDRegressor                                 1.72     -22.84  4467.97   \n",
      "LassoLarsCV                                  1.72     -22.83  4466.35   \n",
      "OrthogonalMatchingPursuit                    1.72     -22.76  4460.46   \n",
      "ElasticNet                                   1.67     -21.26  4317.20   \n",
      "PoissonRegressor                             1.67     -21.12  4303.47   \n",
      "LassoCV                                      1.66     -20.66  4258.21   \n",
      "Ridge                                        1.64     -20.20  4213.11   \n",
      "Lasso                                        1.50     -15.48  3714.05   \n",
      "DecisionTreeRegressor                        1.44     -13.61  3496.83   \n",
      "\n",
      "                               Time Taken  \n",
      "Model                                      \n",
      "KernelRidge                          0.01  \n",
      "GaussianProcessRegressor             0.01  \n",
      "LinearSVR                            0.01  \n",
      "MLPRegressor                         0.08  \n",
      "PassiveAggressiveRegressor           0.01  \n",
      "Lars                                 0.01  \n",
      "HistGradientBoostingRegressor        0.04  \n",
      "DummyRegressor                       0.01  \n",
      "NuSVR                                0.01  \n",
      "QuantileRegressor                    0.01  \n",
      "SVR                                  0.01  \n",
      "KNeighborsRegressor                  0.01  \n",
      "RandomForestRegressor                0.08  \n",
      "BayesianRidge                        0.01  \n",
      "AdaBoostRegressor                    0.06  \n",
      "BaggingRegressor                     0.01  \n",
      "ExtraTreeRegressor                   0.01  \n",
      "ElasticNetCV                         0.02  \n",
      "GradientBoostingRegressor            0.02  \n",
      "LarsCV                               0.01  \n",
      "RidgeCV                              0.01  \n",
      "OrthogonalMatchingPursuitCV          0.01  \n",
      "LassoLars                            0.01  \n",
      "GammaRegressor                       0.01  \n",
      "TweedieRegressor                     0.01  \n",
      "ExtraTreesRegressor                  0.05  \n",
      "HuberRegressor                       0.02  \n",
      "LinearRegression                     0.01  \n",
      "TransformedTargetRegressor           0.01  \n",
      "SGDRegressor                         0.01  \n",
      "LassoLarsCV                          0.01  \n",
      "OrthogonalMatchingPursuit            0.01  \n",
      "ElasticNet                           0.01  \n",
      "PoissonRegressor                     0.01  \n",
      "LassoCV                              0.03  \n",
      "Ridge                                0.01  \n",
      "Lasso                                0.01  \n",
      "DecisionTreeRegressor                0.01  \n"
     ]
    },
    {
     "name": "stderr",
     "output_type": "stream",
     "text": [
      "\n"
     ]
    }
   ],
   "source": [
    "models_sleep_duration = lazy_regressor(X_total_sleep, y_total_sleep, test_size = 0.2, random_state = 89, regressor = reg)\n",
    "\n",
    "print(models_sleep_duration)"
   ]
  },
  {
   "attachments": {},
   "cell_type": "markdown",
   "metadata": {},
   "source": [
    "### LazyRegressor for the factors influencing the total sleep duration given the Oura variables only"
   ]
  },
  {
   "cell_type": "code",
   "execution_count": 28,
   "metadata": {},
   "outputs": [],
   "source": [
    "X_total_sleep = df[df['Naturally'] == 1]\n",
    "X_total_sleep = X_total_sleep.iloc[:, 0:49]\n",
    "X_total_sleep = X_total_sleep.drop(labels=['total_sleep_duration', 'deep_sleep_duration', 'light_sleep_duration', 'contributors.total_sleep', 'contributors.deep_sleep', 'contributors.rem_sleep', 'rem_sleep_duration', 'time_in_bed', 'bedtime_start_delta', 'bedtime_end_delta', 'bedtime_end_seconds', 'bed_time'], axis=1)"
   ]
  },
  {
   "cell_type": "code",
   "execution_count": 29,
   "metadata": {},
   "outputs": [
    {
     "name": "stdout",
     "output_type": "stream",
     "text": [
      "'tuple' object has no attribute '__name__'\n",
      "Invalid Regressor(s)\n"
     ]
    },
    {
     "name": "stderr",
     "output_type": "stream",
     "text": [
      " 65%|██████▌   | 26/40 [00:00<00:00, 50.51it/s]"
     ]
    },
    {
     "name": "stdout",
     "output_type": "stream",
     "text": [
      "LassoLarsIC model failed to execute\n",
      "You are using LassoLarsIC in the case where the number of samples is smaller than the number of features. In this setting, getting a good estimate for the variance of the noise is not possible. Provide an estimate of the noise variance in the constructor.\n",
      "RANSACRegressor model failed to execute\n",
      "`min_samples` may not be larger than number of samples: n_samples = 8.\n"
     ]
    },
    {
     "name": "stderr",
     "output_type": "stream",
     "text": [
      "100%|██████████| 40/40 [00:00<00:00, 53.54it/s]"
     ]
    },
    {
     "name": "stdout",
     "output_type": "stream",
     "text": [
      "                               Adjusted R-Squared  R-Squared     RMSE  \\\n",
      "Model                                                                   \n",
      "GaussianProcessRegressor                    13.66    -454.88 19536.44   \n",
      "LinearSVR                                   13.63    -453.76 19512.47   \n",
      "MLPRegressor                                13.59    -452.07 19476.09   \n",
      "DecisionTreeRegressor                        5.47    -160.08 11612.77   \n",
      "BaggingRegressor                             3.20     -78.28  8147.11   \n",
      "HistGradientBoostingRegressor                2.95     -69.08  7659.85   \n",
      "DummyRegressor                               2.95     -69.08  7659.85   \n",
      "GradientBoostingRegressor                    2.87     -66.28  7505.04   \n",
      "NuSVR                                        2.82     -64.52  7406.67   \n",
      "ExtraTreesRegressor                          2.74     -61.50  7233.99   \n",
      "RandomForestRegressor                        2.72     -61.01  7205.20   \n",
      "QuantileRegressor                            2.43     -50.44  6562.64   \n",
      "Lasso                                        2.42     -50.00  6534.69   \n",
      "SVR                                          2.41     -49.92  6529.28   \n",
      "KNeighborsRegressor                          2.30     -45.94  6269.05   \n",
      "ElasticNetCV                                 2.07     -37.47  5675.30   \n",
      "ExtraTreeRegressor                           2.06     -37.26  5659.91   \n",
      "TransformedTargetRegressor                   2.02     -35.63  5537.69   \n",
      "LinearRegression                             2.02     -35.63  5537.69   \n",
      "BayesianRidge                                2.02     -35.63  5537.69   \n",
      "HuberRegressor                               2.02     -35.63  5537.69   \n",
      "SGDRegressor                                 2.02     -35.62  5537.21   \n",
      "RidgeCV                                      2.02     -35.56  5532.25   \n",
      "Ridge                                        2.00     -35.03  5492.40   \n",
      "TweedieRegressor                             1.98     -34.27  5434.20   \n",
      "AdaBoostRegressor                            1.98     -34.25  5432.61   \n",
      "ElasticNet                                   1.98     -34.17  5426.12   \n",
      "GammaRegressor                               1.88     -30.53  5138.26   \n",
      "PoissonRegressor                             1.85     -29.60  5061.18   \n",
      "KernelRidge                                  1.50     -17.14  3897.20   \n",
      "PassiveAggressiveRegressor                   1.44     -14.75  3630.82   \n",
      "OrthogonalMatchingPursuit                    1.18      -5.36  2307.74   \n",
      "OrthogonalMatchingPursuitCV                  1.03       0.03   898.86   \n",
      "LassoLars                                    1.02       0.33   746.31   \n",
      "LassoCV                                      1.01       0.52   635.13   \n",
      "LassoLarsCV                                  1.01       0.63   553.22   \n",
      "LarsCV                                       1.01       0.63   553.22   \n",
      "Lars                                         1.00       0.89   307.09   \n",
      "\n",
      "                               Time Taken  \n",
      "Model                                      \n",
      "GaussianProcessRegressor             0.01  \n",
      "LinearSVR                            0.01  \n",
      "MLPRegressor                         0.06  \n",
      "DecisionTreeRegressor                0.01  \n",
      "BaggingRegressor                     0.02  \n",
      "HistGradientBoostingRegressor        0.04  \n",
      "DummyRegressor                       0.01  \n",
      "GradientBoostingRegressor            0.02  \n",
      "NuSVR                                0.01  \n",
      "ExtraTreesRegressor                  0.06  \n",
      "RandomForestRegressor                0.09  \n",
      "QuantileRegressor                    0.01  \n",
      "Lasso                                0.01  \n",
      "SVR                                  0.01  \n",
      "KNeighborsRegressor                  0.01  \n",
      "ElasticNetCV                         0.03  \n",
      "ExtraTreeRegressor                   0.01  \n",
      "TransformedTargetRegressor           0.01  \n",
      "LinearRegression                     0.01  \n",
      "BayesianRidge                        0.01  \n",
      "HuberRegressor                       0.03  \n",
      "SGDRegressor                         0.01  \n",
      "RidgeCV                              0.01  \n",
      "Ridge                                0.01  \n",
      "TweedieRegressor                     0.01  \n",
      "AdaBoostRegressor                    0.04  \n",
      "ElasticNet                           0.01  \n",
      "GammaRegressor                       0.01  \n",
      "PoissonRegressor                     0.01  \n",
      "KernelRidge                          0.01  \n",
      "PassiveAggressiveRegressor           0.01  \n",
      "OrthogonalMatchingPursuit            0.01  \n",
      "OrthogonalMatchingPursuitCV          0.01  \n",
      "LassoLars                            0.01  \n",
      "LassoCV                              0.03  \n",
      "LassoLarsCV                          0.01  \n",
      "LarsCV                               0.01  \n",
      "Lars                                 0.01  \n"
     ]
    },
    {
     "name": "stderr",
     "output_type": "stream",
     "text": [
      "\n"
     ]
    }
   ],
   "source": [
    "models_sleep_duration = lazy_regressor(X_total_sleep, y_total_sleep, test_size = 0.2, random_state = 89, regressor = reg)\n",
    "\n",
    "print(models_sleep_duration)"
   ]
  },
  {
   "attachments": {},
   "cell_type": "markdown",
   "metadata": {},
   "source": [
    "### LazyRegressor for the factors influencing the total awake time during the night given all variables"
   ]
  },
  {
   "cell_type": "code",
   "execution_count": 30,
   "metadata": {},
   "outputs": [],
   "source": [
    "# Separate the indenpendent variables from the dependent variables\n",
    "# For the total awake time, Oura also considers some time before falling asleep and some time after waking up. \n",
    "# Subtract what we can from that, which is the time before falling asleep\n",
    "y_awake_time = df['awake_time'] - df['latency']\n",
    "X_awake_time = df.drop(labels=['awake_time', 'time_in_bed', 'latency', 'total_sleep_duration'], axis=1)"
   ]
  },
  {
   "cell_type": "code",
   "execution_count": 31,
   "metadata": {},
   "outputs": [
    {
     "name": "stdout",
     "output_type": "stream",
     "text": [
      "'tuple' object has no attribute '__name__'\n",
      "Invalid Regressor(s)\n"
     ]
    },
    {
     "name": "stderr",
     "output_type": "stream",
     "text": [
      "100%|██████████| 40/40 [00:01<00:00, 21.14it/s]"
     ]
    },
    {
     "name": "stdout",
     "output_type": "stream",
     "text": [
      "                               Adjusted R-Squared      R-Squared        RMSE  \\\n",
      "Model                                                                          \n",
      "Lars                                2422551772.38 -7522660762.77 71365345.07   \n",
      "GaussianProcessRegressor                     3.73          -7.48     2396.70   \n",
      "MLPRegressor                                 3.57          -7.00     2326.58   \n",
      "LinearSVR                                    3.26          -6.03     2181.61   \n",
      "QuantileRegressor                            1.39          -0.23      911.21   \n",
      "SVR                                          1.39          -0.22      910.38   \n",
      "NuSVR                                        1.37          -0.15      881.46   \n",
      "DummyRegressor                               1.36          -0.10      863.92   \n",
      "KNeighborsRegressor                          1.30           0.06      796.48   \n",
      "PoissonRegressor                             1.27           0.15      759.90   \n",
      "GammaRegressor                               1.27           0.15      758.91   \n",
      "LinearRegression                             1.24           0.27      703.58   \n",
      "RANSACRegressor                              1.24           0.27      703.58   \n",
      "TransformedTargetRegressor                   1.24           0.27      703.58   \n",
      "TweedieRegressor                             1.23           0.29      695.51   \n",
      "ElasticNetCV                                 1.22           0.31      684.89   \n",
      "ElasticNet                                   1.22           0.32      678.08   \n",
      "BayesianRidge                                1.20           0.37      652.40   \n",
      "RidgeCV                                      1.20           0.38      649.12   \n",
      "KernelRidge                                  1.19           0.41      634.29   \n",
      "SGDRegressor                                 1.19           0.41      633.28   \n",
      "Ridge                                        1.19           0.41      629.43   \n",
      "DecisionTreeRegressor                        1.17           0.46      606.01   \n",
      "ExtraTreeRegressor                           1.16           0.49      588.72   \n",
      "PassiveAggressiveRegressor                   1.15           0.53      564.22   \n",
      "AdaBoostRegressor                            1.13           0.60      519.53   \n",
      "HuberRegressor                               1.12           0.62      506.19   \n",
      "LassoLars                                    1.12           0.62      505.44   \n",
      "OrthogonalMatchingPursuit                    1.12           0.64      492.36   \n",
      "BaggingRegressor                             1.11           0.65      484.63   \n",
      "GradientBoostingRegressor                    1.11           0.66      481.04   \n",
      "Lasso                                        1.11           0.66      480.58   \n",
      "RandomForestRegressor                        1.10           0.70      451.79   \n",
      "HistGradientBoostingRegressor                1.09           0.71      446.57   \n",
      "LarsCV                                       1.09           0.72      433.96   \n",
      "ExtraTreesRegressor                          1.09           0.73      428.58   \n",
      "LassoCV                                      1.09           0.73      426.76   \n",
      "LassoLarsIC                                  1.09           0.74      423.44   \n",
      "LassoLarsCV                                  1.08           0.76      406.44   \n",
      "OrthogonalMatchingPursuitCV                  1.05           0.84      329.79   \n",
      "\n",
      "                               Time Taken  \n",
      "Model                                      \n",
      "Lars                                 0.02  \n",
      "GaussianProcessRegressor             0.01  \n",
      "MLPRegressor                         0.10  \n",
      "LinearSVR                            0.01  \n",
      "QuantileRegressor                    0.07  \n",
      "SVR                                  0.01  \n",
      "NuSVR                                0.01  \n",
      "DummyRegressor                       0.01  \n",
      "KNeighborsRegressor                  0.01  \n",
      "PoissonRegressor                     0.02  \n",
      "GammaRegressor                       0.01  \n",
      "LinearRegression                     0.01  \n",
      "RANSACRegressor                      0.01  \n",
      "TransformedTargetRegressor           0.01  \n",
      "TweedieRegressor                     0.01  \n",
      "ElasticNetCV                         0.05  \n",
      "ElasticNet                           0.01  \n",
      "BayesianRidge                        0.01  \n",
      "RidgeCV                              0.01  \n",
      "KernelRidge                          0.01  \n",
      "SGDRegressor                         0.01  \n",
      "Ridge                                0.01  \n",
      "DecisionTreeRegressor                0.01  \n",
      "ExtraTreeRegressor                   0.01  \n",
      "PassiveAggressiveRegressor           0.01  \n",
      "AdaBoostRegressor                    0.06  \n",
      "HuberRegressor                       0.03  \n",
      "LassoLars                            0.02  \n",
      "OrthogonalMatchingPursuit            0.01  \n",
      "BaggingRegressor                     0.02  \n",
      "GradientBoostingRegressor            0.07  \n",
      "Lasso                                0.02  \n",
      "RandomForestRegressor                0.14  \n",
      "HistGradientBoostingRegressor        0.17  \n",
      "LarsCV                               0.05  \n",
      "ExtraTreesRegressor                  0.11  \n",
      "LassoCV                              0.63  \n",
      "LassoLarsIC                          0.02  \n",
      "LassoLarsCV                          0.04  \n",
      "OrthogonalMatchingPursuitCV          0.01  \n"
     ]
    },
    {
     "name": "stderr",
     "output_type": "stream",
     "text": [
      "\n"
     ]
    }
   ],
   "source": [
    "models_awake_time = lazy_regressor(X_awake_time, y_awake_time, test_size = 0.2, random_state = 56, regressor = reg)\n",
    "\n",
    "print(models_awake_time)"
   ]
  },
  {
   "attachments": {},
   "cell_type": "markdown",
   "metadata": {},
   "source": [
    "### LazyRegressor for the factors influencing the total awake time during the night given the questionnaire variables only"
   ]
  },
  {
   "cell_type": "code",
   "execution_count": 32,
   "metadata": {},
   "outputs": [],
   "source": [
    "X_awake_time = df_quest"
   ]
  },
  {
   "cell_type": "code",
   "execution_count": 33,
   "metadata": {},
   "outputs": [
    {
     "name": "stdout",
     "output_type": "stream",
     "text": [
      "'tuple' object has no attribute '__name__'\n",
      "Invalid Regressor(s)\n"
     ]
    },
    {
     "name": "stderr",
     "output_type": "stream",
     "text": [
      "100%|██████████| 40/40 [00:00<00:00, 42.46it/s]"
     ]
    },
    {
     "name": "stdout",
     "output_type": "stream",
     "text": [
      "                               Adjusted R-Squared  R-Squared    RMSE  \\\n",
      "Model                                                                  \n",
      "KernelRidge                                 13.14      -8.59 2547.45   \n",
      "MLPRegressor                                11.54      -7.32 2373.72   \n",
      "LinearSVR                                   11.11      -6.98 2324.97   \n",
      "GaussianProcessRegressor                     8.80      -5.15 2041.32   \n",
      "Lars                                         3.18      -0.72 1080.35   \n",
      "ExtraTreeRegressor                           3.14      -0.69 1070.23   \n",
      "TransformedTargetRegressor                   2.85      -0.46  995.56   \n",
      "LinearRegression                             2.85      -0.46  995.56   \n",
      "DecisionTreeRegressor                        2.85      -0.46  995.37   \n",
      "HuberRegressor                               2.81      -0.43  984.33   \n",
      "Lasso                                        2.80      -0.42  980.19   \n",
      "RANSACRegressor                              2.77      -0.40  972.73   \n",
      "PoissonRegressor                             2.71      -0.35  956.89   \n",
      "SGDRegressor                                 2.71      -0.35  956.40   \n",
      "Ridge                                        2.65      -0.30  938.62   \n",
      "QuantileRegressor                            2.55      -0.23  911.21   \n",
      "SVR                                          2.55      -0.22  910.12   \n",
      "GradientBoostingRegressor                    2.52      -0.20  900.01   \n",
      "NuSVR                                        2.46      -0.15  882.07   \n",
      "LassoLars                                    2.41      -0.11  868.08   \n",
      "PassiveAggressiveRegressor                   2.40      -0.11  865.80   \n",
      "DummyRegressor                               2.40      -0.10  863.92   \n",
      "KNeighborsRegressor                          2.34      -0.06  847.55   \n",
      "RidgeCV                                      2.29      -0.02  829.00   \n",
      "BaggingRegressor                             2.27      -0.01  825.16   \n",
      "RandomForestRegressor                        2.27      -0.00  823.16   \n",
      "GammaRegressor                               2.25       0.01  816.80   \n",
      "BayesianRidge                                2.24       0.02  812.66   \n",
      "ElasticNetCV                                 2.23       0.03  810.74   \n",
      "ElasticNet                                   2.23       0.03  809.46   \n",
      "TweedieRegressor                             2.22       0.03  808.35   \n",
      "ExtraTreesRegressor                          2.22       0.04  807.91   \n",
      "AdaBoostRegressor                            2.21       0.04  805.82   \n",
      "LassoLarsCV                                  2.19       0.06  796.11   \n",
      "LarsCV                                       2.19       0.06  796.11   \n",
      "LassoCV                                      2.17       0.07  792.10   \n",
      "LassoLarsIC                                  2.16       0.08  787.98   \n",
      "HistGradientBoostingRegressor                2.11       0.12  771.00   \n",
      "OrthogonalMatchingPursuitCV                  2.06       0.16  752.66   \n",
      "OrthogonalMatchingPursuit                    2.06       0.17  751.43   \n",
      "\n",
      "                               Time Taken  \n",
      "Model                                      \n",
      "KernelRidge                          0.01  \n",
      "MLPRegressor                         0.09  \n",
      "LinearSVR                            0.01  \n",
      "GaussianProcessRegressor             0.01  \n",
      "Lars                                 0.01  \n",
      "ExtraTreeRegressor                   0.01  \n",
      "TransformedTargetRegressor           0.01  \n",
      "LinearRegression                     0.01  \n",
      "DecisionTreeRegressor                0.01  \n",
      "HuberRegressor                       0.01  \n",
      "Lasso                                0.01  \n",
      "RANSACRegressor                      0.04  \n",
      "PoissonRegressor                     0.01  \n",
      "SGDRegressor                         0.01  \n",
      "Ridge                                0.01  \n",
      "QuantileRegressor                    0.04  \n",
      "SVR                                  0.01  \n",
      "GradientBoostingRegressor            0.02  \n",
      "NuSVR                                0.01  \n",
      "LassoLars                            0.01  \n",
      "PassiveAggressiveRegressor           0.01  \n",
      "DummyRegressor                       0.01  \n",
      "KNeighborsRegressor                  0.01  \n",
      "RidgeCV                              0.01  \n",
      "BaggingRegressor                     0.02  \n",
      "RandomForestRegressor                0.09  \n",
      "GammaRegressor                       0.01  \n",
      "BayesianRidge                        0.01  \n",
      "ElasticNetCV                         0.03  \n",
      "ElasticNet                           0.01  \n",
      "TweedieRegressor                     0.01  \n",
      "ExtraTreesRegressor                  0.07  \n",
      "AdaBoostRegressor                    0.05  \n",
      "LassoLarsCV                          0.02  \n",
      "LarsCV                               0.02  \n",
      "LassoCV                              0.05  \n",
      "LassoLarsIC                          0.01  \n",
      "HistGradientBoostingRegressor        0.19  \n",
      "OrthogonalMatchingPursuitCV          0.01  \n",
      "OrthogonalMatchingPursuit            0.01  \n"
     ]
    },
    {
     "name": "stderr",
     "output_type": "stream",
     "text": [
      "\n"
     ]
    }
   ],
   "source": [
    "models_awake_time = lazy_regressor(X_awake_time, y_awake_time, test_size = 0.2, random_state = 56, regressor = reg)\n",
    "\n",
    "print(models_awake_time)"
   ]
  },
  {
   "attachments": {},
   "cell_type": "markdown",
   "metadata": {},
   "source": [
    "### LazyRegressor for the factors influencing the total awake time during the night given the Oura variables only"
   ]
  },
  {
   "cell_type": "code",
   "execution_count": 34,
   "metadata": {},
   "outputs": [],
   "source": [
    "X_awake_time = df_oura.drop(labels=['awake_time', 'time_in_bed', 'latency', 'total_sleep_duration'], axis=1)"
   ]
  },
  {
   "cell_type": "code",
   "execution_count": 35,
   "metadata": {},
   "outputs": [
    {
     "name": "stdout",
     "output_type": "stream",
     "text": [
      "'tuple' object has no attribute '__name__'\n",
      "Invalid Regressor(s)\n"
     ]
    },
    {
     "name": "stderr",
     "output_type": "stream",
     "text": [
      "100%|██████████| 40/40 [00:01<00:00, 27.79it/s]"
     ]
    },
    {
     "name": "stdout",
     "output_type": "stream",
     "text": [
      "                               Adjusted R-Squared  R-Squared     RMSE  \\\n",
      "Model                                                                   \n",
      "Lars                                      1594.39   -2263.29 39153.26   \n",
      "GaussianProcessRegressor                     6.95      -7.46  2392.60   \n",
      "MLPRegressor                                 6.66      -7.04  2332.84   \n",
      "LinearSVR                                    5.95      -6.03  2181.61   \n",
      "QuantileRegressor                            1.86      -0.23   911.21   \n",
      "SVR                                          1.86      -0.22   910.31   \n",
      "KNeighborsRegressor                          1.85      -0.21   906.51   \n",
      "NuSVR                                        1.81      -0.15   881.08   \n",
      "DummyRegressor                               1.78      -0.10   863.92   \n",
      "GammaRegressor                               1.55       0.22   726.49   \n",
      "TweedieRegressor                             1.45       0.36   660.47   \n",
      "ElasticNetCV                                 1.43       0.39   643.60   \n",
      "ElasticNet                                   1.42       0.41   632.06   \n",
      "PoissonRegressor                             1.40       0.43   623.54   \n",
      "BayesianRidge                                1.30       0.57   539.63   \n",
      "GradientBoostingRegressor                    1.29       0.59   528.69   \n",
      "AdaBoostRegressor                            1.28       0.60   522.91   \n",
      "BaggingRegressor                             1.26       0.63   501.04   \n",
      "SGDRegressor                                 1.26       0.63   497.31   \n",
      "LassoLars                                    1.25       0.65   490.21   \n",
      "KernelRidge                                  1.24       0.66   482.91   \n",
      "DecisionTreeRegressor                        1.24       0.66   482.10   \n",
      "Ridge                                        1.24       0.66   479.24   \n",
      "PassiveAggressiveRegressor                   1.23       0.67   474.25   \n",
      "HistGradientBoostingRegressor                1.22       0.68   464.58   \n",
      "LassoCV                                      1.22       0.68   463.77   \n",
      "RandomForestRegressor                        1.21       0.70   453.85   \n",
      "ExtraTreesRegressor                          1.21       0.70   452.06   \n",
      "OrthogonalMatchingPursuit                    1.21       0.70   451.30   \n",
      "LassoLarsCV                                  1.20       0.72   437.94   \n",
      "LassoLarsIC                                  1.20       0.72   433.80   \n",
      "RidgeCV                                      1.20       0.72   433.62   \n",
      "LarsCV                                       1.19       0.73   424.55   \n",
      "Lasso                                        1.16       0.77   394.42   \n",
      "LinearRegression                             1.15       0.79   379.53   \n",
      "TransformedTargetRegressor                   1.15       0.79   379.53   \n",
      "ExtraTreeRegressor                           1.12       0.83   341.53   \n",
      "OrthogonalMatchingPursuitCV                  1.11       0.84   329.79   \n",
      "HuberRegressor                               1.11       0.85   318.49   \n",
      "RANSACRegressor                              1.09       0.87   300.96   \n",
      "\n",
      "                               Time Taken  \n",
      "Model                                      \n",
      "Lars                                 0.01  \n",
      "GaussianProcessRegressor             0.01  \n",
      "MLPRegressor                         0.10  \n",
      "LinearSVR                            0.01  \n",
      "QuantileRegressor                    0.06  \n",
      "SVR                                  0.01  \n",
      "KNeighborsRegressor                  0.01  \n",
      "NuSVR                                0.01  \n",
      "DummyRegressor                       0.01  \n",
      "GammaRegressor                       0.01  \n",
      "TweedieRegressor                     0.01  \n",
      "ElasticNetCV                         0.04  \n",
      "ElasticNet                           0.01  \n",
      "PoissonRegressor                     0.02  \n",
      "BayesianRidge                        0.01  \n",
      "GradientBoostingRegressor            0.06  \n",
      "AdaBoostRegressor                    0.06  \n",
      "BaggingRegressor                     0.03  \n",
      "SGDRegressor                         0.01  \n",
      "LassoLars                            0.01  \n",
      "KernelRidge                          0.01  \n",
      "DecisionTreeRegressor                0.01  \n",
      "Ridge                                0.01  \n",
      "PassiveAggressiveRegressor           0.01  \n",
      "HistGradientBoostingRegressor        0.17  \n",
      "LassoCV                              0.25  \n",
      "RandomForestRegressor                0.13  \n",
      "ExtraTreesRegressor                  0.09  \n",
      "OrthogonalMatchingPursuit            0.01  \n",
      "LassoLarsCV                          0.04  \n",
      "LassoLarsIC                          0.02  \n",
      "RidgeCV                              0.01  \n",
      "LarsCV                               0.06  \n",
      "Lasso                                0.02  \n",
      "LinearRegression                     0.01  \n",
      "TransformedTargetRegressor           0.01  \n",
      "ExtraTreeRegressor                   0.01  \n",
      "OrthogonalMatchingPursuitCV          0.01  \n",
      "HuberRegressor                       0.02  \n",
      "RANSACRegressor                      0.02  \n"
     ]
    },
    {
     "name": "stderr",
     "output_type": "stream",
     "text": [
      "\n"
     ]
    }
   ],
   "source": [
    "models_awake_time = lazy_regressor(X_awake_time, y_awake_time, test_size = 0.2, random_state = 56, regressor = reg)\n",
    "\n",
    "print(models_awake_time)"
   ]
  }
 ],
 "metadata": {
  "kernelspec": {
   "display_name": "Python 3.7.10 ('tensorflow_env')",
   "language": "python",
   "name": "python3"
  },
  "language_info": {
   "codemirror_mode": {
    "name": "ipython",
    "version": 3
   },
   "file_extension": ".py",
   "mimetype": "text/x-python",
   "name": "python",
   "nbconvert_exporter": "python",
   "pygments_lexer": "ipython3",
   "version": "3.7.10"
  },
  "orig_nbformat": 4,
  "vscode": {
   "interpreter": {
    "hash": "f440ca07c10c374a105f3d67f9c2c345d20e5b276c036b89a1e623f864f80620"
   }
  }
 },
 "nbformat": 4,
 "nbformat_minor": 2
}
