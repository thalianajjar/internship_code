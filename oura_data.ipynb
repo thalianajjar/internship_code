{
 "cells": [
  {
   "cell_type": "markdown",
   "metadata": {},
   "source": [
    "# Oura Ring Semi-Continuous Data Extraction\n",
    "\n",
    "## Author Information\n",
    "\n",
    "Author: Sjors Weggeman\n",
    "\n",
    "Student number: s4799771\n",
    "\n",
    "University: Radboud University Nijmegen\n",
    "\n",
    "## Imports"
   ]
  },
  {
   "cell_type": "code",
   "execution_count": 119,
   "metadata": {},
   "outputs": [],
   "source": [
    "import json\n",
    "import matplotlib.pyplot as plt\n",
    "import numpy\n",
    "import csv\n",
    "import pandas as pd\n",
    "from jsonmerge import merge"
   ]
  },
  {
   "cell_type": "markdown",
   "metadata": {},
   "source": [
    "Thalia's addition (taken from the internet):"
   ]
  },
  {
   "cell_type": "code",
   "execution_count": 120,
   "metadata": {},
   "outputs": [
    {
     "name": "stderr",
     "output_type": "stream",
     "text": [
      "/Users/user/opt/anaconda3/envs/tensorflow_env/lib/python3.7/site-packages/ipykernel_launcher.py:34: SettingWithCopyWarning: \n",
      "A value is trying to be set on a copy of a slice from a DataFrame\n",
      "\n",
      "See the caveats in the documentation: https://pandas.pydata.org/pandas-docs/stable/user_guide/indexing.html#returning-a-view-versus-a-copy\n"
     ]
    }
   ],
   "source": [
    "# Function to convert a CSV to JSON\n",
    "# Takes the file paths as arguments\n",
    "def make_json(csvFilePath, jsonFilePath):\n",
    "     \n",
    "    # create a dictionary\n",
    "    data = {}\n",
    "     \n",
    "    # Open a csv reader called DictReader\n",
    "    with open(csvFilePath, encoding='utf-8') as csvf:\n",
    "        csvReader = csv.DictReader(csvf)\n",
    "         \n",
    "        # Convert each row into a dictionary\n",
    "        # and add it to data\n",
    "        for rows in csvReader:\n",
    "             \n",
    "            # Assuming a column named 'No' to\n",
    "            # be the primary key\n",
    "            key = rows['index']\n",
    "            data[key] = rows\n",
    " \n",
    "    # Open a json writer, and use the json.dumps()\n",
    "    # function to dump data\n",
    "    with open(jsonFilePath, 'w', encoding='utf-8') as jsonf:\n",
    "        jsonf.write(json.dumps(data, indent=4))\n",
    "         \n",
    "# Driver Code\n",
    " \n",
    "# Decide the two file paths according to your computer system\n",
    "raw_oura = pd.read_csv(\"/Users/user/Desktop/Msc AI RU/Internship/Code/Data/oura_1.csv\")\n",
    "\n",
    "edited_oura = raw_oura.copy()\n",
    "edited_oura[\"index\"] = \"\"\n",
    "for i in range(len(edited_oura.index)):\n",
    "    edited_oura[\"index\"][i] = i\n",
    "\n",
    "cols = edited_oura.columns.tolist()\n",
    "cols = cols[-1:] + cols[:-1]\n",
    "edited_oura = edited_oura[cols]\n",
    "\n",
    "edited_oura.to_csv('/Users/user/Desktop/Msc AI RU/Internship/Code/Data/edited_oura.csv')\n",
    "\n",
    "csvFilePath = r'/Users/user/Desktop/Msc AI RU/Internship/Code/Data/edited_oura.csv'\n",
    "jsonFilePath = r'/Users/user/Desktop/Msc AI RU/Internship/Code/Data/oura_1.json'\n",
    "\n",
    "# Call the make_json function\n",
    "make_json(csvFilePath, jsonFilePath)"
   ]
  },
  {
   "cell_type": "code",
   "execution_count": 121,
   "metadata": {},
   "outputs": [],
   "source": [
    "# NOT COMPLETE --> Combine all json files \n",
    "with open('/Users/user/Desktop/Msc AI RU/Internship/Code/oura_json/oura_sleep_2022-12-06T10-07-33.json') as f:\n",
    "    data1 = json.load(f)\n",
    "\n",
    "with open('/Users/user/Desktop/Msc AI RU/Internship/Code/oura_json/oura_heart-rate_2022-12-06T10-07-47.json') as f:\n",
    "    data2 = json.load(f)\n",
    "\n",
    "with open('/Users/user/Desktop/Msc AI RU/Internship/Code/oura_json/oura_daily-sleep_2022-12-06T10-07-43.json') as f:\n",
    "    data3 = json.load(f)\n",
    "\n",
    "with open('/Users/user/Desktop/Msc AI RU/Internship/Code/oura_json/oura_daily-readiness_2022-12-06T10-07-44.json') as f:\n",
    "    data4 = json.load(f)\n",
    "\n",
    "with open('/Users/user/Desktop/Msc AI RU/Internship/Code/oura_json/oura_daily-activity_2022-12-06T10-07-45.json') as f:\n",
    "    data5 = json.load(f)\n",
    "\n",
    "# files = [data1, data2, data3, data4, data5]    \n",
    "# files = ['oura_json/oura_sleep_2022-12-06T10-07-33.json', 'oura_json/oura_heart-rate_2022-12-06T10-07-47.json', 'oura_json/oura_daily-sleep_2022-12-06T10-07-43.json', 'oura_json/oura_daily-readiness_2022-12-06T10-07-44.json', 'oura_json/oura_daily-activity_2022-12-06T10-07-45.json']\n",
    "\n",
    "# df1 = pd.read_json('/Users/user/Desktop/Msc AI RU/Internship/Code/oura_json/oura_sleep_2022-12-06T10-07-33.json')\n",
    "# df2 = pd.read_json('/Users/user/Desktop/Msc AI RU/Internship/Code/oura_json/oura_heart-rate_2022-12-06T10-07-47.json')\n",
    "# df3 = pd.read_json('/Users/user/Desktop/Msc AI RU/Internship/Code/oura_json/oura_daily-sleep_2022-12-06T10-07-43.json')\n",
    "# df4 = pd.read_json('/Users/user/Desktop/Msc AI RU/Internship/Code/oura_json/oura_daily-readiness_2022-12-06T10-07-44.json')\n",
    "# df5 = pd.read_json('/Users/user/Desktop/Msc AI RU/Internship/Code/oura_json/oura_daily-activity_2022-12-06T10-07-45.json')\n",
    "\n",
    "all_oura = merge(data1, data2)\n",
    "all_oura = merge(all_oura, data3)\n",
    "all_oura = merge(all_oura, data4)\n",
    "all_oura = merge(all_oura, data5)\n",
    "\n",
    "json_string = json.dumps(all_oura)\n",
    "with open('oura_json/all_json_oura.json', 'w') as outfile:\n",
    "    outfile.write(json_string)"
   ]
  },
  {
   "cell_type": "code",
   "execution_count": 122,
   "metadata": {},
   "outputs": [],
   "source": [
    "# Method 1 --> Failed\n",
    "# def merge_JsonFiles(filename):\n",
    "#     result = list()\n",
    "#     for f1 in filename:\n",
    "#         with open(f1, 'r') as infile:\n",
    "#             result.extend(json.load(infile))\n",
    "\n",
    "#     with open('all_oura.json', 'w') as output_file:\n",
    "#         json.dump(result, output_file)\n",
    "\n",
    "# merge_JsonFiles(files)"
   ]
  },
  {
   "cell_type": "code",
   "execution_count": 123,
   "metadata": {},
   "outputs": [],
   "source": [
    "# Method 2 --> Failed\n",
    "# merge_json = pd.concat(files, axis=1)\n",
    "# merge_json.to_json(\"oura_json/merged_oura.json\") "
   ]
  },
  {
   "cell_type": "code",
   "execution_count": 124,
   "metadata": {},
   "outputs": [],
   "source": [
    "# Method 3 --> Failed\n",
    "# df = pd.concat([df1, df2, df3, df4, df5], axis=0, ignore_index=True)\n",
    "\n",
    "# df.to_csv('/Users/user/Desktop/Msc AI RU/Internship/Code/oura_json/all_oura.csv')\n",
    "\n",
    "# csvFilePath = r'/Users/user/Desktop/Msc AI RU/Internship/Code/oura_json/all_oura.csv'\n",
    "# jsonFilePath = r'/Users/user/Desktop/Msc AI RU/Internship/Code/oura_json/all_oura.json'\n",
    "\n",
    "# make_json(csvFilePath, jsonFilePath)"
   ]
  },
  {
   "cell_type": "markdown",
   "metadata": {},
   "source": [
    "## Loading the data"
   ]
  },
  {
   "cell_type": "code",
   "execution_count": 125,
   "metadata": {},
   "outputs": [],
   "source": [
    "# Opening the file\n",
    "file = open('/Users/user/Desktop/Msc AI RU/Internship/Code/oura_json/all_json_oura.json')\n",
    "\n",
    "# Loading the file into a workable dataframe\n",
    "data = json.load(file)"
   ]
  },
  {
   "cell_type": "markdown",
   "metadata": {},
   "source": [
    "## Data Inspection"
   ]
  },
  {
   "cell_type": "code",
   "execution_count": 126,
   "metadata": {},
   "outputs": [
    {
     "name": "stdout",
     "output_type": "stream",
     "text": [
      "\u001b[1msleep\u001b[0m\n",
      "bedtime_end: '2022-06-09T07:03:09+02:00'\n",
      "bedtime_start: '2022-06-08T23:01:09+02:00'\n",
      "contributors: {'total_sleep': None, 'deep_sleep': None, 'rem_sleep': None, 'efficiency': None, 'latency': None, 'restfulness': None, 'timing': None}\n",
      "day: '2022-06-09'\n",
      "heart_rate: {'interval': 300, 'items': [], 'timestamp': '2022-06-08T23:01:09+02:00'}\n",
      "hrv: {'interval': 300, 'items': [], 'timestamp': '2022-06-08T23:01:09+02:00'}\n",
      "period: 0\n",
      "segment_state: 'active'\n",
      "time_in_bed: 28920\n",
      "type: 'rest'\n",
      "sleep_phase_5_min: None\n",
      "restless: None\n",
      "timezone: 120\n",
      "bedtime_start_delta: -3531\n",
      "bedtime_end_delta: 25389\n",
      "midpoint_at_delta: None\n",
      "counter= 175 \n",
      "\n",
      "\u001b[1mheart_rate\u001b[0m\n",
      "counter= -1 \n",
      "\n",
      "\u001b[1mdaily_sleep\u001b[0m\n",
      "contributors: {'total_sleep': 74, 'deep_sleep': 98, 'rem_sleep': 84, 'efficiency': 95, 'latency': 86, 'restfulness': 75, 'timing': 100}\n",
      "day: '2022-06-10'\n",
      "score: 83\n",
      "counter= 164 \n",
      "\n",
      "\u001b[1mdaily_readiness\u001b[0m\n",
      "contributors: {'activity_balance': None, 'body_temperature': 100, 'hrv_balance': None, 'previous_day_activity': None, 'previous_night': 82, 'recovery_index': 100, 'resting_heart_rate': 100, 'sleep_balance': None}\n",
      "day: '2022-06-10'\n",
      "score: 93\n",
      "temperature_deviation: 0.0\n",
      "counter= 164 \n",
      "\n",
      "\u001b[1mdaily_activity\u001b[0m\n",
      "active_calories: 8\n",
      "average_met_minutes: 1.03125\n",
      "contributors: {'meet_daily_targets': 78, 'move_every_hour': 100, 'recovery_time': 98, 'stay_active': 100, 'training_frequency': 100, 'training_volume': 99}\n",
      "day: '2022-06-08'\n",
      "equivalent_walking_distance: 107\n",
      "high_activity_met_minutes: 0\n",
      "high_activity_time: 0\n",
      "inactivity_alerts: 0\n",
      "low_activity_met_minutes: 4\n",
      "low_activity_time: 360\n",
      "medium_activity_met_minutes: 0\n",
      "medium_activity_time: 0\n",
      "met: {'interval': 60, 'items': [0.1, 0.1, 0.1, 0.1, 0.1, 0.1, 0.1, 0.1, 0.1, 0.1, 0.1, 0.1, 0.1, 0.1, 0.1, 0.1, 0.1, 0.1, 0.1, 0.1, 0.1, 0.1, 0.1, 0.1, 0.1, 0.1, 0.1, 0.1, 0.1, 0.1, 0.1, 0.1, 0.1, 0.1, 0.1, 0.1, 0.1, 0.1, 0.1, 0.1, 0.1, 0.1, 0.1, 0.1, 0.1, 0.1, 0.1, 0.1, 0.1, 0.1, 0.1, 0.1, 0.1, 0.1, 0.1, 0.1, 0.1, 0.1, 0.1, 0.1, 0.1, 0.1, 0.1, 0.1, 0.1, 0.1, 0.1, 0.1, 0.1, 0.1, 0.1, 0.1, 0.1, 0.1, 0.1, 0.1, 0.1, 0.1, 0.1, 0.1, 0.1, 0.1, 0.1, 0.1, 0.1, 0.1, 0.1, 0.1, 0.1, 0.1, 0.1, 0.1, 0.1, 0.1, 0.1, 0.1, 0.1, 0.1, 0.1, 0.1, 0.1, 0.1, 0.1, 0.1, 0.1, 0.1, 0.1, 0.1, 0.1, 0.1, 0.1, 0.1, 0.1, 0.1, 0.1, 0.1, 0.1, 0.1, 0.1, 0.1, 0.1, 0.1, 0.1, 0.1, 0.1, 0.1, 0.1, 0.1, 0.1, 0.1, 0.1, 0.1, 0.1, 0.1, 0.1, 0.1, 0.1, 0.1, 0.1, 0.1, 0.1, 0.1, 0.1, 0.1, 0.1, 0.1, 0.1, 0.1, 0.1, 0.1, 0.1, 0.1, 0.1, 0.1, 0.1, 0.1, 0.1, 0.1, 0.1, 0.1, 0.1, 0.1, 0.1, 0.1, 0.1, 0.1, 0.1, 0.1, 0.1, 0.1, 0.1, 0.1, 0.1, 0.1, 0.1, 0.1, 0.1, 0.1, 0.1, 0.1, 0.1, 0.1, 0.1, 0.1, 0.1, 0.1, 0.1, 0.1, 0.1, 0.1, 0.1, 0.1, 0.1, 0.1, 0.1, 0.1, 0.1, 0.1, 0.1, 0.1, 0.1, 0.1, 0.1, 0.1, 0.1, 0.1, 0.1, 0.1, 0.1, 0.1, 0.1, 0.1, 0.1, 0.1, 0.1, 0.1, 0.1, 0.1, 0.1, 0.1, 0.1, 0.1, 0.1, 0.1, 0.1, 0.1, 0.1, 0.1, 0.1, 0.1, 0.1, 0.1, 0.1, 0.1, 0.1, 0.1, 0.1, 0.1, 0.1, 0.1, 0.1, 0.1, 0.1, 0.1, 0.1, 0.1, 0.1, 0.1, 0.1, 0.1, 0.1, 0.1, 0.1, 0.1, 0.1, 0.1, 0.1, 0.1, 0.1, 0.1, 0.1, 0.1, 0.1, 0.1, 0.1, 0.1, 0.1, 0.1, 0.1, 0.1, 0.1, 0.1, 0.1, 0.1, 0.1, 0.1, 0.1, 0.1, 0.1, 0.1, 0.1, 0.1, 0.1, 0.1, 0.1, 0.1, 0.1, 0.1, 0.1, 0.1, 0.1, 0.1, 0.1, 0.1, 0.1, 0.1, 0.1, 0.1, 0.1, 0.1, 0.1, 0.1, 0.1, 0.1, 0.1, 0.1, 0.1, 0.1, 0.1, 0.1, 0.1, 0.1, 0.1, 0.1, 0.1, 0.1, 0.1, 0.1, 0.1, 0.1, 0.1, 0.1, 0.1, 0.1, 0.1, 0.1, 0.1, 0.1, 0.1, 0.1, 0.1, 0.1, 0.1, 0.1, 0.1, 0.1, 0.1, 0.1, 0.1, 0.1, 0.1, 0.1, 0.1, 0.1, 0.1, 0.1, 0.1, 0.1, 0.1, 0.1, 0.1, 0.1, 0.1, 0.1, 0.1, 0.1, 0.1, 0.1, 0.1, 0.1, 0.1, 0.1, 0.1, 0.1, 0.1, 0.1, 0.1, 0.1, 0.1, 0.1, 0.1, 0.1, 0.1, 0.1, 0.1, 0.1, 0.1, 0.1, 0.1, 0.1, 0.1, 0.1, 0.1, 0.1, 0.1, 0.1, 0.1, 0.1, 0.1, 0.1, 0.1, 0.1, 0.1, 0.1, 0.1, 0.1, 0.1, 0.1, 0.1, 0.1, 0.1, 0.1, 0.1, 0.1, 0.1, 0.1, 0.1, 0.1, 0.1, 0.1, 0.1, 0.1, 0.1, 0.1, 0.1, 0.1, 0.1, 0.1, 0.1, 0.1, 0.1, 0.1, 0.1, 0.1, 0.1, 0.1, 0.1, 0.1, 0.1, 0.1, 0.1, 0.1, 0.1, 0.1, 0.1, 0.1, 0.1, 0.1, 0.1, 0.1, 0.1, 0.1, 0.1, 0.1, 0.1, 0.1, 0.1, 0.1, 0.1, 0.1, 0.1, 0.1, 0.1, 0.1, 0.1, 0.1, 0.1, 0.1, 0.1, 0.1, 0.1, 0.1, 0.1, 0.1, 0.1, 0.1, 0.1, 0.1, 0.1, 0.1, 0.1, 0.1, 0.1, 0.1, 0.1, 0.1, 0.1, 0.1, 0.1, 0.1, 0.1, 0.1, 0.1, 0.1, 0.1, 0.1, 0.1, 0.1, 0.1, 0.1, 0.1, 0.1, 0.1, 0.1, 0.1, 0.1, 0.1, 0.1, 0.1, 0.1, 0.1, 0.1, 0.1, 0.1, 0.1, 0.1, 0.1, 0.1, 0.1, 0.1, 0.1, 0.1, 0.1, 0.1, 0.1, 0.1, 0.1, 0.1, 0.1, 0.1, 0.1, 0.1, 0.1, 0.1, 0.1, 0.1, 0.1, 0.1, 0.1, 0.1, 0.1, 0.1, 0.1, 0.1, 0.1, 0.1, 0.1, 0.1, 0.1, 0.1, 0.1, 0.1, 0.1, 0.1, 0.1, 0.1, 0.1, 0.1, 0.1, 0.1, 0.1, 0.1, 0.1, 0.1, 0.1, 0.1, 0.1, 0.1, 0.1, 0.1, 0.1, 0.1, 0.1, 0.1, 0.1, 0.1, 0.1, 0.1, 0.1, 0.1, 0.1, 0.1, 0.1, 0.1, 0.1, 0.1, 0.1, 0.1, 0.1, 0.1, 0.1, 0.1, 0.1, 0.1, 0.1, 0.1, 0.1, 0.1, 0.1, 0.1, 0.1, 0.1, 0.1, 0.1, 0.1, 0.1, 0.1, 0.1, 0.1, 0.1, 0.1, 0.1, 0.1, 0.1, 0.1, 0.1, 0.1, 0.1, 0.1, 0.1, 0.1, 0.1, 0.1, 0.1, 0.1, 0.1, 0.1, 0.1, 0.1, 0.1, 0.1, 0.1, 0.1, 0.1, 0.1, 0.1, 0.1, 0.1, 0.1, 0.1, 0.1, 0.1, 0.1, 0.1, 0.1, 0.1, 0.1, 0.1, 0.1, 0.1, 0.1, 0.1, 0.1, 0.1, 0.1, 0.1, 0.1, 0.1, 0.1, 0.1, 0.1, 0.1, 0.1, 0.1, 0.1, 0.1, 0.1, 0.1, 0.1, 0.1, 0.1, 0.1, 0.1, 0.1, 0.1, 0.1, 0.1, 0.1, 0.1, 0.1, 0.1, 0.1, 0.1, 0.1, 0.1, 0.1, 0.1, 0.1, 0.1, 0.1, 0.1, 0.1, 0.1, 0.1, 0.1, 0.1, 0.1, 0.1, 0.1, 0.1, 0.1, 0.1, 0.1, 0.1, 0.1, 0.1, 0.1, 0.1, 0.1, 0.1, 0.1, 0.1, 0.1, 0.1, 0.1, 0.1, 0.1, 0.1, 0.1, 0.1, 0.1, 0.1, 0.1, 0.1, 0.1, 0.1, 0.1, 0.1, 0.1, 0.1, 0.1, 0.1, 0.1, 0.1, 0.1, 0.1, 0.1, 0.1, 0.1, 0.1, 0.1, 0.1, 0.1, 0.1, 0.1, 0.1, 0.1, 0.1, 0.1, 0.1, 0.1, 0.1, 0.1, 0.1, 0.1, 0.1, 0.1, 0.1, 0.1, 0.1, 0.1, 0.1, 0.1, 0.1, 0.1, 0.1, 0.1, 0.1, 0.1, 0.1, 0.1, 0.1, 0.1, 0.1, 0.1, 0.1, 0.1, 0.1, 0.1, 0.1, 0.1, 0.1, 0.1, 0.1, 0.1, 0.1, 0.1, 0.1, 0.1, 0.1, 0.1, 0.1, 0.1, 0.1, 0.1, 0.1, 0.1, 0.1, 0.1, 0.1, 0.1, 0.1, 0.1, 0.1, 0.1, 0.1, 0.1, 0.1, 0.1, 0.1, 0.1, 0.1, 0.1, 0.1, 0.1, 0.1, 0.1, 0.1, 0.1, 0.1, 0.1, 0.1, 0.1, 0.1, 0.1, 0.1, 0.1, 0.1, 0.1, 0.1, 0.1, 0.1, 0.1, 0.1, 0.1, 0.1, 0.1, 0.1, 0.1, 0.1, 0.1, 0.1, 0.1, 0.1, 0.1, 0.1, 0.1, 0.1, 0.1, 0.1, 0.1, 0.1, 0.1, 0.1, 0.1, 0.1, 0.1, 0.1, 0.1, 0.1, 0.1, 0.1, 0.1, 0.1, 0.1, 0.1, 0.1, 0.1, 0.1, 0.1, 0.1, 0.1, 0.1, 0.1, 0.1, 0.1, 0.1, 0.1, 0.1, 0.1, 0.1, 0.1, 0.1, 0.1, 0.1, 0.1, 0.1, 0.1, 0.1, 0.1, 0.1, 0.1, 0.1, 0.1, 0.1, 0.1, 0.1, 0.1, 0.1, 0.1, 0.1, 0.1, 0.1, 0.1, 0.1, 0.1, 0.1, 0.1, 0.1, 0.1, 0.1, 0.1, 0.1, 0.1, 0.1, 0.1, 0.1, 0.1, 0.1, 0.1, 0.1, 0.1, 0.1, 0.1, 0.1, 0.1, 0.1, 0.1, 0.1, 0.1, 0.1, 0.1, 0.1, 0.1, 0.1, 0.1, 0.1, 0.1, 0.1, 0.1, 0.1, 0.1, 0.1, 0.1, 0.1, 0.1, 0.1, 0.1, 0.1, 0.1, 0.1, 0.1, 0.1, 0.1, 0.1, 0.1, 0.1, 0.1, 0.1, 0.1, 0.1, 0.1, 0.1, 0.1, 0.1, 0.1, 0.1, 0.1, 0.1, 0.1, 0.1, 0.1, 0.1, 0.1, 0.1, 0.1, 0.1, 0.1, 0.1, 0.1, 0.1, 0.1, 0.1, 0.1, 0.1, 0.1, 0.1, 0.1, 0.1, 0.1, 0.1, 0.1, 0.1, 0.1, 0.1, 0.1, 0.1, 0.1, 0.1, 0.1, 0.1, 0.1, 0.1, 0.1, 0.1, 0.1, 0.1, 0.1, 0.1, 0.1, 0.1, 0.1, 0.1, 0.1, 0.1, 0.1, 0.1, 0.1, 0.1, 0.1, 0.1, 0.1, 0.1, 0.1, 0.1, 0.1, 1.7, 1.8, 1.7, 1.7, 1.3, 1.4, 1.5, 1.2, 1.6, 1.4, 1.3, 1.7, 1.5, 0.0, 1.4, 1.3, 0.1, 0.1, 0.1, 1.2, 1.4, 0.1, 0.1, 0.1, 0.1, 1.2, 0.1, 0.1, 0.1, 0.1, 0.1, 0.1, 0.1, 0.1, 0.1, 0.1, 0.1, 0.1, 0.1, 0.1, 1.2, 1.2, 1.2, 0.1, 0.1, 0.1, 0.1, 0.1, 0.1, 0.1, 0.1, 0.1, 1.3, 1.4, 3.3, 3.1, 1.7, 1.2, 0.1, 0.1, 0.1, 0.1, 0.1, 0.1, 0.1, 0.1, 0.1, 0.1, 0.1, 0.1, 0.1, 0.1, 0.1, 0.1, 0.1, 0.1, 0.1, 0.1, 0.1, 0.1, 0.1, 0.1, 0.1, 0.1, 0.1, 1.5, 1.5, 1.3, 1.4, 1.6, 1.5, 1.4, 1.4, 1.5, 1.4, 1.4, 1.2, 1.4, 1.3, 1.3, 1.3, 1.4, 1.3, 1.3, 1.4, 1.4, 1.7, 1.5, 1.4, 1.3, 1.5, 1.6, 1.5, 1.6, 1.5, 1.5, 1.3, 1.5, 1.7, 1.4, 1.3, 1.3, 1.5, 1.7, 1.9, 1.7, 1.2, 1.2, 1.5, 1.2, 1.2, 1.1, 1.1, 1.2, 1.2, 1.1, 0.9, 0.0, 1.1, 0.9, 0.9, 0.9, 0.9, 0.9, 0.9, 0.9, 0.9, 0.9, 0.9, 0.9, 0.9, 0.0, 0.0, 0.0, 0.0, 0.0, 0.0, 0.0, 0.0, 0.0, 0.0, 0.0, 0.0, 0.0, 0.0, 0.0, 0.0, 0.0, 0.0, 0.0, 0.0, 0.0, 0.0, 0.0, 0.0, 0.0, 0.0, 0.0, 0.0, 0.0, 0.0, 0.0, 0.0, 0.0, 0.0, 0.0, 0.0, 0.0, 0.0, 0.0, 0.0, 0.0, 0.0, 0.0, 0.0, 0.0, 0.0, 0.0, 0.0, 0.0, 0.0, 1.2, 0.9, 0.9, 0.9, 0.9, 0.9, 0.9, 0.9, 0.9, 0.9, 0.9, 0.9, 0.9, 0.0, 0.0, 0.0, 0.0, 0.0, 0.0, 0.0, 0.0, 0.0, 0.0, 0.0, 0.0, 0.0, 0.0, 0.0, 0.0, 0.0, 0.0, 0.0, 0.0, 0.0, 0.0, 0.0, 0.0, 0.0, 0.0, 0.0, 0.0, 0.0, 0.0, 0.0, 0.0, 0.0, 0.0, 0.0, 0.0, 0.0, 0.0, 0.0, 0.0, 0.0, 0.0, 0.0, 0.0, 0.0, 1.1, 0.9, 0.9, 0.9, 0.9, 0.9, 0.9, 0.9, 0.9, 0.9, 0.9, 0.9, 0.9, 0.0, 0.0, 0.0, 0.0, 0.0, 0.0, 0.0, 0.0, 0.0, 0.0, 0.0, 1.1, 0.9, 0.9, 0.9, 0.9, 0.9, 0.9, 0.9, 0.9, 0.9, 0.9, 0.9, 0.9, 0.0, 0.0, 0.0, 0.0, 0.0, 0.0, 0.0, 0.0, 0.0, 1.1, 0.9, 0.9, 1.0, 0.9, 0.9, 0.9, 0.9, 0.9, 0.9, 0.9, 0.9, 0.9, 0.0, 0.0, 0.0, 0.0, 0.0, 0.0, 0.0, 0.0, 0.0, 0.0, 0.0, 0.0, 0.0, 0.0, 0.0, 0.0, 1.1, 0.9, 0.9, 0.9, 0.9, 0.9, 0.9, 0.9, 0.9, 1.0, 1.1, 0.9, 0.9, 0.0, 0.0, 0.0, 0.0, 0.0, 0.0, 0.0, 0.0, 0.0, 0.0, 0.0, 0.0, 0.0, 0.0, 0.0, 0.0, 0.0, 0.0, 0.0, 0.0, 0.0, 0.0, 1.1, 0.9, 0.9, 1.0, 1.1, 0.9, 0.9, 0.9, 0.9, 0.9, 0.9, 0.9, 0.9, 0.0, 0.0, 0.0, 0.0, 0.0, 0.0, 0.0, 0.0, 0.0, 0.0, 0.0, 0.0, 0.0, 0.0, 0.0, 0.0, 0.0, 0.0, 1.1, 0.9, 1.4, 0.9, 0.9, 0.9, 0.9, 0.9, 0.9, 0.9, 0.9, 0.9, 0.9, 0.0, 0.0, 0.0, 0.0, 0.0, 0.0, 0.0, 0.0, 0.0, 0.0, 0.0], 'timestamp': '2022-06-08T04:00:00+02:00'}\n",
      "meters_to_target: 8500\n",
      "non_wear_time: 64380\n",
      "resting_time: 17220\n",
      "ring_met: {'interval': 60, 'items': [], 'timestamp': '2022-06-08T04:00:00+02:00'}\n",
      "sedentary_met_minutes: 2\n",
      "sedentary_time: 4440\n",
      "steps: 158\n",
      "target_calories: 450\n",
      "target_meters: 9000\n",
      "total_calories: 1997\n",
      "score: 93\n",
      "class_5_min: '000000000000000000000000000000000000000000000000000000000000000000000000000000000000000000000000000000000000000000000000000000000000000000000000000000000000000000000000000000000000000000000000000000000002222200020230000022222222221111111111111111111111111111111111111111111111111111111111'\n",
      "rest_mode_state: 0\n",
      "timezone: 120\n",
      "counter= 179 \n",
      "\n"
     ]
    }
   ],
   "source": [
    "# Inspecting the data by printing the first entry of every section (bold) of the data\n",
    "for i in data: \n",
    "    counter=-1\n",
    "    print('\\033[1m'+i+'\\033[0m') \n",
    "    for j in data[i]:\n",
    "        counter+=1\n",
    "        if counter==0:\n",
    "            for k in j:\n",
    "                print(k+': '+repr(j[k]))\n",
    "    print('counter=',counter,'\\n')"
   ]
  },
  {
   "cell_type": "code",
   "execution_count": 127,
   "metadata": {},
   "outputs": [
    {
     "name": "stdout",
     "output_type": "stream",
     "text": [
      "{'average_breath': 14.5, 'average_breath_variation': 2.625, 'average_heart_rate': 58.14, 'average_hrv': 58, 'awake_time': 2190, 'bedtime_end': '2022-12-06T08:11:36+01:00', 'bedtime_start': '2022-12-05T23:39:36+01:00', 'contributors': {'total_sleep': 91, 'deep_sleep': 100, 'rem_sleep': 97, 'efficiency': 98, 'latency': 70, 'restfulness': 76, 'timing': 76}, 'day': '2022-12-06', 'deep_sleep_duration': 8850, 'efficiency': 93, 'got_ups': 0, 'heart_rate': {'interval': 300, 'items': [60.0, 60.0, 60.0, 56.0, 59.0, 55.0, 58.0, 55.0, 55.0, 53.0, 54.0, 55.0, 56.0, 56.0, 56.0, 57.0, 56.0, 57.0, 57.0, 57.0, 57.0, 64.0, 65.0, 66.0, 62.0, 61.0, 59.0, 59.0, 58.0, 57.0, 57.0, 57.0, 57.0, 58.0, 57.0, 57.0, 56.0, 52.0, 54.0, 55.0, 54.0, 56.0, 55.0, 64.0, 60.0, 58.0, 60.0, 58.0, 57.0, 56.0, 57.0, 57.0, 57.0, 58.0, 58.0, 57.0, 59.0, 57.0, 58.0, 59.0, 59.0, 59.0, 54.0, 58.0, 60.0, 60.0, 59.0, 60.0, 58.0, 58.0, 58.0, 58.0, 57.0, 58.0, 56.0, 57.0, 58.0, 58.0, 58.0, 63.0, 62.0, 64.0, 66.0, 65.0, 63.0, 65.0, 64.0, 63.0, 62.0, 53.0, 60.0, 59.0, 57.0, 59.0, 56.0, 57.0, 55.0, 56.0, 58.0, 57.0, 54.0, 54.0, 0.0], 'timestamp': '2022-12-05T23:39:36+01:00'}, 'hrv': {'interval': 300, 'items': [73.0, 62.0, 67.0, 82.0, 75.0, 80.0, 77.0, 84.0, 93.0, 74.0, 64.0, 59.0, 56.0, 57.0, 54.0, 54.0, 56.0, 53.0, 49.0, 50.0, 54.0, 38.0, 44.0, 36.0, 60.0, 65.0, 81.0, 49.0, 44.0, 50.0, 50.0, 51.0, 49.0, 49.0, 52.0, 46.0, 90.0, 81.0, 65.0, 72.0, 76.0, 66.0, 89.0, 54.0, 63.0, 60.0, 60.0, 76.0, 86.0, 103.0, 63.0, 58.0, 56.0, 51.0, 47.0, 56.0, 43.0, 67.0, 55.0, 51.0, 55.0, 53.0, 109.0, 66.0, 65.0, 77.0, 58.0, 49.0, 52.0, 52.0, 47.0, 50.0, 52.0, 59.0, 66.0, 55.0, 52.0, 65.0, 62.0, 44.0, 44.0, 45.0, 38.0, 54.0, 56.0, 55.0, 53.0, 51.0, 60.0, 98.0, 53.0, 56.0, 64.0, 46.0, 77.0, 65.0, 90.0, 81.0, 62.0, 59.0, 92.0, 100.0, 0.0], 'timestamp': '2022-12-05T23:39:36+01:00'}, 'latency': 210, 'light_sleep_duration': 12210, 'lowest_heart_rate': 52.0, 'lowest_heart_rate_time_offset': 2250, 'movement_30_sec': '3321111111111211121121111111231111211121111211211111111111212112221111123311112111211111111111111111111111111111111111111111111111111111111111111111111111111111111111111111111111111111111111111111111111111211211111111111111111111111111111111111111111112111111111211121111111111111111111111111111111111111111111111111111111111111111111111111111111111211111111111121123112111111111111111111111111111122111111111111111111122111111112111111111122311111111111111111111211121111211111111111211111111121211211111111112111111111111111111111111111111111112111111111111111111111113111111111111111121111111111111111111111111111111111111312111111111111121121111111231111111111112111122111111111111211111111111111111111111111111111111111111111111112111122111111111111111111111111111111112211111111221121111111111122112111111111111111111111111111111111111111111111111111111111121111111121111111121111211131111111112113211111111111131111111113111111111113111111121321111111111113111112111321221111221111131111121111131111112111111211221212', 'period': 0, 'readiness': {'contributors': {'activity_balance': 84, 'body_temperature': 88, 'hrv_balance': 60, 'previous_day_activity': None, 'previous_night': 96, 'recovery_index': 99, 'resting_heart_rate': 75, 'sleep_balance': 79}, 'score': 81, 'temperature_deviation': -0.53, 'temperature_trend_deviation': -0.39}, 'rem_sleep_duration': 7470, 'restless_periods': 28, 'score': 87, 'segment_state': 'active', 'sleep_midpoint': 14940, 'time_in_bed': 30720, 'total_sleep_duration': 28530, 'type': 'long_sleep', 'wake_ups': 7, 'sleep_phase_5_min': '4222221221111111111113333322111111122212223333333222111211211123342222122222223333333333332222222222244', 'restless': 4, 'timezone': 60, 'bedtime_start_delta': -1224, 'bedtime_end_delta': 29496, 'midpoint_at_delta': 13716}\n"
     ]
    }
   ],
   "source": [
    "# Visualizing the last entry in the sleep data\n",
    "print(data['sleep'][175])"
   ]
  },
  {
   "cell_type": "markdown",
   "metadata": {},
   "source": [
    "## Visualizing the data\n",
    "\n",
    "Below I will visualize the semi-continuous sleep data, with which I mean to refer to the data entries that are measured once every five minutes. Respectively the ‘hr_5min’, the ‘hypnogram_5min’ and the ‘rmssd_5min’ variables."
   ]
  },
  {
   "cell_type": "code",
   "execution_count": 128,
   "metadata": {},
   "outputs": [],
   "source": [
    "# Plotting the heart rate as measured in 5 minute intervals for the last week covered by the dataset\n",
    "counter=-1\n",
    "for i in data['sleep']:\n",
    "    counter+=1\n",
    "    if counter>(570-7):\n",
    "        hr5=i['hr_5min']\n",
    "        fig,ax=plt.subplots()\n",
    "        ax.plot(hr5)\n",
    "        ax.set_title('Heart rate in 5 min interval')\n",
    "        ax.set_ylabel('Heart rate (BPM)')\n",
    "        ax.set_xlabel('Time (min)') \n",
    "        ax.set_xticklabels(['-1','0','100','200','300','400','500','600']) \n",
    "        fig.show()\n",
    "        fig.text(0.125,-0.08,'^\\nBedtime start: {}\\nTotal bedtime: {}min'.format(i['bedtime_start'],int(i['duration']/60)))"
   ]
  },
  {
   "cell_type": "markdown",
   "metadata": {},
   "source": [
    "In this data we can see that the heart rate sometimes drops to 0. Assuming that the person didn’t suddenly die multiple times during these nights, I decided to resolve this by taking the average heart rate of the entire measurement period and change all the zero values to this average. Since this value is most likely a non-integer value like the heartbeats, it should be easy to see in the plots where the values were zero. In order to make this even more clear, I also plotted the average heart rate in each plot. I decided to use the average heart rate for this, because then the average isn’t influenced by this outlier removal."
   ]
  },
  {
   "cell_type": "code",
   "execution_count": 129,
   "metadata": {},
   "outputs": [],
   "source": [
    "# Removing 0 values from the heart rate data as measured in 5 minute intervals for the last week covered by the dataset and plotting it again\n",
    "counter=-1\n",
    "for i in data['sleep']:\n",
    "    counter+=1\n",
    "    if counter>(570-7):\n",
    "        hr5=i['hr_5min'] \n",
    "        n_nonzero=len(numpy.nonzero(hr5)[0]) \n",
    "        nonzero_sum=0\n",
    "        for j in numpy.nonzero(hr5)[0]:\n",
    "            nonzero_sum+=hr5[j] \n",
    "        nonzero_avg=nonzero_sum/n_nonzero \n",
    "        for k in range(0,len(hr5)):\n",
    "            if hr5[k]==0: \n",
    "                hr5[k]=nonzero_avg\n",
    "        fig,ax=plt.subplots()\n",
    "        ax.plot(hr5)\n",
    "        ax.axhline(y=nonzero_avg,c='r',linestyle='dotted') \n",
    "        ax.set_title('Heart rate in 5 min interval')\n",
    "        ax.set_ylabel('Heart rate (BPM)')\n",
    "        ax.set_xlabel('Time (min)') \n",
    "        ax.set_xticklabels(['-1','0','100','200','300','400','500','600']) \n",
    "        ax.legend(['HR','Average'])\n",
    "        fig.text(0.125,-0.08,'^\\nBedtime start: {}\\nTotal bedtime: {}min'.format(i['bedtime_start'],int(i['duration']/60)))"
   ]
  },
  {
   "cell_type": "markdown",
   "metadata": {},
   "source": [
    "To interpret the following hypnograms it is necessary to know which sleepstage number corresponds to which sleepstage. This information can be found on: https://cloud.ouraring.com/docs/sleep under the header sleep.hypnogram_5min.\n",
    "\n",
    "The measurements are taken at the start of every 5 minutes since bedtime_start, which is also a variable in the sleep data.\n",
    "The sleep stage numbers correspond to: \n",
    "1. Deep sleep (N3)\n",
    "2. Light sleep (N1 or N2)\n",
    "3. REM sleep\n",
    "4. Awake\n",
    "\n",
    "I have adapted the tick labels on the y-axis to match these names for clarity. Furthermore, I have also printed the ‘bedtime_start’ and ‘duration’ variables, for completeness."
   ]
  },
  {
   "cell_type": "code",
   "execution_count": 130,
   "metadata": {},
   "outputs": [
    {
     "ename": "KeyError",
     "evalue": "'hypnogram_5min'",
     "output_type": "error",
     "traceback": [
      "\u001b[0;31m---------------------------------------------------------------------------\u001b[0m",
      "\u001b[0;31mKeyError\u001b[0m                                  Traceback (most recent call last)",
      "\u001b[0;32m/var/folders/21/tt0m0s_j69b0hg8lm6wp4_s40000gn/T/ipykernel_79735/1957140012.py\u001b[0m in \u001b[0;36m<module>\u001b[0;34m\u001b[0m\n\u001b[1;32m      3\u001b[0m \u001b[0;32mfor\u001b[0m \u001b[0mi\u001b[0m \u001b[0;32min\u001b[0m \u001b[0mdata\u001b[0m\u001b[0;34m[\u001b[0m\u001b[0;34m'sleep'\u001b[0m\u001b[0;34m]\u001b[0m\u001b[0;34m:\u001b[0m\u001b[0;34m\u001b[0m\u001b[0;34m\u001b[0m\u001b[0m\n\u001b[1;32m      4\u001b[0m     \u001b[0mcounter\u001b[0m\u001b[0;34m+=\u001b[0m\u001b[0;36m1\u001b[0m\u001b[0;34m\u001b[0m\u001b[0;34m\u001b[0m\u001b[0m\n\u001b[0;32m----> 5\u001b[0;31m     \u001b[0mhg5_conc\u001b[0m\u001b[0;34m=\u001b[0m\u001b[0mi\u001b[0m\u001b[0;34m[\u001b[0m\u001b[0;34m'hypnogram_5min'\u001b[0m\u001b[0;34m]\u001b[0m\u001b[0;34m\u001b[0m\u001b[0;34m\u001b[0m\u001b[0m\n\u001b[0m\u001b[1;32m      6\u001b[0m     \u001b[0mhg5_split\u001b[0m\u001b[0;34m=\u001b[0m\u001b[0;34m[\u001b[0m\u001b[0;34m]\u001b[0m\u001b[0;34m\u001b[0m\u001b[0;34m\u001b[0m\u001b[0m\n\u001b[1;32m      7\u001b[0m     \u001b[0;32mif\u001b[0m \u001b[0mcounter\u001b[0m\u001b[0;34m>\u001b[0m\u001b[0;34m(\u001b[0m\u001b[0;36m570\u001b[0m\u001b[0;34m-\u001b[0m\u001b[0;36m7\u001b[0m\u001b[0;34m)\u001b[0m\u001b[0;34m:\u001b[0m\u001b[0;34m\u001b[0m\u001b[0;34m\u001b[0m\u001b[0m\n",
      "\u001b[0;31mKeyError\u001b[0m: 'hypnogram_5min'"
     ]
    }
   ],
   "source": [
    "# Plotting the hypnograms for the last week\n",
    "counter=-1\n",
    "for i in data['sleep']:\n",
    "    counter+=1 \n",
    "    hg5_conc=i['hypnogram_5min'] \n",
    "    hg5_split=[]\n",
    "    if counter>(570-7):\n",
    "        for j in hg5_conc: \n",
    "            hg5_split.append(j)\n",
    "        fig, ax=plt.subplots()\n",
    "        ax.plot(hg5_split)\n",
    "        ax.set_title('Hypnogram in 5 min interval')\n",
    "        ax.set_ylabel('Sleepstage')\n",
    "        ax.set_yticklabels(['Awake','Light Sleep (N1 or N2)','Deep Sleep(N3)','REM Sleep'])\n",
    "        ax.set_xlabel('Time (min)\\n') \n",
    "        ax.set_xticklabels(['-1','0','100','200','300','400','500','600']) \n",
    "        fig.text(0.125,-0.08,'^\\nBedtime start: {}\\nTotal bedtime: {}min'.format(i['bedtime_start'],int(i['duration']/60)))"
   ]
  },
  {
   "cell_type": "markdown",
   "metadata": {},
   "source": [
    "In order to be able to understand the following section, some prior knowledge is required:\n",
    "\n",
    "The root mean square of successive differences (rMSSD) is a method to calculate the heart rate variability. ‘[It] reflects the beat-to-beat variance in the heart rate’. (Shaffer & Ginsberg; 2017)\n",
    "\n",
    "Furthermore, since this data is based on the heart rate, it will also contain the presumed to be faulty zero measurements, hence I will apply the same outlier removal as described earlier: replacing the zero values by the average over the entire measurement period, visualized for clarity by an additional average line which is most likely located on a non-integer value."
   ]
  },
  {
   "cell_type": "code",
   "execution_count": null,
   "metadata": {},
   "outputs": [],
   "source": [
    "# Removing 0 values in the continuous data and plotting it for the last week\n",
    "counter=-1\n",
    "for i in data['sleep']:\n",
    "    counter+=1\n",
    "    if counter>(570-7):\n",
    "        rmssd5=i['rmssd_5min'] \n",
    "        n_nonzero=len(numpy.nonzero(rmssd5)[0]) \n",
    "        nonzero_sum=0\n",
    "        for j in numpy.nonzero(rmssd5)[0]:\n",
    "            nonzero_sum+=rmssd5[j] \n",
    "        nonzero_avg=nonzero_sum/n_nonzero \n",
    "        for k in range(0,len(rmssd5)):\n",
    "            if rmssd5[k]==0: \n",
    "                rmssd5[k]=nonzero_avg\n",
    "        fig,ax=plt.subplots()\n",
    "        ax.plot(rmssd5)\n",
    "        ax.axhline(y=nonzero_avg,c='r',linestyle='dotted') \n",
    "        ax.set_title('Heart rate variability using rMSSD in 5 min interval') \n",
    "        ax.set_ylabel('rMSSD')\n",
    "        ax.set_xlabel('Time (min)') \n",
    "        ax.set_xticklabels(['-1','0','100','200','300','400','500','600']) \n",
    "        ax.legend(['rMSSD','Average'])\n",
    "        fig.text(0.125,-0.08,'^\\nBedtime start: {}\\nTotal bedtime: {}min'.format(i['bedtime_start'],int(i['duration']/60)))"
   ]
  }
 ],
 "metadata": {
  "kernelspec": {
   "display_name": "Python 3.7.10 ('tensorflow_env')",
   "language": "python",
   "name": "python3"
  },
  "language_info": {
   "codemirror_mode": {
    "name": "ipython",
    "version": 3
   },
   "file_extension": ".py",
   "mimetype": "text/x-python",
   "name": "python",
   "nbconvert_exporter": "python",
   "pygments_lexer": "ipython3",
   "version": "3.7.10"
  },
  "orig_nbformat": 4,
  "vscode": {
   "interpreter": {
    "hash": "f440ca07c10c374a105f3d67f9c2c345d20e5b276c036b89a1e623f864f80620"
   }
  }
 },
 "nbformat": 4,
 "nbformat_minor": 2
}
