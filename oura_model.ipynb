{
 "cells": [
  {
   "attachments": {},
   "cell_type": "markdown",
   "metadata": {},
   "source": [
    "## Imports"
   ]
  },
  {
   "cell_type": "code",
   "execution_count": 1,
   "metadata": {},
   "outputs": [],
   "source": [
    "import pandas as pd\n",
    "import numpy as np\n",
    "from sklearn.model_selection import train_test_split\n",
    "from sklearn.feature_selection import SelectFromModel\n",
    "from sklearn.linear_model import Lasso, LassoCV\n",
    "from sklearn.metrics import mean_squared_error\n",
    "from sklearn.preprocessing import StandardScaler\n",
    "from sklearn.model_selection import GridSearchCV\n",
    "import matplotlib.pyplot as plt\n",
    "import seaborn as sns"
   ]
  },
  {
   "attachments": {},
   "cell_type": "markdown",
   "metadata": {},
   "source": [
    "## Define the files to be loaded"
   ]
  },
  {
   "cell_type": "code",
   "execution_count": 2,
   "metadata": {},
   "outputs": [],
   "source": [
    "# Participant number whose data should be loaded\n",
    "participant_number = 2\n",
    "\n",
    "# The version of the questionnaires to load\n",
    "quest_version = 2"
   ]
  },
  {
   "attachments": {},
   "cell_type": "markdown",
   "metadata": {},
   "source": [
    "## Loading the pre-processed data"
   ]
  },
  {
   "cell_type": "code",
   "execution_count": 3,
   "metadata": {},
   "outputs": [],
   "source": [
    "df = pd.read_csv('data/preprocessed/preprocessed_data_' + str(participant_number) + '_v' + str(quest_version) + '.csv')\n",
    "df = df.drop(labels=['actual_day', 'actual_day.1'], axis=1)\n",
    "\n",
    "df_oura = pd.read_csv('data/preprocessed/preprocessed_sleep_' + str(participant_number) + '_v' + str(quest_version) + '.csv')\n",
    "df_oura = df_oura.drop(labels=['actual_day'], axis=1)\n",
    "\n",
    "df_quest = pd.read_csv('data/preprocessed/preprocessed_questionnaires_' + str(participant_number) + '_v' + str(quest_version) + '.csv')\n",
    "df_quest = df_quest.drop(labels=['actual_day'], axis=1)"
   ]
  },
  {
   "cell_type": "code",
   "execution_count": 4,
   "metadata": {},
   "outputs": [],
   "source": [
    "# Remove these to try and fix the issues raised by LazyRegressor for them \n",
    "# example: \n",
    "# AdaBoostRegressor model failed to execute\n",
    "# Found unknown categories ['[0.0, 51.0, 53.0, 53.0, 54.0, 53.0, ...\n",
    "df = df.drop(labels=['hrv.items', 'heart_rate.items', 'sleep_phase_5_min', 'movement_30_sec', 'segment_state', 'type'], axis=1)\n",
    "df_oura = df_oura.drop(labels=['hrv.items', 'heart_rate.items', 'sleep_phase_5_min', 'movement_30_sec', 'segment_state', 'type'], axis=1)"
   ]
  },
  {
   "cell_type": "code",
   "execution_count": 5,
   "metadata": {},
   "outputs": [],
   "source": [
    "# Replace NaN values by 999 because NaN values can raise errors when fed to a regression model\n",
    "df.fillna(999, inplace=True)\n",
    "df_oura.fillna(999, inplace=True)\n",
    "df_quest.fillna(999, inplace=True)"
   ]
  },
  {
   "cell_type": "code",
   "execution_count": 6,
   "metadata": {},
   "outputs": [],
   "source": [
    "# Check for variables whose values are stored as string. This cannot be analyzed by the regression model\n",
    "for i in range(len(df.columns)):\n",
    "    if isinstance(df.iloc[1,i], str):\n",
    "        print('column ' + df.columns[i])\n",
    "        print('     ' + df.iloc[1,i])"
   ]
  },
  {
   "attachments": {},
   "cell_type": "markdown",
   "metadata": {},
   "source": [
    "## Define the analysis to be done"
   ]
  },
  {
   "cell_type": "code",
   "execution_count": 7,
   "metadata": {},
   "outputs": [],
   "source": [
    "# For Oura and subjective sleep scores\n",
    "variable_of_interest = 'score'\n",
    "oura_drop_variables = ['score']\n",
    "quest_drop_variables = ['subjective_sleep_score']\n",
    "\n",
    "# # For average HRV\n",
    "# variable_of_interest = 'average_hrv'\n",
    "# oura_drop_variables = ['average_hrv']\n",
    "# quest_drop_variables = []"
   ]
  },
  {
   "attachments": {},
   "cell_type": "markdown",
   "metadata": {},
   "source": [
    "## Apply Lasso"
   ]
  },
  {
   "attachments": {},
   "cell_type": "markdown",
   "metadata": {},
   "source": [
    "### Setting the data to be evaluated"
   ]
  },
  {
   "cell_type": "code",
   "execution_count": 8,
   "metadata": {},
   "outputs": [],
   "source": [
    "# Separate the indenpendent variables from the dependent variables\n",
    "y = df[variable_of_interest]\n",
    "X = df.drop(labels=oura_drop_variables+quest_drop_variables, axis=1)\n",
    "X_oura = df_oura.drop(labels=oura_drop_variables, axis=1)\n",
    "X_quest = df_quest.drop(labels=quest_drop_variables, axis=1)"
   ]
  },
  {
   "cell_type": "code",
   "execution_count": 9,
   "metadata": {},
   "outputs": [],
   "source": [
    "def lasso_model(X, y, random_state):\n",
    "    # Hyperparameter tuning of the alpha value\n",
    "    scaler = StandardScaler()\n",
    "    X_scaler = scaler.fit_transform(X)\n",
    "\n",
    "    # Define model\n",
    "    model = Lasso(max_iter=10000)\n",
    "\n",
    "    # Define and execute search\n",
    "    search = GridSearchCV(model, param_grid = {'alpha':[.00001, 0.0001,0.001, 0.01]}, scoring='neg_mean_squared_error', n_jobs=1, cv=20)\n",
    "    result = search.fit(X_scaler, y)\n",
    "\n",
    "    # Print search results\n",
    "    # print('Grid search results\\nBest Score: %s' % result.best_score_)\n",
    "    print('Grid search results\\nBest alpha value: %s\\n' % result.best_params_)\n",
    "\n",
    "    X_train, X_test, y_train, y_test = train_test_split(X, y, test_size = 0.2, random_state = random_state)\n",
    "\n",
    "    model = Lasso(alpha=result.best_params_['alpha'])\n",
    "    model.fit(X_train, y_train)\n",
    "\n",
    "    print(\"Number of coefficients\", len(model.coef_))\n",
    "    print(\"Non-zero coeffcients\", np.count_nonzero(model.coef_))\n",
    "    print(\"Coefficients\", model.coef_)\n",
    "    return model, X_train, X_test, y_train, y_test "
   ]
  },
  {
   "cell_type": "code",
   "execution_count": 10,
   "metadata": {},
   "outputs": [],
   "source": [
    "# Compute R squared and mean square error of a given model and training and testing sets \n",
    "def compute_model(model, X_train, y_train, X_test, y_test):\n",
    "    print('R squared training set', round(model.score(X_train, y_train), 3))\n",
    "    print('R squared test set', round(model.score(X_test, y_test), 3))\n",
    "\n",
    "    # Training data\n",
    "    pred_train = model.predict(X_train)\n",
    "    mse_train = mean_squared_error(y_train, pred_train)\n",
    "    print('MSE training set', round(mse_train, 3))\n",
    "\n",
    "    # Test data\n",
    "    pred_test = model.predict(X_test)\n",
    "    mse_test = mean_squared_error(y_test, pred_test)\n",
    "    print('MSE test set', round(mse_test, 3))\n",
    "\n",
    "    return pred_train, pred_test"
   ]
  },
  {
   "attachments": {},
   "cell_type": "markdown",
   "metadata": {},
   "source": [
    "### Using as independent variables all variables (Oura + questionnaire data)"
   ]
  },
  {
   "cell_type": "code",
   "execution_count": 11,
   "metadata": {},
   "outputs": [
    {
     "name": "stdout",
     "output_type": "stream",
     "text": [
      "Grid search results\n",
      "Best alpha value: {'alpha': 0.001}\n",
      "\n",
      "Number of coefficients 78\n",
      "Non-zero coeffcients 44\n",
      "Coefficients [ 0.00000000e+00 -0.00000000e+00 -0.00000000e+00 -8.35266359e-04\n",
      " -2.09366321e-04 -1.18783547e-04  9.43838932e-05  0.00000000e+00\n",
      " -1.05672177e-04 -6.83266270e-18  7.03806792e-03  4.24237289e-03\n",
      "  7.78735384e-03  7.11363781e-03  8.90023880e-03  7.81134691e-03\n",
      "  3.40345420e-02 -6.37703819e-05 -6.83788230e-03  0.00000000e+00\n",
      "  1.06211638e-04 -7.44060691e-05 -1.15106462e-03 -3.86263700e-07\n",
      "  0.00000000e+00  5.24728844e-06  1.16075160e-04  1.16176141e-05\n",
      "  0.00000000e+00  4.95018496e-03 -3.72866956e-04 -3.96158432e-04\n",
      " -6.91916598e-05 -9.82805264e-04  1.85124775e-04 -0.00000000e+00\n",
      " -5.36742316e-05 -0.00000000e+00 -1.15083665e-03 -6.68291532e-05\n",
      " -1.57427382e-05 -2.19786708e-04  2.14297866e-05 -1.08766196e-02\n",
      " -1.74342742e-04 -0.00000000e+00  0.00000000e+00  0.00000000e+00\n",
      " -0.00000000e+00 -0.00000000e+00  0.00000000e+00  0.00000000e+00\n",
      " -0.00000000e+00 -0.00000000e+00  0.00000000e+00 -0.00000000e+00\n",
      "  0.00000000e+00  0.00000000e+00  1.03698158e-05  0.00000000e+00\n",
      "  0.00000000e+00 -0.00000000e+00 -0.00000000e+00 -0.00000000e+00\n",
      " -1.85648475e-03 -1.14412583e-05  0.00000000e+00 -2.39138701e-05\n",
      " -3.65905069e-03  0.00000000e+00  0.00000000e+00  0.00000000e+00\n",
      "  0.00000000e+00  0.00000000e+00 -8.69756353e-03  0.00000000e+00\n",
      " -2.23902878e-05  1.17781270e-05]\n"
     ]
    },
    {
     "name": "stderr",
     "output_type": "stream",
     "text": [
      "/Users/user/opt/anaconda3/envs/tensorflow_env/lib/python3.7/site-packages/sklearn/linear_model/_coordinate_descent.py:648: ConvergenceWarning: Objective did not converge. You might want to increase the number of iterations, check the scale of the features or consider increasing regularisation. Duality gap: 2.362e-02, tolerance: 4.697e-03\n",
      "  coef_, l1_reg, l2_reg, X, y, max_iter, tol, rng, random, positive\n"
     ]
    }
   ],
   "source": [
    "model, X_train, X_test, y_train, y_test = lasso_model(X, y, random_state=np.random.randint(50000))"
   ]
  },
  {
   "cell_type": "code",
   "execution_count": 12,
   "metadata": {},
   "outputs": [
    {
     "name": "stdout",
     "output_type": "stream",
     "text": [
      "Number of selected features 44\n"
     ]
    },
    {
     "data": {
      "text/plain": [
       "['average_heart_rate',\n",
       " 'average_hrv',\n",
       " 'awake_time',\n",
       " 'bedtime_end_delta',\n",
       " 'bedtime_start_delta',\n",
       " 'bedtime_start_seconds',\n",
       " 'contributors.deep_sleep',\n",
       " 'contributors.efficiency',\n",
       " 'contributors.latency',\n",
       " 'contributors.rem_sleep',\n",
       " 'contributors.restfulness',\n",
       " 'contributors.timing',\n",
       " 'contributors.total_sleep',\n",
       " 'deep_sleep_duration',\n",
       " 'efficiency',\n",
       " 'latency',\n",
       " 'light_sleep_duration',\n",
       " 'lowest_heart_rate',\n",
       " 'lowest_heart_rate_time_offset',\n",
       " 'readiness.contributors.activity_balance',\n",
       " 'readiness.contributors.body_temperature',\n",
       " 'readiness.contributors.hrv_balance',\n",
       " 'readiness.contributors.previous_night',\n",
       " 'readiness.contributors.recovery_index',\n",
       " 'readiness.contributors.resting_heart_rate',\n",
       " 'readiness.contributors.sleep_balance',\n",
       " 'readiness.score',\n",
       " 'readiness.temperature_deviation',\n",
       " 'rem_sleep_duration',\n",
       " 'restless_periods',\n",
       " 'sleep_midpoint',\n",
       " 'time_in_bed',\n",
       " 'timezone',\n",
       " 'total_sleep_duration',\n",
       " 'wake_ups',\n",
       " 'prev_oura_score',\n",
       " 'prev_subjective_score',\n",
       " 'alcohol_amount',\n",
       " 'alcohol_time',\n",
       " 'coffee_time',\n",
       " 'eat_bedtime',\n",
       " 'stress_levels',\n",
       " 'workout_intensity',\n",
       " 'workout_time']"
      ]
     },
     "execution_count": 12,
     "metadata": {},
     "output_type": "execute_result"
    }
   ],
   "source": [
    "selected_features = []\n",
    "for i in range(len(model.coef_)):\n",
    "    if model.coef_[i] != 0:\n",
    "        selected_features.append(X_train.columns[i])\n",
    "\n",
    "print('Number of selected features', len(selected_features))\n",
    "selected_features"
   ]
  },
  {
   "cell_type": "code",
   "execution_count": 13,
   "metadata": {},
   "outputs": [
    {
     "name": "stdout",
     "output_type": "stream",
     "text": [
      "R squared training set 0.999\n",
      "R squared test set 0.994\n",
      "MSE training set 0.0\n",
      "MSE test set 0.002\n"
     ]
    }
   ],
   "source": [
    "pred_train, pred_test = compute_model(model, X_train, y_train, X_test, y_test)"
   ]
  },
  {
   "attachments": {},
   "cell_type": "markdown",
   "metadata": {},
   "source": [
    "### Visualizing the results"
   ]
  },
  {
   "cell_type": "code",
   "execution_count": 14,
   "metadata": {},
   "outputs": [
    {
     "data": {
      "image/png": "[encoded data removed]",
      "text/plain": [
       "<Figure size 432x288 with 1 Axes>"
      ]
     },
     "metadata": {
      "needs_background": "light"
     },
     "output_type": "display_data"
    }
   ],
   "source": [
    "ax = sns.histplot(y_test-pred_test, kde=True)\n",
    "ax.set(xlabel='Difference in scores', ylabel='Number of test data point', \n",
    "       title='Difference between the actual sleep score and the predicted sleep score\\nof the test set using both Oura and the questionnaire data')\n",
    "plt.show()"
   ]
  },
  {
   "attachments": {},
   "cell_type": "markdown",
   "metadata": {},
   "source": [
    "## Apply LassoCV\n",
    "### Using as independent variables all variables (Oura + questionnaire data)"
   ]
  },
  {
   "cell_type": "code",
   "execution_count": 15,
   "metadata": {},
   "outputs": [
    {
     "name": "stderr",
     "output_type": "stream",
     "text": [
      "/Users/user/opt/anaconda3/envs/tensorflow_env/lib/python3.7/site-packages/sklearn/linear_model/_coordinate_descent.py:648: ConvergenceWarning: Objective did not converge. You might want to increase the number of iterations, check the scale of the features or consider increasing regularisation. Duality gap: 6.595e-03, tolerance: 4.294e-03\n",
      "  coef_, l1_reg, l2_reg, X, y, max_iter, tol, rng, random, positive\n",
      "/Users/user/opt/anaconda3/envs/tensorflow_env/lib/python3.7/site-packages/sklearn/linear_model/_coordinate_descent.py:648: ConvergenceWarning: Objective did not converge. You might want to increase the number of iterations, check the scale of the features or consider increasing regularisation. Duality gap: 4.846e-03, tolerance: 4.294e-03\n",
      "  coef_, l1_reg, l2_reg, X, y, max_iter, tol, rng, random, positive\n"
     ]
    },
    {
     "name": "stdout",
     "output_type": "stream",
     "text": [
      "Best alpha: 0.01 \n",
      "\n",
      "R squared training set 0.999\n",
      "R squared test set 0.993\n",
      "MSE training set 0.001\n",
      "MSE test set 0.003\n"
     ]
    },
    {
     "name": "stderr",
     "output_type": "stream",
     "text": [
      "/Users/user/opt/anaconda3/envs/tensorflow_env/lib/python3.7/site-packages/sklearn/linear_model/_coordinate_descent.py:648: ConvergenceWarning: Objective did not converge. You might want to increase the number of iterations, check the scale of the features or consider increasing regularisation. Duality gap: 5.307e-03, tolerance: 3.790e-03\n",
      "  coef_, l1_reg, l2_reg, X, y, max_iter, tol, rng, random, positive\n"
     ]
    }
   ],
   "source": [
    "lasso_cv = LassoCV(alphas=np.arange(0.01, 5, 0.01), cv=5, max_iter=10000)\n",
    "lasso_cv.fit(X_train, y_train)\n",
    "\n",
    "print('Best alpha:', lasso_cv.alpha_, '\\n')\n",
    "pred_train, pred_test = compute_model(lasso_cv, X_train, y_train, X_test, y_test)"
   ]
  },
  {
   "attachments": {},
   "cell_type": "markdown",
   "metadata": {},
   "source": [
    "### Using as independent variables only the Oura data\n",
    "#### Lasso"
   ]
  },
  {
   "cell_type": "code",
   "execution_count": 16,
   "metadata": {},
   "outputs": [
    {
     "name": "stdout",
     "output_type": "stream",
     "text": [
      "Grid search results\n",
      "Best alpha value: {'alpha': 0.001}\n",
      "\n",
      "Number of coefficients 47\n",
      "Non-zero coeffcients 34\n",
      "Coefficients [-8.73343972e-05  0.00000000e+00 -1.96907765e-04 -0.00000000e+00\n",
      "  0.00000000e+00 -1.27444497e-04 -7.16864770e-05  1.00497280e-04\n",
      "  3.66839800e-18 -1.06069702e-04 -0.00000000e+00  8.24922329e-03\n",
      "  6.88194644e-03  7.47897212e-03  8.29838102e-03  1.31541153e-02\n",
      "  8.56716763e-03  3.30670511e-02 -7.41714838e-05 -0.00000000e+00\n",
      "  0.00000000e+00  7.86282682e-05 -7.81838965e-05 -2.25613333e-03\n",
      " -1.80443895e-06 -0.00000000e+00  1.21550153e-04  1.57096394e-05\n",
      " -1.11173063e-04  0.00000000e+00  3.80060902e-03 -3.52370248e-04\n",
      " -5.64169356e-04  4.82232016e-05  3.99880488e-04 -0.00000000e+00\n",
      " -0.00000000e+00 -6.85440694e-05  0.00000000e+00  0.00000000e+00\n",
      "  3.73415340e-06 -4.60625129e-05  3.45342418e-06  1.78281450e-05\n",
      " -1.67701199e-03 -2.52979223e-04  0.00000000e+00]\n"
     ]
    },
    {
     "name": "stderr",
     "output_type": "stream",
     "text": [
      "/Users/user/opt/anaconda3/envs/tensorflow_env/lib/python3.7/site-packages/sklearn/linear_model/_coordinate_descent.py:648: ConvergenceWarning: Objective did not converge. You might want to increase the number of iterations, check the scale of the features or consider increasing regularisation. Duality gap: 2.349e-02, tolerance: 3.820e-03\n",
      "  coef_, l1_reg, l2_reg, X, y, max_iter, tol, rng, random, positive\n"
     ]
    }
   ],
   "source": [
    "reg_oura, X_train_oura, X_test_oura, y_train_oura, y_test_oura = lasso_model(X_oura, y, random_state=995)"
   ]
  },
  {
   "cell_type": "code",
   "execution_count": 17,
   "metadata": {},
   "outputs": [
    {
     "name": "stdout",
     "output_type": "stream",
     "text": [
      "R squared training set 0.999\n",
      "R squared test set 0.987\n",
      "MSE training set 0.001\n",
      "MSE test set 0.011\n"
     ]
    }
   ],
   "source": [
    "pred_train, pred_test = compute_model(reg_oura, X_train_oura, y_train_oura, X_test_oura, y_test_oura)"
   ]
  },
  {
   "attachments": {},
   "cell_type": "markdown",
   "metadata": {},
   "source": [
    "## Applying the same model on the questionnaire data only"
   ]
  },
  {
   "cell_type": "code",
   "execution_count": 18,
   "metadata": {},
   "outputs": [
    {
     "name": "stderr",
     "output_type": "stream",
     "text": [
      "/Users/user/opt/anaconda3/envs/tensorflow_env/lib/python3.7/site-packages/sklearn/linear_model/_coordinate_descent.py:648: ConvergenceWarning: Objective did not converge. You might want to increase the number of iterations, check the scale of the features or consider increasing regularisation. Duality gap: 9.907e+00, tolerance: 5.331e-03\n",
      "  coef_, l1_reg, l2_reg, X, y, max_iter, tol, rng, random, positive\n",
      "/Users/user/opt/anaconda3/envs/tensorflow_env/lib/python3.7/site-packages/sklearn/linear_model/_coordinate_descent.py:648: ConvergenceWarning: Objective did not converge. You might want to increase the number of iterations, check the scale of the features or consider increasing regularisation. Duality gap: 9.292e+00, tolerance: 5.271e-03\n",
      "  coef_, l1_reg, l2_reg, X, y, max_iter, tol, rng, random, positive\n",
      "/Users/user/opt/anaconda3/envs/tensorflow_env/lib/python3.7/site-packages/sklearn/linear_model/_coordinate_descent.py:648: ConvergenceWarning: Objective did not converge. You might want to increase the number of iterations, check the scale of the features or consider increasing regularisation. Duality gap: 9.187e+00, tolerance: 5.404e-03\n",
      "  coef_, l1_reg, l2_reg, X, y, max_iter, tol, rng, random, positive\n",
      "/Users/user/opt/anaconda3/envs/tensorflow_env/lib/python3.7/site-packages/sklearn/linear_model/_coordinate_descent.py:648: ConvergenceWarning: Objective did not converge. You might want to increase the number of iterations, check the scale of the features or consider increasing regularisation. Duality gap: 8.141e+00, tolerance: 5.374e-03\n",
      "  coef_, l1_reg, l2_reg, X, y, max_iter, tol, rng, random, positive\n",
      "/Users/user/opt/anaconda3/envs/tensorflow_env/lib/python3.7/site-packages/sklearn/linear_model/_coordinate_descent.py:648: ConvergenceWarning: Objective did not converge. You might want to increase the number of iterations, check the scale of the features or consider increasing regularisation. Duality gap: 9.180e+00, tolerance: 5.411e-03\n",
      "  coef_, l1_reg, l2_reg, X, y, max_iter, tol, rng, random, positive\n",
      "/Users/user/opt/anaconda3/envs/tensorflow_env/lib/python3.7/site-packages/sklearn/linear_model/_coordinate_descent.py:648: ConvergenceWarning: Objective did not converge. You might want to increase the number of iterations, check the scale of the features or consider increasing regularisation. Duality gap: 8.981e+00, tolerance: 5.083e-03\n",
      "  coef_, l1_reg, l2_reg, X, y, max_iter, tol, rng, random, positive\n",
      "/Users/user/opt/anaconda3/envs/tensorflow_env/lib/python3.7/site-packages/sklearn/linear_model/_coordinate_descent.py:648: ConvergenceWarning: Objective did not converge. You might want to increase the number of iterations, check the scale of the features or consider increasing regularisation. Duality gap: 8.813e+00, tolerance: 5.192e-03\n",
      "  coef_, l1_reg, l2_reg, X, y, max_iter, tol, rng, random, positive\n",
      "/Users/user/opt/anaconda3/envs/tensorflow_env/lib/python3.7/site-packages/sklearn/linear_model/_coordinate_descent.py:648: ConvergenceWarning: Objective did not converge. You might want to increase the number of iterations, check the scale of the features or consider increasing regularisation. Duality gap: 9.326e+00, tolerance: 5.066e-03\n",
      "  coef_, l1_reg, l2_reg, X, y, max_iter, tol, rng, random, positive\n",
      "/Users/user/opt/anaconda3/envs/tensorflow_env/lib/python3.7/site-packages/sklearn/linear_model/_coordinate_descent.py:648: ConvergenceWarning: Objective did not converge. You might want to increase the number of iterations, check the scale of the features or consider increasing regularisation. Duality gap: 7.515e+00, tolerance: 4.035e-03\n",
      "  coef_, l1_reg, l2_reg, X, y, max_iter, tol, rng, random, positive\n",
      "/Users/user/opt/anaconda3/envs/tensorflow_env/lib/python3.7/site-packages/sklearn/linear_model/_coordinate_descent.py:648: ConvergenceWarning: Objective did not converge. You might want to increase the number of iterations, check the scale of the features or consider increasing regularisation. Duality gap: 9.490e+00, tolerance: 5.306e-03\n",
      "  coef_, l1_reg, l2_reg, X, y, max_iter, tol, rng, random, positive\n",
      "/Users/user/opt/anaconda3/envs/tensorflow_env/lib/python3.7/site-packages/sklearn/linear_model/_coordinate_descent.py:648: ConvergenceWarning: Objective did not converge. You might want to increase the number of iterations, check the scale of the features or consider increasing regularisation. Duality gap: 9.425e+00, tolerance: 5.332e-03\n",
      "  coef_, l1_reg, l2_reg, X, y, max_iter, tol, rng, random, positive\n",
      "/Users/user/opt/anaconda3/envs/tensorflow_env/lib/python3.7/site-packages/sklearn/linear_model/_coordinate_descent.py:648: ConvergenceWarning: Objective did not converge. You might want to increase the number of iterations, check the scale of the features or consider increasing regularisation. Duality gap: 9.273e+00, tolerance: 5.327e-03\n",
      "  coef_, l1_reg, l2_reg, X, y, max_iter, tol, rng, random, positive\n",
      "/Users/user/opt/anaconda3/envs/tensorflow_env/lib/python3.7/site-packages/sklearn/linear_model/_coordinate_descent.py:648: ConvergenceWarning: Objective did not converge. You might want to increase the number of iterations, check the scale of the features or consider increasing regularisation. Duality gap: 9.488e+00, tolerance: 5.372e-03\n",
      "  coef_, l1_reg, l2_reg, X, y, max_iter, tol, rng, random, positive\n",
      "/Users/user/opt/anaconda3/envs/tensorflow_env/lib/python3.7/site-packages/sklearn/linear_model/_coordinate_descent.py:648: ConvergenceWarning: Objective did not converge. You might want to increase the number of iterations, check the scale of the features or consider increasing regularisation. Duality gap: 6.243e+00, tolerance: 5.058e-03\n",
      "  coef_, l1_reg, l2_reg, X, y, max_iter, tol, rng, random, positive\n",
      "/Users/user/opt/anaconda3/envs/tensorflow_env/lib/python3.7/site-packages/sklearn/linear_model/_coordinate_descent.py:648: ConvergenceWarning: Objective did not converge. You might want to increase the number of iterations, check the scale of the features or consider increasing regularisation. Duality gap: 9.811e+00, tolerance: 5.468e-03\n",
      "  coef_, l1_reg, l2_reg, X, y, max_iter, tol, rng, random, positive\n",
      "/Users/user/opt/anaconda3/envs/tensorflow_env/lib/python3.7/site-packages/sklearn/linear_model/_coordinate_descent.py:648: ConvergenceWarning: Objective did not converge. You might want to increase the number of iterations, check the scale of the features or consider increasing regularisation. Duality gap: 1.001e+01, tolerance: 5.427e-03\n",
      "  coef_, l1_reg, l2_reg, X, y, max_iter, tol, rng, random, positive\n",
      "/Users/user/opt/anaconda3/envs/tensorflow_env/lib/python3.7/site-packages/sklearn/linear_model/_coordinate_descent.py:648: ConvergenceWarning: Objective did not converge. You might want to increase the number of iterations, check the scale of the features or consider increasing regularisation. Duality gap: 9.693e+00, tolerance: 5.290e-03\n",
      "  coef_, l1_reg, l2_reg, X, y, max_iter, tol, rng, random, positive\n",
      "/Users/user/opt/anaconda3/envs/tensorflow_env/lib/python3.7/site-packages/sklearn/linear_model/_coordinate_descent.py:648: ConvergenceWarning: Objective did not converge. You might want to increase the number of iterations, check the scale of the features or consider increasing regularisation. Duality gap: 9.730e+00, tolerance: 5.316e-03\n",
      "  coef_, l1_reg, l2_reg, X, y, max_iter, tol, rng, random, positive\n",
      "/Users/user/opt/anaconda3/envs/tensorflow_env/lib/python3.7/site-packages/sklearn/linear_model/_coordinate_descent.py:648: ConvergenceWarning: Objective did not converge. You might want to increase the number of iterations, check the scale of the features or consider increasing regularisation. Duality gap: 9.850e+00, tolerance: 5.439e-03\n",
      "  coef_, l1_reg, l2_reg, X, y, max_iter, tol, rng, random, positive\n",
      "/Users/user/opt/anaconda3/envs/tensorflow_env/lib/python3.7/site-packages/sklearn/linear_model/_coordinate_descent.py:648: ConvergenceWarning: Objective did not converge. You might want to increase the number of iterations, check the scale of the features or consider increasing regularisation. Duality gap: 9.600e+00, tolerance: 5.345e-03\n",
      "  coef_, l1_reg, l2_reg, X, y, max_iter, tol, rng, random, positive\n",
      "/Users/user/opt/anaconda3/envs/tensorflow_env/lib/python3.7/site-packages/sklearn/linear_model/_coordinate_descent.py:648: ConvergenceWarning: Objective did not converge. You might want to increase the number of iterations, check the scale of the features or consider increasing regularisation. Duality gap: 2.316e+00, tolerance: 5.331e-03\n",
      "  coef_, l1_reg, l2_reg, X, y, max_iter, tol, rng, random, positive\n",
      "/Users/user/opt/anaconda3/envs/tensorflow_env/lib/python3.7/site-packages/sklearn/linear_model/_coordinate_descent.py:648: ConvergenceWarning: Objective did not converge. You might want to increase the number of iterations, check the scale of the features or consider increasing regularisation. Duality gap: 1.634e+00, tolerance: 5.271e-03\n",
      "  coef_, l1_reg, l2_reg, X, y, max_iter, tol, rng, random, positive\n",
      "/Users/user/opt/anaconda3/envs/tensorflow_env/lib/python3.7/site-packages/sklearn/linear_model/_coordinate_descent.py:648: ConvergenceWarning: Objective did not converge. You might want to increase the number of iterations, check the scale of the features or consider increasing regularisation. Duality gap: 3.747e-01, tolerance: 5.374e-03\n",
      "  coef_, l1_reg, l2_reg, X, y, max_iter, tol, rng, random, positive\n",
      "/Users/user/opt/anaconda3/envs/tensorflow_env/lib/python3.7/site-packages/sklearn/linear_model/_coordinate_descent.py:648: ConvergenceWarning: Objective did not converge. You might want to increase the number of iterations, check the scale of the features or consider increasing regularisation. Duality gap: 1.328e-01, tolerance: 5.411e-03\n",
      "  coef_, l1_reg, l2_reg, X, y, max_iter, tol, rng, random, positive\n",
      "/Users/user/opt/anaconda3/envs/tensorflow_env/lib/python3.7/site-packages/sklearn/linear_model/_coordinate_descent.py:648: ConvergenceWarning: Objective did not converge. You might want to increase the number of iterations, check the scale of the features or consider increasing regularisation. Duality gap: 1.551e+00, tolerance: 5.083e-03\n",
      "  coef_, l1_reg, l2_reg, X, y, max_iter, tol, rng, random, positive\n",
      "/Users/user/opt/anaconda3/envs/tensorflow_env/lib/python3.7/site-packages/sklearn/linear_model/_coordinate_descent.py:648: ConvergenceWarning: Objective did not converge. You might want to increase the number of iterations, check the scale of the features or consider increasing regularisation. Duality gap: 2.453e+00, tolerance: 5.192e-03\n",
      "  coef_, l1_reg, l2_reg, X, y, max_iter, tol, rng, random, positive\n",
      "/Users/user/opt/anaconda3/envs/tensorflow_env/lib/python3.7/site-packages/sklearn/linear_model/_coordinate_descent.py:648: ConvergenceWarning: Objective did not converge. You might want to increase the number of iterations, check the scale of the features or consider increasing regularisation. Duality gap: 5.730e-01, tolerance: 5.066e-03\n",
      "  coef_, l1_reg, l2_reg, X, y, max_iter, tol, rng, random, positive\n",
      "/Users/user/opt/anaconda3/envs/tensorflow_env/lib/python3.7/site-packages/sklearn/linear_model/_coordinate_descent.py:648: ConvergenceWarning: Objective did not converge. You might want to increase the number of iterations, check the scale of the features or consider increasing regularisation. Duality gap: 1.911e-02, tolerance: 4.035e-03\n",
      "  coef_, l1_reg, l2_reg, X, y, max_iter, tol, rng, random, positive\n",
      "/Users/user/opt/anaconda3/envs/tensorflow_env/lib/python3.7/site-packages/sklearn/linear_model/_coordinate_descent.py:648: ConvergenceWarning: Objective did not converge. You might want to increase the number of iterations, check the scale of the features or consider increasing regularisation. Duality gap: 1.463e+00, tolerance: 5.306e-03\n",
      "  coef_, l1_reg, l2_reg, X, y, max_iter, tol, rng, random, positive\n",
      "/Users/user/opt/anaconda3/envs/tensorflow_env/lib/python3.7/site-packages/sklearn/linear_model/_coordinate_descent.py:648: ConvergenceWarning: Objective did not converge. You might want to increase the number of iterations, check the scale of the features or consider increasing regularisation. Duality gap: 5.457e-01, tolerance: 5.332e-03\n",
      "  coef_, l1_reg, l2_reg, X, y, max_iter, tol, rng, random, positive\n",
      "/Users/user/opt/anaconda3/envs/tensorflow_env/lib/python3.7/site-packages/sklearn/linear_model/_coordinate_descent.py:648: ConvergenceWarning: Objective did not converge. You might want to increase the number of iterations, check the scale of the features or consider increasing regularisation. Duality gap: 5.159e-01, tolerance: 5.327e-03\n",
      "  coef_, l1_reg, l2_reg, X, y, max_iter, tol, rng, random, positive\n",
      "/Users/user/opt/anaconda3/envs/tensorflow_env/lib/python3.7/site-packages/sklearn/linear_model/_coordinate_descent.py:648: ConvergenceWarning: Objective did not converge. You might want to increase the number of iterations, check the scale of the features or consider increasing regularisation. Duality gap: 1.711e+00, tolerance: 5.372e-03\n",
      "  coef_, l1_reg, l2_reg, X, y, max_iter, tol, rng, random, positive\n",
      "/Users/user/opt/anaconda3/envs/tensorflow_env/lib/python3.7/site-packages/sklearn/linear_model/_coordinate_descent.py:648: ConvergenceWarning: Objective did not converge. You might want to increase the number of iterations, check the scale of the features or consider increasing regularisation. Duality gap: 1.009e+00, tolerance: 5.468e-03\n",
      "  coef_, l1_reg, l2_reg, X, y, max_iter, tol, rng, random, positive\n",
      "/Users/user/opt/anaconda3/envs/tensorflow_env/lib/python3.7/site-packages/sklearn/linear_model/_coordinate_descent.py:648: ConvergenceWarning: Objective did not converge. You might want to increase the number of iterations, check the scale of the features or consider increasing regularisation. Duality gap: 2.889e+00, tolerance: 5.427e-03\n",
      "  coef_, l1_reg, l2_reg, X, y, max_iter, tol, rng, random, positive\n",
      "/Users/user/opt/anaconda3/envs/tensorflow_env/lib/python3.7/site-packages/sklearn/linear_model/_coordinate_descent.py:648: ConvergenceWarning: Objective did not converge. You might want to increase the number of iterations, check the scale of the features or consider increasing regularisation. Duality gap: 2.092e+00, tolerance: 5.290e-03\n",
      "  coef_, l1_reg, l2_reg, X, y, max_iter, tol, rng, random, positive\n",
      "/Users/user/opt/anaconda3/envs/tensorflow_env/lib/python3.7/site-packages/sklearn/linear_model/_coordinate_descent.py:648: ConvergenceWarning: Objective did not converge. You might want to increase the number of iterations, check the scale of the features or consider increasing regularisation. Duality gap: 1.644e+00, tolerance: 5.316e-03\n",
      "  coef_, l1_reg, l2_reg, X, y, max_iter, tol, rng, random, positive\n",
      "/Users/user/opt/anaconda3/envs/tensorflow_env/lib/python3.7/site-packages/sklearn/linear_model/_coordinate_descent.py:648: ConvergenceWarning: Objective did not converge. You might want to increase the number of iterations, check the scale of the features or consider increasing regularisation. Duality gap: 2.335e+00, tolerance: 5.439e-03\n",
      "  coef_, l1_reg, l2_reg, X, y, max_iter, tol, rng, random, positive\n",
      "/Users/user/opt/anaconda3/envs/tensorflow_env/lib/python3.7/site-packages/sklearn/linear_model/_coordinate_descent.py:648: ConvergenceWarning: Objective did not converge. You might want to increase the number of iterations, check the scale of the features or consider increasing regularisation. Duality gap: 4.605e-01, tolerance: 5.345e-03\n",
      "  coef_, l1_reg, l2_reg, X, y, max_iter, tol, rng, random, positive\n"
     ]
    },
    {
     "name": "stdout",
     "output_type": "stream",
     "text": [
      "Grid search results\n",
      "Best alpha value: {'alpha': 0.01}\n",
      "\n",
      "Number of coefficients 33\n",
      "Non-zero coeffcients 16\n",
      "Coefficients [-5.66660837e-03 -0.00000000e+00 -0.00000000e+00 -0.00000000e+00\n",
      " -0.00000000e+00 -9.30512889e-03  1.76030574e-02 -0.00000000e+00\n",
      "  7.43791156e-04  0.00000000e+00 -5.14527500e-01 -1.21479684e-01\n",
      " -0.00000000e+00  2.76196416e-04 -4.90802640e-03 -0.00000000e+00\n",
      " -0.00000000e+00 -0.00000000e+00 -7.83176533e-01 -4.87422845e-02\n",
      " -9.53997786e-05 -0.00000000e+00 -1.19548039e-04  8.29837191e-02\n",
      "  0.00000000e+00  0.00000000e+00  0.00000000e+00  0.00000000e+00\n",
      " -0.00000000e+00  4.02327518e-02  0.00000000e+00 -3.40260980e-04\n",
      "  1.87796726e-04]\n"
     ]
    },
    {
     "name": "stderr",
     "output_type": "stream",
     "text": [
      "/Users/user/opt/anaconda3/envs/tensorflow_env/lib/python3.7/site-packages/sklearn/linear_model/_coordinate_descent.py:648: ConvergenceWarning: Objective did not converge. You might want to increase the number of iterations, check the scale of the features or consider increasing regularisation. Duality gap: 6.353e+00, tolerance: 3.820e-03\n",
      "  coef_, l1_reg, l2_reg, X, y, max_iter, tol, rng, random, positive\n"
     ]
    }
   ],
   "source": [
    "reg_quest, X_train_quest, X_test_quest, y_train_quest, y_test_quest = lasso_model(X_quest, y, random_state=995)"
   ]
  },
  {
   "cell_type": "code",
   "execution_count": 19,
   "metadata": {},
   "outputs": [
    {
     "name": "stdout",
     "output_type": "stream",
     "text": [
      "R squared training set 0.518\n",
      "R squared test set 0.523\n",
      "MSE training set 0.239\n",
      "MSE test set 0.405\n"
     ]
    }
   ],
   "source": [
    "pred_train, pred_test = compute_model(reg_quest, X_train_quest, y_train_quest, X_test_quest, y_test_quest)"
   ]
  }
 ],
 "metadata": {
  "kernelspec": {
   "display_name": "tensorflow_env",
   "language": "python",
   "name": "python3"
  },
  "language_info": {
   "codemirror_mode": {
    "name": "ipython",
    "version": 3
   },
   "file_extension": ".py",
   "mimetype": "text/x-python",
   "name": "python",
   "nbconvert_exporter": "python",
   "pygments_lexer": "ipython3",
   "version": "3.7.10"
  },
  "orig_nbformat": 4,
  "vscode": {
   "interpreter": {
    "hash": "f440ca07c10c374a105f3d67f9c2c345d20e5b276c036b89a1e623f864f80620"
   }
  }
 },
 "nbformat": 4,
 "nbformat_minor": 2
}
