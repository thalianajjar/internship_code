{
 "cells": [
  {
   "attachments": {},
   "cell_type": "markdown",
   "metadata": {},
   "source": [
    "## Imports"
   ]
  },
  {
   "cell_type": "code",
   "execution_count": 1,
   "metadata": {},
   "outputs": [],
   "source": [
    "import pandas as pd\n",
    "import numpy as np\n",
    "from sklearn.model_selection import train_test_split\n",
    "from sklearn.feature_selection import SelectFromModel\n",
    "from sklearn.linear_model import Lasso, LassoCV\n",
    "from sklearn.metrics import mean_squared_error\n",
    "from sklearn.preprocessing import StandardScaler\n",
    "import matplotlib.pyplot as plt\n",
    "import seaborn as sns"
   ]
  },
  {
   "attachments": {},
   "cell_type": "markdown",
   "metadata": {},
   "source": [
    "## Define the files to be loaded"
   ]
  },
  {
   "cell_type": "code",
   "execution_count": 2,
   "metadata": {},
   "outputs": [],
   "source": [
    "# Participant number whose data should be loaded\n",
    "participant_number = 2\n",
    "\n",
    "# The version of the questionnaires to load\n",
    "quest_version = 2"
   ]
  },
  {
   "attachments": {},
   "cell_type": "markdown",
   "metadata": {},
   "source": [
    "## Loading the pre-processed data"
   ]
  },
  {
   "cell_type": "code",
   "execution_count": 3,
   "metadata": {},
   "outputs": [],
   "source": [
    "df = pd.read_csv('data/preprocessed/preprocessed_data_' + str(participant_number) + '_v' + str(quest_version) + '.csv')\n",
    "df = df.drop(labels=['actual_day', 'actual_day.1'], axis=1)\n",
    "\n",
    "df_oura = pd.read_csv('data/preprocessed/preprocessed_sleep_' + str(participant_number) + '_v' + str(quest_version) + '.csv')\n",
    "df_oura = df_oura.drop(labels=['actual_day'], axis=1)\n",
    "\n",
    "df_quest = pd.read_csv('data/preprocessed/preprocessed_questionnaires_' + str(participant_number) + '_v' + str(quest_version) + '.csv')\n",
    "df_quest = df_quest.drop(labels=['actual_day'], axis=1)"
   ]
  },
  {
   "cell_type": "code",
   "execution_count": 4,
   "metadata": {},
   "outputs": [],
   "source": [
    "# Remove these to try and fix the issues raised by LazyRegressor for them \n",
    "# example: \n",
    "# AdaBoostRegressor model failed to execute\n",
    "# Found unknown categories ['[0.0, 51.0, 53.0, 53.0, 54.0, 53.0, ...\n",
    "df = df.drop(labels=['hrv.items', 'heart_rate.items', 'sleep_phase_5_min', 'movement_30_sec', 'segment_state', 'type'], axis=1)\n",
    "df_oura = df_oura.drop(labels=['hrv.items', 'heart_rate.items', 'sleep_phase_5_min', 'movement_30_sec', 'segment_state', 'type'], axis=1)"
   ]
  },
  {
   "cell_type": "code",
   "execution_count": 5,
   "metadata": {},
   "outputs": [],
   "source": [
    "# Replace NaN values by 999 because NaN values can raise errors when fed to a regression model\n",
    "df.fillna(999, inplace=True)\n",
    "df_oura.fillna(999, inplace=True)\n",
    "df_quest.fillna(999, inplace=True)"
   ]
  },
  {
   "cell_type": "code",
   "execution_count": 6,
   "metadata": {},
   "outputs": [],
   "source": [
    "# Check for variables whose values are stored as string. This cannot be analyzed by the regression model\n",
    "for i in range(len(df.columns)):\n",
    "    if isinstance(df.iloc[1,i], str):\n",
    "        print('column ' + df.columns[i])\n",
    "        print('     ' + df.iloc[1,i])"
   ]
  },
  {
   "attachments": {},
   "cell_type": "markdown",
   "metadata": {},
   "source": [
    "## Apply Lasso"
   ]
  },
  {
   "cell_type": "code",
   "execution_count": 7,
   "metadata": {},
   "outputs": [],
   "source": [
    "# Separate the indenpendent variables from the dependent variables\n",
    "y = df['score']\n",
    "X = df.drop(labels=['score', 'subjective_sleep_score'], axis=1)\n",
    "X_oura = df_oura.drop(labels=['score'], axis=1)\n",
    "X_quest = df_quest"
   ]
  },
  {
   "cell_type": "code",
   "execution_count": 8,
   "metadata": {},
   "outputs": [],
   "source": [
    "def lasso_model(X, y, random_state):\n",
    "    X_train, X_test, y_train, y_test = train_test_split(X, y, test_size = 0.2, random_state = random_state)\n",
    "\n",
    "    reg = Lasso(alpha=0.1)\n",
    "    reg.fit(X_train, y_train)\n",
    "\n",
    "    print(\"Number of coefficients\", len(reg.coef_))\n",
    "    print(\"Non-zero coeffcients\", np.count_nonzero(reg.coef_))\n",
    "    print(\"Coefficients\", reg.coef_)\n",
    "    return reg, X_train, X_test, y_train, y_test "
   ]
  },
  {
   "cell_type": "code",
   "execution_count": 9,
   "metadata": {},
   "outputs": [],
   "source": [
    "# Compute R squared and mean square error of a given model and training and testing sets \n",
    "def compute_model(model, X_train, y_train, X_test, y_test):\n",
    "    print('R squared training set', round(model.score(X_train, y_train), 3))\n",
    "    print('R squared test set', round(model.score(X_test, y_test), 3))\n",
    "\n",
    "    # Training data\n",
    "    pred_train = model.predict(X_train)\n",
    "    mse_train = mean_squared_error(y_train, pred_train)\n",
    "    print('MSE training set', round(mse_train, 3))\n",
    "\n",
    "    # Test data\n",
    "    pred_test = model.predict(X_test)\n",
    "    mse_test = mean_squared_error(y_test, pred_test)\n",
    "    print('MSE test set', round(mse_test, 3))\n",
    "\n",
    "    return pred_train, pred_test"
   ]
  },
  {
   "attachments": {},
   "cell_type": "markdown",
   "metadata": {},
   "source": [
    "### Using as independent variables all variables (Oura + questionnaire data)"
   ]
  },
  {
   "cell_type": "code",
   "execution_count": 10,
   "metadata": {},
   "outputs": [
    {
     "name": "stdout",
     "output_type": "stream",
     "text": [
      "Number of coefficients 78\n",
      "Non-zero coeffcients 28\n",
      "Coefficients [ 0.00000000e+00 -0.00000000e+00  0.00000000e+00  0.00000000e+00\n",
      "  0.00000000e+00 -6.74545892e-05  4.97176129e-05  0.00000000e+00\n",
      " -8.37748725e-05 -2.06733679e-17  0.00000000e+00 -0.00000000e+00\n",
      "  3.73775393e-03  6.91151208e-03  5.10340107e-03 -0.00000000e+00\n",
      "  8.46574006e-03  3.94323393e-05  0.00000000e+00  0.00000000e+00\n",
      "  1.24840641e-04  2.25238580e-05  0.00000000e+00 -4.60518876e-07\n",
      "  0.00000000e+00  3.33817263e-04  5.19791157e-06 -3.31978046e-04\n",
      "  1.48674709e-04  1.96401293e-02 -0.00000000e+00 -3.76841543e-04\n",
      " -0.00000000e+00 -0.00000000e+00  4.40561289e-04 -0.00000000e+00\n",
      "  2.11660827e-05 -0.00000000e+00 -0.00000000e+00 -1.09407051e-04\n",
      "  8.92517053e-07 -0.00000000e+00  1.34843539e-05 -0.00000000e+00\n",
      " -2.38328110e-04 -0.00000000e+00  0.00000000e+00 -0.00000000e+00\n",
      " -0.00000000e+00  0.00000000e+00  0.00000000e+00 -0.00000000e+00\n",
      "  0.00000000e+00 -0.00000000e+00  0.00000000e+00  0.00000000e+00\n",
      " -0.00000000e+00  0.00000000e+00  6.94089135e-05  0.00000000e+00\n",
      "  0.00000000e+00 -0.00000000e+00  0.00000000e+00 -0.00000000e+00\n",
      "  0.00000000e+00  3.74920916e-06  0.00000000e+00 -6.09615826e-05\n",
      " -0.00000000e+00  0.00000000e+00  0.00000000e+00  0.00000000e+00\n",
      "  0.00000000e+00 -0.00000000e+00 -0.00000000e+00  0.00000000e+00\n",
      " -3.17870533e-05 -0.00000000e+00]\n"
     ]
    },
    {
     "name": "stderr",
     "output_type": "stream",
     "text": [
      "/Users/user/opt/anaconda3/envs/tensorflow_env/lib/python3.7/site-packages/sklearn/linear_model/_coordinate_descent.py:648: ConvergenceWarning: Objective did not converge. You might want to increase the number of iterations, check the scale of the features or consider increasing regularisation. Duality gap: 2.017e-01, tolerance: 4.405e-03\n",
      "  coef_, l1_reg, l2_reg, X, y, max_iter, tol, rng, random, positive\n"
     ]
    }
   ],
   "source": [
    "reg, X_train, X_test, y_train, y_test = lasso_model(X, y, random_state=np.random.randint(50000))"
   ]
  },
  {
   "cell_type": "code",
   "execution_count": 11,
   "metadata": {},
   "outputs": [
    {
     "name": "stdout",
     "output_type": "stream",
     "text": [
      "R squared training set 0.995\n",
      "R squared test set 0.987\n",
      "MSE training set 0.003\n",
      "MSE test set 0.008\n"
     ]
    }
   ],
   "source": [
    "pred_train, pred_test = compute_model(reg, X_train, y_train, X_test, y_test)"
   ]
  },
  {
   "attachments": {},
   "cell_type": "markdown",
   "metadata": {},
   "source": [
    "### Visualizing the results"
   ]
  },
  {
   "cell_type": "code",
   "execution_count": 12,
   "metadata": {},
   "outputs": [
    {
     "data": {
      "image/png": "[encoded data removed]",
      "text/plain": [
       "<Figure size 432x288 with 1 Axes>"
      ]
     },
     "metadata": {
      "needs_background": "light"
     },
     "output_type": "display_data"
    }
   ],
   "source": [
    "ax = sns.histplot(y_test-pred_test, kde=True)\n",
    "ax.set(xlabel='Difference in scores', ylabel='Number of test data point', \n",
    "       title='Difference between the actual sleep score and the predicted sleep score\\nof the test set using both Oura and the questionnaire data')\n",
    "plt.show()"
   ]
  },
  {
   "attachments": {},
   "cell_type": "markdown",
   "metadata": {},
   "source": [
    "## Apply LassoCV\n",
    "### Using as independent variables all variables (Oura + questionnaire data)"
   ]
  },
  {
   "cell_type": "code",
   "execution_count": 13,
   "metadata": {},
   "outputs": [
    {
     "name": "stdout",
     "output_type": "stream",
     "text": [
      "Best alpha: 0.01\n",
      "R squared training set 0.999\n",
      "R squared test set 0.996\n",
      "MSE training set 0.001\n",
      "MSE test set 0.002\n"
     ]
    }
   ],
   "source": [
    "lasso_cv = LassoCV(alphas=np.arange(0.01, 5, 0.01), cv=5, max_iter=10000)\n",
    "lasso_cv.fit(X_train, y_train)\n",
    "\n",
    "print('Best alpha:', lasso_cv.alpha_)\n",
    "pred_train, pred_test = compute_model(lasso_cv, X_train, y_train, X_test, y_test)"
   ]
  },
  {
   "cell_type": "code",
   "execution_count": 14,
   "metadata": {},
   "outputs": [
    {
     "data": {
      "text/plain": [
       "SelectFromModel(estimator=Lasso(alpha=0.001, random_state=10))"
      ]
     },
     "execution_count": 14,
     "metadata": {},
     "output_type": "execute_result"
    }
   ],
   "source": [
    "scaler = StandardScaler()\n",
    "scaler.fit(X_train)\n",
    "sel_ = SelectFromModel(Lasso(alpha=0.001, random_state=10))\n",
    "sel_.fit(scaler.transform(X_train), y_train)"
   ]
  },
  {
   "cell_type": "code",
   "execution_count": 15,
   "metadata": {},
   "outputs": [
    {
     "data": {
      "text/plain": [
       "array([False,  True,  True,  True, False,  True, False, False,  True,\n",
       "       False,  True,  True,  True,  True,  True,  True,  True,  True,\n",
       "        True, False, False, False, False, False, False, False, False,\n",
       "       False,  True,  True,  True, False, False, False, False,  True,\n",
       "        True,  True, False, False, False, False,  True,  True,  True,\n",
       "        True,  True, False,  True,  True,  True, False, False, False,\n",
       "       False, False, False, False,  True,  True,  True, False, False,\n",
       "       False, False,  True, False, False,  True,  True, False, False,\n",
       "       False, False, False, False,  True, False])"
      ]
     },
     "execution_count": 15,
     "metadata": {},
     "output_type": "execute_result"
    }
   ],
   "source": [
    "sel_.get_support()"
   ]
  },
  {
   "cell_type": "code",
   "execution_count": 16,
   "metadata": {},
   "outputs": [
    {
     "data": {
      "text/plain": [
       "array([ 0.00000000e+00, -5.68882874e-03, -4.07695148e-03,  3.50373332e-03,\n",
       "       -0.00000000e+00, -7.12696770e-03, -0.00000000e+00, -0.00000000e+00,\n",
       "       -4.58375688e-03, -1.21008903e-14,  6.29655168e-02,  2.95636183e-02,\n",
       "        9.61271432e-02,  1.04713214e-01,  8.52790730e-02,  1.95779919e-01,\n",
       "        3.76600858e-01,  1.82647325e-03,  2.92430944e-03, -0.00000000e+00,\n",
       "        0.00000000e+00,  0.00000000e+00,  0.00000000e+00, -0.00000000e+00,\n",
       "        0.00000000e+00,  0.00000000e+00, -0.00000000e+00, -0.00000000e+00,\n",
       "        5.40612127e-03,  1.02165039e-01, -5.07842406e-03, -0.00000000e+00,\n",
       "       -0.00000000e+00, -0.00000000e+00, -0.00000000e+00, -3.41683763e-04,\n",
       "        4.04669865e-03, -4.65849621e-03, -0.00000000e+00,  0.00000000e+00,\n",
       "        0.00000000e+00, -0.00000000e+00,  8.18683096e-05, -1.15897161e-02,\n",
       "       -2.03346897e-03, -2.24894405e-02,  5.47388616e-03,  0.00000000e+00,\n",
       "       -9.74439208e-04, -4.66745937e-03, -9.76371317e-04, -0.00000000e+00,\n",
       "        0.00000000e+00,  0.00000000e+00,  0.00000000e+00,  0.00000000e+00,\n",
       "       -0.00000000e+00,  0.00000000e+00,  2.03869958e-03,  2.03162852e-03,\n",
       "       -9.94976589e-04,  0.00000000e+00,  0.00000000e+00, -0.00000000e+00,\n",
       "        0.00000000e+00, -1.17472684e-03,  0.00000000e+00, -0.00000000e+00,\n",
       "       -3.28418272e-03,  6.44475581e-03,  0.00000000e+00,  0.00000000e+00,\n",
       "        0.00000000e+00, -0.00000000e+00, -0.00000000e+00,  0.00000000e+00,\n",
       "       -7.06721576e-03, -0.00000000e+00])"
      ]
     },
     "execution_count": 16,
     "metadata": {},
     "output_type": "execute_result"
    }
   ],
   "source": [
    "sel_.estimator_.coef_"
   ]
  },
  {
   "cell_type": "code",
   "execution_count": 17,
   "metadata": {},
   "outputs": [
    {
     "name": "stdout",
     "output_type": "stream",
     "text": [
      "['x1' 'x2' 'x3' 'x5' 'x8' 'x10' 'x11' 'x12' 'x13' 'x14' 'x15' 'x16' 'x17'\n",
      " 'x18' 'x28' 'x29' 'x30' 'x35' 'x36' 'x37' 'x42' 'x43' 'x44' 'x45' 'x46'\n",
      " 'x48' 'x49' 'x50' 'x58' 'x59' 'x60' 'x65' 'x68' 'x69' 'x76']\n",
      "35\n"
     ]
    }
   ],
   "source": [
    "print(sel_.get_feature_names_out())\n",
    "print(len(sel_.get_feature_names_out()))"
   ]
  },
  {
   "cell_type": "code",
   "execution_count": 18,
   "metadata": {},
   "outputs": [
    {
     "name": "stdout",
     "output_type": "stream",
     "text": [
      "Number of selected features 35\n"
     ]
    },
    {
     "data": {
      "text/plain": [
       "['average_breath',\n",
       " 'average_breath_variation',\n",
       " 'average_heart_rate',\n",
       " 'awake_time',\n",
       " 'bedtime_start_delta',\n",
       " 'contributors.deep_sleep',\n",
       " 'contributors.efficiency',\n",
       " 'contributors.latency',\n",
       " 'contributors.rem_sleep',\n",
       " 'contributors.restfulness',\n",
       " 'contributors.timing',\n",
       " 'contributors.total_sleep',\n",
       " 'deep_sleep_duration',\n",
       " 'efficiency',\n",
       " 'readiness.contributors.previous_day_activity',\n",
       " 'readiness.contributors.previous_night',\n",
       " 'readiness.contributors.recovery_index',\n",
       " 'readiness.temperature_trend_deviation',\n",
       " 'rem_sleep_duration',\n",
       " 'restless',\n",
       " 'total_sleep_duration',\n",
       " 'wake_ups',\n",
       " 'prev_oura_score',\n",
       " 'bed_time',\n",
       " 'Comfort',\n",
       " 'I walked a bit',\n",
       " 'I went to the toilet',\n",
       " 'Naturally',\n",
       " 'prev_subjective_score',\n",
       " 'Mentally active',\n",
       " 'Physically active',\n",
       " 'alcohol_time',\n",
       " 'eat_bedtime',\n",
       " 'intervention',\n",
       " 'workout_intensity']"
      ]
     },
     "execution_count": 18,
     "metadata": {},
     "output_type": "execute_result"
    }
   ],
   "source": [
    "selected_features = []\n",
    "for i in range(len(sel_.get_support())):\n",
    "    if sel_.get_support()[i] == True:\n",
    "        selected_features.append(X_train.columns[i])\n",
    "\n",
    "print('Number of selected features', len(selected_features))\n",
    "selected_features"
   ]
  },
  {
   "attachments": {},
   "cell_type": "markdown",
   "metadata": {},
   "source": [
    "### Using as independent variables only the Oura data\n",
    "#### Lasso"
   ]
  },
  {
   "cell_type": "code",
   "execution_count": 19,
   "metadata": {},
   "outputs": [
    {
     "name": "stdout",
     "output_type": "stream",
     "text": [
      "Number of coefficients 47\n",
      "Non-zero coeffcients 21\n",
      "Coefficients [-8.73878275e-04  0.00000000e+00 -0.00000000e+00  0.00000000e+00\n",
      "  0.00000000e+00 -0.00000000e+00 -7.08693999e-05  5.43631570e-05\n",
      "  6.63363353e-18 -9.34308845e-05 -0.00000000e+00  0.00000000e+00\n",
      "  0.00000000e+00  0.00000000e+00  4.66497756e-03  8.18365030e-03\n",
      "  0.00000000e+00  1.00165702e-02  3.09793680e-05  0.00000000e+00\n",
      "  0.00000000e+00  3.01096603e-04  1.14212899e-05  0.00000000e+00\n",
      " -2.36623177e-06  0.00000000e+00  0.00000000e+00  0.00000000e+00\n",
      " -5.37078810e-06  0.00000000e+00  1.62181473e-02 -1.27278953e-04\n",
      " -5.73463489e-04 -0.00000000e+00 -0.00000000e+00 -0.00000000e+00\n",
      " -0.00000000e+00  3.25396808e-05 -0.00000000e+00 -0.00000000e+00\n",
      " -7.13923709e-05 -3.53185328e-06 -0.00000000e+00  1.07492075e-05\n",
      " -0.00000000e+00 -8.84035283e-04 -0.00000000e+00]\n"
     ]
    },
    {
     "name": "stderr",
     "output_type": "stream",
     "text": [
      "/Users/user/opt/anaconda3/envs/tensorflow_env/lib/python3.7/site-packages/sklearn/linear_model/_coordinate_descent.py:648: ConvergenceWarning: Objective did not converge. You might want to increase the number of iterations, check the scale of the features or consider increasing regularisation. Duality gap: 2.010e-01, tolerance: 3.820e-03\n",
      "  coef_, l1_reg, l2_reg, X, y, max_iter, tol, rng, random, positive\n"
     ]
    }
   ],
   "source": [
    "reg_oura, X_train_oura, X_test_oura, y_train_oura, y_test_oura = lasso_model(X_oura, y, random_state=995)"
   ]
  },
  {
   "cell_type": "code",
   "execution_count": 20,
   "metadata": {},
   "outputs": [
    {
     "name": "stdout",
     "output_type": "stream",
     "text": [
      "R squared training set 0.993\n",
      "R squared test set 0.942\n",
      "MSE training set 0.004\n",
      "MSE test set 0.049\n"
     ]
    }
   ],
   "source": [
    "pred_train, pred_test = compute_model(reg_oura, X_train_oura, y_train_oura, X_test_oura, y_test_oura)"
   ]
  },
  {
   "attachments": {},
   "cell_type": "markdown",
   "metadata": {},
   "source": [
    "## Applying the same model on the questionnaire data only"
   ]
  },
  {
   "cell_type": "code",
   "execution_count": 21,
   "metadata": {},
   "outputs": [
    {
     "name": "stdout",
     "output_type": "stream",
     "text": [
      "Number of coefficients 34\n",
      "Non-zero coeffcients 9\n",
      "Coefficients [-3.74646738e-03 -0.00000000e+00 -0.00000000e+00 -0.00000000e+00\n",
      " -0.00000000e+00 -0.00000000e+00  0.00000000e+00 -0.00000000e+00\n",
      "  0.00000000e+00  0.00000000e+00 -0.00000000e+00 -0.00000000e+00\n",
      " -0.00000000e+00  1.91832384e-01  2.98162620e-04 -0.00000000e+00\n",
      " -0.00000000e+00  0.00000000e+00 -0.00000000e+00 -1.97572877e-02\n",
      " -1.01430656e-01 -4.28180564e-05 -0.00000000e+00  1.16778449e-04\n",
      "  0.00000000e+00  0.00000000e+00  0.00000000e+00  0.00000000e+00\n",
      "  0.00000000e+00 -0.00000000e+00  0.00000000e+00  0.00000000e+00\n",
      " -2.62180584e-04  1.32713321e-04]\n"
     ]
    },
    {
     "name": "stderr",
     "output_type": "stream",
     "text": [
      "/Users/user/opt/anaconda3/envs/tensorflow_env/lib/python3.7/site-packages/sklearn/linear_model/_coordinate_descent.py:648: ConvergenceWarning: Objective did not converge. You might want to increase the number of iterations, check the scale of the features or consider increasing regularisation. Duality gap: 9.084e-01, tolerance: 3.820e-03\n",
      "  coef_, l1_reg, l2_reg, X, y, max_iter, tol, rng, random, positive\n"
     ]
    }
   ],
   "source": [
    "reg_quest, X_train_quest, X_test_quest, y_train_quest, y_test_quest = lasso_model(X_quest, y, random_state=995)"
   ]
  },
  {
   "cell_type": "code",
   "execution_count": 22,
   "metadata": {},
   "outputs": [
    {
     "name": "stdout",
     "output_type": "stream",
     "text": [
      "R squared training set 0.331\n",
      "R squared test set 0.438\n",
      "MSE training set 0.332\n",
      "MSE test set 0.476\n"
     ]
    }
   ],
   "source": [
    "pred_train, pred_test = compute_model(reg_quest, X_train_quest, y_train_quest, X_test_quest, y_test_quest)"
   ]
  }
 ],
 "metadata": {
  "kernelspec": {
   "display_name": "tensorflow_env",
   "language": "python",
   "name": "python3"
  },
  "language_info": {
   "codemirror_mode": {
    "name": "ipython",
    "version": 3
   },
   "file_extension": ".py",
   "mimetype": "text/x-python",
   "name": "python",
   "nbconvert_exporter": "python",
   "pygments_lexer": "ipython3",
   "version": "3.7.10"
  },
  "orig_nbformat": 4,
  "vscode": {
   "interpreter": {
    "hash": "f440ca07c10c374a105f3d67f9c2c345d20e5b276c036b89a1e623f864f80620"
   }
  }
 },
 "nbformat": 4,
 "nbformat_minor": 2
}
