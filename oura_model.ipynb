{
 "cells": [
  {
   "attachments": {},
   "cell_type": "markdown",
   "metadata": {},
   "source": [
    "## Imports"
   ]
  },
  {
   "cell_type": "code",
   "execution_count": 1,
   "metadata": {},
   "outputs": [],
   "source": [
    "import pandas as pd\n",
    "import numpy as np\n",
    "from sklearn.model_selection import train_test_split\n",
    "from sklearn.feature_selection import SelectFromModel\n",
    "from sklearn.linear_model import Lasso, LassoCV\n",
    "from sklearn.metrics import mean_squared_error\n",
    "from sklearn.model_selection import RepeatedKFold\n",
    "from sklearn.datasets import make_regression\n",
    "from sklearn.preprocessing import StandardScaler"
   ]
  },
  {
   "attachments": {},
   "cell_type": "markdown",
   "metadata": {},
   "source": [
    "## Define the files to be loaded"
   ]
  },
  {
   "cell_type": "code",
   "execution_count": 2,
   "metadata": {},
   "outputs": [],
   "source": [
    "# Participant number whose data should be loaded\n",
    "participant_number = 2\n",
    "\n",
    "# The version of the questionnaires to load\n",
    "quest_version = 2"
   ]
  },
  {
   "attachments": {},
   "cell_type": "markdown",
   "metadata": {},
   "source": [
    "## Loading the pre-processed data"
   ]
  },
  {
   "cell_type": "code",
   "execution_count": 3,
   "metadata": {},
   "outputs": [],
   "source": [
    "df = pd.read_csv('data/preprocessed/preprocessed_data_' + str(participant_number) + '_v' + str(quest_version) + '.csv')\n",
    "df = df.drop(labels=['actual_day', 'actual_day.1'], axis=1)\n",
    "\n",
    "df_oura = pd.read_csv('data/preprocessed/preprocessed_sleep_' + str(participant_number) + '_v' + str(quest_version) + '.csv')\n",
    "df_oura = df_oura.drop(labels=['actual_day'], axis=1)\n",
    "\n",
    "df_quest = pd.read_csv('data/preprocessed/preprocessed_questionnaires_' + str(participant_number) + '_v' + str(quest_version) + '.csv')\n",
    "df_quest = df_quest.drop(labels=['actual_day'], axis=1)"
   ]
  },
  {
   "cell_type": "code",
   "execution_count": 4,
   "metadata": {},
   "outputs": [],
   "source": [
    "# Remove these to try and fix the issues raised by LazyRegressor for them \n",
    "# example: \n",
    "# AdaBoostRegressor model failed to execute\n",
    "# Found unknown categories ['[0.0, 51.0, 53.0, 53.0, 54.0, 53.0, ...\n",
    "df = df.drop(labels=['hrv.items', 'heart_rate.items', 'sleep_phase_5_min', 'movement_30_sec', 'segment_state', 'type'], axis=1)\n",
    "df_oura = df_oura.drop(labels=['hrv.items', 'heart_rate.items', 'sleep_phase_5_min', 'movement_30_sec', 'segment_state', 'type'], axis=1)"
   ]
  },
  {
   "cell_type": "code",
   "execution_count": 5,
   "metadata": {},
   "outputs": [],
   "source": [
    "df.fillna(999, inplace=True)\n",
    "df_oura.fillna(999, inplace=True)\n",
    "df_quest.fillna(999, inplace=True)"
   ]
  },
  {
   "cell_type": "code",
   "execution_count": 6,
   "metadata": {},
   "outputs": [],
   "source": [
    "for i in range(len(df.columns)):\n",
    "    if isinstance(df.iloc[1,i], str):\n",
    "        print('column ' + df.columns[i])\n",
    "        print('     ' + df.iloc[1,i])"
   ]
  },
  {
   "attachments": {},
   "cell_type": "markdown",
   "metadata": {},
   "source": [
    "## Apply Lasso"
   ]
  },
  {
   "cell_type": "code",
   "execution_count": 7,
   "metadata": {},
   "outputs": [],
   "source": [
    "# Separate the indenpendent variables from the dependent variables\n",
    "y = df['score']\n",
    "X = df.drop(labels=['score', 'subjective_sleep_score'], axis=1)\n",
    "X_oura = df_oura.drop(labels=['score'], axis=1)\n",
    "X_quest = df_quest"
   ]
  },
  {
   "cell_type": "code",
   "execution_count": 8,
   "metadata": {},
   "outputs": [],
   "source": [
    "def lasso_model(X, y, random_state):\n",
    "    X_train, X_test, y_train, y_test = train_test_split(X, y, test_size = 0.2, random_state = random_state)\n",
    "\n",
    "    reg = Lasso(alpha=0.1)\n",
    "    reg.fit(X_train, y_train)\n",
    "\n",
    "    print(\"Number of coefficients\", len(reg.coef_))\n",
    "    print(\"Non-zero coeffcients\", np.count_nonzero(reg.coef_))\n",
    "    print(\"Coefficients\", reg.coef_)\n",
    "    return reg, X_train, X_test, y_train, y_test "
   ]
  },
  {
   "attachments": {},
   "cell_type": "markdown",
   "metadata": {},
   "source": [
    "### Using as independent variables all variables (Oura + questionnaire data)"
   ]
  },
  {
   "cell_type": "code",
   "execution_count": 9,
   "metadata": {},
   "outputs": [
    {
     "name": "stdout",
     "output_type": "stream",
     "text": [
      "Number of coefficients 78\n",
      "Non-zero coeffcients 28\n",
      "Coefficients [ 0.00000000e+00 -0.00000000e+00  0.00000000e+00  0.00000000e+00\n",
      " -0.00000000e+00 -7.47665293e-05  6.00569637e-05  1.42928156e-21\n",
      " -8.97052432e-05 -3.83501729e-08  0.00000000e+00 -0.00000000e+00\n",
      "  3.56094344e-03  3.66727841e-03  5.35246042e-03 -0.00000000e+00\n",
      "  8.30908070e-03  3.81266317e-05  0.00000000e+00  0.00000000e+00\n",
      "  1.39679734e-04  2.18025872e-05  0.00000000e+00 -4.85756174e-07\n",
      "  0.00000000e+00  5.37496756e-04  5.10823232e-04 -5.81800057e-04\n",
      "  1.43006165e-04  2.09096086e-02 -1.31171692e-04 -3.17687876e-04\n",
      " -0.00000000e+00 -0.00000000e+00  0.00000000e+00 -0.00000000e+00\n",
      "  4.45941058e-05 -0.00000000e+00 -0.00000000e+00 -9.20579440e-05\n",
      " -1.27867417e-05 -0.00000000e+00  9.79635239e-06 -0.00000000e+00\n",
      "  0.00000000e+00 -0.00000000e+00  0.00000000e+00 -0.00000000e+00\n",
      " -0.00000000e+00 -0.00000000e+00 -0.00000000e+00 -0.00000000e+00\n",
      "  0.00000000e+00  0.00000000e+00  0.00000000e+00  0.00000000e+00\n",
      " -0.00000000e+00  0.00000000e+00  6.48211058e-05 -0.00000000e+00\n",
      "  0.00000000e+00 -0.00000000e+00  0.00000000e+00  0.00000000e+00\n",
      "  0.00000000e+00  3.30049974e-05  0.00000000e+00 -6.14727861e-05\n",
      " -0.00000000e+00  0.00000000e+00  0.00000000e+00  0.00000000e+00\n",
      "  0.00000000e+00  0.00000000e+00 -0.00000000e+00  0.00000000e+00\n",
      " -3.63915929e-05 -0.00000000e+00]\n"
     ]
    },
    {
     "name": "stderr",
     "output_type": "stream",
     "text": [
      "/Users/user/opt/anaconda3/envs/tensorflow_env/lib/python3.7/site-packages/sklearn/linear_model/_coordinate_descent.py:648: ConvergenceWarning: Objective did not converge. You might want to increase the number of iterations, check the scale of the features or consider increasing regularisation. Duality gap: 4.128e-01, tolerance: 4.585e-03\n",
      "  coef_, l1_reg, l2_reg, X, y, max_iter, tol, rng, random, positive\n"
     ]
    }
   ],
   "source": [
    "reg, X_train, X_test, y_train, y_test = lasso_model(X, y, random_state=np.random.randint(50000))"
   ]
  },
  {
   "cell_type": "code",
   "execution_count": 10,
   "metadata": {},
   "outputs": [
    {
     "name": "stdout",
     "output_type": "stream",
     "text": [
      "R squared training set 99.41\n",
      "R squared test set 97.85\n"
     ]
    }
   ],
   "source": [
    "print('R squared training set', round(reg.score(X_train, y_train)*100, 2))\n",
    "print('R squared test set', round(reg.score(X_test, y_test)*100, 2))"
   ]
  },
  {
   "cell_type": "code",
   "execution_count": 11,
   "metadata": {},
   "outputs": [
    {
     "name": "stdout",
     "output_type": "stream",
     "text": [
      "MSE training set 0.0\n",
      "MSE test set 0.01\n"
     ]
    }
   ],
   "source": [
    "# Training data\n",
    "pred_train = reg.predict(X_train)\n",
    "mse_train = mean_squared_error(y_train, pred_train)\n",
    "print('MSE training set', round(mse_train, 2))\n",
    "\n",
    "# Test data\n",
    "pred_test = reg.predict(X_test)\n",
    "mse_test =mean_squared_error(y_test, pred_test)\n",
    "print('MSE test set', round(mse_test, 2))"
   ]
  },
  {
   "attachments": {},
   "cell_type": "markdown",
   "metadata": {},
   "source": [
    "## Apply LassoCV"
   ]
  },
  {
   "cell_type": "code",
   "execution_count": 12,
   "metadata": {},
   "outputs": [
    {
     "name": "stderr",
     "output_type": "stream",
     "text": [
      "/Users/user/opt/anaconda3/envs/tensorflow_env/lib/python3.7/site-packages/sklearn/linear_model/_coordinate_descent.py:648: ConvergenceWarning: Objective did not converge. You might want to increase the number of iterations, check the scale of the features or consider increasing regularisation. Duality gap: 4.630e-03, tolerance: 3.704e-03\n",
      "  coef_, l1_reg, l2_reg, X, y, max_iter, tol, rng, random, positive\n",
      "/Users/user/opt/anaconda3/envs/tensorflow_env/lib/python3.7/site-packages/sklearn/linear_model/_coordinate_descent.py:648: ConvergenceWarning: Objective did not converge. You might want to increase the number of iterations, check the scale of the features or consider increasing regularisation. Duality gap: 5.156e-02, tolerance: 3.704e-03\n",
      "  coef_, l1_reg, l2_reg, X, y, max_iter, tol, rng, random, positive\n"
     ]
    },
    {
     "name": "stdout",
     "output_type": "stream",
     "text": [
      "R squared training set 99.89\n",
      "R squared test set 99.62\n",
      "MSE training set 0.0\n",
      "MSE test set 0.0\n"
     ]
    },
    {
     "name": "stderr",
     "output_type": "stream",
     "text": [
      "/Users/user/opt/anaconda3/envs/tensorflow_env/lib/python3.7/site-packages/sklearn/linear_model/_coordinate_descent.py:648: ConvergenceWarning: Objective did not converge. You might want to increase the number of iterations, check the scale of the features or consider increasing regularisation. Duality gap: 2.173e-02, tolerance: 4.028e-03\n",
      "  coef_, l1_reg, l2_reg, X, y, max_iter, tol, rng, random, positive\n",
      "/Users/user/opt/anaconda3/envs/tensorflow_env/lib/python3.7/site-packages/sklearn/linear_model/_coordinate_descent.py:648: ConvergenceWarning: Objective did not converge. You might want to increase the number of iterations, check the scale of the features or consider increasing regularisation. Duality gap: 6.165e-02, tolerance: 4.585e-03\n",
      "  coef_, l1_reg, l2_reg, X, y, max_iter, tol, rng, random, positive\n"
     ]
    }
   ],
   "source": [
    "reg_cv = LassoCV(alphas=np.arange(0.01, 5, 0.01), cv=5, max_iter=10000)\n",
    "reg_cv.fit(X_train, y_train)\n",
    "\n",
    "print('R squared training set', round(reg_cv.score(X_train, y_train)*100, 2))\n",
    "print('R squared test set', round(reg_cv.score(X_test, y_test)*100, 2))\n",
    "\n",
    "# Training data\n",
    "pred_train_cv = reg_cv.predict(X_train)\n",
    "mse_train_cv = mean_squared_error(y_train, pred_train_cv)\n",
    "print('MSE training set', round(mse_train_cv, 2))\n",
    "\n",
    "# Test data\n",
    "pred_test_cv = reg_cv.predict(X_test)\n",
    "mse_test_cv = mean_squared_error(y_test, pred_test_cv)\n",
    "print('MSE test set', round(mse_test_cv, 2))"
   ]
  },
  {
   "cell_type": "code",
   "execution_count": 13,
   "metadata": {},
   "outputs": [
    {
     "name": "stdout",
     "output_type": "stream",
     "text": [
      "alpha: 0.010000\n"
     ]
    }
   ],
   "source": [
    "print('alpha: %f' % reg_cv.alpha_)"
   ]
  },
  {
   "cell_type": "code",
   "execution_count": 14,
   "metadata": {},
   "outputs": [
    {
     "data": {
      "text/plain": [
       "SelectFromModel(estimator=Lasso(alpha=0.001, random_state=10))"
      ]
     },
     "execution_count": 14,
     "metadata": {},
     "output_type": "execute_result"
    }
   ],
   "source": [
    "scaler = StandardScaler()\n",
    "scaler.fit(X_train)\n",
    "sel_ = SelectFromModel(Lasso(alpha=0.001, random_state=10))\n",
    "sel_.fit(scaler.transform(X_train), y_train)"
   ]
  },
  {
   "cell_type": "code",
   "execution_count": 15,
   "metadata": {},
   "outputs": [
    {
     "data": {
      "text/plain": [
       "array([False,  True,  True,  True, False,  True,  True, False, False,\n",
       "        True,  True,  True,  True,  True,  True,  True,  True,  True,\n",
       "       False, False,  True, False, False, False, False, False, False,\n",
       "       False,  True,  True,  True, False, False, False, False,  True,\n",
       "        True, False,  True, False, False,  True, False,  True, False,\n",
       "        True,  True, False,  True,  True,  True, False, False, False,\n",
       "       False, False, False, False,  True,  True, False, False, False,\n",
       "        True,  True, False,  True, False, False,  True, False, False,\n",
       "       False, False,  True, False,  True, False])"
      ]
     },
     "execution_count": 15,
     "metadata": {},
     "output_type": "execute_result"
    }
   ],
   "source": [
    "sel_.get_support()"
   ]
  },
  {
   "cell_type": "code",
   "execution_count": 16,
   "metadata": {},
   "outputs": [
    {
     "name": "stdout",
     "output_type": "stream",
     "text": [
      "['x1' 'x2' 'x3' 'x5' 'x6' 'x9' 'x10' 'x11' 'x12' 'x13' 'x14' 'x15' 'x16'\n",
      " 'x17' 'x20' 'x28' 'x29' 'x30' 'x35' 'x36' 'x38' 'x41' 'x43' 'x45' 'x46'\n",
      " 'x48' 'x49' 'x50' 'x58' 'x59' 'x63' 'x64' 'x66' 'x69' 'x74' 'x76']\n",
      "36\n"
     ]
    }
   ],
   "source": [
    "print(sel_.get_feature_names_out())\n",
    "print(len(sel_.get_feature_names_out()))"
   ]
  },
  {
   "cell_type": "code",
   "execution_count": 17,
   "metadata": {},
   "outputs": [
    {
     "data": {
      "text/plain": [
       "['average_breath',\n",
       " 'average_breath_variation',\n",
       " 'average_heart_rate',\n",
       " 'awake_time',\n",
       " 'bedtime_end_delta',\n",
       " 'bedtime_start_seconds',\n",
       " 'contributors.deep_sleep',\n",
       " 'contributors.efficiency',\n",
       " 'contributors.latency',\n",
       " 'contributors.rem_sleep',\n",
       " 'contributors.restfulness',\n",
       " 'contributors.timing',\n",
       " 'contributors.total_sleep',\n",
       " 'deep_sleep_duration',\n",
       " 'latency',\n",
       " 'readiness.contributors.previous_day_activity',\n",
       " 'readiness.contributors.previous_night',\n",
       " 'readiness.contributors.recovery_index',\n",
       " 'readiness.temperature_trend_deviation',\n",
       " 'rem_sleep_duration',\n",
       " 'restless_periods',\n",
       " 'timezone',\n",
       " 'wake_ups',\n",
       " 'bed_time',\n",
       " 'Comfort',\n",
       " 'I walked a bit',\n",
       " 'I went to the toilet',\n",
       " 'Naturally',\n",
       " 'prev_subjective_score',\n",
       " 'Mentally active',\n",
       " 'Stressful',\n",
       " 'alcohol_amount',\n",
       " 'coffee_amount',\n",
       " 'intervention',\n",
       " 'stress_levels',\n",
       " 'workout_intensity']"
      ]
     },
     "execution_count": 17,
     "metadata": {},
     "output_type": "execute_result"
    }
   ],
   "source": [
    "selected_features = []\n",
    "for i in range(len(sel_.get_support())):\n",
    "    if sel_.get_support()[i] == True:\n",
    "        selected_features.append(X_train.columns[i])\n",
    "\n",
    "selected_features"
   ]
  },
  {
   "attachments": {},
   "cell_type": "markdown",
   "metadata": {},
   "source": [
    "### Using as independent variables only the Oura data"
   ]
  },
  {
   "cell_type": "code",
   "execution_count": 18,
   "metadata": {},
   "outputs": [
    {
     "name": "stdout",
     "output_type": "stream",
     "text": [
      "Number of coefficients 47\n",
      "Non-zero coeffcients 22\n",
      "Coefficients [-8.64271361e-04  0.00000000e+00 -0.00000000e+00  0.00000000e+00\n",
      "  0.00000000e+00 -0.00000000e+00 -7.13347442e-05  5.47466805e-05\n",
      "  6.79890259e-18 -9.34642929e-05  5.98758452e-08  0.00000000e+00\n",
      "  0.00000000e+00  0.00000000e+00  4.68314830e-03  8.19895173e-03\n",
      "  0.00000000e+00  1.00729466e-02  3.05899517e-05  0.00000000e+00\n",
      "  0.00000000e+00  3.02672166e-04  1.09255701e-05  0.00000000e+00\n",
      " -2.30471108e-06  0.00000000e+00  0.00000000e+00  0.00000000e+00\n",
      " -6.63404699e-06  0.00000000e+00  1.61907087e-02 -1.29909462e-04\n",
      " -5.68955130e-04 -0.00000000e+00 -0.00000000e+00 -0.00000000e+00\n",
      " -0.00000000e+00  3.20101327e-05 -0.00000000e+00 -0.00000000e+00\n",
      " -7.21189611e-05 -3.31376231e-06 -0.00000000e+00  1.08074263e-05\n",
      " -0.00000000e+00 -8.85537854e-04 -0.00000000e+00]\n"
     ]
    },
    {
     "name": "stderr",
     "output_type": "stream",
     "text": [
      "/Users/user/opt/anaconda3/envs/tensorflow_env/lib/python3.7/site-packages/sklearn/linear_model/_coordinate_descent.py:648: ConvergenceWarning: Objective did not converge. You might want to increase the number of iterations, check the scale of the features or consider increasing regularisation. Duality gap: 3.941e-01, tolerance: 3.820e-03\n",
      "  coef_, l1_reg, l2_reg, X, y, max_iter, tol, rng, random, positive\n"
     ]
    }
   ],
   "source": [
    "reg_oura, X_train_oura, X_test_oura, y_train_oura, y_test_oura = lasso_model(X_oura, y, random_state=995)"
   ]
  },
  {
   "cell_type": "code",
   "execution_count": 19,
   "metadata": {},
   "outputs": [
    {
     "name": "stdout",
     "output_type": "stream",
     "text": [
      "R squared training set 99.28\n",
      "R squared test set 94.12\n"
     ]
    }
   ],
   "source": [
    "print('R squared training set', round(reg_oura.score(X_train_oura, y_train_oura)*100, 2))\n",
    "print('R squared test set', round(reg_oura.score(X_test_oura, y_test_oura)*100, 2))"
   ]
  },
  {
   "attachments": {},
   "cell_type": "markdown",
   "metadata": {},
   "source": [
    "## Applying the same model on the questionnaire data only"
   ]
  },
  {
   "cell_type": "code",
   "execution_count": 20,
   "metadata": {},
   "outputs": [
    {
     "name": "stdout",
     "output_type": "stream",
     "text": [
      "Number of coefficients 34\n",
      "Non-zero coeffcients 9\n",
      "Coefficients [-3.74646738e-03 -0.00000000e+00 -0.00000000e+00 -0.00000000e+00\n",
      " -0.00000000e+00 -0.00000000e+00  0.00000000e+00 -0.00000000e+00\n",
      "  0.00000000e+00  0.00000000e+00 -0.00000000e+00 -0.00000000e+00\n",
      " -0.00000000e+00  1.91832384e-01  2.98162620e-04 -0.00000000e+00\n",
      " -0.00000000e+00  0.00000000e+00 -0.00000000e+00 -1.97572877e-02\n",
      " -1.01430656e-01 -4.28180564e-05 -0.00000000e+00  1.16778449e-04\n",
      "  0.00000000e+00  0.00000000e+00  0.00000000e+00  0.00000000e+00\n",
      "  0.00000000e+00 -0.00000000e+00  0.00000000e+00  0.00000000e+00\n",
      " -2.62180584e-04  1.32713321e-04]\n"
     ]
    },
    {
     "name": "stderr",
     "output_type": "stream",
     "text": [
      "/Users/user/opt/anaconda3/envs/tensorflow_env/lib/python3.7/site-packages/sklearn/linear_model/_coordinate_descent.py:648: ConvergenceWarning: Objective did not converge. You might want to increase the number of iterations, check the scale of the features or consider increasing regularisation. Duality gap: 9.084e-01, tolerance: 3.820e-03\n",
      "  coef_, l1_reg, l2_reg, X, y, max_iter, tol, rng, random, positive\n"
     ]
    }
   ],
   "source": [
    "reg_quest, X_train_quest, X_test_quest, y_train_quest, y_test_quest = lasso_model(X_quest, y, random_state=995)"
   ]
  },
  {
   "cell_type": "code",
   "execution_count": 21,
   "metadata": {},
   "outputs": [
    {
     "name": "stdout",
     "output_type": "stream",
     "text": [
      "R squared training set 33.07\n",
      "R squared test set 43.83\n"
     ]
    }
   ],
   "source": [
    "print('R squared training set', round(reg_quest.score(X_train_quest, y_train_quest)*100, 2))\n",
    "print('R squared test set', round(reg_quest.score(X_test_quest, y_test_quest)*100, 2))"
   ]
  }
 ],
 "metadata": {
  "kernelspec": {
   "display_name": "tensorflow_env",
   "language": "python",
   "name": "python3"
  },
  "language_info": {
   "codemirror_mode": {
    "name": "ipython",
    "version": 3
   },
   "file_extension": ".py",
   "mimetype": "text/x-python",
   "name": "python",
   "nbconvert_exporter": "python",
   "pygments_lexer": "ipython3",
   "version": "3.7.10"
  },
  "orig_nbformat": 4,
  "vscode": {
   "interpreter": {
    "hash": "f440ca07c10c374a105f3d67f9c2c345d20e5b276c036b89a1e623f864f80620"
   }
  }
 },
 "nbformat": 4,
 "nbformat_minor": 2
}
