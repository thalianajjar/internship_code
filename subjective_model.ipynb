{
 "cells": [
  {
   "attachments": {},
   "cell_type": "markdown",
   "metadata": {},
   "source": [
    "## Imports"
   ]
  },
  {
   "cell_type": "code",
   "execution_count": 1,
   "metadata": {},
   "outputs": [],
   "source": [
    "import pandas as pd\n",
    "import numpy as np\n",
    "from sklearn.model_selection import train_test_split\n",
    "from sklearn.feature_selection import SelectFromModel\n",
    "from sklearn.linear_model import Lasso, LassoCV\n",
    "from sklearn.metrics import mean_squared_error\n",
    "from sklearn.preprocessing import StandardScaler\n",
    "import matplotlib.pyplot as plt\n",
    "import seaborn as sns"
   ]
  },
  {
   "attachments": {},
   "cell_type": "markdown",
   "metadata": {},
   "source": [
    "## Define the files to be loaded"
   ]
  },
  {
   "cell_type": "code",
   "execution_count": 2,
   "metadata": {},
   "outputs": [],
   "source": [
    "# Participant number whose data should be loaded\n",
    "participant_number = 2\n",
    "\n",
    "# The version of the questionnaires to load\n",
    "quest_version = 2"
   ]
  },
  {
   "attachments": {},
   "cell_type": "markdown",
   "metadata": {},
   "source": [
    "## Loading the pre-processed data"
   ]
  },
  {
   "cell_type": "code",
   "execution_count": 3,
   "metadata": {},
   "outputs": [],
   "source": [
    "df = pd.read_csv('data/preprocessed/preprocessed_data_' + str(participant_number) + '_v' + str(quest_version) + '.csv')\n",
    "df = df.drop(labels=['actual_day', 'actual_day.1'], axis=1)\n",
    "\n",
    "df_oura = pd.read_csv('data/preprocessed/preprocessed_sleep_' + str(participant_number) + '_v' + str(quest_version) + '.csv')\n",
    "df_oura = df_oura.drop(labels=['actual_day'], axis=1)\n",
    "\n",
    "df_quest = pd.read_csv('data/preprocessed/preprocessed_questionnaires_' + str(participant_number) + '_v' + str(quest_version) + '.csv')\n",
    "df_quest = df_quest.drop(labels=['actual_day'], axis=1)"
   ]
  },
  {
   "cell_type": "code",
   "execution_count": 4,
   "metadata": {},
   "outputs": [],
   "source": [
    "# Remove these to try and fix the issues raised by LazyRegressor for them \n",
    "# example: \n",
    "# AdaBoostRegressor model failed to execute\n",
    "# Found unknown categories ['[0.0, 51.0, 53.0, 53.0, 54.0, 53.0, ...\n",
    "df = df.drop(labels=['hrv.items', 'heart_rate.items', 'sleep_phase_5_min', 'movement_30_sec', 'segment_state', 'type'], axis=1)\n",
    "df_oura = df_oura.drop(labels=['hrv.items', 'heart_rate.items', 'sleep_phase_5_min', 'movement_30_sec', 'segment_state', 'type'], axis=1)"
   ]
  },
  {
   "cell_type": "code",
   "execution_count": 5,
   "metadata": {},
   "outputs": [],
   "source": [
    "# Replace NaN values by 999 because NaN values can raise errors when fed to a regression model\n",
    "df.fillna(999, inplace=True)\n",
    "df_oura.fillna(999, inplace=True)\n",
    "df_quest.fillna(999, inplace=True)"
   ]
  },
  {
   "cell_type": "code",
   "execution_count": 6,
   "metadata": {},
   "outputs": [],
   "source": [
    "# Check for variables whose values are stored as string. This cannot be analyzed by the regression model\n",
    "for i in range(len(df.columns)):\n",
    "    if isinstance(df.iloc[1,i], str):\n",
    "        print('column ' + df.columns[i])\n",
    "        print('     ' + df.iloc[1,i])"
   ]
  },
  {
   "attachments": {},
   "cell_type": "markdown",
   "metadata": {},
   "source": [
    "## Apply Lasso"
   ]
  },
  {
   "cell_type": "code",
   "execution_count": 7,
   "metadata": {},
   "outputs": [],
   "source": [
    "# Separate the indenpendent variables from the dependent variables\n",
    "y = df['subjective_sleep_score']\n",
    "X = df.drop(labels=['score', 'subjective_sleep_score'], axis=1)\n",
    "X_oura = df_oura.drop(labels=['score'], axis=1)\n",
    "X_quest = df_quest"
   ]
  },
  {
   "cell_type": "code",
   "execution_count": 8,
   "metadata": {},
   "outputs": [],
   "source": [
    "def lasso_model(X, y, random_state):\n",
    "    X_train, X_test, y_train, y_test = train_test_split(X, y, test_size = 0.2, random_state = random_state)\n",
    "\n",
    "    reg = Lasso(alpha=0.1)\n",
    "    reg.fit(X_train, y_train)\n",
    "\n",
    "    print(\"Number of coefficients\", len(reg.coef_))\n",
    "    print(\"Non-zero coeffcients\", np.count_nonzero(reg.coef_))\n",
    "    print(\"Coefficients\", reg.coef_)\n",
    "    return reg, X_train, X_test, y_train, y_test "
   ]
  },
  {
   "cell_type": "code",
   "execution_count": 9,
   "metadata": {},
   "outputs": [],
   "source": [
    "# Compute R squared and mean square error of a given model and training and testing sets \n",
    "def compute_model(model, X_train, y_train, X_test, y_test):\n",
    "    print('R squared training set', round(model.score(X_train, y_train), 3))\n",
    "    print('R squared test set', round(model.score(X_test, y_test), 3))\n",
    "\n",
    "    # Training data\n",
    "    pred_train = model.predict(X_train)\n",
    "    mse_train = mean_squared_error(y_train, pred_train)\n",
    "    print('MSE training set', round(mse_train, 3))\n",
    "\n",
    "    # Test data\n",
    "    pred_test = model.predict(X_test)\n",
    "    mse_test = mean_squared_error(y_test, pred_test)\n",
    "    print('MSE test set', round(mse_test, 3))\n",
    "\n",
    "    return pred_train, pred_test"
   ]
  },
  {
   "attachments": {},
   "cell_type": "markdown",
   "metadata": {},
   "source": [
    "### Using as independent variables all variables (Oura + questionnaire data)"
   ]
  },
  {
   "cell_type": "code",
   "execution_count": 10,
   "metadata": {},
   "outputs": [
    {
     "name": "stdout",
     "output_type": "stream",
     "text": [
      "Number of coefficients 78\n",
      "Non-zero coeffcients 31\n",
      "Coefficients [ 0.00000000e+00 -0.00000000e+00  0.00000000e+00  0.00000000e+00\n",
      " -7.43074956e-03  1.15211355e-04 -1.52962639e-05 -0.00000000e+00\n",
      " -7.92200493e-05 -8.58107184e-18 -5.47182114e-03 -0.00000000e+00\n",
      "  3.35507353e-02  7.79972289e-04 -0.00000000e+00 -1.11448545e-02\n",
      " -2.59067893e-02  2.03963595e-04 -0.00000000e+00  0.00000000e+00\n",
      " -7.56440250e-04  1.92317604e-04  0.00000000e+00 -5.08405939e-05\n",
      " -0.00000000e+00  0.00000000e+00 -1.27130966e-02 -1.15385624e-02\n",
      "  2.59382457e-04  0.00000000e+00  2.06920658e-03  8.43631131e-03\n",
      "  0.00000000e+00  0.00000000e+00  2.81183420e-02 -0.00000000e+00\n",
      "  1.82715362e-04 -0.00000000e+00  3.33773004e-02  3.90188372e-04\n",
      " -1.52988210e-04 -3.77829645e-04 -2.59865943e-06 -0.00000000e+00\n",
      "  2.68712500e-03  0.00000000e+00  0.00000000e+00  0.00000000e+00\n",
      " -0.00000000e+00 -0.00000000e+00  0.00000000e+00  0.00000000e+00\n",
      " -0.00000000e+00 -0.00000000e+00  0.00000000e+00  0.00000000e+00\n",
      " -0.00000000e+00 -0.00000000e+00 -1.21768351e-03 -0.00000000e+00\n",
      " -0.00000000e+00 -0.00000000e+00  0.00000000e+00  0.00000000e+00\n",
      "  0.00000000e+00  7.14574927e-04  0.00000000e+00 -4.95620136e-04\n",
      "  0.00000000e+00  0.00000000e+00  0.00000000e+00  0.00000000e+00\n",
      "  0.00000000e+00 -0.00000000e+00 -0.00000000e+00  0.00000000e+00\n",
      " -2.34814029e-04 -0.00000000e+00]\n"
     ]
    },
    {
     "name": "stderr",
     "output_type": "stream",
     "text": [
      "/Users/user/opt/anaconda3/envs/tensorflow_env/lib/python3.7/site-packages/sklearn/linear_model/_coordinate_descent.py:648: ConvergenceWarning: Objective did not converge. You might want to increase the number of iterations, check the scale of the features or consider increasing regularisation. Duality gap: 2.880e+00, tolerance: 7.468e-03\n",
      "  coef_, l1_reg, l2_reg, X, y, max_iter, tol, rng, random, positive\n"
     ]
    }
   ],
   "source": [
    "reg, X_train, X_test, y_train, y_test = lasso_model(X, y, random_state=np.random.randint(50000))"
   ]
  },
  {
   "cell_type": "code",
   "execution_count": 11,
   "metadata": {},
   "outputs": [
    {
     "name": "stdout",
     "output_type": "stream",
     "text": [
      "R squared training set 0.718\n",
      "R squared test set -19.103\n",
      "MSE training set 0.274\n",
      "MSE test set 12.615\n"
     ]
    }
   ],
   "source": [
    "pred_train, pred_test = compute_model(reg, X_train, y_train, X_test, y_test)"
   ]
  },
  {
   "attachments": {},
   "cell_type": "markdown",
   "metadata": {},
   "source": [
    "### Visualizing the results"
   ]
  },
  {
   "cell_type": "code",
   "execution_count": 12,
   "metadata": {},
   "outputs": [
    {
     "data": {
      "image/png": "[encoded data removed]",
      "text/plain": [
       "<Figure size 432x288 with 1 Axes>"
      ]
     },
     "metadata": {
      "needs_background": "light"
     },
     "output_type": "display_data"
    }
   ],
   "source": [
    "ax = sns.histplot(y_test-pred_test, kde=True)\n",
    "ax.set(xlabel='Difference in scores', ylabel='Number of test data point', \n",
    "       title='Difference between the actual sleep score and the predicted sleep score\\nof the test set using both Oura and the questionnaire data')\n",
    "plt.show()"
   ]
  },
  {
   "attachments": {},
   "cell_type": "markdown",
   "metadata": {},
   "source": [
    "## Apply LassoCV\n",
    "### Using as independent variables all variables (Oura + questionnaire data)"
   ]
  },
  {
   "cell_type": "code",
   "execution_count": 13,
   "metadata": {},
   "outputs": [
    {
     "name": "stderr",
     "output_type": "stream",
     "text": [
      "/Users/user/opt/anaconda3/envs/tensorflow_env/lib/python3.7/site-packages/sklearn/linear_model/_coordinate_descent.py:648: ConvergenceWarning: Objective did not converge. You might want to increase the number of iterations, check the scale of the features or consider increasing regularisation. Duality gap: 1.782e+00, tolerance: 5.308e-03\n",
      "  coef_, l1_reg, l2_reg, X, y, max_iter, tol, rng, random, positive\n",
      "/Users/user/opt/anaconda3/envs/tensorflow_env/lib/python3.7/site-packages/sklearn/linear_model/_coordinate_descent.py:648: ConvergenceWarning: Objective did not converge. You might want to increase the number of iterations, check the scale of the features or consider increasing regularisation. Duality gap: 3.191e+00, tolerance: 5.308e-03\n",
      "  coef_, l1_reg, l2_reg, X, y, max_iter, tol, rng, random, positive\n",
      "/Users/user/opt/anaconda3/envs/tensorflow_env/lib/python3.7/site-packages/sklearn/linear_model/_coordinate_descent.py:648: ConvergenceWarning: Objective did not converge. You might want to increase the number of iterations, check the scale of the features or consider increasing regularisation. Duality gap: 3.200e-01, tolerance: 6.836e-03\n",
      "  coef_, l1_reg, l2_reg, X, y, max_iter, tol, rng, random, positive\n",
      "/Users/user/opt/anaconda3/envs/tensorflow_env/lib/python3.7/site-packages/sklearn/linear_model/_coordinate_descent.py:648: ConvergenceWarning: Objective did not converge. You might want to increase the number of iterations, check the scale of the features or consider increasing regularisation. Duality gap: 2.062e+00, tolerance: 6.836e-03\n",
      "  coef_, l1_reg, l2_reg, X, y, max_iter, tol, rng, random, positive\n",
      "/Users/user/opt/anaconda3/envs/tensorflow_env/lib/python3.7/site-packages/sklearn/linear_model/_coordinate_descent.py:648: ConvergenceWarning: Objective did not converge. You might want to increase the number of iterations, check the scale of the features or consider increasing regularisation. Duality gap: 3.468e+00, tolerance: 6.836e-03\n",
      "  coef_, l1_reg, l2_reg, X, y, max_iter, tol, rng, random, positive\n",
      "/Users/user/opt/anaconda3/envs/tensorflow_env/lib/python3.7/site-packages/sklearn/linear_model/_coordinate_descent.py:648: ConvergenceWarning: Objective did not converge. You might want to increase the number of iterations, check the scale of the features or consider increasing regularisation. Duality gap: 9.419e-01, tolerance: 5.027e-03\n",
      "  coef_, l1_reg, l2_reg, X, y, max_iter, tol, rng, random, positive\n",
      "/Users/user/opt/anaconda3/envs/tensorflow_env/lib/python3.7/site-packages/sklearn/linear_model/_coordinate_descent.py:648: ConvergenceWarning: Objective did not converge. You might want to increase the number of iterations, check the scale of the features or consider increasing regularisation. Duality gap: 9.061e-01, tolerance: 5.027e-03\n",
      "  coef_, l1_reg, l2_reg, X, y, max_iter, tol, rng, random, positive\n",
      "/Users/user/opt/anaconda3/envs/tensorflow_env/lib/python3.7/site-packages/sklearn/linear_model/_coordinate_descent.py:648: ConvergenceWarning: Objective did not converge. You might want to increase the number of iterations, check the scale of the features or consider increasing regularisation. Duality gap: 9.193e-01, tolerance: 5.027e-03\n",
      "  coef_, l1_reg, l2_reg, X, y, max_iter, tol, rng, random, positive\n",
      "/Users/user/opt/anaconda3/envs/tensorflow_env/lib/python3.7/site-packages/sklearn/linear_model/_coordinate_descent.py:648: ConvergenceWarning: Objective did not converge. You might want to increase the number of iterations, check the scale of the features or consider increasing regularisation. Duality gap: 4.423e+00, tolerance: 5.027e-03\n",
      "  coef_, l1_reg, l2_reg, X, y, max_iter, tol, rng, random, positive\n",
      "/Users/user/opt/anaconda3/envs/tensorflow_env/lib/python3.7/site-packages/sklearn/linear_model/_coordinate_descent.py:648: ConvergenceWarning: Objective did not converge. You might want to increase the number of iterations, check the scale of the features or consider increasing regularisation. Duality gap: 4.444e+00, tolerance: 5.027e-03\n",
      "  coef_, l1_reg, l2_reg, X, y, max_iter, tol, rng, random, positive\n",
      "/Users/user/opt/anaconda3/envs/tensorflow_env/lib/python3.7/site-packages/sklearn/linear_model/_coordinate_descent.py:648: ConvergenceWarning: Objective did not converge. You might want to increase the number of iterations, check the scale of the features or consider increasing regularisation. Duality gap: 1.201e+00, tolerance: 6.968e-03\n",
      "  coef_, l1_reg, l2_reg, X, y, max_iter, tol, rng, random, positive\n",
      "/Users/user/opt/anaconda3/envs/tensorflow_env/lib/python3.7/site-packages/sklearn/linear_model/_coordinate_descent.py:648: ConvergenceWarning: Objective did not converge. You might want to increase the number of iterations, check the scale of the features or consider increasing regularisation. Duality gap: 1.163e+00, tolerance: 6.968e-03\n",
      "  coef_, l1_reg, l2_reg, X, y, max_iter, tol, rng, random, positive\n",
      "/Users/user/opt/anaconda3/envs/tensorflow_env/lib/python3.7/site-packages/sklearn/linear_model/_coordinate_descent.py:648: ConvergenceWarning: Objective did not converge. You might want to increase the number of iterations, check the scale of the features or consider increasing regularisation. Duality gap: 1.214e+00, tolerance: 6.968e-03\n",
      "  coef_, l1_reg, l2_reg, X, y, max_iter, tol, rng, random, positive\n",
      "/Users/user/opt/anaconda3/envs/tensorflow_env/lib/python3.7/site-packages/sklearn/linear_model/_coordinate_descent.py:648: ConvergenceWarning: Objective did not converge. You might want to increase the number of iterations, check the scale of the features or consider increasing regularisation. Duality gap: 1.353e-01, tolerance: 6.968e-03\n",
      "  coef_, l1_reg, l2_reg, X, y, max_iter, tol, rng, random, positive\n",
      "/Users/user/opt/anaconda3/envs/tensorflow_env/lib/python3.7/site-packages/sklearn/linear_model/_coordinate_descent.py:648: ConvergenceWarning: Objective did not converge. You might want to increase the number of iterations, check the scale of the features or consider increasing regularisation. Duality gap: 4.751e+00, tolerance: 6.968e-03\n",
      "  coef_, l1_reg, l2_reg, X, y, max_iter, tol, rng, random, positive\n"
     ]
    },
    {
     "name": "stdout",
     "output_type": "stream",
     "text": [
      "Best alpha: 4.99\n",
      "R squared training set 0.564\n",
      "R squared test set 0.071\n",
      "MSE training set 0.423\n",
      "MSE test set 0.583\n"
     ]
    },
    {
     "name": "stderr",
     "output_type": "stream",
     "text": [
      "/Users/user/opt/anaconda3/envs/tensorflow_env/lib/python3.7/site-packages/sklearn/linear_model/_coordinate_descent.py:648: ConvergenceWarning: Objective did not converge. You might want to increase the number of iterations, check the scale of the features or consider increasing regularisation. Duality gap: 5.242e-01, tolerance: 5.639e-03\n",
      "  coef_, l1_reg, l2_reg, X, y, max_iter, tol, rng, random, positive\n",
      "/Users/user/opt/anaconda3/envs/tensorflow_env/lib/python3.7/site-packages/sklearn/linear_model/_coordinate_descent.py:648: ConvergenceWarning: Objective did not converge. You might want to increase the number of iterations, check the scale of the features or consider increasing regularisation. Duality gap: 1.508e+00, tolerance: 5.639e-03\n",
      "  coef_, l1_reg, l2_reg, X, y, max_iter, tol, rng, random, positive\n",
      "/Users/user/opt/anaconda3/envs/tensorflow_env/lib/python3.7/site-packages/sklearn/linear_model/_coordinate_descent.py:648: ConvergenceWarning: Objective did not converge. You might want to increase the number of iterations, check the scale of the features or consider increasing regularisation. Duality gap: 1.194e+00, tolerance: 5.639e-03\n",
      "  coef_, l1_reg, l2_reg, X, y, max_iter, tol, rng, random, positive\n"
     ]
    }
   ],
   "source": [
    "lasso_cv = LassoCV(alphas=np.arange(0.01, 5, 0.01), cv=5, max_iter=10000)\n",
    "lasso_cv.fit(X_train, y_train)\n",
    "\n",
    "print('Best alpha:', lasso_cv.alpha_)\n",
    "pred_train, pred_test = compute_model(lasso_cv, X_train, y_train, X_test, y_test)"
   ]
  },
  {
   "cell_type": "code",
   "execution_count": 14,
   "metadata": {},
   "outputs": [
    {
     "name": "stderr",
     "output_type": "stream",
     "text": [
      "/Users/user/opt/anaconda3/envs/tensorflow_env/lib/python3.7/site-packages/sklearn/linear_model/_coordinate_descent.py:648: ConvergenceWarning: Objective did not converge. You might want to increase the number of iterations, check the scale of the features or consider increasing regularisation. Duality gap: 7.254e-01, tolerance: 7.468e-03\n",
      "  coef_, l1_reg, l2_reg, X, y, max_iter, tol, rng, random, positive\n"
     ]
    },
    {
     "data": {
      "text/plain": [
       "SelectFromModel(estimator=Lasso(alpha=0.001, random_state=10))"
      ]
     },
     "execution_count": 14,
     "metadata": {},
     "output_type": "execute_result"
    }
   ],
   "source": [
    "scaler = StandardScaler()\n",
    "scaler.fit(X_train)\n",
    "sel_ = SelectFromModel(Lasso(alpha=0.001, random_state=10))\n",
    "sel_.fit(scaler.transform(X_train), y_train)"
   ]
  },
  {
   "cell_type": "code",
   "execution_count": 15,
   "metadata": {},
   "outputs": [
    {
     "data": {
      "text/plain": [
       "array([False,  True,  True,  True,  True,  True, False, False, False,\n",
       "       False,  True,  True,  True,  True,  True,  True,  True,  True,\n",
       "        True, False,  True,  True,  True,  True,  True,  True, False,\n",
       "       False,  True,  True,  True,  True,  True,  True, False,  True,\n",
       "        True,  True,  True,  True, False,  True,  True, False,  True,\n",
       "       False,  True,  True,  True,  True,  True, False,  True,  True,\n",
       "       False,  True, False,  True,  True,  True,  True,  True,  True,\n",
       "        True,  True,  True,  True,  True,  True, False, False, False,\n",
       "       False,  True,  True, False, False,  True])"
      ]
     },
     "execution_count": 15,
     "metadata": {},
     "output_type": "execute_result"
    }
   ],
   "source": [
    "sel_.get_support()"
   ]
  },
  {
   "cell_type": "code",
   "execution_count": 16,
   "metadata": {},
   "outputs": [
    {
     "data": {
      "text/plain": [
       "array([ 0.        ,  0.00944052,  0.05345287, -0.01564848, -0.19477524,\n",
       "        1.12462923, -0.        , -0.        , -0.        , -0.        ,\n",
       "       -0.38804824,  0.17647157,  0.14584657, -0.21582542, -0.25926503,\n",
       "       -0.37024885, -1.38413408,  0.26200934,  0.7496944 ,  0.        ,\n",
       "       -0.35957711, -0.10555984,  0.18879947, -0.44764049, -0.21244899,\n",
       "        0.02866942,  0.        , -0.        , -0.08120784,  1.39733141,\n",
       "        0.11821106,  0.76362077,  0.53079301, -0.71290018,  0.        ,\n",
       "       -0.36291645, -0.14569808, -0.59327828,  0.52728657,  1.13465006,\n",
       "        0.        ,  0.12334242, -0.48141894,  0.        ,  0.49233507,\n",
       "       -0.        ,  0.0841041 , -0.00477621, -0.07793144,  0.15303167,\n",
       "        0.09852564, -0.        , -0.15185491, -0.00186533,  0.        ,\n",
       "        0.35290938, -0.        , -0.03497509, -0.25201292, -0.1099108 ,\n",
       "       -0.08033931,  0.03132272, -0.24375434,  0.00665985,  0.12994393,\n",
       "        0.37263595,  0.05579796, -0.0083249 ,  0.35893031,  0.        ,\n",
       "        0.        ,  0.        ,  0.        , -0.18211838,  0.18747515,\n",
       "        0.        , -0.        , -0.15408975])"
      ]
     },
     "execution_count": 16,
     "metadata": {},
     "output_type": "execute_result"
    }
   ],
   "source": [
    "sel_.estimator_.coef_"
   ]
  },
  {
   "cell_type": "code",
   "execution_count": 17,
   "metadata": {},
   "outputs": [
    {
     "name": "stdout",
     "output_type": "stream",
     "text": [
      "['x1' 'x2' 'x3' 'x4' 'x5' 'x10' 'x11' 'x12' 'x13' 'x14' 'x15' 'x16' 'x17'\n",
      " 'x18' 'x20' 'x21' 'x22' 'x23' 'x24' 'x25' 'x28' 'x29' 'x30' 'x31' 'x32'\n",
      " 'x33' 'x35' 'x36' 'x37' 'x38' 'x39' 'x41' 'x42' 'x44' 'x46' 'x47' 'x48'\n",
      " 'x49' 'x50' 'x52' 'x53' 'x55' 'x57' 'x58' 'x59' 'x60' 'x61' 'x62' 'x63'\n",
      " 'x64' 'x65' 'x66' 'x67' 'x68' 'x73' 'x74' 'x77']\n",
      "57\n"
     ]
    }
   ],
   "source": [
    "print(sel_.get_feature_names_out())\n",
    "print(len(sel_.get_feature_names_out()))"
   ]
  },
  {
   "cell_type": "code",
   "execution_count": 18,
   "metadata": {},
   "outputs": [
    {
     "name": "stdout",
     "output_type": "stream",
     "text": [
      "Number of selected features 57\n"
     ]
    },
    {
     "data": {
      "text/plain": [
       "['average_breath',\n",
       " 'average_breath_variation',\n",
       " 'average_heart_rate',\n",
       " 'average_hrv',\n",
       " 'awake_time',\n",
       " 'contributors.deep_sleep',\n",
       " 'contributors.efficiency',\n",
       " 'contributors.latency',\n",
       " 'contributors.rem_sleep',\n",
       " 'contributors.restfulness',\n",
       " 'contributors.timing',\n",
       " 'contributors.total_sleep',\n",
       " 'deep_sleep_duration',\n",
       " 'efficiency',\n",
       " 'latency',\n",
       " 'light_sleep_duration',\n",
       " 'lowest_heart_rate',\n",
       " 'lowest_heart_rate_time_offset',\n",
       " 'period',\n",
       " 'readiness.contributors.activity_balance',\n",
       " 'readiness.contributors.previous_day_activity',\n",
       " 'readiness.contributors.previous_night',\n",
       " 'readiness.contributors.recovery_index',\n",
       " 'readiness.contributors.resting_heart_rate',\n",
       " 'readiness.contributors.sleep_balance',\n",
       " 'readiness.score',\n",
       " 'readiness.temperature_trend_deviation',\n",
       " 'rem_sleep_duration',\n",
       " 'restless',\n",
       " 'restless_periods',\n",
       " 'sleep_midpoint',\n",
       " 'timezone',\n",
       " 'total_sleep_duration',\n",
       " 'prev_oura_score',\n",
       " 'Comfort',\n",
       " 'I stayed in bed trying to sleep',\n",
       " 'I walked a bit',\n",
       " 'I went to the toilet',\n",
       " 'Naturally',\n",
       " 'Temperature',\n",
       " 'With an alarm',\n",
       " 'prevent_early_sleep',\n",
       " 'special_circumstances_wakeup',\n",
       " 'prev_subjective_score',\n",
       " 'Mentally active',\n",
       " 'Physically active',\n",
       " 'Relaxed',\n",
       " 'Socially active',\n",
       " 'Stressful',\n",
       " 'alcohol_amount',\n",
       " 'alcohol_time',\n",
       " 'coffee_amount',\n",
       " 'coffee_time',\n",
       " 'eat_bedtime',\n",
       " 'special_circumstances',\n",
       " 'stress_levels',\n",
       " 'workout_time']"
      ]
     },
     "execution_count": 18,
     "metadata": {},
     "output_type": "execute_result"
    }
   ],
   "source": [
    "selected_features = []\n",
    "for i in range(len(sel_.get_support())):\n",
    "    if sel_.get_support()[i] == True:\n",
    "        selected_features.append(X_train.columns[i])\n",
    "\n",
    "print('Number of selected features', len(selected_features))\n",
    "selected_features"
   ]
  },
  {
   "attachments": {},
   "cell_type": "markdown",
   "metadata": {},
   "source": [
    "### Using as independent variables only the Oura data\n",
    "#### Lasso"
   ]
  },
  {
   "cell_type": "code",
   "execution_count": 19,
   "metadata": {},
   "outputs": [
    {
     "name": "stdout",
     "output_type": "stream",
     "text": [
      "Number of coefficients 47\n",
      "Non-zero coeffcients 26\n",
      "Coefficients [-6.32365172e-03  0.00000000e+00 -0.00000000e+00  0.00000000e+00\n",
      " -0.00000000e+00 -3.99849100e-03  9.30955914e-05 -4.37225967e-05\n",
      " -5.38061298e-18 -7.56632280e-05 -0.00000000e+00 -1.61706419e-02\n",
      "  0.00000000e+00  5.56203444e-02 -0.00000000e+00 -5.01789138e-03\n",
      " -0.00000000e+00 -0.00000000e+00  9.20729917e-05  0.00000000e+00\n",
      "  0.00000000e+00 -1.89801390e-03  6.19592562e-05 -0.00000000e+00\n",
      " -3.27610807e-05 -0.00000000e+00  3.04623693e-03  2.22108372e-03\n",
      " -2.96493268e-03  0.00000000e+00  0.00000000e+00  5.46007162e-04\n",
      "  9.30748131e-03  1.43644311e-02  0.00000000e+00 -0.00000000e+00\n",
      " -0.00000000e+00 -8.86998670e-05 -0.00000000e+00  1.37980980e-03\n",
      "  3.41487324e-04 -1.35437701e-04 -7.66509303e-04 -2.59170326e-05\n",
      " -0.00000000e+00  4.80612544e-03 -0.00000000e+00]\n"
     ]
    },
    {
     "name": "stderr",
     "output_type": "stream",
     "text": [
      "/Users/user/opt/anaconda3/envs/tensorflow_env/lib/python3.7/site-packages/sklearn/linear_model/_coordinate_descent.py:648: ConvergenceWarning: Objective did not converge. You might want to increase the number of iterations, check the scale of the features or consider increasing regularisation. Duality gap: 1.215e+00, tolerance: 6.971e-03\n",
      "  coef_, l1_reg, l2_reg, X, y, max_iter, tol, rng, random, positive\n"
     ]
    }
   ],
   "source": [
    "reg_oura, X_train_oura, X_test_oura, y_train_oura, y_test_oura = lasso_model(X_oura, y, random_state=995)"
   ]
  },
  {
   "cell_type": "code",
   "execution_count": 20,
   "metadata": {},
   "outputs": [
    {
     "name": "stdout",
     "output_type": "stream",
     "text": [
      "R squared training set 0.588\n",
      "R squared test set 0.38\n",
      "MSE training set 0.373\n",
      "MSE test set 0.637\n"
     ]
    }
   ],
   "source": [
    "pred_train, pred_test = compute_model(reg_oura, X_train_oura, y_train_oura, X_test_oura, y_test_oura)"
   ]
  },
  {
   "attachments": {},
   "cell_type": "markdown",
   "metadata": {},
   "source": [
    "## Applying the same model on the questionnaire data only"
   ]
  },
  {
   "cell_type": "code",
   "execution_count": 21,
   "metadata": {},
   "outputs": [
    {
     "name": "stdout",
     "output_type": "stream",
     "text": [
      "Number of coefficients 34\n",
      "Non-zero coeffcients 6\n",
      "Coefficients [ 5.42903834e-05 -0.00000000e+00 -0.00000000e+00  0.00000000e+00\n",
      " -0.00000000e+00 -0.00000000e+00  0.00000000e+00 -0.00000000e+00\n",
      "  0.00000000e+00  0.00000000e+00 -0.00000000e+00 -0.00000000e+00\n",
      "  0.00000000e+00  8.66540545e-01 -8.28080498e-05 -0.00000000e+00\n",
      " -0.00000000e+00  0.00000000e+00 -0.00000000e+00 -0.00000000e+00\n",
      " -0.00000000e+00  1.17064410e-04  0.00000000e+00 -3.14528798e-05\n",
      "  0.00000000e+00  0.00000000e+00  0.00000000e+00  0.00000000e+00\n",
      "  0.00000000e+00 -0.00000000e+00  0.00000000e+00  0.00000000e+00\n",
      " -3.46927292e-06 -0.00000000e+00]\n"
     ]
    }
   ],
   "source": [
    "reg_quest, X_train_quest, X_test_quest, y_train_quest, y_test_quest = lasso_model(X_quest, y, random_state=995)"
   ]
  },
  {
   "cell_type": "code",
   "execution_count": 22,
   "metadata": {},
   "outputs": [
    {
     "name": "stdout",
     "output_type": "stream",
     "text": [
      "R squared training set 0.985\n",
      "R squared test set 0.988\n",
      "MSE training set 0.013\n",
      "MSE test set 0.012\n"
     ]
    }
   ],
   "source": [
    "pred_train, pred_test = compute_model(reg_quest, X_train_quest, y_train_quest, X_test_quest, y_test_quest)"
   ]
  }
 ],
 "metadata": {
  "kernelspec": {
   "display_name": "tensorflow_env",
   "language": "python",
   "name": "python3"
  },
  "language_info": {
   "codemirror_mode": {
    "name": "ipython",
    "version": 3
   },
   "file_extension": ".py",
   "mimetype": "text/x-python",
   "name": "python",
   "nbconvert_exporter": "python",
   "pygments_lexer": "ipython3",
   "version": "3.7.10"
  },
  "orig_nbformat": 4
 },
 "nbformat": 4,
 "nbformat_minor": 2
}
